{
 "cells": [
  {
   "cell_type": "markdown",
   "metadata": {},
   "source": [
    "# 205229118\n",
    "# Mahalakshmi S"
   ]
  },
  {
   "cell_type": "markdown",
   "metadata": {},
   "source": [
    "# Lab13: Image Classification using CNN for CIFAR-10 Dataset"
   ]
  },
  {
   "cell_type": "markdown",
   "metadata": {
    "id": "rzgM_KcdwhUv"
   },
   "source": [
    "# 1. Import libraries"
   ]
  },
  {
   "cell_type": "code",
   "execution_count": 1,
   "metadata": {
    "id": "VuDZ7zy1CdsZ"
   },
   "outputs": [],
   "source": [
    "from __future__ import print_function\n",
    "import keras\n",
    "import tensorflow as tf\n",
    "from keras.datasets import cifar10\n",
    "from tensorflow.keras.utils import to_categorical\n",
    "from keras.preprocessing.image import ImageDataGenerator\n",
    "from tensorflow.keras.optimizers import RMSprop,SGD,Adam\n",
    "from keras.models import Sequential\n",
    "from keras.layers import Dense, Dropout, Activation, Flatten\n",
    "from keras.layers import Conv2D, MaxPooling2D\n",
    "import matplotlib.pyplot as plt\n",
    "%matplotlib inline"
   ]
  },
  {
   "cell_type": "markdown",
   "metadata": {
    "id": "wPMd2qwBwpro"
   },
   "source": [
    "# 2. Load your data and print the shape of training and test samples"
   ]
  },
  {
   "cell_type": "code",
   "execution_count": 2,
   "metadata": {
    "colab": {
     "base_uri": "https://localhost:8080/"
    },
    "id": "KyiNTFJiCvL0",
    "outputId": "448d47bf-529b-401b-a1f6-0107ec2cf726"
   },
   "outputs": [],
   "source": [
    "(x_train, y_train), (x_test, y_test) = cifar10.load_data() "
   ]
  },
  {
   "cell_type": "code",
   "execution_count": 3,
   "metadata": {},
   "outputs": [
    {
     "name": "stdout",
     "output_type": "stream",
     "text": [
      "x_train shape: (50000, 32, 32, 3)\n",
      "x_test shape: (10000, 32, 32, 3)\n"
     ]
    }
   ],
   "source": [
    "print('x_train shape:', x_train.shape)\n",
    "print('x_test shape:', x_test.shape)"
   ]
  },
  {
   "cell_type": "code",
   "execution_count": 4,
   "metadata": {},
   "outputs": [
    {
     "name": "stdout",
     "output_type": "stream",
     "text": [
      "y_train shape: (50000, 1)\n",
      "y_test shape: (10000, 1)\n"
     ]
    }
   ],
   "source": [
    "print('y_train shape:', y_train.shape)\n",
    "print('y_test shape:', y_test.shape)"
   ]
  },
  {
   "cell_type": "code",
   "execution_count": 5,
   "metadata": {},
   "outputs": [
    {
     "name": "stdout",
     "output_type": "stream",
     "text": [
      "50000 train samples\n"
     ]
    }
   ],
   "source": [
    "print(x_train.shape[0], 'train samples')"
   ]
  },
  {
   "cell_type": "code",
   "execution_count": 6,
   "metadata": {},
   "outputs": [
    {
     "name": "stdout",
     "output_type": "stream",
     "text": [
      "10000 test samples\n"
     ]
    }
   ],
   "source": [
    "print(x_test.shape[0], 'test samples')"
   ]
  },
  {
   "cell_type": "markdown",
   "metadata": {
    "id": "DXGnNoZpwykV"
   },
   "source": [
    "# 3. Print the shape of one image (is it 32 x 32 x 3 numpy array ?)"
   ]
  },
  {
   "cell_type": "code",
   "execution_count": 7,
   "metadata": {
    "colab": {
     "base_uri": "https://localhost:8080/"
    },
    "id": "f1CE3E1wC0UB",
    "outputId": "5de299cb-5e30-42b4-a89d-d81293391ed5"
   },
   "outputs": [
    {
     "data": {
      "text/plain": [
       "(32, 32, 3)"
      ]
     },
     "execution_count": 7,
     "metadata": {},
     "output_type": "execute_result"
    }
   ],
   "source": [
    "x_train[333].shape"
   ]
  },
  {
   "cell_type": "markdown",
   "metadata": {
    "id": "4-NvWg5wxCaV"
   },
   "source": [
    "# 4. Display one image using imshow() function"
   ]
  },
  {
   "cell_type": "code",
   "execution_count": 8,
   "metadata": {
    "colab": {
     "base_uri": "https://localhost:8080/",
     "height": 300
    },
    "id": "r4aAsaRSC7gi",
    "outputId": "ac877fc7-7a7e-4878-d7cd-706ed49efc82"
   },
   "outputs": [
    {
     "name": "stdout",
     "output_type": "stream",
     "text": [
      "[3]\n"
     ]
    },
    {
     "data": {
      "text/plain": [
       "<matplotlib.image.AxesImage at 0x1dd8e3d5460>"
      ]
     },
     "execution_count": 8,
     "metadata": {},
     "output_type": "execute_result"
    },
    {
     "data": {
      "image/png": "[encoded data removed]",
      "text/plain": [
       "<Figure size 432x288 with 1 Axes>"
      ]
     },
     "metadata": {
      "needs_background": "light"
     },
     "output_type": "display_data"
    }
   ],
   "source": [
    "print(y_train[333])\n",
    "plt.imshow(x_train[333])"
   ]
  },
  {
   "cell_type": "markdown",
   "metadata": {
    "id": "cSN-EgJKwY_R"
   },
   "source": [
    "## 5. Convert y_train and y_test into categorical values\n"
   ]
  },
  {
   "cell_type": "code",
   "execution_count": 9,
   "metadata": {
    "id": "CnFVxDiGDDzw"
   },
   "outputs": [],
   "source": [
    "num_classes = 10\n",
    "y_train = to_categorical(y_train, num_classes)\n",
    "y_test = to_categorical(y_test, num_classes)"
   ]
  },
  {
   "cell_type": "code",
   "execution_count": 10,
   "metadata": {
    "colab": {
     "base_uri": "https://localhost:8080/"
    },
    "id": "cteCqkQkwf9s",
    "outputId": "51efabbb-2629-4992-c79b-0affe19077c8"
   },
   "outputs": [
    {
     "data": {
      "text/plain": [
       "array([0., 0., 0., 1., 0., 0., 0., 0., 0., 0.], dtype=float32)"
      ]
     },
     "execution_count": 10,
     "metadata": {},
     "output_type": "execute_result"
    }
   ],
   "source": [
    "y_train[333]"
   ]
  },
  {
   "cell_type": "markdown",
   "metadata": {
    "id": "tI5Dvi1E03IQ"
   },
   "source": [
    "# 6. Convert train data into float and scale"
   ]
  },
  {
   "cell_type": "code",
   "execution_count": 11,
   "metadata": {
    "id": "wFaAwgJ40lJv"
   },
   "outputs": [],
   "source": [
    "x_train = x_train.astype('float32')\n",
    "x_test = x_test.astype('float32')\n",
    "x_train /= 255\n",
    "x_test /= 255"
   ]
  },
  {
   "cell_type": "markdown",
   "metadata": {
    "id": "JS47g2Vz08NK"
   },
   "source": [
    "# 7. Build your first CNN"
   ]
  },
  {
   "cell_type": "code",
   "execution_count": 12,
   "metadata": {
    "colab": {
     "base_uri": "https://localhost:8080/"
    },
    "id": "j5iBWUs00zMZ",
    "outputId": "0850244f-c5d2-45b8-b2bc-2b9e5e75e337"
   },
   "outputs": [],
   "source": [
    "model = Sequential()\n",
    "model.add(Conv2D(filters=32,kernel_size=(5,5),strides=(2,2),activation='relu',padding='same',input_shape=(32, 32, 3)))\n",
    "model.add(Conv2D(filters=32,kernel_size=(5,5),strides=(2,2),activation='relu',padding='same',input_shape=(32, 32, 3)))\n",
    "model.add(MaxPooling2D(pool_size=(2,2)))\n",
    "model.add(Dropout(rate=0.25))\n",
    "model.add(Flatten())\n",
    "model.add(Dense(512,input_shape=(32, 32, 3), activation='relu'))\n",
    "model.add(Dropout(rate=0.5))\n",
    "model.add(Dense(10, activation='softmax'))"
   ]
  },
  {
   "cell_type": "markdown",
   "metadata": {
    "id": "X9axj6Cq_fH9"
   },
   "source": [
    "# 8. Print summary and verify your configuration (Total params: 181,162)"
   ]
  },
  {
   "cell_type": "code",
   "execution_count": 13,
   "metadata": {
    "id": "aLvIQclV_d7Z"
   },
   "outputs": [
    {
     "name": "stdout",
     "output_type": "stream",
     "text": [
      "Model: \"sequential\"\n",
      "_________________________________________________________________\n",
      "Layer (type)                 Output Shape              Param #   \n",
      "=================================================================\n",
      "conv2d (Conv2D)              (None, 16, 16, 32)        2432      \n",
      "_________________________________________________________________\n",
      "conv2d_1 (Conv2D)            (None, 8, 8, 32)          25632     \n",
      "_________________________________________________________________\n",
      "max_pooling2d (MaxPooling2D) (None, 4, 4, 32)          0         \n",
      "_________________________________________________________________\n",
      "dropout (Dropout)            (None, 4, 4, 32)          0         \n",
      "_________________________________________________________________\n",
      "flatten (Flatten)            (None, 512)               0         \n",
      "_________________________________________________________________\n",
      "dense (Dense)                (None, 512)               262656    \n",
      "_________________________________________________________________\n",
      "dropout_1 (Dropout)          (None, 512)               0         \n",
      "_________________________________________________________________\n",
      "dense_1 (Dense)              (None, 10)                5130      \n",
      "=================================================================\n",
      "Total params: 295,850\n",
      "Trainable params: 295,850\n",
      "Non-trainable params: 0\n",
      "_________________________________________________________________\n"
     ]
    }
   ],
   "source": [
    "model.summary()"
   ]
  },
  {
   "cell_type": "markdown",
   "metadata": {
    "id": "0-Mv343f_Xru"
   },
   "source": [
    "# 9. Compile and fit and validate your model with the following parameters"
   ]
  },
  {
   "cell_type": "code",
   "execution_count": 14,
   "metadata": {
    "id": "GqGY1o4P26pk"
   },
   "outputs": [],
   "source": [
    "model.compile(loss='categorical_crossentropy', metrics=['accuracy'],optimizer=RMSprop(0.00005,1e-6))"
   ]
  },
  {
   "cell_type": "code",
   "execution_count": 15,
   "metadata": {
    "colab": {
     "base_uri": "https://localhost:8080/",
     "height": 673
    },
    "id": "P4uPBz886yDS",
    "outputId": "390c9234-4c5b-475a-d72b-7ce942f7269a"
   },
   "outputs": [
    {
     "name": "stdout",
     "output_type": "stream",
     "text": [
      "Epoch 1/15\n",
      "1563/1563 [==============================] - 57s 36ms/step - loss: 2.1290 - accuracy: 0.2129 - val_loss: 1.9255 - val_accuracy: 0.3269\n",
      "Epoch 2/15\n",
      "1563/1563 [==============================] - 55s 35ms/step - loss: 1.8767 - accuracy: 0.3241 - val_loss: 1.7421 - val_accuracy: 0.3885\n",
      "Epoch 3/15\n",
      "1563/1563 [==============================] - 55s 35ms/step - loss: 1.7574 - accuracy: 0.3638 - val_loss: 1.6431 - val_accuracy: 0.4211\n",
      "Epoch 4/15\n",
      "1563/1563 [==============================] - 54s 35ms/step - loss: 1.6845 - accuracy: 0.3912 - val_loss: 1.5730 - val_accuracy: 0.4418\n",
      "Epoch 5/15\n",
      "1563/1563 [==============================] - 54s 34ms/step - loss: 1.6226 - accuracy: 0.4147 - val_loss: 1.5250 - val_accuracy: 0.4599\n",
      "Epoch 6/15\n",
      "1563/1563 [==============================] - 54s 34ms/step - loss: 1.5880 - accuracy: 0.4268 - val_loss: 1.4857 - val_accuracy: 0.4723\n",
      "Epoch 7/15\n",
      "1563/1563 [==============================] - 54s 35ms/step - loss: 1.5551 - accuracy: 0.4385 - val_loss: 1.4761 - val_accuracy: 0.4712\n",
      "Epoch 8/15\n",
      "1563/1563 [==============================] - 55s 35ms/step - loss: 1.5346 - accuracy: 0.4471 - val_loss: 1.4438 - val_accuracy: 0.4849\n",
      "Epoch 9/15\n",
      "1563/1563 [==============================] - 54s 35ms/step - loss: 1.5139 - accuracy: 0.4574 - val_loss: 1.4199 - val_accuracy: 0.4956\n",
      "Epoch 10/15\n",
      "1563/1563 [==============================] - 54s 34ms/step - loss: 1.4923 - accuracy: 0.4639 - val_loss: 1.4018 - val_accuracy: 0.5032\n",
      "Epoch 11/15\n",
      "1563/1563 [==============================] - 54s 35ms/step - loss: 1.4762 - accuracy: 0.4709 - val_loss: 1.3826 - val_accuracy: 0.5074\n",
      "Epoch 12/15\n",
      "1563/1563 [==============================] - 54s 35ms/step - loss: 1.4661 - accuracy: 0.4774 - val_loss: 1.4038 - val_accuracy: 0.4965\n",
      "Epoch 13/15\n",
      "1563/1563 [==============================] - 55s 35ms/step - loss: 1.4534 - accuracy: 0.4814 - val_loss: 1.3757 - val_accuracy: 0.5138\n",
      "Epoch 14/15\n",
      "1563/1563 [==============================] - 55s 35ms/step - loss: 1.4452 - accuracy: 0.4871 - val_loss: 1.3780 - val_accuracy: 0.5110\n",
      "Epoch 15/15\n",
      "1563/1563 [==============================] - 56s 36ms/step - loss: 1.4348 - accuracy: 0.4921 - val_loss: 1.3650 - val_accuracy: 0.5160\n"
     ]
    }
   ],
   "source": [
    "history=model.fit(x_train , y_train , batch_size=32 , validation_data=(x_test,y_test), epochs= 15,shuffle=True)"
   ]
  },
  {
   "cell_type": "code",
   "execution_count": 16,
   "metadata": {},
   "outputs": [
    {
     "name": "stdout",
     "output_type": "stream",
     "text": [
      "Test loss: 1.3649914264678955\n",
      "Test accuracy: 0.515999972820282\n"
     ]
    }
   ],
   "source": [
    "score = model.evaluate(x_test, y_test, verbose=0)\n",
    "print('Test loss:', score[0])\n",
    "print('Test accuracy:', score[1])"
   ]
  },
  {
   "cell_type": "code",
   "execution_count": 17,
   "metadata": {},
   "outputs": [
    {
     "data": {
      "image/png": "[encoded data removed]",
      "text/plain": [
       "<Figure size 432x288 with 1 Axes>"
      ]
     },
     "metadata": {
      "needs_background": "light"
     },
     "output_type": "display_data"
    }
   ],
   "source": [
    "plt.plot(history.history['accuracy'])\n",
    "plt.plot(history.history['val_accuracy'])\n",
    "plt.title('Model Accuracy')\n",
    "plt.ylabel('accuracy')\n",
    "plt.xlabel('epoch')\n",
    "plt.legend(['Train', 'Validation'])\n",
    "plt.show()"
   ]
  },
  {
   "cell_type": "code",
   "execution_count": 18,
   "metadata": {},
   "outputs": [
    {
     "data": {
      "image/png": "[encoded data removed]",
      "text/plain": [
       "<Figure size 432x288 with 1 Axes>"
      ]
     },
     "metadata": {
      "needs_background": "light"
     },
     "output_type": "display_data"
    }
   ],
   "source": [
    "plt.plot(history.history['loss'])\n",
    "plt.plot(history.history['val_loss'])\n",
    "plt.title('Model Loss')\n",
    "plt.ylabel('loss')\n",
    "plt.xlabel('epoch')\n",
    "plt.legend(['Train', 'Validation'])\n",
    "plt.show()"
   ]
  },
  {
   "cell_type": "markdown",
   "metadata": {
    "id": "jYoVWwBQ_mTc"
   },
   "source": [
    "# 10. Exercise\n",
    "1. Build a more complicated model with the following pattern: Conv -> Conv -> MaxPool -> Conv-> Conv -> MaxPool -> (Flatten) -> Dense -> Final Classification\n",
    "2. Use strides of 1 for all convolutional layers.\n",
    "3. How many parameters does your model have? How does that compare to the previous\n",
    "model?\n",
    "4. Train it for 5 epochs. What do you notice about the training time, loss and accuracy numbers\n",
    "(on both the training and validation sets)?\n",
    "5. Try different structures and run times, and see how accurate your model can be."
   ]
  },
  {
   "cell_type": "code",
   "execution_count": 23,
   "metadata": {
    "id": "k2a14eAV8Qbw"
   },
   "outputs": [],
   "source": [
    "model3 = Sequential()\n",
    "model3.add(Conv2D(filters=32, kernel_size=(5,5), strides=(1,1),activation='relu', padding='same', input_shape=(32, 32, 3)))\n",
    "model3.add(Conv2D(filters=32, kernel_size=(5,5),strides=(1,1), activation='relu', padding='same', input_shape=(32, 32, 3)))\n",
    "model3.add(MaxPooling2D(pool_size=(2,2)))\n",
    "model3.add(Conv2D(filters=32, kernel_size=(5,5), strides=(1,1),activation='relu', padding='same', input_shape=(32, 32, 3)))\n",
    "model3.add(Conv2D(filters=32, kernel_size=(5,5),strides=(1,1), activation='relu', padding='same', input_shape=(32, 32, 3)))\n",
    "model3.add(MaxPooling2D(pool_size=(2,2),padding='same'))\n",
    "model3.add(Flatten())\n",
    "model3.add(Dense(512,input_shape=(32, 32, 3),activation='relu'))\n",
    "model3.add(Dense(10, activation='softmax'))"
   ]
  },
  {
   "cell_type": "code",
   "execution_count": 24,
   "metadata": {
    "colab": {
     "base_uri": "https://localhost:8080/"
    },
    "id": "1S-rK2N0AJ-5",
    "outputId": "0cc0dc92-425a-4cc4-c499-238dba63c112"
   },
   "outputs": [
    {
     "name": "stdout",
     "output_type": "stream",
     "text": [
      "Model: \"sequential_1\"\n",
      "_________________________________________________________________\n",
      "Layer (type)                 Output Shape              Param #   \n",
      "=================================================================\n",
      "conv2d_2 (Conv2D)            (None, 32, 32, 32)        2432      \n",
      "_________________________________________________________________\n",
      "conv2d_3 (Conv2D)            (None, 32, 32, 32)        25632     \n",
      "_________________________________________________________________\n",
      "max_pooling2d_1 (MaxPooling2 (None, 16, 16, 32)        0         \n",
      "_________________________________________________________________\n",
      "conv2d_4 (Conv2D)            (None, 16, 16, 32)        25632     \n",
      "_________________________________________________________________\n",
      "conv2d_5 (Conv2D)            (None, 16, 16, 32)        25632     \n",
      "_________________________________________________________________\n",
      "max_pooling2d_2 (MaxPooling2 (None, 8, 8, 32)          0         \n",
      "_________________________________________________________________\n",
      "flatten_1 (Flatten)          (None, 2048)              0         \n",
      "_________________________________________________________________\n",
      "dense_2 (Dense)              (None, 512)               1049088   \n",
      "_________________________________________________________________\n",
      "dense_3 (Dense)              (None, 10)                5130      \n",
      "=================================================================\n",
      "Total params: 1,133,546\n",
      "Trainable params: 1,133,546\n",
      "Non-trainable params: 0\n",
      "_________________________________________________________________\n"
     ]
    }
   ],
   "source": [
    "model3.summary()"
   ]
  },
  {
   "cell_type": "code",
   "execution_count": 25,
   "metadata": {
    "colab": {
     "base_uri": "https://localhost:8080/"
    },
    "id": "lEB3VB5-BfSa",
    "outputId": "18d90a24-1de7-46a0-d1c6-4020025c70ce"
   },
   "outputs": [],
   "source": [
    "model3.compile(loss='categorical_crossentropy', metrics=['accuracy'],optimizer=RMSprop(0.00005,1e-6))"
   ]
  },
  {
   "cell_type": "code",
   "execution_count": 26,
   "metadata": {},
   "outputs": [
    {
     "name": "stdout",
     "output_type": "stream",
     "text": [
      "Epoch 1/5\n",
      "1563/1563 [==============================] - 510s 325ms/step - loss: 1.8279 - accuracy: 0.3509 - val_loss: 1.6117 - val_accuracy: 0.4275\n",
      "Epoch 2/5\n",
      "1563/1563 [==============================] - 510s 326ms/step - loss: 1.5727 - accuracy: 0.4398 - val_loss: 1.4897 - val_accuracy: 0.4700\n",
      "Epoch 3/5\n",
      "1563/1563 [==============================] - 507s 324ms/step - loss: 1.4830 - accuracy: 0.4713 - val_loss: 1.4153 - val_accuracy: 0.5027\n",
      "Epoch 4/5\n",
      "1563/1563 [==============================] - 545s 348ms/step - loss: 1.4172 - accuracy: 0.4994 - val_loss: 1.4007 - val_accuracy: 0.5053\n",
      "Epoch 5/5\n",
      "1563/1563 [==============================] - 509s 326ms/step - loss: 1.3596 - accuracy: 0.5211 - val_loss: 1.3587 - val_accuracy: 0.5136\n"
     ]
    }
   ],
   "source": [
    "history3=model3.fit(x_train , y_train, batch_size=32 , validation_data=(x_test,y_test), epochs= 5 , shuffle=True)"
   ]
  },
  {
   "cell_type": "code",
   "execution_count": 31,
   "metadata": {},
   "outputs": [
    {
     "name": "stdout",
     "output_type": "stream",
     "text": [
      "Test loss: 1.358742356300354\n",
      "Test accuracy: 0.5135999917984009\n"
     ]
    }
   ],
   "source": [
    "score = model3.evaluate(x_test, y_test, verbose=0)\n",
    "print('Test loss:', score[0])\n",
    "print('Test accuracy:', score[1])"
   ]
  },
  {
   "cell_type": "code",
   "execution_count": 32,
   "metadata": {},
   "outputs": [
    {
     "data": {
      "image/png": "[encoded data removed]",
      "text/plain": [
       "<Figure size 432x288 with 1 Axes>"
      ]
     },
     "metadata": {
      "needs_background": "light"
     },
     "output_type": "display_data"
    }
   ],
   "source": [
    "plt.plot(history3.history['accuracy'])\n",
    "plt.plot(history3.history['val_accuracy'])\n",
    "plt.title('Model Accuracy')\n",
    "plt.ylabel('accuracy')\n",
    "plt.xlabel('epoch')\n",
    "plt.legend(['Train', 'Validation'])\n",
    "plt.show()"
   ]
  },
  {
   "cell_type": "code",
   "execution_count": 33,
   "metadata": {},
   "outputs": [
    {
     "data": {
      "image/png": "[encoded data removed]",
      "text/plain": [
       "<Figure size 432x288 with 1 Axes>"
      ]
     },
     "metadata": {
      "needs_background": "light"
     },
     "output_type": "display_data"
    }
   ],
   "source": [
    "plt.plot(history3.history['loss'])\n",
    "plt.plot(history3.history['val_loss'])\n",
    "plt.title('Model Loss')\n",
    "plt.ylabel('loss')\n",
    "plt.xlabel('epoch')\n",
    "plt.legend(['Train', 'Validation'])\n",
    "plt.show()"
   ]
  },
  {
   "cell_type": "code",
   "execution_count": 34,
   "metadata": {
    "colab": {
     "base_uri": "https://localhost:8080/"
    },
    "id": "9F7mT3OlCXYe",
    "outputId": "e2ab0b97-fd0f-4c74-ae03-4b2f676aed0e"
   },
   "outputs": [],
   "source": [
    "model5 = Sequential()\n",
    "model5.add(Conv2D(filters=32, kernel_size=(5,5), strides=(1,1),activation='sigmoid', padding='same', input_shape=(32, 32, 3)))\n",
    "model5.add(Conv2D(filters=32, kernel_size=(5,5),strides=(1,1), activation='sigmoid', padding='same', input_shape=(32, 32, 3)))\n",
    "model5.add(MaxPooling2D(pool_size=(2,2)))\n",
    "model5.add(Conv2D(filters=32, kernel_size=(5,5), strides=(1,1),activation='sigmoid', padding='same', input_shape=(32, 32, 3)))\n",
    "model5.add(Conv2D(filters=32, kernel_size=(5,5),strides=(1,1), activation='sigmoid', padding='same', input_shape=(32, 32, 3)))\n",
    "model5.add(MaxPooling2D(pool_size=(2,2),padding='same'))\n",
    "model5.add(Flatten())\n",
    "model5.add(Dense(512,input_shape=(32, 32, 3),activation='sigmoid'))\n",
    "model5.add(Dense(10, activation='softmax'))"
   ]
  },
  {
   "cell_type": "code",
   "execution_count": 35,
   "metadata": {},
   "outputs": [
    {
     "name": "stdout",
     "output_type": "stream",
     "text": [
      "Model: \"sequential_2\"\n",
      "_________________________________________________________________\n",
      "Layer (type)                 Output Shape              Param #   \n",
      "=================================================================\n",
      "conv2d_6 (Conv2D)            (None, 32, 32, 32)        2432      \n",
      "_________________________________________________________________\n",
      "conv2d_7 (Conv2D)            (None, 32, 32, 32)        25632     \n",
      "_________________________________________________________________\n",
      "max_pooling2d_3 (MaxPooling2 (None, 16, 16, 32)        0         \n",
      "_________________________________________________________________\n",
      "conv2d_8 (Conv2D)            (None, 16, 16, 32)        25632     \n",
      "_________________________________________________________________\n",
      "conv2d_9 (Conv2D)            (None, 16, 16, 32)        25632     \n",
      "_________________________________________________________________\n",
      "max_pooling2d_4 (MaxPooling2 (None, 8, 8, 32)          0         \n",
      "_________________________________________________________________\n",
      "flatten_2 (Flatten)          (None, 2048)              0         \n",
      "_________________________________________________________________\n",
      "dense_4 (Dense)              (None, 512)               1049088   \n",
      "_________________________________________________________________\n",
      "dense_5 (Dense)              (None, 10)                5130      \n",
      "=================================================================\n",
      "Total params: 1,133,546\n",
      "Trainable params: 1,133,546\n",
      "Non-trainable params: 0\n",
      "_________________________________________________________________\n"
     ]
    }
   ],
   "source": [
    "model5.summary()"
   ]
  },
  {
   "cell_type": "code",
   "execution_count": 36,
   "metadata": {},
   "outputs": [],
   "source": [
    "model5.compile(loss='categorical_crossentropy', metrics=['accuracy'],optimizer=RMSprop(0.00005,1e-6))"
   ]
  },
  {
   "cell_type": "code",
   "execution_count": 37,
   "metadata": {
    "id": "LX0qLG4hJBes"
   },
   "outputs": [
    {
     "name": "stdout",
     "output_type": "stream",
     "text": [
      "Epoch 1/3\n",
      "1563/1563 [==============================] - 519s 331ms/step - loss: 2.3119 - accuracy: 0.1006 - val_loss: 2.3049 - val_accuracy: 0.1000\n",
      "Epoch 2/3\n",
      "1563/1563 [==============================] - 447s 286ms/step - loss: 2.2939 - accuracy: 0.1160 - val_loss: 2.2063 - val_accuracy: 0.1914\n",
      "Epoch 3/3\n",
      "1563/1563 [==============================] - 368s 235ms/step - loss: 2.0846 - accuracy: 0.2408 - val_loss: 2.0645 - val_accuracy: 0.2494\n"
     ]
    }
   ],
   "source": [
    "history5=model5.fit(x_train , y_train , batch_size=32 , validation_data=(x_test,y_test), epochs= 3, shuffle=True)"
   ]
  },
  {
   "cell_type": "code",
   "execution_count": 38,
   "metadata": {},
   "outputs": [
    {
     "name": "stdout",
     "output_type": "stream",
     "text": [
      "Test loss: 2.06453800201416\n",
      "Test accuracy: 0.24940000474452972\n"
     ]
    }
   ],
   "source": [
    "score = model5.evaluate(x_test, y_test, verbose=0)\n",
    "print('Test loss:', score[0])\n",
    "print('Test accuracy:', score[1])"
   ]
  },
  {
   "cell_type": "code",
   "execution_count": 39,
   "metadata": {},
   "outputs": [
    {
     "data": {
      "image/png": "[encoded data removed]",
      "text/plain": [
       "<Figure size 432x288 with 1 Axes>"
      ]
     },
     "metadata": {
      "needs_background": "light"
     },
     "output_type": "display_data"
    }
   ],
   "source": [
    "plt.plot(history5.history['accuracy'])\n",
    "plt.plot(history5.history['val_accuracy'])\n",
    "plt.title('Model Accuracy')\n",
    "plt.ylabel('accuracy')\n",
    "plt.xlabel('epoch')\n",
    "plt.legend(['Train', 'Validation'])\n",
    "plt.show()"
   ]
  },
  {
   "cell_type": "code",
   "execution_count": 40,
   "metadata": {},
   "outputs": [
    {
     "data": {
      "image/png": "[encoded data removed]",
      "text/plain": [
       "<Figure size 432x288 with 1 Axes>"
      ]
     },
     "metadata": {
      "needs_background": "light"
     },
     "output_type": "display_data"
    }
   ],
   "source": [
    "plt.plot(history5.history['loss'])\n",
    "plt.plot(history5.history['val_loss'])\n",
    "plt.title('Model Loss')\n",
    "plt.ylabel('loss')\n",
    "plt.xlabel('epoch')\n",
    "plt.legend(['Train', 'Validation'])\n",
    "plt.show()"
   ]
  }
 ],
 "metadata": {
  "colab": {
   "name": "Lab13: Image Classification using CNN for CIFAR-10 Dataset",
   "provenance": []
  },
  "kernelspec": {
   "display_name": "Python 3",
   "language": "python",
   "name": "python3"
  },
  "language_info": {
   "codemirror_mode": {
    "name": "ipython",
    "version": 3
   },
   "file_extension": ".py",
   "mimetype": "text/x-python",
   "name": "python",
   "nbconvert_exporter": "python",
   "pygments_lexer": "ipython3",
   "version": "3.8.8"
  }
 },
 "nbformat": 4,
 "nbformat_minor": 1
}
