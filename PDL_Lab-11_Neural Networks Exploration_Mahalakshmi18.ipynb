{
 "cells": [
  {
   "cell_type": "markdown",
   "metadata": {
    "id": "oANcJmu7fUJQ"
   },
   "source": [
    "# 205229118\n",
    "# Mahalakshmi S"
   ]
  },
  {
   "cell_type": "markdown",
   "metadata": {
    "id": "7NjRcxlbOWvN"
   },
   "source": [
    "# PDL Lab11 Neural Network Exploration"
   ]
  },
  {
   "cell_type": "markdown",
   "metadata": {
    "id": "8Hfm86j7OWvY"
   },
   "source": [
    "## PART-I: Baseline Model"
   ]
  },
  {
   "cell_type": "markdown",
   "metadata": {
    "id": "EX1SNyPjOWvY"
   },
   "source": [
    "### Import libraries"
   ]
  },
  {
   "cell_type": "code",
   "execution_count": null,
   "metadata": {
    "id": "2amUjtxVOWvZ"
   },
   "outputs": [],
   "source": [
    "import warnings\n",
    "warnings.filterwarnings('ignore')\n",
    "import numpy as np\n",
    "import matplotlib.pyplot as plt\n",
    "import tensorflow\n",
    "import cv2\n",
    "from tensorflow.keras.datasets import mnist\n",
    "from sklearn.model_selection import train_test_split\n",
    "from tensorflow.keras.models import Sequential,model_from_json\n",
    "from tensorflow.keras.layers import Dense,Dropout\n",
    "from tensorflow.keras.utils import to_categorical\n",
    "from tensorflow.keras.optimizers import RMSprop,SGD,Adam\n",
    "from PIL import Image \n",
    "import pylab as plt\n",
    "from keras.regularizers import l1,l2"
   ]
  },
  {
   "cell_type": "markdown",
   "metadata": {
    "id": "ynbhnlRaOWvd"
   },
   "source": [
    "### Import data"
   ]
  },
  {
   "cell_type": "code",
   "execution_count": null,
   "metadata": {
    "colab": {
     "base_uri": "https://localhost:8080/"
    },
    "id": "hq1K45RZOWve",
    "outputId": "c4c684f7-a4b3-4867-aebe-02d931be4c0f"
   },
   "outputs": [],
   "source": [
    "# the data, split between train and test sets\n",
    "(x_train, y_train), (x_test, y_test) = mnist.load_data()"
   ]
  },
  {
   "cell_type": "code",
   "execution_count": null,
   "metadata": {
    "colab": {
     "base_uri": "https://localhost:8080/"
    },
    "id": "mQZZrZXqOWvg",
    "outputId": "051ad0f6-0ee8-4288-c23c-5d35dd8805f8"
   },
   "outputs": [],
   "source": [
    "print(x_train.shape[0], 'train samples')\n",
    "print(x_test.shape[0], 'test samples')"
   ]
  },
  {
   "cell_type": "markdown",
   "metadata": {
    "id": "XuWLs-vROWvi"
   },
   "source": [
    "### Display an image of a digit"
   ]
  },
  {
   "cell_type": "code",
   "execution_count": null,
   "metadata": {
    "colab": {
     "base_uri": "https://localhost:8080/"
    },
    "id": "Anu14kvx9__7",
    "outputId": "a04b1bb4-cb44-4fa3-b6a3-f5574f7cecc2"
   },
   "outputs": [],
   "source": [
    "x_train[650].shape"
   ]
  },
  {
   "cell_type": "code",
   "execution_count": null,
   "metadata": {
    "colab": {
     "base_uri": "https://localhost:8080/",
     "height": 292
    },
    "id": "GKypizYIOWvj",
    "outputId": "d123b508-73d0-4a33-a6f1-3960fb7154a2"
   },
   "outputs": [],
   "source": [
    "plt.matshow(x_train[650])"
   ]
  },
  {
   "cell_type": "code",
   "execution_count": null,
   "metadata": {
    "id": "-DQGxLtK9__9"
   },
   "outputs": [],
   "source": [
    "batch_size = 128\n",
    "num_classes = 10\n",
    "epochs = 2\n",
    "\n",
    "#reshape the dataset \n",
    "x_train = x_train.reshape(60000, 784)\n",
    "x_test = x_test.reshape(10000, 784)\n",
    "\n",
    "#convert to float32 type \n",
    "x_train = x_train.astype('float32')\n",
    "x_test = x_test.astype('float32')\n",
    "\n",
    "# Normalize to 0 to 1 range\n",
    "x_train /= 255\n",
    "x_test /= 255\n"
   ]
  },
  {
   "cell_type": "code",
   "execution_count": null,
   "metadata": {
    "id": "791W84vWOWvj"
   },
   "outputs": [],
   "source": [
    "# convert class vectors to binary class matrices\n",
    "y_train = to_categorical(y_train, num_classes)\n",
    "y_test = to_categorical(y_test, num_classes)"
   ]
  },
  {
   "cell_type": "markdown",
   "metadata": {
    "id": "us1-gY8vOWvk"
   },
   "source": [
    "### Display its class label"
   ]
  },
  {
   "cell_type": "code",
   "execution_count": null,
   "metadata": {
    "colab": {
     "base_uri": "https://localhost:8080/"
    },
    "id": "UPRfiA6aOWvk",
    "outputId": "6e6e0d87-e44f-4728-fef9-e57eeb3ce8cd"
   },
   "outputs": [],
   "source": [
    "y_train[650]"
   ]
  },
  {
   "cell_type": "code",
   "execution_count": null,
   "metadata": {
    "colab": {
     "base_uri": "https://localhost:8080/"
    },
    "id": "r-_C5eSHOWvl",
    "outputId": "0b499d31-df5d-4173-880a-8eeae3709c54"
   },
   "outputs": [],
   "source": [
    "print(\"digit in the image :\",np.argmax(y_train[650]))"
   ]
  },
  {
   "cell_type": "markdown",
   "metadata": {
    "id": "6CQ25F56OWvl"
   },
   "source": [
    "### Design your first model"
   ]
  },
  {
   "cell_type": "markdown",
   "metadata": {
    "id": "Khh87BxeOWvm"
   },
   "source": [
    "Create a model with 3 hidden layers with 32 nodes, sigmoid activation for hidden layers, 10 nodes in the output layer with softmax activation. Print the summary"
   ]
  },
  {
   "cell_type": "code",
   "execution_count": null,
   "metadata": {
    "colab": {
     "base_uri": "https://localhost:8080/"
    },
    "id": "lQkIGRVpOWvm",
    "outputId": "1d43523f-2021-47d9-deb5-d2a8548c1ac4",
    "scrolled": true
   },
   "outputs": [],
   "source": [
    "first_layer_size = 32\n",
    "model = Sequential()\n",
    "model.add(Dense(first_layer_size, activation='sigmoid', input_shape=(784,)))\n",
    "model.add(Dense(32, activation='sigmoid'))\n",
    "model.add(Dense(32, activation='sigmoid'))\n",
    "model.add(Dense(num_classes, activation='softmax'))\n",
    "\n",
    "model.summary()"
   ]
  },
  {
   "cell_type": "markdown",
   "metadata": {
    "id": "c-JKxcSCOWvn"
   },
   "source": [
    "### Compile the Model"
   ]
  },
  {
   "cell_type": "markdown",
   "metadata": {
    "id": "7xy2NGBBOWvn"
   },
   "source": [
    "Compile the model with categorical_crossentropy loss, RMSprop optimizer and accuracy metrics"
   ]
  },
  {
   "cell_type": "code",
   "execution_count": null,
   "metadata": {
    "id": "n-GRrU89OWvn",
    "scrolled": false
   },
   "outputs": [],
   "source": [
    "model.compile(loss='categorical_crossentropy',optimizer=RMSprop(),metrics=['accuracy'])"
   ]
  },
  {
   "cell_type": "markdown",
   "metadata": {
    "id": "bpuL1hH1OWvo"
   },
   "source": [
    "### Train the model"
   ]
  },
  {
   "cell_type": "markdown",
   "metadata": {
    "id": "SvAQrzCZOWvo"
   },
   "source": [
    "Train the model for the specified batch size and the number of epochs"
   ]
  },
  {
   "cell_type": "code",
   "execution_count": null,
   "metadata": {
    "colab": {
     "base_uri": "https://localhost:8080/"
    },
    "id": "gr_VQd-oOWvo",
    "outputId": "056150e0-988b-44ae-ed05-37cb26c733ed"
   },
   "outputs": [],
   "source": [
    "history = model.fit(x_train,y_train,batch_size=batch_size,epochs=epochs,verbose=2)"
   ]
  },
  {
   "cell_type": "markdown",
   "metadata": {
    "id": "oWBIMfqbOWvp"
   },
   "source": [
    "### Test it with test data and print the loss and accuracy values of the evaluation"
   ]
  },
  {
   "cell_type": "code",
   "execution_count": null,
   "metadata": {
    "colab": {
     "base_uri": "https://localhost:8080/"
    },
    "id": "6PbdlTcNOWvp",
    "outputId": "859b54cb-429a-47d6-e21d-91476f0bb7b4"
   },
   "outputs": [],
   "source": [
    "score = model.evaluate(x_test, y_test, verbose=0)\n",
    "print('Test loss:', score[0])\n",
    "print('Test accuracy:', score[1])"
   ]
  },
  {
   "cell_type": "code",
   "execution_count": null,
   "metadata": {
    "colab": {
     "base_uri": "https://localhost:8080/"
    },
    "id": "w2lQZN24OWvp",
    "outputId": "82d61582-36ed-49ba-e4b2-6f7d6eae72fd"
   },
   "outputs": [],
   "source": [
    "# Print the predicted values and the corresponding digit\n",
    "\n",
    "prediction = model.predict(x_test[10:11])\n",
    "prediction = prediction[0]\n",
    "print('Prediction\\n',prediction)\n",
    "print('\\nThresholded output\\n',(prediction>0.5)*1)"
   ]
  },
  {
   "cell_type": "markdown",
   "metadata": {
    "id": "NQ0sVS97OWvq"
   },
   "source": [
    "### Create a table in MS Word and document the parameters and the observed loss and accuracy values"
   ]
  },
  {
   "cell_type": "markdown",
   "metadata": {
    "id": "GjsxTZpPOWvq"
   },
   "source": [
    "## PART-II: Explore the following and document your results "
   ]
  },
  {
   "cell_type": "markdown",
   "metadata": {
    "id": "FBjZF28YOWvq"
   },
   "source": [
    "**1.Number of Nodes**\n",
    "\n",
    "Run neural network with single hidden layer, 32 nodes (with any activation function and any \n",
    "optimizer) for 10 epochs. Change number of nodes as 4, 32, 128, 512, 2056. What is the training and testing \n",
    "accuracies? Print the number of parameters of the model and training time for each of these configurations."
   ]
  },
  {
   "cell_type": "code",
   "execution_count": null,
   "metadata": {
    "colab": {
     "base_uri": "https://localhost:8080/"
    },
    "id": "2ow4nv26-AAF",
    "outputId": "ae516a00-49c5-4464-9bc4-0bf8aacd9cd5"
   },
   "outputs": [],
   "source": [
    "first_layer_size = 32\n",
    "model1 = Sequential()\n",
    "model1.add(Dense(first_layer_size, activation='relu', input_shape=(784,)))\n",
    "model1.add(Dense(32, activation='relu'))\n",
    "model1.add(Dense(num_classes, activation='softmax'))\n",
    "\n",
    "model1.summary()"
   ]
  },
  {
   "cell_type": "code",
   "execution_count": null,
   "metadata": {
    "id": "vmHGgd2f-AAF"
   },
   "outputs": [],
   "source": [
    "model1.compile(loss='categorical_crossentropy',optimizer='adam',metrics=['accuracy'])"
   ]
  },
  {
   "cell_type": "code",
   "execution_count": null,
   "metadata": {
    "colab": {
     "base_uri": "https://localhost:8080/"
    },
    "id": "8gbdm2YhOWvq",
    "outputId": "34de36dd-a10d-497d-c0fe-057f77cc2224"
   },
   "outputs": [],
   "source": [
    "history1 = model1.fit(x_train,y_train,batch_size=batch_size,epochs=10,verbose=2)"
   ]
  },
  {
   "cell_type": "code",
   "execution_count": null,
   "metadata": {
    "colab": {
     "base_uri": "https://localhost:8080/"
    },
    "id": "6jPDmpa2GIDA",
    "outputId": "3776613c-7f85-4dda-aa8a-3e014e7d01f7"
   },
   "outputs": [],
   "source": [
    "score = model1.evaluate(x_test, y_test, verbose=0)\n",
    "print('Test loss:', score[0])\n",
    "print('Test accuracy:', score[1])"
   ]
  },
  {
   "cell_type": "code",
   "execution_count": null,
   "metadata": {
    "colab": {
     "base_uri": "https://localhost:8080/"
    },
    "id": "gPpAANLIGNC_",
    "outputId": "5b27419c-360f-4fc4-e9e5-fce84e9b862f"
   },
   "outputs": [],
   "source": [
    "prediction = model1.predict(x_test[10:11])\n",
    "prediction = prediction[0]\n",
    "print('Prediction\\n',prediction)\n",
    "print('\\nThresholded output\\n',(prediction>0.5)*1)"
   ]
  },
  {
   "cell_type": "code",
   "execution_count": null,
   "metadata": {
    "colab": {
     "base_uri": "https://localhost:8080/"
    },
    "id": "TJUXMrDR-AAG",
    "outputId": "f97c8f8a-3f6a-41c7-a89e-f55e8a493cbb"
   },
   "outputs": [],
   "source": [
    "model2 = Sequential()\n",
    "model2.add(Dense(4, activation='sigmoid', input_shape=(784,)))\n",
    "model2.add(Dense(32, activation='sigmoid'))\n",
    "model2.add(Dense(num_classes, activation='softmax'))\n",
    "\n",
    "model2.summary()"
   ]
  },
  {
   "cell_type": "code",
   "execution_count": null,
   "metadata": {
    "id": "rFJkiHXX__Rt"
   },
   "outputs": [],
   "source": [
    "model2.compile(loss='categorical_crossentropy',optimizer='adam',metrics=['accuracy'])"
   ]
  },
  {
   "cell_type": "code",
   "execution_count": null,
   "metadata": {
    "colab": {
     "base_uri": "https://localhost:8080/"
    },
    "id": "iEFBbpivASmz",
    "outputId": "1c629937-14a2-448a-c8cf-e492656c4388"
   },
   "outputs": [],
   "source": [
    "history2 = model2.fit(x_train,y_train,batch_size=batch_size,epochs=10,verbose=2)"
   ]
  },
  {
   "cell_type": "code",
   "execution_count": null,
   "metadata": {
    "colab": {
     "base_uri": "https://localhost:8080/"
    },
    "id": "397w6JA_GVIX",
    "outputId": "1e034158-11c5-49db-eb1d-5efefb9ab18b"
   },
   "outputs": [],
   "source": [
    "score = model2.evaluate(x_test, y_test, verbose=0)\n",
    "print('Test loss:', score[0])\n",
    "print('Test accuracy:', score[1])"
   ]
  },
  {
   "cell_type": "code",
   "execution_count": null,
   "metadata": {
    "colab": {
     "base_uri": "https://localhost:8080/"
    },
    "id": "09OLM4SfAc08",
    "outputId": "beff7708-7b20-443a-de6a-c449599231d7"
   },
   "outputs": [],
   "source": [
    "prediction = model2.predict(x_test[10:11])\n",
    "prediction = prediction[0]\n",
    "print('Prediction\\n',prediction)\n",
    "print('\\nThresholded output\\n',(prediction>0.5)*1)"
   ]
  },
  {
   "cell_type": "code",
   "execution_count": null,
   "metadata": {
    "colab": {
     "base_uri": "https://localhost:8080/"
    },
    "id": "nwu5cOmDNDnw",
    "outputId": "34c0729f-bf5d-4511-8341-8b5e9c026940"
   },
   "outputs": [],
   "source": [
    "model3 = Sequential()\n",
    "model3.add(Dense(128, activation='relu', input_shape=(784,)))\n",
    "model3.add(Dense(32, activation='tanh'))\n",
    "model3.add(Dense(num_classes, activation='softmax'))\n",
    "\n",
    "model3.summary()"
   ]
  },
  {
   "cell_type": "code",
   "execution_count": null,
   "metadata": {
    "id": "KuXYKjuHNDqz"
   },
   "outputs": [],
   "source": [
    "model3.compile(loss='categorical_crossentropy',optimizer='adam',metrics=['accuracy'])"
   ]
  },
  {
   "cell_type": "code",
   "execution_count": null,
   "metadata": {
    "colab": {
     "base_uri": "https://localhost:8080/"
    },
    "id": "-6KQgNJ8NDt8",
    "outputId": "9f4d6e03-5a85-49d0-b201-557a61c08555"
   },
   "outputs": [],
   "source": [
    "history3 = model3.fit(x_train,y_train,batch_size=batch_size,epochs=10,verbose=2)"
   ]
  },
  {
   "cell_type": "code",
   "execution_count": null,
   "metadata": {
    "colab": {
     "base_uri": "https://localhost:8080/"
    },
    "id": "JBQv8RfENDw-",
    "outputId": "c529af22-b7d0-4651-f093-6980b1171a22"
   },
   "outputs": [],
   "source": [
    "score = model3.evaluate(x_test, y_test, verbose=0)\n",
    "print('Test loss:', score[0])\n",
    "print('Test accuracy:', score[1])"
   ]
  },
  {
   "cell_type": "code",
   "execution_count": null,
   "metadata": {
    "colab": {
     "base_uri": "https://localhost:8080/"
    },
    "id": "UAndLVENN5Mo",
    "outputId": "2f2c699b-f5ac-4e82-ed85-2fb0c0dc1186"
   },
   "outputs": [],
   "source": [
    "prediction = model3.predict(x_test[10:11])\n",
    "prediction = prediction[0]\n",
    "print('Prediction\\n',prediction)\n",
    "print('\\nThresholded output\\n',(prediction>0.5)*1)"
   ]
  },
  {
   "cell_type": "code",
   "execution_count": null,
   "metadata": {
    "colab": {
     "base_uri": "https://localhost:8080/"
    },
    "id": "7VO2ZZGvNDzm",
    "outputId": "de6b61dd-45b5-468c-c5ec-59233090a029"
   },
   "outputs": [],
   "source": [
    "model5 = Sequential()\n",
    "model5.add(Dense(2056, activation='sigmoid', input_shape=(784,)))\n",
    "model5.add(Dense(32, activation='tanh'))\n",
    "model5.add(Dense(num_classes, activation='softmax'))\n",
    "\n",
    "model5.summary()"
   ]
  },
  {
   "cell_type": "code",
   "execution_count": null,
   "metadata": {
    "id": "ivGciWYBOEjf"
   },
   "outputs": [],
   "source": [
    "model5.compile(loss='categorical_crossentropy',optimizer='adam',metrics=['accuracy'])"
   ]
  },
  {
   "cell_type": "code",
   "execution_count": null,
   "metadata": {
    "colab": {
     "base_uri": "https://localhost:8080/"
    },
    "id": "DWiBo4P4OEm1",
    "outputId": "3ffe4076-40ea-4e63-f356-1864e3d089da"
   },
   "outputs": [],
   "source": [
    "history5 = model2.fit(x_train,y_train,batch_size=batch_size,epochs=10,verbose=2)"
   ]
  },
  {
   "cell_type": "code",
   "execution_count": null,
   "metadata": {
    "colab": {
     "base_uri": "https://localhost:8080/"
    },
    "id": "YzV7Xb6aOErm",
    "outputId": "c7acb0bd-6022-4f90-cf10-62fc3fccfc8b"
   },
   "outputs": [],
   "source": [
    "score = model5.evaluate(x_test, y_test, verbose=0)\n",
    "print('Test loss:', score[0])\n",
    "print('Test accuracy:', score[1])"
   ]
  },
  {
   "cell_type": "code",
   "execution_count": null,
   "metadata": {
    "colab": {
     "base_uri": "https://localhost:8080/"
    },
    "id": "-SFwxMnDND2c",
    "outputId": "2fa7ea3d-125e-4fc8-a4b6-9fa150ad76c0"
   },
   "outputs": [],
   "source": [
    "prediction = model5.predict(x_test[10:11])\n",
    "prediction = prediction[0]\n",
    "print('Prediction\\n',prediction)\n",
    "print('\\nThresholded output\\n',(prediction>0.5)*1)"
   ]
  },
  {
   "cell_type": "markdown",
   "metadata": {
    "id": "ZZjI_0L7HZS-"
   },
   "source": [
    "### 2. Number of Layers: Run neural network with 3 hidden layer, 32 nodes each (with any activation function and any optimizer) for 10 epochs. Change number of layers as 4, 6, 8, 16. What is the training and testing accuracies? Print the number of parameters of the model and training time for each of these configurations. Run the same models for 30 epochs. Any changes?"
   ]
  },
  {
   "cell_type": "code",
   "execution_count": null,
   "metadata": {
    "colab": {
     "base_uri": "https://localhost:8080/"
    },
    "id": "WiuDCdVnHo8H",
    "outputId": "58a650f3-7ded-46b2-9be7-54e13f8420d6"
   },
   "outputs": [],
   "source": [
    "model6 = Sequential()\n",
    "model6.add(Dense(32, activation='sigmoid', input_shape=(784,)))\n",
    "model6.add(Dense(32, activation='sigmoid'))\n",
    "model6.add(Dense(32, activation='sigmoid'))\n",
    "model6.add(Dense(32, activation='sigmoid'))\n",
    "model6.add(Dense(num_classes, activation='softmax'))\n",
    "\n",
    "model6.summary()"
   ]
  },
  {
   "cell_type": "code",
   "execution_count": null,
   "metadata": {
    "id": "ri9cj7KjJlC_"
   },
   "outputs": [],
   "source": [
    "model6.compile(loss='categorical_crossentropy',optimizer='adam',metrics=['accuracy'])"
   ]
  },
  {
   "cell_type": "code",
   "execution_count": null,
   "metadata": {
    "colab": {
     "base_uri": "https://localhost:8080/"
    },
    "id": "EsxhVFwRJlFq",
    "outputId": "eab5d120-4c1c-4ae2-a644-f25cda427762"
   },
   "outputs": [],
   "source": [
    "history6 = model6.fit(x_train,y_train,batch_size=batch_size,epochs=10,verbose=2)"
   ]
  },
  {
   "cell_type": "code",
   "execution_count": null,
   "metadata": {
    "colab": {
     "base_uri": "https://localhost:8080/"
    },
    "id": "jW17Y8HMJlLX",
    "outputId": "a476e09e-5346-458a-bea1-e41bd6f39172"
   },
   "outputs": [],
   "source": [
    "score = model6.evaluate(x_test, y_test, verbose=0)\n",
    "print('Test loss:', score[0])\n",
    "print('Test accuracy:', score[1])"
   ]
  },
  {
   "cell_type": "code",
   "execution_count": null,
   "metadata": {
    "colab": {
     "base_uri": "https://localhost:8080/"
    },
    "id": "BqL48MTAKFDV",
    "outputId": "d9db1627-bc9e-4a22-ed4d-f9ed3d11120f"
   },
   "outputs": [],
   "source": [
    "prediction = model6.predict(x_test[10:11])\n",
    "prediction = prediction[0]\n",
    "print('Prediction\\n',prediction)\n",
    "print('\\nThresholded output\\n',(prediction>0.5)*1)"
   ]
  },
  {
   "cell_type": "code",
   "execution_count": null,
   "metadata": {
    "colab": {
     "base_uri": "https://localhost:8080/"
    },
    "id": "7dPsQgG6Q-LD",
    "outputId": "b381fad7-6f41-4c31-f01d-5735e3b16358"
   },
   "outputs": [],
   "source": [
    "model7 = Sequential()\n",
    "model7.add(Dense(32, activation='sigmoid', input_shape=(784,)))\n",
    "model7.add(Dense(32, activation='sigmoid'))\n",
    "model7.add(Dense(32, activation='sigmoid'))\n",
    "model7.add(Dense(32, activation='sigmoid'))\n",
    "model7.add(Dense(32, activation='sigmoid'))\n",
    "model7.add(Dense(num_classes, activation='softmax'))\n",
    "\n",
    "model7.summary()"
   ]
  },
  {
   "cell_type": "code",
   "execution_count": null,
   "metadata": {
    "id": "MbrseAs0Q_RG"
   },
   "outputs": [],
   "source": [
    "model7.compile(loss='categorical_crossentropy',optimizer='adam',metrics=['accuracy'])"
   ]
  },
  {
   "cell_type": "code",
   "execution_count": null,
   "metadata": {
    "colab": {
     "base_uri": "https://localhost:8080/"
    },
    "id": "ujlzPX26Q_a0",
    "outputId": "04746f47-7ceb-424c-97d4-d36eab0c25e0"
   },
   "outputs": [],
   "source": [
    "history7 = model7.fit(x_train,y_train,batch_size=batch_size,epochs=10,verbose=2)"
   ]
  },
  {
   "cell_type": "code",
   "execution_count": null,
   "metadata": {
    "colab": {
     "base_uri": "https://localhost:8080/"
    },
    "id": "vTXvwaFTQ_if",
    "outputId": "34a8bce5-4b7d-40a4-d6b5-fc9886f10614"
   },
   "outputs": [],
   "source": [
    "score = model7.evaluate(x_test, y_test, verbose=0)\n",
    "print('Test loss:', score[0])\n",
    "print('Test accuracy:', score[1])"
   ]
  },
  {
   "cell_type": "code",
   "execution_count": null,
   "metadata": {
    "colab": {
     "base_uri": "https://localhost:8080/"
    },
    "id": "v-dOxqVNQ_q1",
    "outputId": "4202827d-d512-47a7-ed5d-95ca6424843a"
   },
   "outputs": [],
   "source": [
    "prediction = model7.predict(x_test[10:11])\n",
    "prediction = prediction[0]\n",
    "print('Prediction\\n',prediction)\n",
    "print('\\nThresholded output\\n',(prediction>0.5)*1)"
   ]
  },
  {
   "cell_type": "code",
   "execution_count": null,
   "metadata": {
    "colab": {
     "base_uri": "https://localhost:8080/"
    },
    "id": "4D85_XfgRA3N",
    "outputId": "cc6f47f1-a33e-4a08-cb59-6113f450cbba"
   },
   "outputs": [],
   "source": [
    "model9 = Sequential()\n",
    "model9.add(Dense(32, activation='sigmoid', input_shape=(784,)))\n",
    "model9.add(Dense(32, activation='sigmoid'))\n",
    "model9.add(Dense(32, activation='sigmoid'))\n",
    "model9.add(Dense(32, activation='sigmoid'))\n",
    "model9.add(Dense(32, activation='sigmoid'))\n",
    "model9.add(Dense(32, activation='sigmoid'))\n",
    "model9.add(Dense(32, activation='sigmoid'))\n",
    "model9.add(Dense(32, activation='sigmoid'))\n",
    "model9.add(Dense(32, activation='sigmoid'))\n",
    "model9.add(Dense(num_classes, activation='softmax'))\n",
    "\n",
    "model9.summary()"
   ]
  },
  {
   "cell_type": "code",
   "execution_count": null,
   "metadata": {
    "id": "d4-CexuQRKNU"
   },
   "outputs": [],
   "source": [
    "model9.compile(loss='categorical_crossentropy',optimizer='adam',metrics=['accuracy'])"
   ]
  },
  {
   "cell_type": "code",
   "execution_count": null,
   "metadata": {
    "colab": {
     "base_uri": "https://localhost:8080/"
    },
    "id": "qNieW3bNRKaF",
    "outputId": "908987bf-ac40-4256-8c20-d8988381715b"
   },
   "outputs": [],
   "source": [
    "history9 = model9.fit(x_train,y_train,batch_size=batch_size,epochs=10,verbose=2)"
   ]
  },
  {
   "cell_type": "code",
   "execution_count": null,
   "metadata": {
    "colab": {
     "base_uri": "https://localhost:8080/"
    },
    "id": "g7imtL7CRKgh",
    "outputId": "640e04e7-c95e-427b-e464-b56e818d23c7"
   },
   "outputs": [],
   "source": [
    "score = model9.evaluate(x_test, y_test, verbose=0)\n",
    "print('Test loss:', score[0])\n",
    "print('Test accuracy:', score[1])"
   ]
  },
  {
   "cell_type": "code",
   "execution_count": null,
   "metadata": {
    "colab": {
     "base_uri": "https://localhost:8080/"
    },
    "id": "mnxappf5RKmm",
    "outputId": "910ef362-d62b-4d1b-ec7f-75c9bf7b0103"
   },
   "outputs": [],
   "source": [
    "prediction = model9.predict(x_test[10:11])\n",
    "prediction = prediction[0]\n",
    "print('Prediction\\n',prediction)\n",
    "print('\\nThresholded output\\n',(prediction>0.5)*1)"
   ]
  },
  {
   "cell_type": "markdown",
   "metadata": {
    "id": "LyQrVa_kNV1p"
   },
   "source": [
    "### 3. Activation function: Run neural network with 3 hidden layer, 32 nodes each (with any optimizer) with sigmoid activation function for all layers, for 10 epochs. Change only the activation function as tanh, relu (for all 3 layers)etc. What is the training and testing accuracies? Run the same models for 30 epochs. Any changes?"
   ]
  },
  {
   "cell_type": "code",
   "execution_count": null,
   "metadata": {
    "colab": {
     "base_uri": "https://localhost:8080/"
    },
    "id": "ZmlCfXS6OUF8",
    "outputId": "018b2a9e-699b-4d7e-947a-cc6cfce67a69"
   },
   "outputs": [],
   "source": [
    "model11 = Sequential()\n",
    "model11.add(Dense(32, activation='sigmoid', input_shape=(784,)))\n",
    "model11.add(Dense(32, activation='sigmoid'))\n",
    "model11.add(Dense(32, activation='sigmoid'))\n",
    "model11.add(Dense(32, activation='sigmoid'))\n",
    "\n",
    "model11.add(Dense(num_classes, activation='softmax'))\n",
    "\n",
    "model11.summary()"
   ]
  },
  {
   "cell_type": "code",
   "execution_count": null,
   "metadata": {
    "id": "cAPUDCWCP6xO"
   },
   "outputs": [],
   "source": [
    "model11.compile(loss='categorical_crossentropy',optimizer='adam',metrics=['accuracy'])"
   ]
  },
  {
   "cell_type": "code",
   "execution_count": null,
   "metadata": {
    "colab": {
     "base_uri": "https://localhost:8080/"
    },
    "id": "Mle65DWqP66C",
    "outputId": "bc879992-8b63-4b63-e908-65c755e0a410"
   },
   "outputs": [],
   "source": [
    "history11 = model11.fit(x_train,y_train,batch_size=batch_size,epochs=10,verbose=2)"
   ]
  },
  {
   "cell_type": "code",
   "execution_count": null,
   "metadata": {
    "colab": {
     "base_uri": "https://localhost:8080/"
    },
    "id": "ZJwv-5O9P69E",
    "outputId": "7447e03e-68a2-46db-9b6b-e899d8cc4031"
   },
   "outputs": [],
   "source": [
    "score = model11.evaluate(x_test, y_test, verbose=0)\n",
    "print('Test loss:', score[0])\n",
    "print('Test accuracy:', score[1])"
   ]
  },
  {
   "cell_type": "code",
   "execution_count": null,
   "metadata": {
    "colab": {
     "base_uri": "https://localhost:8080/"
    },
    "id": "iZ0HVfxDP6_p",
    "outputId": "a742546f-ba11-42eb-a51c-19feb6d8961d"
   },
   "outputs": [],
   "source": [
    "prediction = model11.predict(x_test[10:11])\n",
    "prediction = prediction[0]\n",
    "print('Prediction\\n',prediction)\n",
    "print('\\nThresholded output\\n',(prediction>0.5)*1)"
   ]
  },
  {
   "cell_type": "markdown",
   "metadata": {
    "id": "athndm5hRQ17"
   },
   "source": [
    "### 4. Activation function combinations: For the three layers use different combinations of activation functions such as layer 1: sigmoid, layer 2: relu, layer 3: tanh. There can be lot of combinations like this. Which one is the best for 3 layer each with 32 node architecture?"
   ]
  },
  {
   "cell_type": "code",
   "execution_count": null,
   "metadata": {
    "colab": {
     "base_uri": "https://localhost:8080/"
    },
    "id": "RRdS0Ao3Q7QW",
    "outputId": "9012e0b3-ad01-4105-e00a-dbc7bfb74ced"
   },
   "outputs": [],
   "source": [
    "model14 = Sequential()\n",
    "model14.add(Dense(32, activation='tanh', input_shape=(784,)))\n",
    "model14.add(Dense(32, activation='relu'))\n",
    "model14.add(Dense(32, activation='sigmoid'))\n",
    "model14.add(Dense(32, activation='tanh'))\n",
    "model14.add(Dense(num_classes, activation='softmax'))\n",
    "\n",
    "model14.summary()"
   ]
  },
  {
   "cell_type": "code",
   "execution_count": null,
   "metadata": {
    "id": "BBCDFMtSTcpS"
   },
   "outputs": [],
   "source": [
    "model14.compile(loss='categorical_crossentropy',optimizer='adam',metrics=['accuracy'])"
   ]
  },
  {
   "cell_type": "code",
   "execution_count": null,
   "metadata": {
    "colab": {
     "base_uri": "https://localhost:8080/"
    },
    "id": "go1NjEi0TiOw",
    "outputId": "f96eb00f-7eb9-4fa0-8213-417a2f17483c"
   },
   "outputs": [],
   "source": [
    "history14 = model14.fit(x_train,y_train,batch_size=batch_size,epochs=10,verbose=2)"
   ]
  },
  {
   "cell_type": "code",
   "execution_count": null,
   "metadata": {
    "colab": {
     "base_uri": "https://localhost:8080/"
    },
    "id": "8AGP6GDuTw8G",
    "outputId": "0cb253ef-8bd1-4230-c7b3-4c34c86d5adb"
   },
   "outputs": [],
   "source": [
    "score = model14.evaluate(x_test, y_test, verbose=0)\n",
    "print('Test loss:', score[0])\n",
    "print('Test accuracy:', score[1])"
   ]
  },
  {
   "cell_type": "code",
   "execution_count": null,
   "metadata": {
    "colab": {
     "base_uri": "https://localhost:8080/"
    },
    "id": "tqZl2wMx2gok",
    "outputId": "3399e9e3-c436-441d-dcfd-a588a039444c"
   },
   "outputs": [],
   "source": [
    "prediction = model14.predict(x_test[10:11])\n",
    "prediction = prediction[0]\n",
    "print('Prediction\\n',prediction)\n",
    "print('\\nThresholded output\\n',(prediction>0.5)*1)"
   ]
  },
  {
   "cell_type": "markdown",
   "metadata": {
    "id": "OiUblvJu2hmT"
   },
   "source": [
    "### 5. Layer-node combinations: Run different models mimicking the following structures. Which one gives best accuracy? Print the number of parameters of the model and training time for each of these configurations. "
   ]
  },
  {
   "cell_type": "code",
   "execution_count": null,
   "metadata": {
    "id": "34jQ4vpv2lEF"
   },
   "outputs": [],
   "source": [
    "model15 = Sequential()\n",
    "model15.add(Dense(64, activation='relu', input_shape=(784,)))\n",
    "model15.add(Dense(256, activation='sigmoid'))\n",
    "model15.add(Dense(512, activation='sigmoid'))\n",
    "model15.add(Dense(128, activation='sigmoid'))\n",
    "model15.add(Dense(32, activation='sigmoid'))\n",
    "model15.add(Dense(16, activation='sigmoid'))\n",
    "model15.add(Dense(num_classes, activation='softmax'))"
   ]
  },
  {
   "cell_type": "code",
   "execution_count": null,
   "metadata": {
    "id": "GLDNMhYH5Au8"
   },
   "outputs": [],
   "source": [
    "model15.compile(loss='categorical_crossentropy',optimizer='adam',metrics=['accuracy'])"
   ]
  },
  {
   "cell_type": "code",
   "execution_count": null,
   "metadata": {
    "colab": {
     "base_uri": "https://localhost:8080/"
    },
    "id": "hT5r1y_o5FP5",
    "outputId": "e675d60f-c181-4ab5-90c4-be837a5e0ac2"
   },
   "outputs": [],
   "source": [
    "history15 = model15.fit(x_train,y_train,batch_size=batch_size,epochs=10,verbose=2)"
   ]
  },
  {
   "cell_type": "code",
   "execution_count": null,
   "metadata": {
    "colab": {
     "base_uri": "https://localhost:8080/"
    },
    "id": "jhpHWvn05Jb0",
    "outputId": "492bb288-ac2b-4578-8dc1-771327c43a0f"
   },
   "outputs": [],
   "source": [
    "score = model15.evaluate(x_test, y_test, verbose=0)\n",
    "print('Test loss:', score[0])\n",
    "print('Test accuracy:', score[1])"
   ]
  },
  {
   "cell_type": "code",
   "execution_count": null,
   "metadata": {
    "colab": {
     "base_uri": "https://localhost:8080/"
    },
    "id": "7CrLmZ1i5TD_",
    "outputId": "dc42eeae-1cc6-4e3a-ea9c-2d1a71614bed"
   },
   "outputs": [],
   "source": [
    "prediction = model15.predict(x_test[10:11])\n",
    "prediction = prediction[0]\n",
    "print('Prediction\\n',prediction)\n",
    "print('\\nThresholded output\\n',(prediction>0.5)*1)"
   ]
  },
  {
   "cell_type": "markdown",
   "metadata": {
    "id": "ybjzh4Jq5vrz"
   },
   "source": [
    "### 6. Optimizer: Run neural network with 3 hidden layer, 32 nodes each with SGD optimizer with relu activation function for all layers, for 10 epochs. Run the same model with optimizers such as Momentum, RMSProp, Adam etc. Which one gives good accuracy for 10 epochs? "
   ]
  },
  {
   "cell_type": "code",
   "execution_count": null,
   "metadata": {
    "colab": {
     "base_uri": "https://localhost:8080/"
    },
    "id": "b3Ok31kF5qQK",
    "outputId": "71789375-2bff-4705-f9db-775e8831671f"
   },
   "outputs": [],
   "source": [
    "model16 = Sequential()\n",
    "model16.add(Dense(32, activation='relu', input_shape=(784,)))\n",
    "model16.add(Dense(32, activation='relu'))\n",
    "model16.add(Dense(32, activation='relu'))\n",
    "model16.add(Dense(32, activation='relu'))\n",
    "model16.add(Dense(num_classes, activation='softmax'))\n",
    "\n",
    "model16.summary()"
   ]
  },
  {
   "cell_type": "code",
   "execution_count": null,
   "metadata": {
    "id": "nQovYOcd7pb4"
   },
   "outputs": [],
   "source": [
    "model16.compile(loss='categorical_crossentropy',optimizer='SGD',metrics=['accuracy'])"
   ]
  },
  {
   "cell_type": "code",
   "execution_count": null,
   "metadata": {
    "colab": {
     "base_uri": "https://localhost:8080/"
    },
    "id": "8eVt0XnP71XY",
    "outputId": "16ba2886-b813-4625-ce57-e88a62791fe7"
   },
   "outputs": [],
   "source": [
    "model16.fit(x_train,y_train,batch_size=batch_size,epochs=10,verbose=2)"
   ]
  },
  {
   "cell_type": "code",
   "execution_count": null,
   "metadata": {
    "colab": {
     "base_uri": "https://localhost:8080/"
    },
    "id": "Pf0MixArXY7e",
    "outputId": "79a5f70f-f56a-40a1-eb6f-b6ab922ef8d4"
   },
   "outputs": [],
   "source": [
    "score = model16.evaluate(x_test, y_test, verbose=0)\n",
    "print('Test loss:', score[0])\n",
    "print('Test accuracy:', score[1])"
   ]
  },
  {
   "cell_type": "markdown",
   "metadata": {
    "id": "6oUUJ-bL9_Q5"
   },
   "source": [
    "### 7. L1, L2 Regularization: Run neural network with 3 hidden layer, 128 nodes each (with any optimizer) with relu activation function for all layers, for 10 epochs. Add L1 regularization to each layer and see the change in the training and testing accuracies. Change in the Lambda parameter in L1 regularization with smaller and bigger numbers and see the change in accuracies. Instead of L1, now do it with L2. What is the effect? "
   ]
  },
  {
   "cell_type": "code",
   "execution_count": null,
   "metadata": {
    "colab": {
     "base_uri": "https://localhost:8080/"
    },
    "id": "evmdLYED9gVK",
    "outputId": "aa6103bc-ea7f-4479-84cd-768eed950f35"
   },
   "outputs": [],
   "source": [
    "model19 = Sequential()\n",
    "model19.add(Dense(128, activation='relu', input_shape=(784,)))\n",
    "model19.add(Dense(128, activation='relu',kernel_regularizer='l1'))\n",
    "model19.add(Dense(128, activation='relu',kernel_regularizer='l1'))\n",
    "model19.add(Dense(128, activation='relu',kernel_regularizer='l1'))\n",
    "model19.add(Dense(num_classes, activation='softmax'))\n",
    "\n",
    "model19.summary()"
   ]
  },
  {
   "cell_type": "code",
   "execution_count": null,
   "metadata": {
    "id": "R3HH9oqz-I61"
   },
   "outputs": [],
   "source": [
    "model19.compile(loss='categorical_crossentropy',optimizer='SGD',metrics=['accuracy'])"
   ]
  },
  {
   "cell_type": "code",
   "execution_count": null,
   "metadata": {
    "colab": {
     "base_uri": "https://localhost:8080/"
    },
    "id": "JNTNvH0Y-Tg7",
    "outputId": "48f98484-465d-45ac-c547-832327301f72"
   },
   "outputs": [],
   "source": [
    "model19.fit(x_train,y_train,batch_size=batch_size,epochs=10,verbose=2)"
   ]
  },
  {
   "cell_type": "code",
   "execution_count": null,
   "metadata": {
    "colab": {
     "base_uri": "https://localhost:8080/"
    },
    "id": "DLxtusnd-W7Q",
    "outputId": "a8da15cf-3d1b-405c-b4e9-6ee395b460e1"
   },
   "outputs": [],
   "source": [
    "score = model19.evaluate(x_test, y_test, verbose=0)\n",
    "print('Test loss:', score[0])\n",
    "print('Test accuracy:', score[1])"
   ]
  },
  {
   "cell_type": "markdown",
   "metadata": {
    "id": "I9wjj-5r_Khd"
   },
   "source": [
    "### 8. Dropout Regularization: Run neural network with 3 hidden layer, 128 nodes each (with any optimizer) with relu activation function for all layers, for 10 epochs. Add dropout layer in between the hidden layers and see the change in the training and testing accuracies. Change in the dropout rate in layers with smaller and bigger numbers and see the change in accuracies. "
   ]
  },
  {
   "cell_type": "code",
   "execution_count": null,
   "metadata": {
    "colab": {
     "base_uri": "https://localhost:8080/"
    },
    "id": "ptR2gUBo_NUj",
    "outputId": "990c1557-8f93-4299-934c-15c821753ab9"
   },
   "outputs": [],
   "source": [
    "model21 = Sequential()\n",
    "model21.add(Dense(128, activation='relu', input_shape=(784,)))\n",
    "model21.add(Dropout(0.4))\n",
    "model21.add(Dense(128, activation='relu',kernel_regularizer='l2'))\n",
    "model21.add(Dropout(0.4))\n",
    "model21.add(Dense(128, activation='relu',kernel_regularizer='l2'))\n",
    "model21.add(Dropout(0.4))\n",
    "model21.add(Dense(128, activation='relu',kernel_regularizer='l2'))\n",
    "model21.add(Dropout(0.4))\n",
    "model21.add(Dense(num_classes, activation='softmax'))\n",
    "\n",
    "model21.summary()"
   ]
  },
  {
   "cell_type": "code",
   "execution_count": null,
   "metadata": {
    "id": "pKBN-22d_7Km"
   },
   "outputs": [],
   "source": [
    "model21.compile(loss='categorical_crossentropy',optimizer='adam',metrics=['accuracy'])"
   ]
  },
  {
   "cell_type": "code",
   "execution_count": null,
   "metadata": {
    "colab": {
     "base_uri": "https://localhost:8080/"
    },
    "id": "5kBlmCdb_9q7",
    "outputId": "27891eb6-b406-41c1-f30e-c34153df55a2"
   },
   "outputs": [],
   "source": [
    "model21.fit(x_train,y_train,batch_size=batch_size,epochs=10,verbose=2)"
   ]
  },
  {
   "cell_type": "code",
   "execution_count": null,
   "metadata": {
    "colab": {
     "base_uri": "https://localhost:8080/"
    },
    "id": "TZXioSjKAn3E",
    "outputId": "ad7f0ba6-225b-43be-8169-b283e87230a8"
   },
   "outputs": [],
   "source": [
    "score = model21.evaluate(x_test, y_test, verbose=0)\n",
    "print('Test loss:', score[0])\n",
    "print('Test accuracy:', score[1])"
   ]
  },
  {
   "cell_type": "markdown",
   "metadata": {
    "id": "66v_11ZQBbk8"
   },
   "source": [
    "### 9. Input Size: Run neural network with 3 hidden layer, 128 nodes each (with any optimizer) with relu activation function for all layers, for 10 epochs. Instead of 28*28 now run different model with Digit images in 56*56, 112*112 and 224*224 sizes. Print how the model size and accuracies change? "
   ]
  },
  {
   "cell_type": "code",
   "execution_count": null,
   "metadata": {
    "id": "cz40Lo3QQUqo"
   },
   "outputs": [],
   "source": [
    "(x_train, y_train), (x_test, y_test) = mnist.load_data()\n",
    "\n",
    "batch_size = 128\n",
    "num_classes = 10\n",
    "epochs = 2\n",
    "\n",
    "y_train = to_categorical(y_train, num_classes)\n",
    "y_test = to_categorical(y_test, num_classes)"
   ]
  },
  {
   "cell_type": "code",
   "execution_count": null,
   "metadata": {
    "id": "idstZpumBMnL"
   },
   "outputs": [],
   "source": [
    "x_train56=[]\n",
    "x_test56=[]\n",
    "\n",
    "for i in range(len(x_train)):\n",
    "  im = Image.fromarray(x_train[i])\n",
    "  im = im.resize((56,56))\n",
    "  im = np.array(im)\n",
    "  x_train56.append(im)\n",
    "\n",
    "for j in range(len(x_test)):\n",
    "  im = Image.fromarray(x_test[j])\n",
    "  im = im.resize((56,56))\n",
    "  im = np.array(im)\n",
    "  x_test56.append(im)\n",
    "\n",
    "x_train56 = np.array(x_train56)\n",
    "x_test56 = np.array(x_test56) "
   ]
  },
  {
   "cell_type": "code",
   "execution_count": null,
   "metadata": {
    "id": "o9RIjn-cCGpE"
   },
   "outputs": [],
   "source": [
    "x_train56 = x_train56.reshape(x_train56.shape[0],3136 )\n",
    "x_test56 = x_test56.reshape(x_test56.shape[0],3136)\n",
    "\n",
    "#convert to float32 type \n",
    "x_train56 = x_train56.astype('float32')\n",
    "x_test56 = x_test56.astype('float32')\n",
    "\n",
    "# Normalize to 0 to 1 range\n",
    "x_train56 /= 255\n",
    "x_test56 /= 255"
   ]
  },
  {
   "cell_type": "code",
   "execution_count": null,
   "metadata": {
    "colab": {
     "base_uri": "https://localhost:8080/"
    },
    "id": "pp0jMK8GTIw-",
    "outputId": "c78e3953-5d92-41d8-fc10-a20cb95dc126"
   },
   "outputs": [],
   "source": [
    "print(x_train56.shape, 'train shape')\n",
    "print(x_test56.shape, 'test shape')"
   ]
  },
  {
   "cell_type": "code",
   "execution_count": null,
   "metadata": {
    "colab": {
     "base_uri": "https://localhost:8080/"
    },
    "id": "dzDrKGMVTLU-",
    "outputId": "9bc00aa3-6431-4569-a4eb-b45bf9f4dfab"
   },
   "outputs": [],
   "source": [
    "model56 = Sequential()\n",
    "model56.add(Dense(128, activation='sigmoid', input_shape=(3136,)))\n",
    "model56.add(Dense(128, activation='relu'))\n",
    "model56.add(Dense(128, activation='relu'))\n",
    "model56.add(Dense(128, activation='relu'))\n",
    "model56.add(Dense(num_classes, activation='softmax'))\n",
    "\n",
    "model56.summary()"
   ]
  },
  {
   "cell_type": "code",
   "execution_count": null,
   "metadata": {
    "id": "1GE54XKMTXAY"
   },
   "outputs": [],
   "source": [
    "model56.compile(loss='categorical_crossentropy',optimizer='adam',metrics=['accuracy'])"
   ]
  },
  {
   "cell_type": "code",
   "execution_count": null,
   "metadata": {
    "colab": {
     "base_uri": "https://localhost:8080/"
    },
    "id": "rPOXEDhITgAw",
    "outputId": "dd7629f7-ac61-4d18-888b-5cb186b97bf2"
   },
   "outputs": [],
   "source": [
    "model56.fit(x_train56,y_train,batch_size=batch_size,epochs=10,verbose=2)"
   ]
  },
  {
   "cell_type": "code",
   "execution_count": null,
   "metadata": {
    "colab": {
     "base_uri": "https://localhost:8080/"
    },
    "id": "HDPPvphGfUKy",
    "outputId": "cf790ffe-4f47-4cc8-94de-65008356be57"
   },
   "outputs": [],
   "source": [
    "score = model56.evaluate(x_test56, y_test, verbose=0)\n",
    "print('Test loss:', score[0])\n",
    "print('Test accuracy:', score[1])"
   ]
  },
  {
   "cell_type": "markdown",
   "metadata": {
    "id": "bIOKnr7DVhlc"
   },
   "source": [
    "### 10. Dataset Split: Instead of 60k images of training and 10k images for testing, run different models with different training and testing sizes, and see the changes in the accuracies. "
   ]
  },
  {
   "cell_type": "code",
   "execution_count": null,
   "metadata": {
    "id": "fgkwYBlc8Gy9"
   },
   "outputs": [],
   "source": [
    "(x_train, y_train), (x_test, y_test) = mnist.load_data()\n",
    "\n",
    "batch_size = 128\n",
    "num_classes = 10\n",
    "epochs = 2"
   ]
  },
  {
   "cell_type": "code",
   "execution_count": null,
   "metadata": {
    "id": "gC61vmRG8Gy9"
   },
   "outputs": [],
   "source": [
    "a = x_train.flatten() \n",
    "b = x_test.flatten()\n",
    "\n",
    "X=np.concatenate((a,b))\n",
    "y=np.concatenate((y_train,y_test))\n",
    "\n",
    "X = X.reshape(70000,784)"
   ]
  },
  {
   "cell_type": "code",
   "execution_count": null,
   "metadata": {
    "id": "RD28OnNy8Gy-"
   },
   "outputs": [],
   "source": [
    "x_train, x_test, y_train, y_test = train_test_split(X, y, train_size=0.75,test_size=0.25)"
   ]
  },
  {
   "cell_type": "code",
   "execution_count": null,
   "metadata": {
    "colab": {
     "base_uri": "https://localhost:8080/"
    },
    "id": "pbparD-38Gy-",
    "outputId": "daf5b31e-3cd5-4558-942b-4c48cc84fa6b"
   },
   "outputs": [],
   "source": [
    "print(x_train.shape)\n",
    "print(x_test.shape)\n",
    "print(y_train.shape)\n",
    "print(y_test.shape)"
   ]
  },
  {
   "cell_type": "code",
   "execution_count": null,
   "metadata": {
    "id": "ZA0fuAm_8Gy-"
   },
   "outputs": [],
   "source": [
    "y_train = to_categorical(y_train, num_classes)\n",
    "y_test = to_categorical(y_test, num_classes)"
   ]
  },
  {
   "cell_type": "code",
   "execution_count": null,
   "metadata": {
    "colab": {
     "base_uri": "https://localhost:8080/"
    },
    "id": "um6NWmsc8Gy-",
    "outputId": "b7ae9127-8604-4ebb-9c34-1041f3ad809a"
   },
   "outputs": [],
   "source": [
    "y_train.shape"
   ]
  },
  {
   "cell_type": "code",
   "execution_count": null,
   "metadata": {
    "colab": {
     "base_uri": "https://localhost:8080/"
    },
    "id": "cJie50xV8Gy-",
    "outputId": "826adfe9-1fb4-4065-91ed-c315a29cbd27"
   },
   "outputs": [],
   "source": [
    "y_test.shape"
   ]
  },
  {
   "cell_type": "code",
   "execution_count": null,
   "metadata": {
    "colab": {
     "base_uri": "https://localhost:8080/"
    },
    "id": "52z7NLXa8Gy_",
    "outputId": "618e7947-d26a-4196-b4f1-464212404db6"
   },
   "outputs": [],
   "source": [
    "model_splt = Sequential()\n",
    "model_splt.add(Dense(512, activation='sigmoid', input_shape=(784,)))\n",
    "model_splt.add(Dense(256, activation='sigmoid'))\n",
    "model_splt.add(Dense(128, activation='sigmoid'))\n",
    "model_splt.add(Dense(64, activation='sigmoid'))\n",
    "model_splt.add(Dense(num_classes, activation='softmax'))\n",
    "\n",
    "model_splt.summary()"
   ]
  },
  {
   "cell_type": "code",
   "execution_count": null,
   "metadata": {
    "id": "IBLI8kEI8Gy_"
   },
   "outputs": [],
   "source": [
    "model_splt.compile(loss='categorical_crossentropy',optimizer=RMSprop(),metrics=['accuracy'])"
   ]
  },
  {
   "cell_type": "code",
   "execution_count": null,
   "metadata": {
    "colab": {
     "base_uri": "https://localhost:8080/"
    },
    "id": "WPJEeyN08Gy_",
    "outputId": "5f4aeab2-8149-4667-ce73-3cb7c95206ea"
   },
   "outputs": [],
   "source": [
    "model_splt.fit(x_train,y_train,batch_size=batch_size,epochs=10,verbose=2)"
   ]
  },
  {
   "cell_type": "code",
   "execution_count": null,
   "metadata": {
    "colab": {
     "base_uri": "https://localhost:8080/"
    },
    "id": "gBGDnWXN8Gy_",
    "outputId": "d169f0df-a666-48ab-8827-20b6f5c85661"
   },
   "outputs": [],
   "source": [
    "score = model_splt.evaluate(x_test, y_test, verbose=0)\n",
    "print('Test loss:', score[0])\n",
    "print('Test accuracy:', score[1])"
   ]
  },
  {
   "cell_type": "code",
   "execution_count": null,
   "metadata": {
    "id": "bOzMZnw8JcVq"
   },
   "outputs": [],
   "source": [
    "(x_train, y_train), (x_test, y_test) = mnist.load_data()\n",
    "\n",
    "batch_size = 128\n",
    "num_classes = 10\n",
    "epochs = 2"
   ]
  },
  {
   "cell_type": "code",
   "execution_count": null,
   "metadata": {
    "id": "3d7gPN_2fUK7"
   },
   "outputs": [],
   "source": [
    "a = x_train.flatten() \n",
    "b = x_test.flatten()\n",
    "\n",
    "X=np.concatenate((a,b))\n",
    "y=np.concatenate((y_train,y_test))\n",
    "\n",
    "X = X.reshape(70000,784)"
   ]
  },
  {
   "cell_type": "code",
   "execution_count": null,
   "metadata": {
    "id": "qFpaXVTjfUK7"
   },
   "outputs": [],
   "source": [
    "x_train, x_test, y_train, y_test = train_test_split(X, y, train_size=0.65,test_size=0.35)"
   ]
  },
  {
   "cell_type": "code",
   "execution_count": null,
   "metadata": {
    "colab": {
     "base_uri": "https://localhost:8080/"
    },
    "id": "FQp-nZR9fUK7",
    "outputId": "d418ef0f-021b-4a67-c0f5-3ff8adc31326"
   },
   "outputs": [],
   "source": [
    "print(x_train.shape)\n",
    "print(x_test.shape)\n",
    "print(y_train.shape)\n",
    "print(y_test.shape)"
   ]
  },
  {
   "cell_type": "code",
   "execution_count": null,
   "metadata": {
    "id": "V-aASDhJfUK8"
   },
   "outputs": [],
   "source": [
    "y_train = to_categorical(y_train, num_classes)\n",
    "y_test = to_categorical(y_test, num_classes)"
   ]
  },
  {
   "cell_type": "code",
   "execution_count": null,
   "metadata": {
    "colab": {
     "base_uri": "https://localhost:8080/"
    },
    "id": "RlLGG77WfUK9",
    "outputId": "5a7444e1-f9d6-4bf2-979b-eea92d59c56a"
   },
   "outputs": [],
   "source": [
    "y_train.shape"
   ]
  },
  {
   "cell_type": "code",
   "execution_count": null,
   "metadata": {
    "colab": {
     "base_uri": "https://localhost:8080/"
    },
    "id": "dnbFSkVcfUK9",
    "outputId": "fd0a172b-1212-498b-ef26-ad0b2eb2516d"
   },
   "outputs": [],
   "source": [
    "y_test.shape"
   ]
  }
 ],
 "metadata": {
  "colab": {
   "collapsed_sections": [],
   "name": "PDL_LAB_11_Mahalakshmi18_.ipynb",
   "provenance": []
  },
  "kernelspec": {
   "display_name": "Python 3",
   "language": "python",
   "name": "python3"
  },
  "language_info": {
   "codemirror_mode": {
    "name": "ipython",
    "version": 3
   },
   "file_extension": ".py",
   "mimetype": "text/x-python",
   "name": "python",
   "nbconvert_exporter": "python",
   "pygments_lexer": "ipython3",
   "version": "3.8.8"
  }
 },
 "nbformat": 4,
 "nbformat_minor": 1
}
