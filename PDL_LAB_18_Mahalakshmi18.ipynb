{
  "nbformat": 4,
  "nbformat_minor": 0,
  "metadata": {
    "accelerator": "GPU",
    "colab": {
      "name": "PDL_LAB-18_Mahalakshmi18.ipynb",
      "provenance": [],
      "collapsed_sections": []
    },
    "kernelspec": {
      "display_name": "Python 3",
      "language": "python",
      "name": "python3"
    },
    "language_info": {
      "codemirror_mode": {
        "name": "ipython",
        "version": 3
      },
      "file_extension": ".py",
      "mimetype": "text/x-python",
      "name": "python",
      "nbconvert_exporter": "python",
      "pygments_lexer": "ipython3",
      "version": "3.8.8"
    }
  },
  "cells": [
    {
      "cell_type": "markdown",
      "metadata": {
        "id": "q4cO1fUgyOKH"
      },
      "source": [
        "# 205229118\n",
        "# Mahalakshmi S"
      ]
    },
    {
      "cell_type": "markdown",
      "metadata": {
        "id": "BN3j0kXPBdNE"
      },
      "source": [
        "# Lab18. Multi Class Text Classification using LSTM and Bidirectional LSTM \n",
        "\n"
      ]
    },
    {
      "cell_type": "markdown",
      "metadata": {
        "id": "pfRNt9ngCEQL"
      },
      "source": [
        "## Import libraries"
      ]
    },
    {
      "cell_type": "code",
      "metadata": {
        "colab": {
          "base_uri": "https://localhost:8080/"
        },
        "id": "iL_J2QBTBItf",
        "outputId": "f3bdf549-4e6c-4592-ac23-26723978f98b"
      },
      "source": [
        "import tensorflow as tf\n",
        "import numpy as np\n",
        "import pandas as pd\n",
        "import matplotlib.pyplot as plt\n",
        "import nltk \n",
        "from sklearn.preprocessing import LabelEncoder\n",
        "from tensorflow.keras.preprocessing.text import Tokenizer\n",
        "from tensorflow.keras.preprocessing.sequence import pad_sequences\n",
        "from keras.models import Sequential\n",
        "from keras.layers import Dense, Embedding,SimpleRNN,LSTM,Bidirectional\n",
        "from tensorflow.keras.utils import to_categorical\n",
        "from nltk.corpus import stopwords\n",
        "nltk.download('stopwords')\n",
        "\",\".join(stopwords.words('english'))\n",
        "STOPWORDS = set(stopwords.words('english'))\n",
        "from sklearn.model_selection import train_test_split"
      ],
      "execution_count": 39,
      "outputs": [
        {
          "output_type": "stream",
          "name": "stdout",
          "text": [
            "[nltk_data] Downloading package stopwords to /root/nltk_data...\n",
            "[nltk_data]   Package stopwords is already up-to-date!\n"
          ]
        }
      ]
    },
    {
      "cell_type": "markdown",
      "metadata": {
        "id": "pYONEi2HCUOu"
      },
      "source": [
        "## Pre-processing the Text: \n",
        "Apply basic NLP pre-processing techniques such as \n",
        "conversion to lower case and removal of special characters. Then, each \n",
        "sentence has to be converted into sequence of numbers which can be fed into \n",
        "the embedding layer."
      ]
    },
    {
      "cell_type": "code",
      "metadata": {
        "colab": {
          "base_uri": "https://localhost:8080/",
          "height": 203
        },
        "id": "Kvci7Do8CM-x",
        "outputId": "0e5afbea-4965-436e-8cad-d96d2d3abd78"
      },
      "source": [
        "ls = pd.read_csv(\"lstm-lab-dataset.csv\")\n",
        "ls.head()"
      ],
      "execution_count": 40,
      "outputs": [
        {
          "output_type": "execute_result",
          "data": {
            "text/html": [
              "<div>\n",
              "<style scoped>\n",
              "    .dataframe tbody tr th:only-of-type {\n",
              "        vertical-align: middle;\n",
              "    }\n",
              "\n",
              "    .dataframe tbody tr th {\n",
              "        vertical-align: top;\n",
              "    }\n",
              "\n",
              "    .dataframe thead th {\n",
              "        text-align: right;\n",
              "    }\n",
              "</style>\n",
              "<table border=\"1\" class=\"dataframe\">\n",
              "  <thead>\n",
              "    <tr style=\"text-align: right;\">\n",
              "      <th></th>\n",
              "      <th>category</th>\n",
              "      <th>text</th>\n",
              "    </tr>\n",
              "  </thead>\n",
              "  <tbody>\n",
              "    <tr>\n",
              "      <th>0</th>\n",
              "      <td>tech</td>\n",
              "      <td>tv future in the hands of viewers with home th...</td>\n",
              "    </tr>\n",
              "    <tr>\n",
              "      <th>1</th>\n",
              "      <td>business</td>\n",
              "      <td>worldcom boss  left books alone  former worldc...</td>\n",
              "    </tr>\n",
              "    <tr>\n",
              "      <th>2</th>\n",
              "      <td>sport</td>\n",
              "      <td>tigers wary of farrell  gamble  leicester say ...</td>\n",
              "    </tr>\n",
              "    <tr>\n",
              "      <th>3</th>\n",
              "      <td>sport</td>\n",
              "      <td>yeading face newcastle in fa cup premiership s...</td>\n",
              "    </tr>\n",
              "    <tr>\n",
              "      <th>4</th>\n",
              "      <td>entertainment</td>\n",
              "      <td>ocean s twelve raids box office ocean s twelve...</td>\n",
              "    </tr>\n",
              "  </tbody>\n",
              "</table>\n",
              "</div>"
            ],
            "text/plain": [
              "        category                                               text\n",
              "0           tech  tv future in the hands of viewers with home th...\n",
              "1       business  worldcom boss  left books alone  former worldc...\n",
              "2          sport  tigers wary of farrell  gamble  leicester say ...\n",
              "3          sport  yeading face newcastle in fa cup premiership s...\n",
              "4  entertainment  ocean s twelve raids box office ocean s twelve..."
            ]
          },
          "metadata": {},
          "execution_count": 40
        }
      ]
    },
    {
      "cell_type": "code",
      "metadata": {
        "id": "aH53yANXC-1u"
      },
      "source": [
        "y =ls['category']\n",
        "X=[]\n",
        "for review in ls['text']:\n",
        "  filtered_sentence = [w.lower() for w in review.split() if not w in STOPWORDS]\n",
        "  X.append(filtered_sentence)\n",
        "X = pd.Series(X)  "
      ],
      "execution_count": 41,
      "outputs": []
    },
    {
      "cell_type": "markdown",
      "metadata": {
        "id": "VSIGzEJlGtOf"
      },
      "source": [
        "### Dataset Preparation"
      ]
    },
    {
      "cell_type": "code",
      "metadata": {
        "id": "M9BPOn0JGwKv"
      },
      "source": [
        "X_train,X_test,y_train,y_test = train_test_split(X,y,train_size=0.7)"
      ],
      "execution_count": 42,
      "outputs": []
    },
    {
      "cell_type": "code",
      "metadata": {
        "colab": {
          "base_uri": "https://localhost:8080/"
        },
        "id": "BILG_gwzG0Gx",
        "outputId": "f938294a-11cd-46fb-b1ed-17520419f7b0"
      },
      "source": [
        "print(X_train.shape)\n",
        "print(X_test.shape)\n",
        "print(y_train.shape)\n",
        "print(y_test.shape)"
      ],
      "execution_count": 43,
      "outputs": [
        {
          "output_type": "stream",
          "name": "stdout",
          "text": [
            "(1557,)\n",
            "(668,)\n",
            "(1557,)\n",
            "(668,)\n"
          ]
        }
      ]
    },
    {
      "cell_type": "code",
      "metadata": {
        "id": "CkE_6LStVcUL"
      },
      "source": [
        "label_tokenizer = Tokenizer()\n",
        "\n",
        "label_tokenizer.fit_on_texts(y)\n",
        "\n",
        "training_label_seq = np.array(label_tokenizer.texts_to_sequences(y_train))\n",
        "testing_label_seq = np.array(label_tokenizer.texts_to_sequences(y_test))"
      ],
      "execution_count": 44,
      "outputs": []
    },
    {
      "cell_type": "code",
      "metadata": {
        "colab": {
          "base_uri": "https://localhost:8080/"
        },
        "id": "lJ0ggUzYWwda",
        "outputId": "bd4f7009-b9dc-440d-c8de-802e17916a9e"
      },
      "source": [
        "print(training_label_seq.shape)"
      ],
      "execution_count": 45,
      "outputs": [
        {
          "output_type": "stream",
          "name": "stdout",
          "text": [
            "(1557, 1)\n"
          ]
        }
      ]
    },
    {
      "cell_type": "code",
      "metadata": {
        "colab": {
          "base_uri": "https://localhost:8080/"
        },
        "id": "yMj_phroyxuj",
        "outputId": "71b93187-02c3-4a7e-aa3d-e63926f2c724"
      },
      "source": [
        "print(testing_label_seq.shape)"
      ],
      "execution_count": 46,
      "outputs": [
        {
          "output_type": "stream",
          "name": "stdout",
          "text": [
            "(668, 1)\n"
          ]
        }
      ]
    },
    {
      "cell_type": "code",
      "metadata": {
        "id": "dv-P6V7TGSyO"
      },
      "source": [
        "train_token = Tokenizer(num_words=5000,oov_token='<oov>')\n",
        "train_token.fit_on_texts(X_train)\n",
        "word_index = train_token.word_index\n",
        "train_sequence = train_token.texts_to_sequences(X_train)"
      ],
      "execution_count": 47,
      "outputs": []
    },
    {
      "cell_type": "code",
      "metadata": {
        "colab": {
          "base_uri": "https://localhost:8080/"
        },
        "id": "RpzOsCmvyzb5",
        "outputId": "2112aa38-f67d-47b5-9821-51b352a4fe90"
      },
      "source": [
        "dict(list(word_index.items())[0:10])"
      ],
      "execution_count": 48,
      "outputs": [
        {
          "output_type": "execute_result",
          "data": {
            "text/plain": [
              "{'-': 3,\n",
              " '<oov>': 1,\n",
              " 'also': 6,\n",
              " 'mr': 4,\n",
              " 'new': 8,\n",
              " 'one': 10,\n",
              " 'people': 7,\n",
              " 'said': 2,\n",
              " 'us': 9,\n",
              " 'would': 5}"
            ]
          },
          "metadata": {},
          "execution_count": 48
        }
      ]
    },
    {
      "cell_type": "code",
      "metadata": {
        "id": "jWnPF3prIIdG"
      },
      "source": [
        "train_padded = pad_sequences(train_sequence,maxlen=300,padding='post')"
      ],
      "execution_count": 49,
      "outputs": []
    },
    {
      "cell_type": "code",
      "metadata": {
        "colab": {
          "base_uri": "https://localhost:8080/"
        },
        "id": "JT1lvGbyLVrK",
        "outputId": "801e89d3-fea4-4cdc-cfac-3193302f094a"
      },
      "source": [
        "train_padded.shape"
      ],
      "execution_count": 50,
      "outputs": [
        {
          "output_type": "execute_result",
          "data": {
            "text/plain": [
              "(1557, 300)"
            ]
          },
          "metadata": {},
          "execution_count": 50
        }
      ]
    },
    {
      "cell_type": "code",
      "metadata": {
        "colab": {
          "base_uri": "https://localhost:8080/"
        },
        "id": "-H0zz2YYITk1",
        "outputId": "6ffa26eb-6653-4fb0-e093-c7f8001f38e9"
      },
      "source": [
        "train_padded[5]"
      ],
      "execution_count": 51,
      "outputs": [
        {
          "output_type": "execute_result",
          "data": {
            "text/plain": [
              "array([  79,   51, 2377, 2767,  398,   79, 1191,   95, 2377, 2880, 2454,\n",
              "       2767,    1, 1192, 1824,    1,   35,    4, 2454,   51, 2559, 3002,\n",
              "        609, 1773,  971, 2378,   27,    1, 1867, 4019,   17,    4,   79,\n",
              "         24,  102,    1, 2560,    1,  386, 2767,  158, 1476,    4, 2454,\n",
              "          2, 3002,   44, 4833, 1932,    2,    5, 2767,   76,  223,   87,\n",
              "       4834,    4,   79,    1, 2455,    4, 2454,   35,   49,  898,  545,\n",
              "         21,   95, 2377,   66,    1,  151,    9,  984,   23, 2651, 1986,\n",
              "         21,   21, 3810, 2378, 1824, 2378, 3131, 2767,   11,  386, 2767,\n",
              "        158,    3, 2768, 4260,  282,  233,  190,  145,  431,    4, 2454,\n",
              "          1, 3003,    2,  251, 1324,    1, 1452, 1933,  611,  251,   23,\n",
              "        451,   85, 1324,  909,    1,    1,  417,  278,   11,   57,  872,\n",
              "          1, 1415,   35, 2166, 2880, 2454,    2, 3436,  612,    2,  586,\n",
              "         11,   57,  872,  129,    1, 1114,    1,    4, 2454, 4261, 1773,\n",
              "        971, 3605, 2168,    1,  218,   49,    1, 3811, 2295,   96, 1776,\n",
              "        295, 1295,  849,  345,  116,   15,    1,    1,    1,    4, 2454,\n",
              "        587,    1,    1,    1, 1413, 1868, 1701,    4,    1,  576,  502,\n",
              "       1016,   17,    4,    1,    1, 1824,  576,  502,    1,  575,    1,\n",
              "        783, 2377,    1,    1,  138,   45,  327,  871,   27,    1, 1867,\n",
              "       4019,  619, 3437,  670,  565,  476,    4, 2454,    2,  707, 1932,\n",
              "       1138,    1,   57, 1932,   57,  860,   24,    1, 3004,  447,    1,\n",
              "        175,  128,  661,  514,  835,    1,  629, 3274,   95,  402,    1,\n",
              "       1193,  613, 2456,   25,  266,   19,    1,   84,    1,    1, 1588,\n",
              "       1098,  671, 2379,  346, 4262, 3126,    4, 2454,   65, 3005,    0,\n",
              "          0,    0,    0,    0,    0,    0,    0,    0,    0,    0,    0,\n",
              "          0,    0,    0,    0,    0,    0,    0,    0,    0,    0,    0,\n",
              "          0,    0,    0,    0,    0,    0,    0,    0,    0,    0,    0,\n",
              "          0,    0,    0,    0,    0,    0,    0,    0,    0,    0,    0,\n",
              "          0,    0,    0], dtype=int32)"
            ]
          },
          "metadata": {},
          "execution_count": 51
        }
      ]
    },
    {
      "cell_type": "code",
      "metadata": {
        "id": "t9b7tlCDHL8S"
      },
      "source": [
        "test_token = Tokenizer(num_words=5000,oov_token='<oov>')\n",
        "test_token.fit_on_texts(X_test)\n",
        "word_index = test_token.word_index\n",
        "test_sequence = test_token.texts_to_sequences(X_test)"
      ],
      "execution_count": 52,
      "outputs": []
    },
    {
      "cell_type": "code",
      "metadata": {
        "colab": {
          "base_uri": "https://localhost:8080/"
        },
        "id": "a7bKNV1hy3on",
        "outputId": "35957175-e482-45ff-d381-de1589a39ddc"
      },
      "source": [
        "dict(list(word_index.items())[0:10])"
      ],
      "execution_count": 53,
      "outputs": [
        {
          "output_type": "execute_result",
          "data": {
            "text/plain": [
              "{'-': 3,\n",
              " '<oov>': 1,\n",
              " 'also': 6,\n",
              " 'mr': 4,\n",
              " 'new': 7,\n",
              " 'one': 9,\n",
              " 'people': 8,\n",
              " 'said': 2,\n",
              " 'us': 10,\n",
              " 'would': 5}"
            ]
          },
          "metadata": {},
          "execution_count": 53
        }
      ]
    },
    {
      "cell_type": "code",
      "metadata": {
        "id": "fefv1vO1IJuV"
      },
      "source": [
        "test_padded = pad_sequences(test_sequence,maxlen=300,padding='post')"
      ],
      "execution_count": 54,
      "outputs": []
    },
    {
      "cell_type": "code",
      "metadata": {
        "colab": {
          "base_uri": "https://localhost:8080/"
        },
        "id": "FvIiGWM7LZE3",
        "outputId": "f354d057-e87e-4a69-9483-892bdae13d69"
      },
      "source": [
        "test_padded.shape"
      ],
      "execution_count": 55,
      "outputs": [
        {
          "output_type": "execute_result",
          "data": {
            "text/plain": [
              "(668, 300)"
            ]
          },
          "metadata": {},
          "execution_count": 55
        }
      ]
    },
    {
      "cell_type": "code",
      "metadata": {
        "colab": {
          "base_uri": "https://localhost:8080/"
        },
        "id": "a91FDZ6kJERs",
        "outputId": "5f1e766f-1051-4b3a-9783-66d7f2948906"
      },
      "source": [
        "test_padded[5]"
      ],
      "execution_count": 56,
      "outputs": [
        {
          "output_type": "execute_result",
          "data": {
            "text/plain": [
              "array([ 921,  411,   38,  194, 3334,  188,   38,    1,  121,   21,  467,\n",
              "          1,    1,   74,  323,   70, 3335,  194, 3336, 2363,  921,  879,\n",
              "          4,   38,   24,   27,  391,  495,  919,  302,   96, 2364,   18,\n",
              "        560,  921,   24,   39,    1, 1628, 2365, 2560,   51,  467,    1,\n",
              "         51, 2365,  637, 2561,    5, 1930,  598,   88,    1,    1,   46,\n",
              "        166,    1,  922,   74,    1,  106,   47,    1,   27, 2562, 3003,\n",
              "        719,    1,  680,  109,  800,   88, 2068, 4768,  777,  155,  923,\n",
              "        778,  699,   76,  652, 1536,  170, 2069,  233,  800,    1,  390,\n",
              "          4,   38,   35, 4769, 4770,   13, 3337, 1456,  181, 1343, 3338,\n",
              "        875, 1457,   86,  924,    1, 2563,  538, 2366, 4146,  401, 1402,\n",
              "       4771,    1,    1,   18,  561, 1002,    1, 1629,  562,  287,  109,\n",
              "        562,  110,    8,  110, 1630,    4,   38,    2,  189,   86, 4147,\n",
              "        273,  144,    4,  623,    5,  466,  194,   16,   27,   16,  109,\n",
              "        779,   37,  138,  539,   18,  560,  921,  475,    4,   38,  720,\n",
              "        355, 1631, 3334, 2367, 1931, 2070,    1,    1,  719,   27, 3004,\n",
              "         51,   51,  801,    1,   24,   39, 2368,  194, 3336, 2071,   27,\n",
              "         89,    7, 2219,    1,    2,    4,   38, 1932,  477,    5,   40,\n",
              "          1, 1714,    1,  560,  921, 1458, 1930,  719,  880,  598,   88,\n",
              "          1,    1,   46,  103,  194,    1,  166,    1,    2,   88,   11,\n",
              "         61,  522,    1, 4772,  198, 1344,  638,  219, 3005,    2, 3712,\n",
              "       1810,    1,    1, 1457,  166,    1,  581,  334,  961,  229,  496,\n",
              "        623,   76,  660,    4,   38, 1933, 2564, 4773,  680, 1811,    4,\n",
              "        623,    1,  334,  961,   74, 4774,  134,    1,  634, 1537, 1459,\n",
              "          1,    1,    1,    1,    1,   35,    1, 3006, 1003, 2072, 1717,\n",
              "         27,  402,    1, 2565, 2220, 2073,    3, 1632,  218,  661,    3,\n",
              "          1, 4775,  402, 1038, 1176,  523,  310, 2221,  334,  681,    1,\n",
              "          4,   38,  203,    1,  800,   27, 4776,  136,    1,   86,    1,\n",
              "          0,    0,    0], dtype=int32)"
            ]
          },
          "metadata": {},
          "execution_count": 56
        }
      ]
    },
    {
      "cell_type": "code",
      "metadata": {
        "id": "8MVd_jeEMBey"
      },
      "source": [
        "vocab_size = 5000\n",
        "embedding_dim = 64\n",
        "max_length = 200\n",
        "padding_type = 'post'\n",
        "oov_tok = '<OOV>'"
      ],
      "execution_count": 57,
      "outputs": []
    },
    {
      "cell_type": "markdown",
      "metadata": {
        "id": "NXMyeIGFH_U0"
      },
      "source": [
        "### Model Creation"
      ]
    },
    {
      "cell_type": "code",
      "metadata": {
        "id": "mnB0bHP3H7tU"
      },
      "source": [
        "model = Sequential()\n",
        "model.add(Embedding(vocab_size, embedding_dim))\n",
        "model.add(LSTM(embedding_dim))\n",
        "model.add(Dense(embedding_dim, activation='tanh'))\n",
        "model.add(Dense(6,activation='softmax'))"
      ],
      "execution_count": 58,
      "outputs": []
    },
    {
      "cell_type": "code",
      "metadata": {
        "colab": {
          "base_uri": "https://localhost:8080/"
        },
        "id": "VC3ft4TD5Q5k",
        "outputId": "f06fea88-6728-4e8d-e57b-68541bb2df1b"
      },
      "source": [
        "model.summary()"
      ],
      "execution_count": 59,
      "outputs": [
        {
          "output_type": "stream",
          "name": "stdout",
          "text": [
            "Model: \"sequential_3\"\n",
            "_________________________________________________________________\n",
            "Layer (type)                 Output Shape              Param #   \n",
            "=================================================================\n",
            "embedding_3 (Embedding)      (None, None, 64)          320000    \n",
            "_________________________________________________________________\n",
            "lstm_6 (LSTM)                (None, 64)                33024     \n",
            "_________________________________________________________________\n",
            "dense_6 (Dense)              (None, 64)                4160      \n",
            "_________________________________________________________________\n",
            "dense_7 (Dense)              (None, 6)                 390       \n",
            "=================================================================\n",
            "Total params: 357,574\n",
            "Trainable params: 357,574\n",
            "Non-trainable params: 0\n",
            "_________________________________________________________________\n"
          ]
        }
      ]
    },
    {
      "cell_type": "code",
      "metadata": {
        "id": "J3DFQbUQOuuG"
      },
      "source": [
        "model.compile(optimizer='adam',loss='sparse_categorical_crossentropy',metrics=['accuracy'])"
      ],
      "execution_count": 60,
      "outputs": []
    },
    {
      "cell_type": "code",
      "metadata": {
        "colab": {
          "base_uri": "https://localhost:8080/"
        },
        "id": "3ste3ObpPXiM",
        "outputId": "4a15a818-1f2c-4bec-f3e7-2452520bab9e"
      },
      "source": [
        "history=model.fit(train_padded,training_label_seq,validation_data=(test_padded,testing_label_seq),batch_size=20,epochs=10,verbose=2)"
      ],
      "execution_count": 61,
      "outputs": [
        {
          "output_type": "stream",
          "name": "stdout",
          "text": [
            "Epoch 1/10\n",
            "78/78 - 7s - loss: 1.6470 - accuracy: 0.2184 - val_loss: 1.6100 - val_accuracy: 0.2470\n",
            "Epoch 2/10\n",
            "78/78 - 5s - loss: 1.5592 - accuracy: 0.2672 - val_loss: 1.5782 - val_accuracy: 0.2635\n",
            "Epoch 3/10\n",
            "78/78 - 5s - loss: 1.3828 - accuracy: 0.3809 - val_loss: 2.3357 - val_accuracy: 0.1961\n",
            "Epoch 4/10\n",
            "78/78 - 5s - loss: 1.1888 - accuracy: 0.4284 - val_loss: 1.9768 - val_accuracy: 0.2156\n",
            "Epoch 5/10\n",
            "78/78 - 5s - loss: 1.0950 - accuracy: 0.4560 - val_loss: 2.4633 - val_accuracy: 0.1991\n",
            "Epoch 6/10\n",
            "78/78 - 5s - loss: 1.2921 - accuracy: 0.4271 - val_loss: 1.6476 - val_accuracy: 0.2186\n",
            "Epoch 7/10\n",
            "78/78 - 5s - loss: 1.3320 - accuracy: 0.4014 - val_loss: 1.9918 - val_accuracy: 0.2081\n",
            "Epoch 8/10\n",
            "78/78 - 5s - loss: 1.1699 - accuracy: 0.4502 - val_loss: 2.1311 - val_accuracy: 0.2201\n",
            "Epoch 9/10\n",
            "78/78 - 5s - loss: 1.1958 - accuracy: 0.4342 - val_loss: 1.9878 - val_accuracy: 0.2201\n",
            "Epoch 10/10\n",
            "78/78 - 5s - loss: 1.1756 - accuracy: 0.4682 - val_loss: 2.1829 - val_accuracy: 0.2066\n"
          ]
        }
      ]
    },
    {
      "cell_type": "code",
      "metadata": {
        "colab": {
          "base_uri": "https://localhost:8080/",
          "height": 295
        },
        "id": "A8kfE3j6T5eV",
        "outputId": "99ac897b-65da-40ba-98a0-da4f9a8f3bc4"
      },
      "source": [
        "plt.plot(history.history['accuracy'])\n",
        "plt.plot(history.history['val_accuracy'])\n",
        "plt.title('Model Accuracy')\n",
        "plt.ylabel('accuracy')\n",
        "plt.xlabel('epoch')\n",
        "plt.legend(['Train', 'Validation'])\n",
        "plt.show()"
      ],
      "execution_count": 62,
      "outputs": [
        {
          "output_type": "display_data",
          "data": {
            "image/png": "[encoded data removed]",
            "text/plain": [
              "<Figure size 432x288 with 1 Axes>"
            ]
          },
          "metadata": {
            "needs_background": "light"
          }
        }
      ]
    },
    {
      "cell_type": "code",
      "metadata": {
        "colab": {
          "base_uri": "https://localhost:8080/"
        },
        "id": "oeDU6IfGUXYg",
        "outputId": "4ce6235b-0ac9-4eac-cb30-89010e6876cd"
      },
      "source": [
        "score=model.evaluate(test_padded,testing_label_seq)\n",
        "print(\"loss: \",score[0])\n",
        "print(\"accuracy: \",score[1])"
      ],
      "execution_count": 63,
      "outputs": [
        {
          "output_type": "stream",
          "name": "stdout",
          "text": [
            "21/21 [==============================] - 0s 22ms/step - loss: 2.1829 - accuracy: 0.2066\n",
            "loss:  2.182858467102051\n",
            "accuracy:  0.2065868228673935\n"
          ]
        }
      ]
    },
    {
      "cell_type": "markdown",
      "metadata": {
        "id": "BDUZT15eRGK0"
      },
      "source": [
        "### Number of Layers: "
      ]
    },
    {
      "cell_type": "code",
      "metadata": {
        "colab": {
          "base_uri": "https://localhost:8080/"
        },
        "id": "OUDDCjkzPdsE",
        "outputId": "e10d5342-450e-4a65-9350-514c425b4833"
      },
      "source": [
        "model_lstm3 = Sequential()\n",
        "model_lstm3.add(Embedding(vocab_size, embedding_dim))\n",
        "model_lstm3.add(LSTM(embedding_dim,return_sequences=True))\n",
        "model_lstm3.add(LSTM(embedding_dim))\n",
        "model_lstm3.add(Dense(embedding_dim, activation='sigmoid'))\n",
        "model_lstm3.add(Dense(6,activation='softmax'))\n",
        "model_lstm3.summary()"
      ],
      "execution_count": 64,
      "outputs": [
        {
          "output_type": "stream",
          "name": "stdout",
          "text": [
            "Model: \"sequential_4\"\n",
            "_________________________________________________________________\n",
            "Layer (type)                 Output Shape              Param #   \n",
            "=================================================================\n",
            "embedding_4 (Embedding)      (None, None, 64)          320000    \n",
            "_________________________________________________________________\n",
            "lstm_7 (LSTM)                (None, None, 64)          33024     \n",
            "_________________________________________________________________\n",
            "lstm_8 (LSTM)                (None, 64)                33024     \n",
            "_________________________________________________________________\n",
            "dense_8 (Dense)              (None, 64)                4160      \n",
            "_________________________________________________________________\n",
            "dense_9 (Dense)              (None, 6)                 390       \n",
            "=================================================================\n",
            "Total params: 390,598\n",
            "Trainable params: 390,598\n",
            "Non-trainable params: 0\n",
            "_________________________________________________________________\n"
          ]
        }
      ]
    },
    {
      "cell_type": "code",
      "metadata": {
        "id": "2A_8RYePbVEF"
      },
      "source": [
        "model_lstm3.compile(optimizer='adam',loss='sparse_categorical_crossentropy',metrics=['accuracy'])"
      ],
      "execution_count": 65,
      "outputs": []
    },
    {
      "cell_type": "code",
      "metadata": {
        "colab": {
          "base_uri": "https://localhost:8080/"
        },
        "id": "5uzbGZpYbnOM",
        "outputId": "526cc202-569a-4051-88cc-f48ae0d6369b"
      },
      "source": [
        "history3 = model_lstm3.fit(train_padded,training_label_seq,validation_data=(test_padded,testing_label_seq),batch_size=20,epochs=10,verbose=2)"
      ],
      "execution_count": 66,
      "outputs": [
        {
          "output_type": "stream",
          "name": "stdout",
          "text": [
            "Epoch 1/10\n",
            "78/78 - 15s - loss: 1.6440 - accuracy: 0.2331 - val_loss: 1.6160 - val_accuracy: 0.2485\n",
            "Epoch 2/10\n",
            "78/78 - 11s - loss: 1.5272 - accuracy: 0.2967 - val_loss: 1.7340 - val_accuracy: 0.1751\n",
            "Epoch 3/10\n",
            "78/78 - 10s - loss: 1.4786 - accuracy: 0.3064 - val_loss: 1.7339 - val_accuracy: 0.1901\n",
            "Epoch 4/10\n",
            "78/78 - 10s - loss: 1.4773 - accuracy: 0.2935 - val_loss: 1.7043 - val_accuracy: 0.1751\n",
            "Epoch 5/10\n",
            "78/78 - 11s - loss: 1.4677 - accuracy: 0.2974 - val_loss: 1.7086 - val_accuracy: 0.1871\n",
            "Epoch 6/10\n",
            "78/78 - 11s - loss: 1.4469 - accuracy: 0.3128 - val_loss: 1.6885 - val_accuracy: 0.2141\n",
            "Epoch 7/10\n",
            "78/78 - 10s - loss: 1.4859 - accuracy: 0.3121 - val_loss: 1.5693 - val_accuracy: 0.2530\n",
            "Epoch 8/10\n",
            "78/78 - 11s - loss: 1.4010 - accuracy: 0.3532 - val_loss: 1.7489 - val_accuracy: 0.2111\n",
            "Epoch 9/10\n",
            "78/78 - 11s - loss: 1.2799 - accuracy: 0.4046 - val_loss: 2.0181 - val_accuracy: 0.1961\n",
            "Epoch 10/10\n",
            "78/78 - 11s - loss: 1.1768 - accuracy: 0.4033 - val_loss: 1.7393 - val_accuracy: 0.2560\n"
          ]
        }
      ]
    },
    {
      "cell_type": "code",
      "metadata": {
        "colab": {
          "base_uri": "https://localhost:8080/",
          "height": 295
        },
        "id": "nb99BXNabvwr",
        "outputId": "5d308557-ee98-4dab-e458-6dc8fcf90d0b"
      },
      "source": [
        "plt.plot(history3.history['accuracy'])\n",
        "plt.plot(history3.history['val_accuracy'])\n",
        "plt.title('Model Accuracy')\n",
        "plt.ylabel('accuracy')\n",
        "plt.xlabel('epoch')\n",
        "plt.legend(['Train', 'Validation'])\n",
        "plt.show()"
      ],
      "execution_count": 67,
      "outputs": [
        {
          "output_type": "display_data",
          "data": {
            "image/png": "[encoded data removed]",
            "text/plain": [
              "<Figure size 432x288 with 1 Axes>"
            ]
          },
          "metadata": {
            "needs_background": "light"
          }
        }
      ]
    },
    {
      "cell_type": "code",
      "metadata": {
        "colab": {
          "base_uri": "https://localhost:8080/"
        },
        "id": "mh_bITlJB8lZ",
        "outputId": "797cf764-7958-431e-b2d7-481355f7e3f1"
      },
      "source": [
        "score=model_lstm3.evaluate(test_padded,testing_label_seq)\n",
        "print(\"loss: \",score[0])\n",
        "print(\"accuracy: \",score[1])"
      ],
      "execution_count": 68,
      "outputs": [
        {
          "output_type": "stream",
          "name": "stdout",
          "text": [
            "21/21 [==============================] - 1s 46ms/step - loss: 1.7393 - accuracy: 0.2560\n",
            "loss:  1.7392653226852417\n",
            "accuracy:  0.2559880316257477\n"
          ]
        }
      ]
    },
    {
      "cell_type": "code",
      "metadata": {
        "id": "RXUxB9BrCESG"
      },
      "source": [
        "model_lstm5 = Sequential()\n",
        "model_lstm5.add(Embedding(vocab_size, embedding_dim))\n",
        "model_lstm5.add(LSTM(embedding_dim,return_sequences=True))\n",
        "model_lstm5.add(LSTM(embedding_dim,return_sequences=True))\n",
        "model_lstm5.add(LSTM(embedding_dim))\n",
        "model_lstm5.add(Dense(136, activation='relu'))\n",
        "model_lstm5.add(Dense(6,activation='softmax'))"
      ],
      "execution_count": 69,
      "outputs": []
    },
    {
      "cell_type": "code",
      "metadata": {
        "colab": {
          "base_uri": "https://localhost:8080/"
        },
        "id": "h4kl71OV104h",
        "outputId": "14a2043b-d7ec-4e79-a67f-59fdcbccd1d0"
      },
      "source": [
        "model_lstm5.summary()"
      ],
      "execution_count": 70,
      "outputs": [
        {
          "output_type": "stream",
          "name": "stdout",
          "text": [
            "Model: \"sequential_5\"\n",
            "_________________________________________________________________\n",
            "Layer (type)                 Output Shape              Param #   \n",
            "=================================================================\n",
            "embedding_5 (Embedding)      (None, None, 64)          320000    \n",
            "_________________________________________________________________\n",
            "lstm_9 (LSTM)                (None, None, 64)          33024     \n",
            "_________________________________________________________________\n",
            "lstm_10 (LSTM)               (None, None, 64)          33024     \n",
            "_________________________________________________________________\n",
            "lstm_11 (LSTM)               (None, 64)                33024     \n",
            "_________________________________________________________________\n",
            "dense_10 (Dense)             (None, 136)               8840      \n",
            "_________________________________________________________________\n",
            "dense_11 (Dense)             (None, 6)                 822       \n",
            "=================================================================\n",
            "Total params: 428,734\n",
            "Trainable params: 428,734\n",
            "Non-trainable params: 0\n",
            "_________________________________________________________________\n"
          ]
        }
      ]
    },
    {
      "cell_type": "code",
      "metadata": {
        "id": "IrTaUx1QDVtK"
      },
      "source": [
        "model_lstm5.compile(optimizer='adam',loss='sparse_categorical_crossentropy',metrics=['accuracy'])"
      ],
      "execution_count": 71,
      "outputs": []
    },
    {
      "cell_type": "code",
      "metadata": {
        "colab": {
          "base_uri": "https://localhost:8080/"
        },
        "id": "zlGgHyeeDbYm",
        "outputId": "7c8c4797-a638-49d2-fc54-713eb6b5185b"
      },
      "source": [
        "history5 = model_lstm5.fit(train_padded,training_label_seq,validation_data=(test_padded,testing_label_seq),batch_size=18,epochs=10,verbose=2)"
      ],
      "execution_count": 72,
      "outputs": [
        {
          "output_type": "stream",
          "name": "stdout",
          "text": [
            "Epoch 1/10\n",
            "87/87 - 24s - loss: 1.6243 - accuracy: 0.2376 - val_loss: 1.6082 - val_accuracy: 0.2380\n",
            "Epoch 2/10\n",
            "87/87 - 18s - loss: 1.6171 - accuracy: 0.2229 - val_loss: 1.6156 - val_accuracy: 0.2141\n",
            "Epoch 3/10\n",
            "87/87 - 18s - loss: 1.6112 - accuracy: 0.2235 - val_loss: 1.6056 - val_accuracy: 0.2141\n",
            "Epoch 4/10\n",
            "87/87 - 18s - loss: 1.6013 - accuracy: 0.2492 - val_loss: 1.5745 - val_accuracy: 0.2350\n",
            "Epoch 5/10\n",
            "87/87 - 18s - loss: 1.4893 - accuracy: 0.3198 - val_loss: 1.7905 - val_accuracy: 0.2186\n",
            "Epoch 6/10\n",
            "87/87 - 18s - loss: 1.4667 - accuracy: 0.3243 - val_loss: 1.7926 - val_accuracy: 0.2201\n",
            "Epoch 7/10\n",
            "87/87 - 18s - loss: 1.4520 - accuracy: 0.3410 - val_loss: 1.7881 - val_accuracy: 0.2171\n",
            "Epoch 8/10\n",
            "87/87 - 18s - loss: 1.4494 - accuracy: 0.3398 - val_loss: 1.8707 - val_accuracy: 0.2156\n",
            "Epoch 9/10\n",
            "87/87 - 18s - loss: 1.6001 - accuracy: 0.2479 - val_loss: 1.6189 - val_accuracy: 0.2425\n",
            "Epoch 10/10\n",
            "87/87 - 18s - loss: 1.5047 - accuracy: 0.3006 - val_loss: 1.5931 - val_accuracy: 0.2545\n"
          ]
        }
      ]
    },
    {
      "cell_type": "code",
      "metadata": {
        "colab": {
          "base_uri": "https://localhost:8080/",
          "height": 295
        },
        "id": "acLm11FMDmRf",
        "outputId": "ab533356-fdde-4d6b-db8d-68f75e219ac7"
      },
      "source": [
        "plt.plot(history5.history['accuracy'])\n",
        "plt.plot(history5.history['val_accuracy'])\n",
        "plt.title('Model Accuracy')\n",
        "plt.ylabel('accuracy')\n",
        "plt.xlabel('epoch')\n",
        "plt.legend(['Train', 'Validation'])\n",
        "plt.show()"
      ],
      "execution_count": 73,
      "outputs": [
        {
          "output_type": "display_data",
          "data": {
            "image/png": "[encoded data removed]",
            "text/plain": [
              "<Figure size 432x288 with 1 Axes>"
            ]
          },
          "metadata": {
            "needs_background": "light"
          }
        }
      ]
    },
    {
      "cell_type": "code",
      "metadata": {
        "colab": {
          "base_uri": "https://localhost:8080/"
        },
        "id": "kkDdkdvgDurX",
        "outputId": "5c5ecfc4-3a1d-4e75-b3ad-ef6d935e19ef"
      },
      "source": [
        "score=model_lstm5.evaluate(test_padded,testing_label_seq)\n",
        "print(\"loss: \",score[0])\n",
        "print(\"accuracy: \",score[1])"
      ],
      "execution_count": 74,
      "outputs": [
        {
          "output_type": "stream",
          "name": "stdout",
          "text": [
            "21/21 [==============================] - 2s 76ms/step - loss: 1.5931 - accuracy: 0.2545\n",
            "loss:  1.5931143760681152\n",
            "accuracy:  0.25449103116989136\n"
          ]
        }
      ]
    },
    {
      "cell_type": "code",
      "metadata": {
        "id": "kgj5ycnlHZPD"
      },
      "source": [
        "model_lstm7 = Sequential()\n",
        "model_lstm7.add(Embedding(vocab_size, embedding_dim))\n",
        "model_lstm7.add(LSTM(embedding_dim,return_sequences=True))\n",
        "model_lstm7.add(LSTM(embedding_dim,return_sequences=True))\n",
        "model_lstm7.add(LSTM(embedding_dim,return_sequences=True))\n",
        "model_lstm7.add(LSTM(embedding_dim))\n",
        "model_lstm7.add(Dense(64, activation='sigmoid'))\n",
        "model_lstm7.add(Dense(6,activation='softmax'))"
      ],
      "execution_count": 75,
      "outputs": []
    },
    {
      "cell_type": "code",
      "metadata": {
        "colab": {
          "base_uri": "https://localhost:8080/"
        },
        "id": "7YM2fUFd1xVx",
        "outputId": "6c45726b-7ee3-4165-fb62-61079923201d"
      },
      "source": [
        "model_lstm7.summary()"
      ],
      "execution_count": 76,
      "outputs": [
        {
          "output_type": "stream",
          "name": "stdout",
          "text": [
            "Model: \"sequential_6\"\n",
            "_________________________________________________________________\n",
            "Layer (type)                 Output Shape              Param #   \n",
            "=================================================================\n",
            "embedding_6 (Embedding)      (None, None, 64)          320000    \n",
            "_________________________________________________________________\n",
            "lstm_12 (LSTM)               (None, None, 64)          33024     \n",
            "_________________________________________________________________\n",
            "lstm_13 (LSTM)               (None, None, 64)          33024     \n",
            "_________________________________________________________________\n",
            "lstm_14 (LSTM)               (None, None, 64)          33024     \n",
            "_________________________________________________________________\n",
            "lstm_15 (LSTM)               (None, 64)                33024     \n",
            "_________________________________________________________________\n",
            "dense_12 (Dense)             (None, 64)                4160      \n",
            "_________________________________________________________________\n",
            "dense_13 (Dense)             (None, 6)                 390       \n",
            "=================================================================\n",
            "Total params: 456,646\n",
            "Trainable params: 456,646\n",
            "Non-trainable params: 0\n",
            "_________________________________________________________________\n"
          ]
        }
      ]
    },
    {
      "cell_type": "code",
      "metadata": {
        "id": "EDf7KUiUHsRq"
      },
      "source": [
        "model_lstm7.compile(optimizer='adam',loss='sparse_categorical_crossentropy',metrics=['accuracy'])"
      ],
      "execution_count": 77,
      "outputs": []
    },
    {
      "cell_type": "code",
      "metadata": {
        "colab": {
          "base_uri": "https://localhost:8080/"
        },
        "id": "g2IsD8XhHzpU",
        "outputId": "0d5528e4-f9ab-4829-b482-28b7c936e6ca"
      },
      "source": [
        "history7 = model_lstm7.fit(train_padded,training_label_seq,validation_data=(test_padded,testing_label_seq),batch_size=20,epochs=10,verbose=2)"
      ],
      "execution_count": 78,
      "outputs": [
        {
          "output_type": "stream",
          "name": "stdout",
          "text": [
            "Epoch 1/10\n",
            "78/78 - 31s - loss: 1.6486 - accuracy: 0.2222 - val_loss: 1.5510 - val_accuracy: 0.3099\n",
            "Epoch 2/10\n",
            "78/78 - 23s - loss: 1.5397 - accuracy: 0.2742 - val_loss: 1.6186 - val_accuracy: 0.2275\n",
            "Epoch 3/10\n",
            "78/78 - 23s - loss: 1.3748 - accuracy: 0.3430 - val_loss: 2.0409 - val_accuracy: 0.1946\n",
            "Epoch 4/10\n",
            "78/78 - 23s - loss: 1.3691 - accuracy: 0.3320 - val_loss: 2.0392 - val_accuracy: 0.1931\n",
            "Epoch 5/10\n",
            "78/78 - 23s - loss: 1.3652 - accuracy: 0.3346 - val_loss: 1.9878 - val_accuracy: 0.1916\n",
            "Epoch 6/10\n",
            "78/78 - 23s - loss: 1.3656 - accuracy: 0.3404 - val_loss: 1.9980 - val_accuracy: 0.2081\n",
            "Epoch 7/10\n",
            "78/78 - 23s - loss: 1.3642 - accuracy: 0.3487 - val_loss: 1.9575 - val_accuracy: 0.1871\n",
            "Epoch 8/10\n",
            "78/78 - 23s - loss: 1.3660 - accuracy: 0.3391 - val_loss: 1.9394 - val_accuracy: 0.1916\n",
            "Epoch 9/10\n",
            "78/78 - 23s - loss: 1.3643 - accuracy: 0.3577 - val_loss: 1.9527 - val_accuracy: 0.1871\n",
            "Epoch 10/10\n",
            "78/78 - 23s - loss: 1.3643 - accuracy: 0.3584 - val_loss: 2.0259 - val_accuracy: 0.1707\n"
          ]
        }
      ]
    },
    {
      "cell_type": "code",
      "metadata": {
        "colab": {
          "base_uri": "https://localhost:8080/",
          "height": 295
        },
        "id": "0dstBaJdH3cG",
        "outputId": "f99effca-0a97-45de-97d0-87c0d5671bb8"
      },
      "source": [
        "plt.plot(history7.history['accuracy'])\n",
        "plt.plot(history7.history['val_accuracy'])\n",
        "plt.title('Model Accuracy')\n",
        "plt.ylabel('accuracy')\n",
        "plt.xlabel('epoch')\n",
        "plt.legend(['Train','validation'])\n",
        "plt.show()"
      ],
      "execution_count": 79,
      "outputs": [
        {
          "output_type": "display_data",
          "data": {
            "image/png": "[encoded data removed]",
            "text/plain": [
              "<Figure size 432x288 with 1 Axes>"
            ]
          },
          "metadata": {
            "needs_background": "light"
          }
        }
      ]
    },
    {
      "cell_type": "code",
      "metadata": {
        "colab": {
          "base_uri": "https://localhost:8080/"
        },
        "id": "FCPpDKScJwRr",
        "outputId": "30ea995f-6319-41d6-eeb3-7d63f851df7a"
      },
      "source": [
        "score=model_lstm7.evaluate(test_padded,testing_label_seq)\n",
        "print(\"loss: \",score[0])\n",
        "print(\"accuracy: \",score[1])"
      ],
      "execution_count": 80,
      "outputs": [
        {
          "output_type": "stream",
          "name": "stdout",
          "text": [
            "21/21 [==============================] - 2s 111ms/step - loss: 2.0259 - accuracy: 0.1707\n",
            "loss:  2.0259363651275635\n",
            "accuracy:  0.170658677816391\n"
          ]
        }
      ]
    },
    {
      "cell_type": "code",
      "metadata": {
        "id": "eQLldjqXJHWJ"
      },
      "source": [
        "model_lstm9 = Sequential()\n",
        "model_lstm9.add(Embedding(vocab_size, embedding_dim))\n",
        "model_lstm9.add(Bidirectional(LSTM(embedding_dim)))\n",
        "model_lstm9.add(Dense(embedding_dim, activation='tanh'))\n",
        "model_lstm9.add(Dense(32,activation='softmax'))"
      ],
      "execution_count": 81,
      "outputs": []
    },
    {
      "cell_type": "code",
      "metadata": {
        "colab": {
          "base_uri": "https://localhost:8080/"
        },
        "id": "dJslSmjT5Jgv",
        "outputId": "5253ed98-ee1d-44dd-815c-5f33f014f8f0"
      },
      "source": [
        "model_lstm9.summary()"
      ],
      "execution_count": 82,
      "outputs": [
        {
          "output_type": "stream",
          "name": "stdout",
          "text": [
            "Model: \"sequential_7\"\n",
            "_________________________________________________________________\n",
            "Layer (type)                 Output Shape              Param #   \n",
            "=================================================================\n",
            "embedding_7 (Embedding)      (None, None, 64)          320000    \n",
            "_________________________________________________________________\n",
            "bidirectional (Bidirectional (None, 128)               66048     \n",
            "_________________________________________________________________\n",
            "dense_14 (Dense)             (None, 64)                8256      \n",
            "_________________________________________________________________\n",
            "dense_15 (Dense)             (None, 32)                2080      \n",
            "=================================================================\n",
            "Total params: 396,384\n",
            "Trainable params: 396,384\n",
            "Non-trainable params: 0\n",
            "_________________________________________________________________\n"
          ]
        }
      ]
    },
    {
      "cell_type": "code",
      "metadata": {
        "id": "paqL-20AJ539"
      },
      "source": [
        "model_lstm9.compile(optimizer='adam',loss='sparse_categorical_crossentropy',metrics=['accuracy'])"
      ],
      "execution_count": 83,
      "outputs": []
    },
    {
      "cell_type": "code",
      "metadata": {
        "colab": {
          "base_uri": "https://localhost:8080/"
        },
        "id": "qreq_yhyNucD",
        "outputId": "7d4f8594-22e1-44b2-f930-88980fde116f"
      },
      "source": [
        "history9 = model_lstm9.fit(train_padded,training_label_seq,validation_data=(test_padded,testing_label_seq),batch_size=20,epochs=10,verbose=2)"
      ],
      "execution_count": 84,
      "outputs": [
        {
          "output_type": "stream",
          "name": "stdout",
          "text": [
            "Epoch 1/10\n",
            "78/78 - 15s - loss: 1.9617 - accuracy: 0.2158 - val_loss: 1.6206 - val_accuracy: 0.2380\n",
            "Epoch 2/10\n",
            "78/78 - 10s - loss: 1.5997 - accuracy: 0.2389 - val_loss: 1.6050 - val_accuracy: 0.2380\n",
            "Epoch 3/10\n",
            "78/78 - 10s - loss: 1.0291 - accuracy: 0.6230 - val_loss: 2.2506 - val_accuracy: 0.2066\n",
            "Epoch 4/10\n",
            "78/78 - 10s - loss: 0.3249 - accuracy: 0.9062 - val_loss: 2.7436 - val_accuracy: 0.2021\n",
            "Epoch 5/10\n",
            "78/78 - 10s - loss: 0.1157 - accuracy: 0.9794 - val_loss: 3.5402 - val_accuracy: 0.1976\n",
            "Epoch 6/10\n",
            "78/78 - 10s - loss: 0.0489 - accuracy: 0.9942 - val_loss: 3.7957 - val_accuracy: 0.2081\n",
            "Epoch 7/10\n",
            "78/78 - 10s - loss: 0.0240 - accuracy: 0.9974 - val_loss: 3.8702 - val_accuracy: 0.1856\n",
            "Epoch 8/10\n",
            "78/78 - 10s - loss: 0.0282 - accuracy: 0.9955 - val_loss: 4.2336 - val_accuracy: 0.2021\n",
            "Epoch 9/10\n",
            "78/78 - 10s - loss: 0.0263 - accuracy: 0.9961 - val_loss: 4.2448 - val_accuracy: 0.1707\n",
            "Epoch 10/10\n",
            "78/78 - 10s - loss: 0.0100 - accuracy: 0.9987 - val_loss: 4.4105 - val_accuracy: 0.1662\n"
          ]
        }
      ]
    },
    {
      "cell_type": "code",
      "metadata": {
        "colab": {
          "base_uri": "https://localhost:8080/",
          "height": 295
        },
        "id": "Q1W2eT3UNzuM",
        "outputId": "eaa21f3d-5ca0-4bec-9d26-7655eec95204"
      },
      "source": [
        "plt.plot(history9.history['accuracy'])\n",
        "plt.plot(history9.history['val_accuracy'])\n",
        "plt.title('Model Accuracy')\n",
        "plt.ylabel('accuracy')\n",
        "plt.xlabel('epoch')\n",
        "plt.legend(['Train','Validation'])\n",
        "plt.show()"
      ],
      "execution_count": 85,
      "outputs": [
        {
          "output_type": "display_data",
          "data": {
            "image/png": "[encoded data removed]",
            "text/plain": [
              "<Figure size 432x288 with 1 Axes>"
            ]
          },
          "metadata": {
            "needs_background": "light"
          }
        }
      ]
    },
    {
      "cell_type": "code",
      "metadata": {
        "colab": {
          "base_uri": "https://localhost:8080/"
        },
        "id": "pXkr1qrtOAvh",
        "outputId": "06897152-49b2-4336-aeec-2fbd4aee5ea8"
      },
      "source": [
        "score=model_lstm9.evaluate(test_padded,testing_label_seq)\n",
        "print(\"loss: \",score[0])\n",
        "print(\"accuracy: \",score[1])"
      ],
      "execution_count": 86,
      "outputs": [
        {
          "output_type": "stream",
          "name": "stdout",
          "text": [
            "21/21 [==============================] - 1s 44ms/step - loss: 4.4105 - accuracy: 0.1662\n",
            "loss:  4.410523414611816\n",
            "accuracy:  0.16616766154766083\n"
          ]
        }
      ]
    },
    {
      "cell_type": "markdown",
      "metadata": {
        "id": "fxvaFnkRVYvI"
      },
      "source": [
        "### prediction on sample data"
      ]
    },
    {
      "cell_type": "code",
      "metadata": {
        "colab": {
          "base_uri": "https://localhost:8080/"
        },
        "id": "UgFlFxN2OW8x",
        "outputId": "758eace8-757a-4993-f964-b7d18fd94730"
      },
      "source": [
        "txt = [\"TCS, Wipro, HCL Technologies and Infosys have ramped up their hiring projections and have added over 50,000 people in the second quarter of FY22, taking the hiring number to more than one lakh (1,02,517) in the first six months of the fiscal year. These four firms employ more than one fourth of India’s total workforce\"]\n",
        "tokenizer = Tokenizer(1000)\n",
        "seq = tokenizer.texts_to_sequences(txt)\n",
        "padded = pad_sequences(seq, maxlen=max_length)\n",
        "predict = model.predict(padded)\n",
        "labels = ['sport', 'bussiness', 'politics', 'tech', 'entertainment']\n",
        "print(predict, labels[np.argmax(predict)])"
      ],
      "execution_count": 87,
      "outputs": [
        {
          "output_type": "stream",
          "name": "stdout",
          "text": [
            "[[2.1268518e-04 2.4511677e-01 2.0101722e-01 3.4283578e-01 1.9002199e-02\n",
            "  1.9181532e-01]] tech\n"
          ]
        }
      ]
    },
    {
      "cell_type": "code",
      "metadata": {
        "id": "iW0pYy2oXubg"
      },
      "source": [
        "predict3 = model_lstm3.predict(padded)\n",
        "labels = ['sport', 'bussiness', 'politics', 'tech', 'entertainment']"
      ],
      "execution_count": 88,
      "outputs": []
    },
    {
      "cell_type": "code",
      "metadata": {
        "colab": {
          "base_uri": "https://localhost:8080/"
        },
        "id": "bLXfXSkX9hyI",
        "outputId": "803d8862-cea0-461f-c915-8e53770ca971"
      },
      "source": [
        "print(predict3, labels[np.argmax(predict3)])"
      ],
      "execution_count": 89,
      "outputs": [
        {
          "output_type": "stream",
          "name": "stdout",
          "text": [
            "[[0.00061872 0.42556465 0.287827   0.02131539 0.01689919 0.24777497]] bussiness\n"
          ]
        }
      ]
    },
    {
      "cell_type": "code",
      "metadata": {
        "id": "QBeWOCnkotBZ"
      },
      "source": [
        "predict5 = model_lstm5.predict(padded)\n",
        "labels = ['sport', 'bussiness', 'politics', 'tech', 'entertainment']"
      ],
      "execution_count": 90,
      "outputs": []
    },
    {
      "cell_type": "code",
      "metadata": {
        "colab": {
          "base_uri": "https://localhost:8080/"
        },
        "id": "_uCo0Cxz9jml",
        "outputId": "3c2fbfee-5073-469a-b2d5-35abb37167f8"
      },
      "source": [
        "print(predict5, labels[np.argmax(predict5)])"
      ],
      "execution_count": 91,
      "outputs": [
        {
          "output_type": "stream",
          "name": "stdout",
          "text": [
            "[[0.00070806 0.22654752 0.27893376 0.16622312 0.10423171 0.22335587]] politics\n"
          ]
        }
      ]
    },
    {
      "cell_type": "code",
      "metadata": {
        "id": "gQFpJwU5oxmP"
      },
      "source": [
        "predict7 = model_lstm7.predict(padded)\n",
        "labels = ['sport', 'bussiness', 'politics', 'tech', 'entertainment']"
      ],
      "execution_count": 92,
      "outputs": []
    },
    {
      "cell_type": "code",
      "metadata": {
        "colab": {
          "base_uri": "https://localhost:8080/"
        },
        "id": "SJIrJEDi9lsl",
        "outputId": "06d2ed42-c668-4e09-df3e-3ddf7af40ddf"
      },
      "source": [
        "print(predict7, labels[np.argmax(predict7)])"
      ],
      "execution_count": 93,
      "outputs": [
        {
          "output_type": "stream",
          "name": "stdout",
          "text": [
            "[[0.00069984 0.30559608 0.31987634 0.04808529 0.03539544 0.29034704]] politics\n"
          ]
        }
      ]
    },
    {
      "cell_type": "code",
      "metadata": {
        "colab": {
          "base_uri": "https://localhost:8080/"
        },
        "id": "_TdCEKJuo6mf",
        "outputId": "ffb0ee56-aed0-462a-c904-ca4cab9bb336"
      },
      "source": [
        "predict9 = model_lstm9.predict(padded)\n",
        "labels = ['sport', 'bussiness', 'politics', 'tech', 'entertainment']"
      ],
      "execution_count": 94,
      "outputs": [
        {
          "output_type": "stream",
          "name": "stdout",
          "text": [
            "WARNING:tensorflow:5 out of the last 5 calls to <function Model.make_predict_function.<locals>.predict_function at 0x7faf1dc59440> triggered tf.function retracing. Tracing is expensive and the excessive number of tracings could be due to (1) creating @tf.function repeatedly in a loop, (2) passing tensors with different shapes, (3) passing Python objects instead of tensors. For (1), please define your @tf.function outside of the loop. For (2), @tf.function has experimental_relax_shapes=True option that relaxes argument shapes that can avoid unnecessary retracing. For (3), please refer to https://www.tensorflow.org/guide/function#controlling_retracing and https://www.tensorflow.org/api_docs/python/tf/function for  more details.\n"
          ]
        }
      ]
    }
  ]
}