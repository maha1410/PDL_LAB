{
 "cells": [
  {
   "cell_type": "markdown",
   "metadata": {
    "id": "k72vI8i9fDws"
   },
   "source": [
    "# 205229118\n",
    "# Mahalakshmi S"
   ]
  },
  {
   "cell_type": "markdown",
   "metadata": {
    "id": "VZZAS6Jz7hf2"
   },
   "source": [
    "### Lab05: Neural Network for Regression with Hyper parameter tuning"
   ]
  },
  {
   "cell_type": "markdown",
   "metadata": {
    "id": "RI9TbFDl7hf7"
   },
   "source": [
    "### 1. Load dataset and view the dataset"
   ]
  },
  {
   "cell_type": "code",
   "execution_count": null,
   "metadata": {
    "id": "OxEwHlJO7hf8"
   },
   "outputs": [],
   "source": [
    "import csv\n",
    "import pandas as pd"
   ]
  },
  {
   "cell_type": "code",
   "execution_count": null,
   "metadata": {
    "id": "GpipGC3y7hf9"
   },
   "outputs": [],
   "source": [
    "bos=pd.read_csv('lab05_dataset_baston.csv')"
   ]
  },
  {
   "cell_type": "code",
   "execution_count": null,
   "metadata": {
    "colab": {
     "base_uri": "https://localhost:8080/",
     "height": 203
    },
    "id": "JysG-rFT7hf-",
    "outputId": "594fc795-7f15-44b7-eb0c-f3f015fe7d2e"
   },
   "outputs": [],
   "source": [
    "bos.head()"
   ]
  },
  {
   "cell_type": "code",
   "execution_count": null,
   "metadata": {
    "colab": {
     "base_uri": "https://localhost:8080/",
     "height": 203
    },
    "id": "n91inVH673Uo",
    "outputId": "ff988ca2-d1fa-4a60-85a0-6575a8b801cb"
   },
   "outputs": [],
   "source": [
    "bos.tail()"
   ]
  },
  {
   "cell_type": "code",
   "execution_count": null,
   "metadata": {
    "colab": {
     "base_uri": "https://localhost:8080/"
    },
    "id": "5Rb1cM3N7hf_",
    "outputId": "1446e2da-0ec2-4c7c-831a-699c5334f1ad"
   },
   "outputs": [],
   "source": [
    "bos.shape"
   ]
  },
  {
   "cell_type": "code",
   "execution_count": null,
   "metadata": {
    "colab": {
     "base_uri": "https://localhost:8080/"
    },
    "id": "ePAtBq708Lo4",
    "outputId": "d4c46610-3e49-49f8-9166-a0448122cb2e"
   },
   "outputs": [],
   "source": [
    "bos.isnull().sum()"
   ]
  },
  {
   "cell_type": "code",
   "execution_count": null,
   "metadata": {
    "colab": {
     "base_uri": "https://localhost:8080/"
    },
    "id": "33ZiqRma8Sep",
    "outputId": "b16acf92-9d22-47da-8bf6-49e14ba8e83b"
   },
   "outputs": [],
   "source": [
    "bos.describe"
   ]
  },
  {
   "cell_type": "markdown",
   "metadata": {
    "id": "WHcEGLoP7hgA"
   },
   "source": [
    "### 2. Split dataset"
   ]
  },
  {
   "cell_type": "code",
   "execution_count": null,
   "metadata": {
    "id": "u5kzLxEP7hgA"
   },
   "outputs": [],
   "source": [
    "import numpy as np\n",
    "from sklearn.datasets import load_boston\n",
    "from sklearn.model_selection import train_test_split"
   ]
  },
  {
   "cell_type": "code",
   "execution_count": null,
   "metadata": {
    "id": "9JE13Vg6-3rp"
   },
   "outputs": [],
   "source": [
    "X = bos.drop('MEDV', axis = 1)    # Input Variables\n",
    "y = bos.MEDV    # Output Variables"
   ]
  },
  {
   "cell_type": "code",
   "execution_count": null,
   "metadata": {
    "id": "44NOcn7I7hgC"
   },
   "outputs": [],
   "source": [
    "X_train, X_test, y_train, y_test = train_test_split(X, y, test_size=0.2, random_state=42)"
   ]
  },
  {
   "cell_type": "code",
   "execution_count": null,
   "metadata": {
    "colab": {
     "base_uri": "https://localhost:8080/",
     "height": 203
    },
    "id": "eHZILFD97hgC",
    "outputId": "671c7bcc-76aa-4f74-afd0-7fcab63bb0ad"
   },
   "outputs": [],
   "source": [
    "X_test.head()  #independent data for testing the model"
   ]
  },
  {
   "cell_type": "code",
   "execution_count": null,
   "metadata": {
    "colab": {
     "base_uri": "https://localhost:8080/",
     "height": 203
    },
    "id": "iJppeOKQ7hgD",
    "outputId": "5b93e6ac-85e5-45a4-c72c-8cc17bdd218c"
   },
   "outputs": [],
   "source": [
    "X_train.head()  #independent data for training the model"
   ]
  },
  {
   "cell_type": "code",
   "execution_count": null,
   "metadata": {
    "colab": {
     "base_uri": "https://localhost:8080/"
    },
    "id": "PiFwI16A8pPK",
    "outputId": "31fd4561-a369-4a30-a777-4051dfcabdff"
   },
   "outputs": [],
   "source": [
    "y_train.head()  #dependent data for training the model  "
   ]
  },
  {
   "cell_type": "code",
   "execution_count": null,
   "metadata": {
    "colab": {
     "base_uri": "https://localhost:8080/"
    },
    "id": "XotOYhVu_QQU",
    "outputId": "ac121dc1-7ce2-4f14-8e5c-bc8a0e9ccd05"
   },
   "outputs": [],
   "source": [
    "y_test.head()  #dependent of X_test"
   ]
  },
  {
   "cell_type": "markdown",
   "metadata": {
    "id": "INiQ-pwH_U3N"
   },
   "source": [
    "### 3. Model training"
   ]
  },
  {
   "cell_type": "markdown",
   "metadata": {
    "id": "BLZKuxE4Dyum"
   },
   "source": [
    "### Define the model"
   ]
  },
  {
   "cell_type": "code",
   "execution_count": null,
   "metadata": {
    "id": "aqMfyR3cAlnm"
   },
   "outputs": [],
   "source": [
    "import tensorflow\n",
    "from tensorflow.keras import Sequential    \n",
    "from tensorflow.keras.layers import Dense  "
   ]
  },
  {
   "cell_type": "code",
   "execution_count": null,
   "metadata": {
    "id": "pQilmdptA-cq"
   },
   "outputs": [],
   "source": [
    "model = Sequential()\n",
    "model.add(Dense(64, activation='relu'))\n",
    "model.add(Dense(1))"
   ]
  },
  {
   "cell_type": "markdown",
   "metadata": {
    "id": "29I_W7wND2Yr"
   },
   "source": [
    "### Compile the model"
   ]
  },
  {
   "cell_type": "code",
   "execution_count": null,
   "metadata": {
    "id": "QLVdPDQcBpQg"
   },
   "outputs": [],
   "source": [
    "from tensorflow.keras.optimizers import RMSprop\n",
    "from keras import metrics"
   ]
  },
  {
   "cell_type": "code",
   "execution_count": null,
   "metadata": {
    "id": "diZyxTcpBYEm"
   },
   "outputs": [],
   "source": [
    "model.compile(loss='mean_squared_error',\n",
    "              optimizer='rmsprop',\n",
    "              metrics=(metrics.mae)) "
   ]
  },
  {
   "cell_type": "markdown",
   "metadata": {
    "id": "3lzAW9-aEFGK"
   },
   "source": [
    "### Fit the model"
   ]
  },
  {
   "cell_type": "code",
   "execution_count": null,
   "metadata": {
    "colab": {
     "base_uri": "https://localhost:8080/"
    },
    "id": "0zDcKwPrC0EW",
    "outputId": "52ddc775-130d-4c44-aac5-3b28fe1e8212"
   },
   "outputs": [],
   "source": [
    "model.fit(X_train, y_train, epochs=10, batch_size=30, verbose = 1)"
   ]
  },
  {
   "cell_type": "markdown",
   "metadata": {
    "id": "HyCQQ30lDBIx"
   },
   "source": [
    "### Evaluate the model"
   ]
  },
  {
   "cell_type": "code",
   "execution_count": null,
   "metadata": {
    "colab": {
     "base_uri": "https://localhost:8080/"
    },
    "id": "lygfOWtoENRq",
    "outputId": "54783280-a4c9-422b-e853-a12fc11c33ba"
   },
   "outputs": [],
   "source": [
    "model.evaluate(X_test, y_test)"
   ]
  },
  {
   "cell_type": "code",
   "execution_count": null,
   "metadata": {
    "colab": {
     "base_uri": "https://localhost:8080/"
    },
    "id": "sQh8JTbeESLf",
    "outputId": "57c5febd-d3bb-49f3-bc18-d58ebc7e2027"
   },
   "outputs": [],
   "source": [
    "model.predict(X_test)"
   ]
  },
  {
   "cell_type": "markdown",
   "metadata": {
    "id": "mHtAMc35Etrw"
   },
   "source": [
    "### 4. Hyperparameter Tuning"
   ]
  },
  {
   "cell_type": "code",
   "execution_count": null,
   "metadata": {
    "id": "QNiOQlBLE_q9"
   },
   "outputs": [],
   "source": [
    "model = Sequential()     # define the model\n",
    "model.add(Dense(64, activation='relu'))\n",
    "model.add(Dense(1))"
   ]
  },
  {
   "cell_type": "code",
   "execution_count": null,
   "metadata": {
    "id": "U2ji6cVDGz7u"
   },
   "outputs": [],
   "source": [
    "optimizer = RMSprop(0.1)    # 0.1 is the learning rate\n",
    "model.compile(loss='mean_squared_error',optimizer=optimizer,metrics=(metrics.mae))    # compile the model"
   ]
  },
  {
   "cell_type": "code",
   "execution_count": null,
   "metadata": {
    "colab": {
     "base_uri": "https://localhost:8080/"
    },
    "id": "oC8kKx5AG0DO",
    "outputId": "d54206cf-e642-496e-b3c1-835d0672ba82"
   },
   "outputs": [],
   "source": [
    "model.fit(X_train, y_train, epochs=10, batch_size=30, verbose = 1)  # fit the model "
   ]
  },
  {
   "cell_type": "code",
   "execution_count": null,
   "metadata": {
    "colab": {
     "base_uri": "https://localhost:8080/"
    },
    "id": "jl5UsvNXG0E-",
    "outputId": "9dfad7ce-a317-40ae-c915-38d1d4721a09"
   },
   "outputs": [],
   "source": [
    "print('The MSE value is: ', model.evaluate(X_test, y_test))  # evaluate the model"
   ]
  },
  {
   "cell_type": "markdown",
   "metadata": {
    "id": "KguJ2lu4G0H_"
   },
   "source": [
    "### Exercises:\n",
    "### Exercise 1: \n",
    "### Test several learning rate values to see the impact of varying this value when defining your model."
   ]
  },
  {
   "cell_type": "code",
   "execution_count": null,
   "metadata": {
    "colab": {
     "base_uri": "https://localhost:8080/"
    },
    "id": "3bu62rvYHyVH",
    "outputId": "5abf5603-1777-4688-a9ef-af6244b44c0b"
   },
   "outputs": [],
   "source": [
    "learning_rate =0.05\n",
    "epochs = 10\n",
    "optimizer = RMSprop(learning_rate)\n",
    "model.compile(loss='mean_squared_error',optimizer=optimizer,metrics=(metrics.mae))    # compile the model\n",
    "model.fit(X_train, y_train, epochs=epochs, batch_size=30)     # fit the model\n",
    "model.evaluate(X_test, y_test)       # Evaluate the model"
   ]
  },
  {
   "cell_type": "code",
   "execution_count": null,
   "metadata": {
    "colab": {
     "base_uri": "https://localhost:8080/"
    },
    "id": "nUQUUqh6Xh3T",
    "outputId": "43c31a43-b162-4b20-c2fc-daf0ca2648b9"
   },
   "outputs": [],
   "source": [
    "learning_rate =0.07\n",
    "epochs = 10\n",
    "optimizer = RMSprop(learning_rate)\n",
    "model.compile(loss='mean_squared_error',optimizer=optimizer,metrics=(metrics.mae))    # compile the model\n",
    "model.fit(X_train, y_train, epochs=epochs, batch_size=30)     # fit the model\n",
    "model.evaluate(X_test, y_test)       # Evaluate the model"
   ]
  },
  {
   "cell_type": "code",
   "execution_count": null,
   "metadata": {
    "colab": {
     "base_uri": "https://localhost:8080/"
    },
    "id": "oAZ-i6DIXh_w",
    "outputId": "ba473f71-19e4-44c4-9f16-64c24731c1f2"
   },
   "outputs": [],
   "source": [
    "learning_rate =0.09\n",
    "epochs = 10\n",
    "optimizer = RMSprop(learning_rate)\n",
    "model.compile(loss='mean_squared_error',optimizer=optimizer,metrics=(metrics.mae))    # compile the model\n",
    "model.fit(X_train, y_train, epochs=epochs, batch_size=30)     # fit the model\n",
    "model.evaluate(X_test, y_test)       # Evaluate the model"
   ]
  },
  {
   "cell_type": "markdown",
   "metadata": {
    "id": "KYHzLC29IMeU"
   },
   "source": [
    "### Exercise 2: \n",
    "### Test several epoch values to see the impact of varying this value when defining your model."
   ]
  },
  {
   "cell_type": "code",
   "execution_count": null,
   "metadata": {
    "colab": {
     "base_uri": "https://localhost:8080/"
    },
    "id": "i854zKIRIqlt",
    "outputId": "fa512b32-657a-4475-c379-0f843e6c7021"
   },
   "outputs": [],
   "source": [
    "learning_rate = 0.01         \n",
    "epochs =30\n",
    "optimizer = RMSprop(learning_rate)\n",
    "model.compile(loss='mean_squared_error',optimizer=optimizer,metrics=(metrics.mae))    # compile the model\n",
    "model.fit(X_train, y_train, epochs=epochs, batch_size=30)     # fit the model\n",
    "model.evaluate(X_test, y_test)       # Evaluate the model"
   ]
  },
  {
   "cell_type": "code",
   "execution_count": null,
   "metadata": {
    "colab": {
     "base_uri": "https://localhost:8080/"
    },
    "id": "PE9xXqUVXr3L",
    "outputId": "da7be56f-bef6-43c6-bb0f-088b8e91839c"
   },
   "outputs": [],
   "source": [
    "learning_rate = 0.01         \n",
    "epochs =40\n",
    "optimizer = RMSprop(learning_rate)\n",
    "model.compile(loss='mean_squared_error',optimizer=optimizer,metrics=(metrics.mae))    # compile the model\n",
    "model.fit(X_train, y_train, epochs=epochs, batch_size=30)     # fit the model\n",
    "model.evaluate(X_test, y_test)       # Evaluate the model"
   ]
  },
  {
   "cell_type": "code",
   "execution_count": null,
   "metadata": {
    "colab": {
     "base_uri": "https://localhost:8080/"
    },
    "id": "2qGYX8wAXr_C",
    "outputId": "38efc485-d65e-4062-f484-18201c7a87ce"
   },
   "outputs": [],
   "source": [
    "learning_rate = 0.01         \n",
    "epochs =50\n",
    "optimizer = RMSprop(learning_rate)\n",
    "model.compile(loss='mean_squared_error',optimizer=optimizer,metrics=(metrics.mae))    # compile the model\n",
    "model.fit(X_train, y_train, epochs=epochs, batch_size=30)     # fit the model\n",
    "model.evaluate(X_test, y_test)       # Evaluate the model"
   ]
  },
  {
   "cell_type": "markdown",
   "metadata": {
    "id": "lheAjOTbI-xC"
   },
   "source": [
    "### Exercise 3: \n",
    "### Find the best possible combination of learning rate and epochs while testing some combinations. "
   ]
  },
  {
   "cell_type": "code",
   "execution_count": null,
   "metadata": {
    "colab": {
     "base_uri": "https://localhost:8080/"
    },
    "id": "dBiArbK6JF-D",
    "outputId": "a50ee8e8-12bd-4e9e-b634-a41f6d607255"
   },
   "outputs": [],
   "source": [
    "learning_rate =0.06\n",
    "epochs = 20\n",
    "optimizer = RMSprop(learning_rate)\n",
    "model.compile(loss='mean_squared_error',optimizer=optimizer,metrics=(metrics.mae))    # compile the model\n",
    "model.fit(X_train, y_train, epochs=epochs, batch_size=30)     # fit the model\n",
    "model.evaluate(X_test, y_test)       # Evaluate the model"
   ]
  },
  {
   "cell_type": "code",
   "execution_count": null,
   "metadata": {
    "colab": {
     "base_uri": "https://localhost:8080/"
    },
    "id": "Zs0Mfj5wX3J6",
    "outputId": "d12df7e0-4d5c-47b7-8584-6035a525a6aa"
   },
   "outputs": [],
   "source": [
    "learning_rate =0.02\n",
    "epochs = 25\n",
    "optimizer = RMSprop(learning_rate)\n",
    "model.compile(loss='mean_squared_error',optimizer=optimizer,metrics=(metrics.mae))    # compile the model\n",
    "model.fit(X_train, y_train, epochs=epochs, batch_size=30)     # fit the model\n",
    "model.evaluate(X_test, y_test)       # Evaluate the model"
   ]
  },
  {
   "cell_type": "code",
   "execution_count": null,
   "metadata": {
    "colab": {
     "base_uri": "https://localhost:8080/"
    },
    "id": "1sZKuWFxX3SA",
    "outputId": "a8471dfb-50c7-4b00-ced6-4445722a2d5f"
   },
   "outputs": [],
   "source": [
    "learning_rate =0.08\n",
    "epochs = 80\n",
    "optimizer = RMSprop(learning_rate)\n",
    "model.compile(loss='mean_squared_error',optimizer=optimizer,metrics=(metrics.mae))    # compile the model\n",
    "model.fit(X_train, y_train, epochs=epochs, batch_size=30)     # fit the model\n",
    "model.evaluate(X_test, y_test)       # Evaluate the model"
   ]
  },
  {
   "cell_type": "markdown",
   "metadata": {
    "id": "oh4WBIXjJh9R"
   },
   "source": [
    "### Exercise 4: \n",
    "### Test several batch size values to see the impact of varying this value when defining your model."
   ]
  },
  {
   "cell_type": "code",
   "execution_count": null,
   "metadata": {
    "colab": {
     "base_uri": "https://localhost:8080/"
    },
    "id": "0RJAC56VJsz9",
    "outputId": "d2aa1dc5-a735-41ba-a345-80c81a735cfb"
   },
   "outputs": [],
   "source": [
    "learning_rate = 0.01        \n",
    "epochs = 40        \n",
    "batch = 20   \n",
    "optimizer = RMSprop(learning_rate)\n",
    "model.compile(loss='mean_squared_error',optimizer=optimizer,metrics=(metrics.mae))    # compile the model\n",
    "model.fit(X_train, y_train, epochs=epochs, batch_size=batch)     # fit the model\n",
    "model.evaluate(X_test, y_test)       # Evaluate the model"
   ]
  },
  {
   "cell_type": "code",
   "execution_count": null,
   "metadata": {
    "colab": {
     "base_uri": "https://localhost:8080/"
    },
    "id": "vmDHt6mbYIiK",
    "outputId": "c3a802ca-32c9-4bec-9ddc-777d75c2831a"
   },
   "outputs": [],
   "source": [
    "learning_rate = 0.01        \n",
    "epochs = 40        \n",
    "batch = 60   \n",
    "optimizer = RMSprop(learning_rate)\n",
    "model.compile(loss='mean_squared_error',optimizer=optimizer,metrics=(metrics.mae))    # compile the model\n",
    "model.fit(X_train, y_train, epochs=epochs, batch_size=batch)     # fit the model\n",
    "model.evaluate(X_test, y_test)       # Evaluate the model"
   ]
  },
  {
   "cell_type": "code",
   "execution_count": null,
   "metadata": {
    "colab": {
     "base_uri": "https://localhost:8080/"
    },
    "id": "-C5aaM0sYIqq",
    "outputId": "4f2d352d-09ab-417b-d7b4-c83f4200becb"
   },
   "outputs": [],
   "source": [
    "learning_rate = 0.01        \n",
    "epochs = 40        \n",
    "batch = 65   \n",
    "optimizer = RMSprop(learning_rate)\n",
    "model.compile(loss='mean_squared_error',optimizer=optimizer,metrics=(metrics.mae))    # compile the model\n",
    "model.fit(X_train, y_train, epochs=epochs, batch_size=batch)     # fit the model\n",
    "model.evaluate(X_test, y_test)       # Evaluate the model"
   ]
  }
 ],
 "metadata": {
  "colab": {
   "name": "PDL_Lab_5_Mahalakshmi18.ipynb",
   "provenance": []
  },
  "kernelspec": {
   "display_name": "Python 3",
   "language": "python",
   "name": "python3"
  },
  "language_info": {
   "codemirror_mode": {
    "name": "ipython",
    "version": 3
   },
   "file_extension": ".py",
   "mimetype": "text/x-python",
   "name": "python",
   "nbconvert_exporter": "python",
   "pygments_lexer": "ipython3",
   "version": "3.8.8"
  }
 },
 "nbformat": 4,
 "nbformat_minor": 1
}
