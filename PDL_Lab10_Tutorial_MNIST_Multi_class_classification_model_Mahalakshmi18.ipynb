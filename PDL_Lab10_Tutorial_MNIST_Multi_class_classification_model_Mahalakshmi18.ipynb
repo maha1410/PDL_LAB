{
 "cells": [
  {
   "cell_type": "markdown",
   "metadata": {
    "id": "iB4o6gmozBZA"
   },
   "source": [
    "# 205229118\n",
    "# Mahalakshmi s"
   ]
  },
  {
   "cell_type": "markdown",
   "metadata": {
    "id": "X-XphER4SWG6"
   },
   "source": [
    "## PDL Lab10 Tutorial: Multi-class Classification using MNIST dataset\n"
   ]
  },
  {
   "cell_type": "markdown",
   "metadata": {
    "id": "ogGW0aucckqO"
   },
   "source": [
    "### Part-I"
   ]
  },
  {
   "cell_type": "markdown",
   "metadata": {
    "id": "YtQ_Jw5pckqP"
   },
   "source": [
    "In this notebook we will build a Neural Network multi-class classification model using a dataset popularly known as **'MNIST'**\n"
   ]
  },
  {
   "cell_type": "code",
   "execution_count": null,
   "metadata": {
    "colab": {
     "base_uri": "https://localhost:8080/"
    },
    "id": "xTqCPURQckqS",
    "outputId": "26c72253-5c87-4174-ef18-06225922b99b"
   },
   "outputs": [],
   "source": [
    "!pip install tensorflow"
   ]
  },
  {
   "cell_type": "code",
   "execution_count": null,
   "metadata": {
    "id": "n6IzyeUHFlId"
   },
   "outputs": [],
   "source": [
    "import tensorflow as tf                       # deep learning library\n",
    "import numpy as np                            # for matrix operations\n",
    "import matplotlib.pyplot as plt               # for visualization\n",
    "%matplotlib inline"
   ]
  },
  {
   "cell_type": "markdown",
   "metadata": {
    "id": "Ph7HLzWTFlIr"
   },
   "source": [
    "## Loading Data\n",
    "The MNIST dataset is available in the TensorFlow only. Let's load the data:"
   ]
  },
  {
   "cell_type": "code",
   "execution_count": null,
   "metadata": {
    "colab": {
     "base_uri": "https://localhost:8080/"
    },
    "id": "ubTJHv0xFlIr",
    "outputId": "5dfba647-0bab-48a1-8981-f25683a81b3e"
   },
   "outputs": [],
   "source": [
    "from tensorflow.keras.datasets.mnist import load_data    # To load the MNIST digit dataset\n",
    "\n",
    "(X_train, y_train) , (X_test, y_test) = load_data()      # Loading data"
   ]
  },
  {
   "cell_type": "markdown",
   "metadata": {
    "id": "sGVmx0ra2QLt"
   },
   "source": [
    "## Basic EDA"
   ]
  },
  {
   "cell_type": "code",
   "execution_count": null,
   "metadata": {
    "colab": {
     "base_uri": "https://localhost:8080/"
    },
    "id": "m6WviKsE2Ism",
    "outputId": "4a57f3ce-e338-4ae0-e9e2-357770516850"
   },
   "outputs": [],
   "source": [
    "print(\"There are \", len(X_train), \"images in the training dataset\")     # checking total number of records / data points available in the X_train dataset\n",
    "print(\"There are \", len(X_test), \"images in the test dataset\")     # checking total number of records / data points available in the X_test dataset"
   ]
  },
  {
   "cell_type": "code",
   "execution_count": null,
   "metadata": {
    "colab": {
     "base_uri": "https://localhost:8080/"
    },
    "id": "12mEV-er2b7s",
    "outputId": "d6020bcd-8d4e-47ae-eca0-b78bb558e6fc"
   },
   "outputs": [],
   "source": [
    "# Checking the shape of one image\n",
    "X_train[0].shape"
   ]
  },
  {
   "cell_type": "markdown",
   "metadata": {
    "id": "hjJAlpfr296r"
   },
   "source": [
    "Each image in the dataset is of shape 28X28 numbers (i.e. pixels)"
   ]
  },
  {
   "cell_type": "code",
   "execution_count": null,
   "metadata": {
    "colab": {
     "base_uri": "https://localhost:8080/"
    },
    "id": "yZTMGFdy28lK",
    "outputId": "8b013696-e6cb-4f6f-9067-4fcd17ea3cd8"
   },
   "outputs": [],
   "source": [
    "# Take a look how one image looks like\n",
    "X_train[0]"
   ]
  },
  {
   "cell_type": "markdown",
   "metadata": {
    "id": "MMsn02nQ3TvA"
   },
   "source": [
    "Only numbers! Can't understand what digit does it represent. \n",
    "\n",
    "There is a function in matplotlib called as 'matshow()', it helps you to display the image of the array of numbers"
   ]
  },
  {
   "cell_type": "code",
   "execution_count": null,
   "metadata": {
    "colab": {
     "base_uri": "https://localhost:8080/",
     "height": 292
    },
    "id": "JDEEhHTt3Qsj",
    "outputId": "d4f2d5b9-2ad0-4b08-ce5d-8edd2503dd71"
   },
   "outputs": [],
   "source": [
    "plt.matshow(X_train[0])"
   ]
  },
  {
   "cell_type": "code",
   "execution_count": null,
   "metadata": {
    "colab": {
     "base_uri": "https://localhost:8080/"
    },
    "id": "Ovv623nJHbEm",
    "outputId": "82f01208-1ff2-465f-91ca-ea4eba4a6a1b"
   },
   "outputs": [],
   "source": [
    "# we can use y_train to cross check\n",
    "y_train[0]"
   ]
  },
  {
   "cell_type": "markdown",
   "metadata": {
    "id": "3LgYJdJV3-DN"
   },
   "source": [
    "Now one can easily say the above number is 5. Well we want to build a model that will tell you what digit does that 28X28 array represent."
   ]
  },
  {
   "cell_type": "code",
   "execution_count": null,
   "metadata": {
    "colab": {
     "base_uri": "https://localhost:8080/",
     "height": 314
    },
    "id": "ug3Tv0zpi5A0",
    "outputId": "cba47abd-4f6a-4458-d24a-7b2909afc5bf"
   },
   "outputs": [],
   "source": [
    "# code to view the images\n",
    "num_rows, num_cols = 2, 5\n",
    "f, ax = plt.subplots(num_rows, num_cols, figsize=(12,5),\n",
    "                     gridspec_kw={'wspace':0.03, 'hspace':0.01}, \n",
    "                     squeeze=True)\n",
    "\n",
    "for r in range(num_rows):\n",
    "    for c in range(num_cols):\n",
    "      \n",
    "        image_index = r * 5 + c\n",
    "        ax[r,c].axis(\"off\")\n",
    "        ax[r,c].imshow( X_train[image_index], cmap='gray')\n",
    "        ax[r,c].set_title('No. %d' % y_train[image_index])\n",
    "plt.show()\n",
    "plt.close()"
   ]
  },
  {
   "cell_type": "markdown",
   "metadata": {
    "id": "SR7nFyVY7UPU"
   },
   "source": [
    "## Data Preprocessing"
   ]
  },
  {
   "cell_type": "code",
   "execution_count": null,
   "metadata": {
    "colab": {
     "base_uri": "https://localhost:8080/",
     "height": 35
    },
    "id": "TYSYGzgr4fuG",
    "outputId": "328a2a20-e449-46ae-8b93-69937fb8f8c4"
   },
   "outputs": [],
   "source": [
    "\n",
    "X_train = X_train / 255\n",
    "X_test = X_test / 255\n",
    "\n",
    "\"\"\"\n",
    "Why divided by 255?\n",
    "The pixel value lie in the range 0 - 255 representing the RGB (Red Green Blue) value. \"\"\""
   ]
  },
  {
   "cell_type": "markdown",
   "metadata": {
    "id": "dHPqEcJT6xIx"
   },
   "source": [
    "Now if you look at the data, each pixel value should be in range 0 to 1."
   ]
  },
  {
   "cell_type": "code",
   "execution_count": null,
   "metadata": {
    "colab": {
     "base_uri": "https://localhost:8080/"
    },
    "id": "SGxTk0bM6lA4",
    "outputId": "7b42b39f-66cf-4dd3-c241-4216e053e74f"
   },
   "outputs": [],
   "source": [
    "X_train[0]"
   ]
  },
  {
   "cell_type": "markdown",
   "metadata": {
    "id": "vwgjOLnw7Rl1"
   },
   "source": [
    "**Flatten the Data**\n",
    "\n",
    "We simply convert a 2 dimensional data (i.e. one image data) to 1 dimensional.\n",
    "\n",
    "Why to flatten data?\n",
    "\n",
    "Before understanding why let's check the shape of the data"
   ]
  },
  {
   "cell_type": "code",
   "execution_count": null,
   "metadata": {
    "colab": {
     "base_uri": "https://localhost:8080/"
    },
    "id": "Krewjr8d60yL",
    "outputId": "09b5896d-6af4-421a-9249-2c6256415aa1"
   },
   "outputs": [],
   "source": [
    "X_train.shape"
   ]
  },
  {
   "cell_type": "markdown",
   "metadata": {
    "id": "tCghTfZt89QE"
   },
   "source": [
    "The data is 3 dimensional. The first value i.e. 60000 is nothing but the number of records or images in this case. The second and third dimension represent each individual image i.e. each image is of shape 28X28. \n",
    "\n",
    "Most of the the supervised learning algorithms that execute classification and regression tasks, as well as some deep learning models built for this purposes, are fed with two-dimensional data. Since we have our data as three-dimensional, we will need to flatten our data to make it two-dimensional."
   ]
  },
  {
   "cell_type": "code",
   "execution_count": null,
   "metadata": {
    "id": "FTxiNjn287uw"
   },
   "outputs": [],
   "source": [
    "X_train_flattened = X_train.reshape(len(X_train), 28*28)    # converting our 2D array representin an image to one dimensional\n",
    "X_test_flattened = X_test.reshape(len(X_test), 28*28)"
   ]
  },
  {
   "cell_type": "markdown",
   "metadata": {
    "id": "iHF9he2FCMNG"
   },
   "source": [
    "Now if you check the shape of our data, it should be 2 dimensional"
   ]
  },
  {
   "cell_type": "code",
   "execution_count": null,
   "metadata": {
    "colab": {
     "base_uri": "https://localhost:8080/"
    },
    "id": "MGA8LsPECJ9O",
    "outputId": "fcfb174d-5aab-4bed-ecbd-c7c86fe106cd"
   },
   "outputs": [],
   "source": [
    "X_train_flattened.shape"
   ]
  },
  {
   "cell_type": "code",
   "execution_count": null,
   "metadata": {
    "colab": {
     "base_uri": "https://localhost:8080/"
    },
    "id": "DRUEJ3azku1n",
    "outputId": "c8c6435c-4ffc-4f8c-a165-61373317bfd3"
   },
   "outputs": [],
   "source": [
    "X_test_flattened.shape"
   ]
  },
  {
   "cell_type": "markdown",
   "metadata": {
    "id": "pMJrUsyqFehV"
   },
   "source": [
    "**Define the model**"
   ]
  },
  {
   "cell_type": "code",
   "execution_count": null,
   "metadata": {
    "id": "DTFzdn5MCTeQ"
   },
   "outputs": [],
   "source": [
    "# Defining the Model\n",
    "model = tf.keras.Sequential([\n",
    "    tf.keras.layers.Dense(10, input_shape=(784,), activation='sigmoid')     # The input shape is 784. \n",
    "])"
   ]
  },
  {
   "cell_type": "code",
   "execution_count": null,
   "metadata": {
    "colab": {
     "base_uri": "https://localhost:8080/"
    },
    "id": "rEJSaVUlNlUM",
    "outputId": "7632c348-0228-4a98-d367-842486d472b3"
   },
   "outputs": [],
   "source": [
    "model.summary()"
   ]
  },
  {
   "cell_type": "markdown",
   "metadata": {
    "id": "QGGoOmoVxr57"
   },
   "source": [
    "Generally for multi-class classification problem, it is suggested to use softmax. Later you can also try using both and keep the one which gives better performance."
   ]
  },
  {
   "cell_type": "markdown",
   "metadata": {
    "id": "ns3xpXRxFhV6"
   },
   "source": [
    "**Compile the model**"
   ]
  },
  {
   "cell_type": "code",
   "execution_count": null,
   "metadata": {
    "id": "w333bVueFdTZ"
   },
   "outputs": [],
   "source": [
    "model.compile(optimizer='adam',\n",
    "              loss='sparse_categorical_crossentropy',\n",
    "              metrics=['accuracy'])"
   ]
  },
  {
   "cell_type": "markdown",
   "metadata": {
    "id": "mFx4eplPGds9"
   },
   "source": [
    "*  **adam** is an optimization algorithm which is faster than Stochastic Gradient Descent. If you remember from the learning material of Day 4 (i.e. working of neural networks), we know that Stochastic Gradient Descent (SGD in short) is just a type of Gradient Descent algorithm.\n",
    "\n",
    "*  **sparse_categorical_crossentropy** is a loss function similar to **binary_crossentropy** (discussed in Binary Classification Notebook), the only difference is that if the target variable is binary we use binary_crossentropy but if your target values are normal integers more then two, use sparse categorical crossentropy. Why not use **categorical_crossentropy**? You may ask. Well, [this article](https://jovianlin.io/cat-crossentropy-vs-sparse-cat-crossentropy/) will help you understand it.\n",
    "\n",
    "*  The metrics used to evaluate the model is **accuracy**. Accuracy calculates how often the predictions calculated by the model are correct."
   ]
  },
  {
   "cell_type": "markdown",
   "metadata": {
    "id": "VeSNBYcYJKNp"
   },
   "source": [
    "**Fit the model**"
   ]
  },
  {
   "cell_type": "code",
   "execution_count": null,
   "metadata": {
    "colab": {
     "base_uri": "https://localhost:8080/"
    },
    "id": "pEhPuikwGaQg",
    "outputId": "97be2487-3ec9-43c5-e31e-32eab5c0f245"
   },
   "outputs": [],
   "source": [
    "model.fit(X_train_flattened, y_train, epochs=5)"
   ]
  },
  {
   "cell_type": "markdown",
   "metadata": {
    "id": "WmIv3thYJYAD"
   },
   "source": [
    "You can play with different number of epochs."
   ]
  },
  {
   "cell_type": "markdown",
   "metadata": {
    "id": "o2LDdci5JdfE"
   },
   "source": [
    "**Evaluate the model on unseen data (i.e. X_test_flattened)**"
   ]
  },
  {
   "cell_type": "code",
   "execution_count": null,
   "metadata": {
    "colab": {
     "base_uri": "https://localhost:8080/"
    },
    "id": "onu3n0QzJO1K",
    "outputId": "d7c9b956-a8e8-47ef-a039-995aef33e858"
   },
   "outputs": [],
   "source": [
    "model.evaluate(X_test_flattened, y_test)"
   ]
  },
  {
   "cell_type": "markdown",
   "metadata": {
    "id": "WT3uMdwaJuO9"
   },
   "source": [
    "The performance of the model on very simple model with no hidden layer is 92.6 %. Not Bad!"
   ]
  },
  {
   "cell_type": "markdown",
   "metadata": {
    "id": "9Dmd6wUDJ8wU"
   },
   "source": [
    "**predict for the X_test**"
   ]
  },
  {
   "cell_type": "code",
   "execution_count": null,
   "metadata": {
    "colab": {
     "base_uri": "https://localhost:8080/"
    },
    "id": "cSPYvO3qJsmq",
    "outputId": "ad419f72-fbba-45ea-cddd-f793c0a88714"
   },
   "outputs": [],
   "source": [
    "y_predicted = model.predict(X_test_flattened)\n",
    "y_predicted[0]"
   ]
  },
  {
   "cell_type": "markdown",
   "metadata": {
    "id": "jQ6HhcLrKFfb"
   },
   "source": [
    "The above numbers are the probabilities values for different digits. The maximum probability will confirm what is the predicted digit for first image in X_test.\n",
    "\n",
    "The value at the 0th index in above array of numbers is saying the probability of the digit being 0. \n",
    "\n",
    "**Generalize:** The value at the nth index in above array of numbers is saying the probability of the digit being n"
   ]
  },
  {
   "cell_type": "markdown",
   "metadata": {
    "id": "LWeHXcDmKudF"
   },
   "source": [
    "**np.argmax finds a maximum element from an array and returns the index of it**"
   ]
  },
  {
   "cell_type": "code",
   "execution_count": null,
   "metadata": {
    "colab": {
     "base_uri": "https://localhost:8080/"
    },
    "id": "QZ95EnDgKEnK",
    "outputId": "322100d0-5d4a-4e9c-c9eb-bf3a2b91d4aa"
   },
   "outputs": [],
   "source": [
    "np.argmax(y_predicted[0])"
   ]
  },
  {
   "cell_type": "markdown",
   "metadata": {
    "id": "ZYsBH4_VKy7z"
   },
   "source": [
    "The predicted digit is 7."
   ]
  },
  {
   "cell_type": "markdown",
   "metadata": {
    "id": "t3LlzcSXLbw6"
   },
   "source": [
    "Let's see the original digit at first index in X_test. Can see this using matshow() function."
   ]
  },
  {
   "cell_type": "code",
   "execution_count": null,
   "metadata": {
    "colab": {
     "base_uri": "https://localhost:8080/",
     "height": 292
    },
    "id": "pbaI7nX6KyIc",
    "outputId": "c2fbed53-01f6-491e-e34e-cdb4fa3e1aaf"
   },
   "outputs": [],
   "source": [
    "plt.matshow(X_test[0])"
   ]
  },
  {
   "cell_type": "markdown",
   "metadata": {
    "id": "Qym97msLLr9A"
   },
   "source": [
    "Hence the prediction is correct"
   ]
  },
  {
   "cell_type": "markdown",
   "metadata": {
    "id": "_NW1oFR-ckqk"
   },
   "source": [
    "### Exercise: Now use softmax activation function to create the model, compile, predict and check your results"
   ]
  },
  {
   "cell_type": "code",
   "execution_count": null,
   "metadata": {
    "id": "CbUUWQg7ckqk"
   },
   "outputs": [],
   "source": [
    "# Defining the Model1\n",
    "model1 = tf.keras.Sequential([\n",
    "    tf.keras.layers.Dense(10, input_shape=(784,), activation='softmax')     # The input shape is 784. \n",
    "])"
   ]
  },
  {
   "cell_type": "code",
   "execution_count": null,
   "metadata": {
    "colab": {
     "base_uri": "https://localhost:8080/"
    },
    "id": "9vkxSp-vckqk",
    "outputId": "1848f74e-29e3-46e8-a490-2b9085dedccc"
   },
   "outputs": [],
   "source": [
    "model1.summary()"
   ]
  },
  {
   "cell_type": "code",
   "execution_count": null,
   "metadata": {
    "id": "mDO3yoRKmDQH"
   },
   "outputs": [],
   "source": [
    "model1.compile(optimizer='adam',\n",
    "              loss='sparse_categorical_crossentropy',\n",
    "              metrics=['accuracy'])       ### compiling the model1"
   ]
  },
  {
   "cell_type": "code",
   "execution_count": null,
   "metadata": {
    "colab": {
     "base_uri": "https://localhost:8080/"
    },
    "id": "tR0rS7UsmDS1",
    "outputId": "0a99925b-d51d-42d9-bffc-c8eb5794d121"
   },
   "outputs": [],
   "source": [
    "model1.fit(X_train_flattened, y_train, epochs=3)  ### fit the model1"
   ]
  },
  {
   "cell_type": "code",
   "execution_count": null,
   "metadata": {
    "colab": {
     "base_uri": "https://localhost:8080/"
    },
    "id": "Waq-7wStmDV3",
    "outputId": "853a731c-0475-4db4-fba7-ce530fdb87e8"
   },
   "outputs": [],
   "source": [
    "model1.evaluate(X_test_flattened, y_test)   ### evaluate the model1"
   ]
  },
  {
   "cell_type": "code",
   "execution_count": null,
   "metadata": {
    "colab": {
     "base_uri": "https://localhost:8080/"
    },
    "id": "D_iAD49XmZkg",
    "outputId": "838ce94c-c4b9-4829-d5bb-6ba15c56ff3d"
   },
   "outputs": [],
   "source": [
    "y_predicted = model1.predict(X_test_flattened)      ### predict the model1\n",
    "y_predicted[0]"
   ]
  },
  {
   "cell_type": "markdown",
   "metadata": {
    "id": "tIGCWjGtLzPj"
   },
   "source": [
    "### Building Neural Network Model Using hidden layer"
   ]
  },
  {
   "cell_type": "code",
   "execution_count": null,
   "metadata": {
    "colab": {
     "base_uri": "https://localhost:8080/"
    },
    "id": "v-tS8rVaLqwl",
    "outputId": "fe279332-c86d-4814-8a0d-0f62843014d3"
   },
   "outputs": [],
   "source": [
    "# Defining the model\n",
    "model = tf.keras.Sequential([\n",
    "    tf.keras.layers.Dense(100, input_shape=(784,), activation='relu'),\n",
    "    tf.keras.layers.Dense(100, input_shape=(100,),activation='relu'),\n",
    "    tf.keras.layers.Dense(10, activation='softmax')\n",
    "])\n",
    "model.summary()\n"
   ]
  },
  {
   "cell_type": "code",
   "execution_count": null,
   "metadata": {
    "colab": {
     "base_uri": "https://localhost:8080/"
    },
    "id": "Ff-aZb_RN0qD",
    "outputId": "2ce611e2-192d-46ef-be66-ca9605c4f707"
   },
   "outputs": [],
   "source": [
    "# Compiling the model\n",
    "model.compile(optimizer='adam',\n",
    "              loss='sparse_categorical_crossentropy',\n",
    "              metrics=['accuracy'])\n",
    "\n",
    "# Fit the model\n",
    "model.fit(X_train_flattened, y_train, batch_size= 128,epochs=5)"
   ]
  },
  {
   "cell_type": "code",
   "execution_count": null,
   "metadata": {
    "colab": {
     "base_uri": "https://localhost:8080/"
    },
    "id": "thtxdz9mM4hG",
    "outputId": "89c9aa6a-fd37-4269-cd5e-6a7b15215050"
   },
   "outputs": [],
   "source": [
    "# Evaluate the model\n",
    "model.evaluate(X_test_flattened,y_test)"
   ]
  },
  {
   "cell_type": "markdown",
   "metadata": {
    "id": "57Mi2yePNGmb"
   },
   "source": [
    "**Try yourself**: \n",
    "Change the values of epochs and try adding more hidden layers. Are you able to increase the accuracy above 97.5%?"
   ]
  },
  {
   "cell_type": "markdown",
   "metadata": {
    "id": "6QQyh13YlL-X"
   },
   "source": [
    "# Saving and loading the model"
   ]
  },
  {
   "cell_type": "code",
   "execution_count": null,
   "metadata": {
    "colab": {
     "base_uri": "https://localhost:8080/"
    },
    "id": "7ihfjL2GlGAO",
    "outputId": "db125272-0e5b-4465-886b-4df40f0b4dd4"
   },
   "outputs": [],
   "source": [
    "# saving the model\n",
    "save_dir = \"/results/\"\n",
    "model_name = 'keras_mnist.h5'\n",
    "model.save(model_name)\n",
    "model_path = save_dir + model_name\n",
    "print('Saved trained model at %s ' % model_path)"
   ]
  },
  {
   "cell_type": "markdown",
   "metadata": {
    "id": "F91VHEpJONIF"
   },
   "source": [
    "# Summary\n",
    "*  We learned why we need to normalize and flatten the data.\n",
    "*  We observed the performance of very simple neural network with no hidden layer and that of with one hidden layer with 100 hidden neurons. The performance of later model was better than earlier"
   ]
  },
  {
   "cell_type": "markdown",
   "metadata": {
    "id": "T6sIXdEfckqo"
   },
   "source": [
    "## Exercises"
   ]
  },
  {
   "cell_type": "markdown",
   "metadata": {
    "id": "ZvXHkgjFckqo"
   },
   "source": [
    "#### Perform atleast 10 modifications and submit a table containing changes made and outputs observed"
   ]
  },
  {
   "cell_type": "code",
   "execution_count": null,
   "metadata": {
    "colab": {
     "base_uri": "https://localhost:8080/",
     "height": 374
    },
    "id": "aNwUkgJrckqo",
    "outputId": "4944019f-f920-4514-e1cf-3f5aa4ad4f1a"
   },
   "outputs": [],
   "source": [
    "# code to view the images\n",
    "num_rows, num_cols = 3, 6            ### I changed num of rows and columns as 3,6\n",
    "f, ax = plt.subplots(num_rows, num_cols, figsize=(8,7),\n",
    "                     gridspec_kw={'wspace':0.05, 'hspace':0.03}, \n",
    "                     squeeze=True)   ### Here i changed figsize as 8,7 and wspace and hspace as 0.05 and 0.03\n",
    "\n",
    "for r in range(num_rows):\n",
    "    for c in range(num_cols):\n",
    "      \n",
    "        image_index = r * 5 + c\n",
    "        ax[r,c].axis(\"off\")\n",
    "        ax[r,c].imshow( X_train[image_index], cmap='pink')   ### I changed cmap color as pink.\n",
    "        ax[r,c].set_title('No. %d' % y_train[image_index])\n",
    "plt.show()\n",
    "plt.close()"
   ]
  },
  {
   "cell_type": "code",
   "execution_count": null,
   "metadata": {
    "colab": {
     "base_uri": "https://localhost:8080/"
    },
    "id": "WZhzuKyQkgRA",
    "outputId": "f6c8d3a0-3a07-4d91-bd4d-ad634154a6f0"
   },
   "outputs": [],
   "source": [
    "model.fit(X_test_flattened, y_test, epochs=4)    ### I changed model fit as X_test_flattened, y_test and epochs as 4."
   ]
  },
  {
   "cell_type": "code",
   "execution_count": null,
   "metadata": {
    "colab": {
     "base_uri": "https://localhost:8080/"
    },
    "id": "ut4PhDi_lNAD",
    "outputId": "350fcb39-2ace-4405-c00d-fd0dbf1f405b"
   },
   "outputs": [],
   "source": [
    "model.evaluate(X_train_flattened, y_train) ### Here i changed model evaluate as X_train_flattened, y_train."
   ]
  },
  {
   "cell_type": "code",
   "execution_count": null,
   "metadata": {
    "colab": {
     "base_uri": "https://localhost:8080/"
    },
    "id": "0cWtoF6-kPZI",
    "outputId": "e6095a18-91bd-41e2-9906-4bc96a15187b"
   },
   "outputs": [],
   "source": [
    "y_predicted1 = model.predict(X_test_flattened)\n",
    "y_predicted1[0]"
   ]
  },
  {
   "cell_type": "code",
   "execution_count": null,
   "metadata": {
    "colab": {
     "base_uri": "https://localhost:8080/"
    },
    "id": "ZRusmvrMdPei",
    "outputId": "2948af4a-2510-4d96-d3a4-b2309bdf346a"
   },
   "outputs": [],
   "source": [
    "np.argmin(y_predicted[0])  ### Here i changed argmin to finds a minimum element from an array."
   ]
  },
  {
   "cell_type": "code",
   "execution_count": null,
   "metadata": {
    "colab": {
     "base_uri": "https://localhost:8080/",
     "height": 292
    },
    "id": "7Nwhosgyjufl",
    "outputId": "19d2c2a0-504e-467d-8db0-ac51e43c933d"
   },
   "outputs": [],
   "source": [
    "plt.matshow(X_test[5])  ### I changed matshow as X_test[5]."
   ]
  },
  {
   "cell_type": "code",
   "execution_count": null,
   "metadata": {
    "colab": {
     "base_uri": "https://localhost:8080/"
    },
    "id": "vKixKNXHpK-j",
    "outputId": "3e3bc20a-3390-4178-a64c-c848fbb8b83c"
   },
   "outputs": [],
   "source": [
    "# Compiling the model\n",
    "model.compile(optimizer='adam',\n",
    "              loss='sparse_categorical_crossentropy',\n",
    "              metrics=['accuracy'])\n",
    "\n",
    "# Fit the model\n",
    "model.fit(X_train_flattened, y_train, batch_size= 100,epochs=3) ### Here i changed batch size as 100 and epochs as 3"
   ]
  }
 ],
 "metadata": {
  "colab": {
   "collapsed_sections": [
    "JecJgLmCO5pq"
   ],
   "name": "PDL_Lab10_Tutorial_MNIST_Multi_class_classification_model_Mahalakshmi18.ipynb",
   "provenance": []
  },
  "kernelspec": {
   "display_name": "Python 3",
   "language": "python",
   "name": "python3"
  },
  "language_info": {
   "codemirror_mode": {
    "name": "ipython",
    "version": 3
   },
   "file_extension": ".py",
   "mimetype": "text/x-python",
   "name": "python",
   "nbconvert_exporter": "python",
   "pygments_lexer": "ipython3",
   "version": "3.8.8"
  }
 },
 "nbformat": 4,
 "nbformat_minor": 1
}
