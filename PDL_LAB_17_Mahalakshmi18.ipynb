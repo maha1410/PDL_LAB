{
 "cells": [
  {
   "cell_type": "markdown",
   "metadata": {
    "id": "9nxZ2dwgr7nm"
   },
   "source": [
    "# 205229118\n",
    "# Mahalakshmi S"
   ]
  },
  {
   "cell_type": "markdown",
   "metadata": {
    "id": "HqIeROVnr_02"
   },
   "source": [
    "## Lab17. Text Classification using Simple RNN\n",
    "Objectives: In this lab, you will implement custom sentiment analysis model using Simple RNN. \n",
    "## Steps\n",
    "### Import the libraries"
   ]
  },
  {
   "cell_type": "code",
   "execution_count": 1,
   "metadata": {
    "colab": {
     "base_uri": "https://localhost:8080/"
    },
    "id": "eubd4cHrresy",
    "outputId": "014b41ee-bc49-416a-d060-2cb19da3e798"
   },
   "outputs": [
    {
     "name": "stderr",
     "output_type": "stream",
     "text": [
      "[nltk_data] Downloading package stopwords to\n",
      "[nltk_data]     C:\\Users\\MAHALAKSHMI\\AppData\\Roaming\\nltk_data...\n",
      "[nltk_data]   Package stopwords is already up-to-date!\n"
     ]
    }
   ],
   "source": [
    "import csv\n",
    "import tensorflow as tf\n",
    "import numpy as np\n",
    "import pandas as pd\n",
    "import nltk \n",
    "from tensorflow.keras.preprocessing.text import Tokenizer\n",
    "from tensorflow.keras.preprocessing.sequence import pad_sequences\n",
    "from keras.models import Sequential\n",
    "from keras.layers import Dense, Embedding,SimpleRNN\n",
    "from nltk.corpus import stopwords\n",
    "nltk.download('stopwords')\n",
    "STOPWORDS = set(stopwords.words('english'))\n",
    "from sklearn.model_selection import train_test_split\n",
    "\n",
    "import matplotlib\n",
    "import matplotlib.pyplot as plt"
   ]
  },
  {
   "cell_type": "code",
   "execution_count": 2,
   "metadata": {
    "colab": {
     "base_uri": "https://localhost:8080/",
     "height": 204
    },
    "id": "bOW_tJLVsPNx",
    "outputId": "7ae3ca2d-9ed9-47a6-fafe-38045408db5b"
   },
   "outputs": [
    {
     "data": {
      "text/html": [
       "<div>\n",
       "<style scoped>\n",
       "    .dataframe tbody tr th:only-of-type {\n",
       "        vertical-align: middle;\n",
       "    }\n",
       "\n",
       "    .dataframe tbody tr th {\n",
       "        vertical-align: top;\n",
       "    }\n",
       "\n",
       "    .dataframe thead th {\n",
       "        text-align: right;\n",
       "    }\n",
       "</style>\n",
       "<table border=\"1\" class=\"dataframe\">\n",
       "  <thead>\n",
       "    <tr style=\"text-align: right;\">\n",
       "      <th></th>\n",
       "      <th>label</th>\n",
       "      <th>movie review</th>\n",
       "    </tr>\n",
       "  </thead>\n",
       "  <tbody>\n",
       "    <tr>\n",
       "      <th>0</th>\n",
       "      <td>0</td>\n",
       "      <td>When a new employee joins a team, the initial ...</td>\n",
       "    </tr>\n",
       "    <tr>\n",
       "      <th>1</th>\n",
       "      <td>0</td>\n",
       "      <td>home comes with its own distractions.</td>\n",
       "    </tr>\n",
       "    <tr>\n",
       "      <th>2</th>\n",
       "      <td>0</td>\n",
       "      <td>Avoid work calls post-work hours unless absolu...</td>\n",
       "    </tr>\n",
       "    <tr>\n",
       "      <th>3</th>\n",
       "      <td>0</td>\n",
       "      <td>Risk of feeling burnt out</td>\n",
       "    </tr>\n",
       "    <tr>\n",
       "      <th>4</th>\n",
       "      <td>0</td>\n",
       "      <td>real challenge for employers to monitor perfor...</td>\n",
       "    </tr>\n",
       "  </tbody>\n",
       "</table>\n",
       "</div>"
      ],
      "text/plain": [
       "   label                                       movie review\n",
       "0      0  When a new employee joins a team, the initial ...\n",
       "1      0              home comes with its own distractions.\n",
       "2      0  Avoid work calls post-work hours unless absolu...\n",
       "3      0                          Risk of feeling burnt out\n",
       "4      0  real challenge for employers to monitor perfor..."
      ]
     },
     "execution_count": 2,
     "metadata": {},
     "output_type": "execute_result"
    }
   ],
   "source": [
    "com = pd.read_csv(\"comments.csv\", encoding= 'unicode_escape')\n",
    "com.head()"
   ]
  },
  {
   "cell_type": "code",
   "execution_count": 3,
   "metadata": {
    "id": "zBGL2POmviVK"
   },
   "outputs": [],
   "source": [
    "X=[]\n",
    "y = com['label']\n",
    "for review in com['movie review']:\n",
    "    filtered_sentence = [w.lower() for w in review.split() if not w in STOPWORDS]\n",
    "    X.append(filtered_sentence)\n",
    "X = pd.Series(X)  "
   ]
  },
  {
   "cell_type": "markdown",
   "metadata": {},
   "source": [
    "## Dataset Preparation"
   ]
  },
  {
   "cell_type": "code",
   "execution_count": 4,
   "metadata": {
    "colab": {
     "base_uri": "https://localhost:8080/"
    },
    "id": "wT8NYIWhwUtA",
    "outputId": "8dc1c889-6cfc-4db8-8e60-5997a4be875a"
   },
   "outputs": [],
   "source": [
    "X_train,X_val,y_train,y_val = train_test_split(X,y,train_size=0.7)"
   ]
  },
  {
   "cell_type": "code",
   "execution_count": 5,
   "metadata": {
    "id": "LoX-eGYcwiCn"
   },
   "outputs": [
    {
     "name": "stdout",
     "output_type": "stream",
     "text": [
      "(14,)\n",
      "(14,)\n"
     ]
    }
   ],
   "source": [
    "print(X_train.shape)\n",
    "print(y_train.shape)"
   ]
  },
  {
   "cell_type": "code",
   "execution_count": 6,
   "metadata": {
    "colab": {
     "base_uri": "https://localhost:8080/"
    },
    "id": "dN4wSShDwvin",
    "outputId": "71461280-d1ad-4fe5-b5dc-5a12bb6052b2"
   },
   "outputs": [
    {
     "name": "stdout",
     "output_type": "stream",
     "text": [
      "(6,)\n",
      "(6,)\n"
     ]
    }
   ],
   "source": [
    "print(X_val.shape)\n",
    "print(y_val.shape)"
   ]
  },
  {
   "cell_type": "markdown",
   "metadata": {},
   "source": [
    "## Pre-processing the Text"
   ]
  },
  {
   "cell_type": "code",
   "execution_count": 7,
   "metadata": {
    "colab": {
     "base_uri": "https://localhost:8080/"
    },
    "id": "e8_Czl-UwyHI",
    "outputId": "ca9f85da-0c39-45d5-ca87-b65ff05e7a6b"
   },
   "outputs": [],
   "source": [
    "train_token = Tokenizer(num_words=500,oov_token='<oov>')\n",
    "train_token.fit_on_texts(X_train)\n",
    "word_index = train_token.word_index\n",
    "train_sequence = train_token.texts_to_sequences(X_train)"
   ]
  },
  {
   "cell_type": "code",
   "execution_count": 8,
   "metadata": {
    "id": "fHQpDokvw1bH"
   },
   "outputs": [
    {
     "data": {
      "text/plain": [
       "{'<oov>': 1,\n",
       " 'working': 2,\n",
       " 'when': 3,\n",
       " 'new': 4,\n",
       " 'employee': 5,\n",
       " 'joins': 6,\n",
       " 'team,': 7,\n",
       " 'initial': 8,\n",
       " 'week': 9,\n",
       " 'two': 10}"
      ]
     },
     "execution_count": 8,
     "metadata": {},
     "output_type": "execute_result"
    }
   ],
   "source": [
    "dict(list(word_index.items())[0:10])"
   ]
  },
  {
   "cell_type": "code",
   "execution_count": 9,
   "metadata": {},
   "outputs": [
    {
     "data": {
      "text/plain": [
       "95"
      ]
     },
     "execution_count": 9,
     "metadata": {},
     "output_type": "execute_result"
    }
   ],
   "source": [
    "vocab_si = len(train_token.word_index) + 1\n",
    "vocab_si"
   ]
  },
  {
   "cell_type": "code",
   "execution_count": 10,
   "metadata": {},
   "outputs": [
    {
     "data": {
      "text/plain": [
       "[3, 4, 5, 6, 7, 8, 9, 10, 11, 12, 13, 14, 15, 16, 17]"
      ]
     },
     "execution_count": 10,
     "metadata": {},
     "output_type": "execute_result"
    }
   ],
   "source": [
    "train_sequence[5]"
   ]
  },
  {
   "cell_type": "code",
   "execution_count": 11,
   "metadata": {
    "colab": {
     "base_uri": "https://localhost:8080/"
    },
    "id": "MXNwOVl74aqk",
    "outputId": "e126f5a7-7683-420a-e5f6-6c6f8e650654"
   },
   "outputs": [
    {
     "name": "stdout",
     "output_type": "stream",
     "text": [
      "15\n"
     ]
    }
   ],
   "source": [
    "print(len(train_sequence[0]))"
   ]
  },
  {
   "cell_type": "code",
   "execution_count": 12,
   "metadata": {
    "colab": {
     "base_uri": "https://localhost:8080/"
    },
    "id": "Yc3P8cT14atj",
    "outputId": "81ae2e5f-896b-4278-c16e-644aa709aaf1"
   },
   "outputs": [
    {
     "name": "stdout",
     "output_type": "stream",
     "text": [
      "3\n"
     ]
    }
   ],
   "source": [
    "print(len(train_sequence[10]))"
   ]
  },
  {
   "cell_type": "code",
   "execution_count": 13,
   "metadata": {
    "id": "3FtM1muD4IUG"
   },
   "outputs": [],
   "source": [
    "train_padded = pad_sequences(train_sequence,maxlen=100,padding='post')"
   ]
  },
  {
   "cell_type": "code",
   "execution_count": 14,
   "metadata": {
    "colab": {
     "base_uri": "https://localhost:8080/"
    },
    "id": "dZTzIwgx4IW9",
    "outputId": "2873001a-4642-4dfa-8e7f-98dc41e9589d"
   },
   "outputs": [
    {
     "data": {
      "text/plain": [
       "array([ 3,  4,  5,  6,  7,  8,  9, 10, 11, 12, 13, 14, 15, 16, 17,  0,  0,\n",
       "        0,  0,  0,  0,  0,  0,  0,  0,  0,  0,  0,  0,  0,  0,  0,  0,  0,\n",
       "        0,  0,  0,  0,  0,  0,  0,  0,  0,  0,  0,  0,  0,  0,  0,  0,  0,\n",
       "        0,  0,  0,  0,  0,  0,  0,  0,  0,  0,  0,  0,  0,  0,  0,  0,  0,\n",
       "        0,  0,  0,  0,  0,  0,  0,  0,  0,  0,  0,  0,  0,  0,  0,  0,  0,\n",
       "        0,  0,  0,  0,  0,  0,  0,  0,  0,  0,  0,  0,  0,  0,  0])"
      ]
     },
     "execution_count": 14,
     "metadata": {},
     "output_type": "execute_result"
    }
   ],
   "source": [
    "train_padded[5]"
   ]
  },
  {
   "cell_type": "code",
   "execution_count": 15,
   "metadata": {
    "id": "HUzEkBQn4P2K"
   },
   "outputs": [],
   "source": [
    "val_token = Tokenizer(num_words=100,oov_token='<oov>')\n",
    "val_token.fit_on_texts(X_val)\n",
    "val_index = val_token.word_index\n",
    "val_sequence = val_token.texts_to_sequences(X_val)"
   ]
  },
  {
   "cell_type": "code",
   "execution_count": 16,
   "metadata": {
    "colab": {
     "base_uri": "https://localhost:8080/"
    },
    "id": "VbgqGbnJ4P45",
    "outputId": "5fbaa017-2e74-4c19-98e1-bcbc305c6965"
   },
   "outputs": [
    {
     "data": {
      "text/plain": [
       "[4, 3, 44, 45, 46, 47, 48, 49, 50, 51, 52, 2, 5]"
      ]
     },
     "execution_count": 16,
     "metadata": {},
     "output_type": "execute_result"
    }
   ],
   "source": [
    "val_sequence[5]"
   ]
  },
  {
   "cell_type": "code",
   "execution_count": 17,
   "metadata": {
    "id": "3ZQXv3xB4P7o"
   },
   "outputs": [],
   "source": [
    "val_padded = pad_sequences(val_sequence,maxlen=100,padding='post')"
   ]
  },
  {
   "cell_type": "code",
   "execution_count": 18,
   "metadata": {
    "colab": {
     "base_uri": "https://localhost:8080/"
    },
    "id": "LmX6VGE75OK6",
    "outputId": "be09d630-f090-45ce-c926-00b07d5dc4cb"
   },
   "outputs": [
    {
     "data": {
      "text/plain": [
       "array([ 4,  3, 44, 45, 46, 47, 48, 49, 50, 51, 52,  2,  5,  0,  0,  0,  0,\n",
       "        0,  0,  0,  0,  0,  0,  0,  0,  0,  0,  0,  0,  0,  0,  0,  0,  0,\n",
       "        0,  0,  0,  0,  0,  0,  0,  0,  0,  0,  0,  0,  0,  0,  0,  0,  0,\n",
       "        0,  0,  0,  0,  0,  0,  0,  0,  0,  0,  0,  0,  0,  0,  0,  0,  0,\n",
       "        0,  0,  0,  0,  0,  0,  0,  0,  0,  0,  0,  0,  0,  0,  0,  0,  0,\n",
       "        0,  0,  0,  0,  0,  0,  0,  0,  0,  0,  0,  0,  0,  0,  0])"
      ]
     },
     "execution_count": 18,
     "metadata": {},
     "output_type": "execute_result"
    }
   ],
   "source": [
    "val_padded[5]"
   ]
  },
  {
   "cell_type": "code",
   "execution_count": 19,
   "metadata": {},
   "outputs": [
    {
     "name": "stdout",
     "output_type": "stream",
     "text": [
      "8\n"
     ]
    }
   ],
   "source": [
    "print(len(val_sequence[0]))"
   ]
  },
  {
   "cell_type": "code",
   "execution_count": 20,
   "metadata": {
    "id": "R2f12_DTyUn4"
   },
   "outputs": [
    {
     "name": "stdout",
     "output_type": "stream",
     "text": [
      "5\n"
     ]
    }
   ],
   "source": [
    "print(len(val_sequence[4]))"
   ]
  },
  {
   "cell_type": "markdown",
   "metadata": {},
   "source": [
    "## Model Creation"
   ]
  },
  {
   "cell_type": "code",
   "execution_count": 21,
   "metadata": {
    "id": "8xuOln8azGKK"
   },
   "outputs": [],
   "source": [
    "model_rnn = Sequential()\n",
    "model_rnn.add(Embedding(5000,8,input_length=150))\n",
    "model_rnn.add(SimpleRNN(32,activation='relu'))\n",
    "model_rnn.add(Embedding(5000,64,input_length=150))\n",
    "model_rnn.add(SimpleRNN(128,activation='tanh' ))\n",
    "model_rnn.add(Dense('1',activation='sigmoid'))"
   ]
  },
  {
   "cell_type": "code",
   "execution_count": 22,
   "metadata": {
    "colab": {
     "base_uri": "https://localhost:8080/"
    },
    "id": "shrUCSMZ2viC",
    "outputId": "3c76364e-9555-4f5e-ef81-cfc9caf2f86a"
   },
   "outputs": [
    {
     "name": "stdout",
     "output_type": "stream",
     "text": [
      "Model: \"sequential\"\n",
      "_________________________________________________________________\n",
      "Layer (type)                 Output Shape              Param #   \n",
      "=================================================================\n",
      "embedding (Embedding)        (None, 150, 8)            40000     \n",
      "_________________________________________________________________\n",
      "simple_rnn (SimpleRNN)       (None, 32)                1312      \n",
      "_________________________________________________________________\n",
      "embedding_1 (Embedding)      (None, 32, 64)            320000    \n",
      "_________________________________________________________________\n",
      "simple_rnn_1 (SimpleRNN)     (None, 128)               24704     \n",
      "_________________________________________________________________\n",
      "dense (Dense)                (None, 1)                 129       \n",
      "=================================================================\n",
      "Total params: 386,145\n",
      "Trainable params: 386,145\n",
      "Non-trainable params: 0\n",
      "_________________________________________________________________\n"
     ]
    }
   ],
   "source": [
    "model_rnn.summary()"
   ]
  },
  {
   "cell_type": "code",
   "execution_count": 23,
   "metadata": {
    "id": "AUfwObyl2zlH"
   },
   "outputs": [],
   "source": [
    "model_rnn.compile(optimizer='adam',loss='binary_crossentropy',metrics=['accuracy'])"
   ]
  },
  {
   "cell_type": "code",
   "execution_count": 24,
   "metadata": {
    "colab": {
     "base_uri": "https://localhost:8080/",
     "height": 316
    },
    "id": "6DGzZjau2ziR",
    "outputId": "efdce887-c0c8-4683-c234-3df69dff7142"
   },
   "outputs": [
    {
     "name": "stdout",
     "output_type": "stream",
     "text": [
      "Epoch 1/15\n",
      "WARNING:tensorflow:Model was constructed with shape (None, 150) for input KerasTensor(type_spec=TensorSpec(shape=(None, 150), dtype=tf.float32, name='embedding_input'), name='embedding_input', description=\"created by layer 'embedding_input'\"), but it was called on an input with incompatible shape (None, 100).\n",
      "WARNING:tensorflow:Gradients do not exist for variables ['embedding/embeddings:0', 'simple_rnn/simple_rnn_cell/kernel:0', 'simple_rnn/simple_rnn_cell/recurrent_kernel:0', 'simple_rnn/simple_rnn_cell/bias:0'] when minimizing the loss.\n",
      "WARNING:tensorflow:Model was constructed with shape (None, 150) for input KerasTensor(type_spec=TensorSpec(shape=(None, 150), dtype=tf.float32, name='embedding_input'), name='embedding_input', description=\"created by layer 'embedding_input'\"), but it was called on an input with incompatible shape (None, 100).\n",
      "WARNING:tensorflow:Gradients do not exist for variables ['embedding/embeddings:0', 'simple_rnn/simple_rnn_cell/kernel:0', 'simple_rnn/simple_rnn_cell/recurrent_kernel:0', 'simple_rnn/simple_rnn_cell/bias:0'] when minimizing the loss.\n",
      "1/1 - 2s - loss: 0.7048 - accuracy: 0.4286\n",
      "Epoch 2/15\n",
      "1/1 - 0s - loss: 0.7044 - accuracy: 0.5714\n",
      "Epoch 3/15\n",
      "1/1 - 0s - loss: 0.6868 - accuracy: 0.5714\n",
      "Epoch 4/15\n",
      "1/1 - 0s - loss: 0.6830 - accuracy: 0.5714\n",
      "Epoch 5/15\n",
      "1/1 - 0s - loss: 0.6850 - accuracy: 0.5714\n",
      "Epoch 6/15\n",
      "1/1 - 0s - loss: 0.6854 - accuracy: 0.5714\n",
      "Epoch 7/15\n",
      "1/1 - 0s - loss: 0.6845 - accuracy: 0.5714\n",
      "Epoch 8/15\n",
      "1/1 - 0s - loss: 0.6835 - accuracy: 0.5714\n",
      "Epoch 9/15\n",
      "1/1 - 0s - loss: 0.6829 - accuracy: 0.5714\n",
      "Epoch 10/15\n",
      "1/1 - 0s - loss: 0.6830 - accuracy: 0.5714\n",
      "Epoch 11/15\n",
      "1/1 - 0s - loss: 0.6833 - accuracy: 0.5714\n",
      "Epoch 12/15\n",
      "1/1 - 0s - loss: 0.6835 - accuracy: 0.5714\n",
      "Epoch 13/15\n",
      "1/1 - 0s - loss: 0.6834 - accuracy: 0.5714\n",
      "Epoch 14/15\n",
      "1/1 - 0s - loss: 0.6831 - accuracy: 0.5714\n",
      "Epoch 15/15\n",
      "1/1 - 0s - loss: 0.6829 - accuracy: 0.5714\n"
     ]
    }
   ],
   "source": [
    "history = model_rnn.fit(train_padded,y_train,epochs=15,verbose=2,batch_size=25)"
   ]
  },
  {
   "cell_type": "code",
   "execution_count": 25,
   "metadata": {
    "id": "bY7X9hso62Fd"
   },
   "outputs": [
    {
     "name": "stdout",
     "output_type": "stream",
     "text": [
      "WARNING:tensorflow:Model was constructed with shape (None, 150) for input KerasTensor(type_spec=TensorSpec(shape=(None, 150), dtype=tf.float32, name='embedding_input'), name='embedding_input', description=\"created by layer 'embedding_input'\"), but it was called on an input with incompatible shape (None, 100).\n",
      "1/1 [==============================] - 1s 549ms/step - loss: 0.7489 - accuracy: 0.3333\n"
     ]
    },
    {
     "data": {
      "text/plain": [
       "[0.7489405274391174, 0.3333333432674408]"
      ]
     },
     "execution_count": 25,
     "metadata": {},
     "output_type": "execute_result"
    }
   ],
   "source": [
    "model_rnn.evaluate(val_padded,y_val)"
   ]
  },
  {
   "cell_type": "code",
   "execution_count": 26,
   "metadata": {},
   "outputs": [],
   "source": [
    "model_rnn3 = Sequential()\n",
    "model_rnn3.add(Embedding(5000,512,input_length=150))\n",
    "model_rnn3.add(SimpleRNN(32,activation='relu'))\n",
    "model_rnn3.add(Embedding(5000,64,input_length=150))\n",
    "model_rnn3.add(SimpleRNN(32,activation='relu'))\n",
    "model_rnn3.add(Embedding(5000,128,input_length=150))\n",
    "model_rnn3.add(SimpleRNN(32,activation='relu'))\n",
    "model_rnn3.add(Dense('1',activation='sigmoid'))"
   ]
  },
  {
   "cell_type": "code",
   "execution_count": 27,
   "metadata": {},
   "outputs": [
    {
     "name": "stdout",
     "output_type": "stream",
     "text": [
      "Model: \"sequential_1\"\n",
      "_________________________________________________________________\n",
      "Layer (type)                 Output Shape              Param #   \n",
      "=================================================================\n",
      "embedding_2 (Embedding)      (None, 150, 512)          2560000   \n",
      "_________________________________________________________________\n",
      "simple_rnn_2 (SimpleRNN)     (None, 32)                17440     \n",
      "_________________________________________________________________\n",
      "embedding_3 (Embedding)      (None, 32, 64)            320000    \n",
      "_________________________________________________________________\n",
      "simple_rnn_3 (SimpleRNN)     (None, 32)                3104      \n",
      "_________________________________________________________________\n",
      "embedding_4 (Embedding)      (None, 32, 128)           640000    \n",
      "_________________________________________________________________\n",
      "simple_rnn_4 (SimpleRNN)     (None, 32)                5152      \n",
      "_________________________________________________________________\n",
      "dense_1 (Dense)              (None, 1)                 33        \n",
      "=================================================================\n",
      "Total params: 3,545,729\n",
      "Trainable params: 3,545,729\n",
      "Non-trainable params: 0\n",
      "_________________________________________________________________\n"
     ]
    }
   ],
   "source": [
    "model_rnn3.summary()"
   ]
  },
  {
   "cell_type": "code",
   "execution_count": 28,
   "metadata": {},
   "outputs": [],
   "source": [
    "model_rnn3.compile(optimizer='adam',loss='binary_crossentropy',metrics=['accuracy'])"
   ]
  },
  {
   "cell_type": "code",
   "execution_count": 29,
   "metadata": {},
   "outputs": [
    {
     "name": "stdout",
     "output_type": "stream",
     "text": [
      "Epoch 1/10\n",
      "WARNING:tensorflow:Model was constructed with shape (None, 150) for input KerasTensor(type_spec=TensorSpec(shape=(None, 150), dtype=tf.float32, name='embedding_2_input'), name='embedding_2_input', description=\"created by layer 'embedding_2_input'\"), but it was called on an input with incompatible shape (None, 100).\n",
      "WARNING:tensorflow:Gradients do not exist for variables ['embedding_2/embeddings:0', 'simple_rnn_2/simple_rnn_cell_2/kernel:0', 'simple_rnn_2/simple_rnn_cell_2/recurrent_kernel:0', 'simple_rnn_2/simple_rnn_cell_2/bias:0', 'embedding_3/embeddings:0', 'simple_rnn_3/simple_rnn_cell_3/kernel:0', 'simple_rnn_3/simple_rnn_cell_3/recurrent_kernel:0', 'simple_rnn_3/simple_rnn_cell_3/bias:0'] when minimizing the loss.\n",
      "WARNING:tensorflow:Model was constructed with shape (None, 150) for input KerasTensor(type_spec=TensorSpec(shape=(None, 150), dtype=tf.float32, name='embedding_2_input'), name='embedding_2_input', description=\"created by layer 'embedding_2_input'\"), but it was called on an input with incompatible shape (None, 100).\n",
      "WARNING:tensorflow:Gradients do not exist for variables ['embedding_2/embeddings:0', 'simple_rnn_2/simple_rnn_cell_2/kernel:0', 'simple_rnn_2/simple_rnn_cell_2/recurrent_kernel:0', 'simple_rnn_2/simple_rnn_cell_2/bias:0', 'embedding_3/embeddings:0', 'simple_rnn_3/simple_rnn_cell_3/kernel:0', 'simple_rnn_3/simple_rnn_cell_3/recurrent_kernel:0', 'simple_rnn_3/simple_rnn_cell_3/bias:0'] when minimizing the loss.\n",
      "1/1 - 2s - loss: 0.6859 - accuracy: 0.5714\n",
      "Epoch 2/10\n",
      "1/1 - 0s - loss: 0.6843 - accuracy: 0.5714\n",
      "Epoch 3/10\n",
      "1/1 - 0s - loss: 0.6832 - accuracy: 0.5714\n",
      "Epoch 4/10\n",
      "1/1 - 0s - loss: 0.6829 - accuracy: 0.5714\n",
      "Epoch 5/10\n",
      "1/1 - 0s - loss: 0.6833 - accuracy: 0.5714\n",
      "Epoch 6/10\n",
      "1/1 - 0s - loss: 0.6837 - accuracy: 0.5714\n",
      "Epoch 7/10\n",
      "1/1 - 0s - loss: 0.6837 - accuracy: 0.5714\n",
      "Epoch 8/10\n",
      "1/1 - 0s - loss: 0.6834 - accuracy: 0.5714\n",
      "Epoch 9/10\n",
      "1/1 - 0s - loss: 0.6831 - accuracy: 0.5714\n",
      "Epoch 10/10\n",
      "1/1 - 0s - loss: 0.6830 - accuracy: 0.5714\n"
     ]
    }
   ],
   "source": [
    "history3=model_rnn3.fit(train_padded,y_train,epochs=10,verbose=2,batch_size=25)"
   ]
  },
  {
   "cell_type": "code",
   "execution_count": 30,
   "metadata": {},
   "outputs": [
    {
     "name": "stdout",
     "output_type": "stream",
     "text": [
      "WARNING:tensorflow:Model was constructed with shape (None, 150) for input KerasTensor(type_spec=TensorSpec(shape=(None, 150), dtype=tf.float32, name='embedding_2_input'), name='embedding_2_input', description=\"created by layer 'embedding_2_input'\"), but it was called on an input with incompatible shape (None, 100).\n",
      "1/1 [==============================] - 1s 709ms/step - loss: 0.7508 - accuracy: 0.3333\n"
     ]
    },
    {
     "data": {
      "text/plain": [
       "[0.7507752776145935, 0.3333333432674408]"
      ]
     },
     "execution_count": 30,
     "metadata": {},
     "output_type": "execute_result"
    }
   ],
   "source": [
    "model_rnn3.evaluate(val_padded,y_val)"
   ]
  },
  {
   "cell_type": "code",
   "execution_count": 31,
   "metadata": {},
   "outputs": [],
   "source": [
    "model_rnn5 = Sequential()\n",
    "model_rnn5.add(Embedding(5000,128,input_length=150))\n",
    "model_rnn5.add(SimpleRNN(16,activation='relu'))\n",
    "model_rnn5.add(Embedding(5000,64,input_length=150))\n",
    "model_rnn5.add(SimpleRNN(8,activation='relu'))\n",
    "model_rnn5.add(Embedding(5000,512,input_length=150))\n",
    "model_rnn5.add(SimpleRNN(32,activation='relu'))\n",
    "model_rnn5.add(Embedding(5000,2056,input_length=150))\n",
    "model_rnn5.add(SimpleRNN(16,activation='relu'))\n",
    "model_rnn5.add(Dense('1',activation='sigmoid'))"
   ]
  },
  {
   "cell_type": "code",
   "execution_count": 32,
   "metadata": {},
   "outputs": [
    {
     "name": "stdout",
     "output_type": "stream",
     "text": [
      "Model: \"sequential_2\"\n",
      "_________________________________________________________________\n",
      "Layer (type)                 Output Shape              Param #   \n",
      "=================================================================\n",
      "embedding_5 (Embedding)      (None, 150, 128)          640000    \n",
      "_________________________________________________________________\n",
      "simple_rnn_5 (SimpleRNN)     (None, 16)                2320      \n",
      "_________________________________________________________________\n",
      "embedding_6 (Embedding)      (None, 16, 64)            320000    \n",
      "_________________________________________________________________\n",
      "simple_rnn_6 (SimpleRNN)     (None, 8)                 584       \n",
      "_________________________________________________________________\n",
      "embedding_7 (Embedding)      (None, 8, 512)            2560000   \n",
      "_________________________________________________________________\n",
      "simple_rnn_7 (SimpleRNN)     (None, 32)                17440     \n",
      "_________________________________________________________________\n",
      "embedding_8 (Embedding)      (None, 32, 2056)          10280000  \n",
      "_________________________________________________________________\n",
      "simple_rnn_8 (SimpleRNN)     (None, 16)                33168     \n",
      "_________________________________________________________________\n",
      "dense_2 (Dense)              (None, 1)                 17        \n",
      "=================================================================\n",
      "Total params: 13,853,529\n",
      "Trainable params: 13,853,529\n",
      "Non-trainable params: 0\n",
      "_________________________________________________________________\n"
     ]
    }
   ],
   "source": [
    "model_rnn5.summary()"
   ]
  },
  {
   "cell_type": "code",
   "execution_count": 33,
   "metadata": {},
   "outputs": [],
   "source": [
    "model_rnn5.compile(optimizer='adam',loss='binary_crossentropy',metrics=['accuracy'])"
   ]
  },
  {
   "cell_type": "code",
   "execution_count": 34,
   "metadata": {},
   "outputs": [
    {
     "name": "stdout",
     "output_type": "stream",
     "text": [
      "Epoch 1/10\n",
      "WARNING:tensorflow:Model was constructed with shape (None, 150) for input KerasTensor(type_spec=TensorSpec(shape=(None, 150), dtype=tf.float32, name='embedding_5_input'), name='embedding_5_input', description=\"created by layer 'embedding_5_input'\"), but it was called on an input with incompatible shape (None, 100).\n",
      "WARNING:tensorflow:Gradients do not exist for variables ['embedding_5/embeddings:0', 'simple_rnn_5/simple_rnn_cell_5/kernel:0', 'simple_rnn_5/simple_rnn_cell_5/recurrent_kernel:0', 'simple_rnn_5/simple_rnn_cell_5/bias:0', 'embedding_6/embeddings:0', 'simple_rnn_6/simple_rnn_cell_6/kernel:0', 'simple_rnn_6/simple_rnn_cell_6/recurrent_kernel:0', 'simple_rnn_6/simple_rnn_cell_6/bias:0', 'embedding_7/embeddings:0', 'simple_rnn_7/simple_rnn_cell_7/kernel:0', 'simple_rnn_7/simple_rnn_cell_7/recurrent_kernel:0', 'simple_rnn_7/simple_rnn_cell_7/bias:0'] when minimizing the loss.\n",
      "WARNING:tensorflow:Model was constructed with shape (None, 150) for input KerasTensor(type_spec=TensorSpec(shape=(None, 150), dtype=tf.float32, name='embedding_5_input'), name='embedding_5_input', description=\"created by layer 'embedding_5_input'\"), but it was called on an input with incompatible shape (None, 100).\n",
      "WARNING:tensorflow:Gradients do not exist for variables ['embedding_5/embeddings:0', 'simple_rnn_5/simple_rnn_cell_5/kernel:0', 'simple_rnn_5/simple_rnn_cell_5/recurrent_kernel:0', 'simple_rnn_5/simple_rnn_cell_5/bias:0', 'embedding_6/embeddings:0', 'simple_rnn_6/simple_rnn_cell_6/kernel:0', 'simple_rnn_6/simple_rnn_cell_6/recurrent_kernel:0', 'simple_rnn_6/simple_rnn_cell_6/bias:0', 'embedding_7/embeddings:0', 'simple_rnn_7/simple_rnn_cell_7/kernel:0', 'simple_rnn_7/simple_rnn_cell_7/recurrent_kernel:0', 'simple_rnn_7/simple_rnn_cell_7/bias:0'] when minimizing the loss.\n",
      "1/1 - 5s - loss: 0.6908 - accuracy: 0.5714\n",
      "Epoch 2/10\n",
      "1/1 - 0s - loss: 0.6830 - accuracy: 0.5714\n",
      "Epoch 3/10\n",
      "1/1 - 0s - loss: 0.6865 - accuracy: 0.5714\n",
      "Epoch 4/10\n",
      "1/1 - 0s - loss: 0.6852 - accuracy: 0.5714\n",
      "Epoch 5/10\n",
      "1/1 - 0s - loss: 0.6838 - accuracy: 0.5714\n",
      "Epoch 6/10\n",
      "1/1 - 0s - loss: 0.6830 - accuracy: 0.5714\n",
      "Epoch 7/10\n",
      "1/1 - 0s - loss: 0.6838 - accuracy: 0.5714\n",
      "Epoch 8/10\n",
      "1/1 - 0s - loss: 0.6835 - accuracy: 0.5714\n",
      "Epoch 9/10\n",
      "1/1 - 0s - loss: 0.6829 - accuracy: 0.5714\n",
      "Epoch 10/10\n",
      "1/1 - 0s - loss: 0.6832 - accuracy: 0.5714\n"
     ]
    }
   ],
   "source": [
    "history5=model_rnn5.fit(train_padded,y_train,epochs=10,verbose=2,batch_size=25)"
   ]
  },
  {
   "cell_type": "code",
   "execution_count": 35,
   "metadata": {},
   "outputs": [
    {
     "name": "stdout",
     "output_type": "stream",
     "text": [
      "WARNING:tensorflow:Model was constructed with shape (None, 150) for input KerasTensor(type_spec=TensorSpec(shape=(None, 150), dtype=tf.float32, name='embedding_5_input'), name='embedding_5_input', description=\"created by layer 'embedding_5_input'\"), but it was called on an input with incompatible shape (None, 100).\n",
      "1/1 [==============================] - 1s 1s/step - loss: 0.7629 - accuracy: 0.3333\n"
     ]
    },
    {
     "data": {
      "text/plain": [
       "[0.7628531455993652, 0.3333333432674408]"
      ]
     },
     "execution_count": 35,
     "metadata": {},
     "output_type": "execute_result"
    }
   ],
   "source": [
    "model_rnn5.evaluate(val_padded,y_val)"
   ]
  },
  {
   "cell_type": "code",
   "execution_count": 37,
   "metadata": {},
   "outputs": [
    {
     "ename": "NameError",
     "evalue": "name 'trail_padded' is not defined",
     "output_type": "error",
     "traceback": [
      "\u001b[1;31m---------------------------------------------------------------------------\u001b[0m",
      "\u001b[1;31mNameError\u001b[0m                                 Traceback (most recent call last)",
      "\u001b[1;32m<ipython-input-37-4fa10948f6f7>\u001b[0m in \u001b[0;36m<module>\u001b[1;34m\u001b[0m\n\u001b[1;32m----> 1\u001b[1;33m \u001b[0mr5\u001b[0m \u001b[1;33m=\u001b[0m \u001b[0mmodel_rnn5\u001b[0m\u001b[1;33m.\u001b[0m\u001b[0mpredict\u001b[0m\u001b[1;33m(\u001b[0m\u001b[0mtrail_padded\u001b[0m\u001b[1;33m)\u001b[0m\u001b[1;33m\u001b[0m\u001b[1;33m\u001b[0m\u001b[0m\n\u001b[0m\u001b[0;32m      2\u001b[0m \u001b[0mlabel\u001b[0m \u001b[1;33m=\u001b[0m \u001b[1;33m[\u001b[0m\u001b[1;34m'positive'\u001b[0m\u001b[1;33m,\u001b[0m\u001b[1;34m'negative'\u001b[0m\u001b[1;33m]\u001b[0m\u001b[1;33m\u001b[0m\u001b[1;33m\u001b[0m\u001b[0m\n\u001b[0;32m      3\u001b[0m \u001b[0mprint\u001b[0m\u001b[1;33m(\u001b[0m\u001b[0mr\u001b[0m\u001b[1;33m,\u001b[0m\u001b[0mlabel\u001b[0m\u001b[1;33m[\u001b[0m\u001b[0mnp\u001b[0m\u001b[1;33m.\u001b[0m\u001b[0margmax\u001b[0m\u001b[1;33m(\u001b[0m\u001b[0mtrail_padedd\u001b[0m\u001b[1;33m)\u001b[0m\u001b[1;33m>\u001b[0m\u001b[1;36m50\u001b[0m\u001b[1;33m]\u001b[0m\u001b[1;33m)\u001b[0m\u001b[1;33m\u001b[0m\u001b[1;33m\u001b[0m\u001b[0m\n",
      "\u001b[1;31mNameError\u001b[0m: name 'trail_padded' is not defined"
     ]
    }
   ],
   "source": [
    "r5 = model_rnn5.predict(trail_padded)\n",
    "label = ['positive','negative']\n",
    "print(r,label[np.argmax(trail_padedd)>50])"
   ]
  },
  {
   "cell_type": "code",
   "execution_count": null,
   "metadata": {},
   "outputs": [],
   "source": []
  }
 ],
 "metadata": {
  "colab": {
   "name": "PDL_LAB-17_Mahalakshmi18.ipynb",
   "provenance": []
  },
  "kernelspec": {
   "display_name": "Python 3",
   "language": "python",
   "name": "python3"
  },
  "language_info": {
   "codemirror_mode": {
    "name": "ipython",
    "version": 3
   },
   "file_extension": ".py",
   "mimetype": "text/x-python",
   "name": "python",
   "nbconvert_exporter": "python",
   "pygments_lexer": "ipython3",
   "version": "3.8.8"
  }
 },
 "nbformat": 4,
 "nbformat_minor": 1
}
