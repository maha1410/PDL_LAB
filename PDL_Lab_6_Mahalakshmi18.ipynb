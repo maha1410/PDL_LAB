{
 "cells": [
  {
   "cell_type": "markdown",
   "metadata": {
    "id": "zQ02qYp66UIJ"
   },
   "source": [
    "# Lab06: Binary Classification of Heart Disease of Patients using Deep NN"
   ]
  },
  {
   "cell_type": "markdown",
   "metadata": {
    "id": "Ai_lf3446UIP"
   },
   "source": [
    "## Steps: \n",
    "### 1. Load the dataset: “heart_data.csv” and explore the features"
   ]
  },
  {
   "cell_type": "code",
   "execution_count": 1,
   "metadata": {
    "id": "5n_xTcxn_0oD"
   },
   "outputs": [],
   "source": [
    "import csv\n",
    "import pandas as pd"
   ]
  },
  {
   "cell_type": "code",
   "execution_count": 3,
   "metadata": {
    "id": "0g9l8ZPOBFhS"
   },
   "outputs": [],
   "source": [
    "hea=pd.read_csv('heart_data.csv')"
   ]
  },
  {
   "cell_type": "code",
   "execution_count": 4,
   "metadata": {
    "colab": {
     "base_uri": "https://localhost:8080/",
     "height": 203
    },
    "id": "2ZF9hXCnBWnL",
    "outputId": "76a2a168-7313-41c9-8842-ecefb75d80c3"
   },
   "outputs": [
    {
     "data": {
      "text/html": [
       "<div>\n",
       "<style scoped>\n",
       "    .dataframe tbody tr th:only-of-type {\n",
       "        vertical-align: middle;\n",
       "    }\n",
       "\n",
       "    .dataframe tbody tr th {\n",
       "        vertical-align: top;\n",
       "    }\n",
       "\n",
       "    .dataframe thead th {\n",
       "        text-align: right;\n",
       "    }\n",
       "</style>\n",
       "<table border=\"1\" class=\"dataframe\">\n",
       "  <thead>\n",
       "    <tr style=\"text-align: right;\">\n",
       "      <th></th>\n",
       "      <th>age</th>\n",
       "      <th>sex</th>\n",
       "      <th>cp</th>\n",
       "      <th>trestbps</th>\n",
       "      <th>chol</th>\n",
       "      <th>fbs</th>\n",
       "      <th>restecg</th>\n",
       "      <th>thalach</th>\n",
       "      <th>exang</th>\n",
       "      <th>oldpeak</th>\n",
       "      <th>slope</th>\n",
       "      <th>ca</th>\n",
       "      <th>thal</th>\n",
       "      <th>target</th>\n",
       "    </tr>\n",
       "  </thead>\n",
       "  <tbody>\n",
       "    <tr>\n",
       "      <th>0</th>\n",
       "      <td>63</td>\n",
       "      <td>1</td>\n",
       "      <td>3</td>\n",
       "      <td>145</td>\n",
       "      <td>233</td>\n",
       "      <td>1</td>\n",
       "      <td>0</td>\n",
       "      <td>150</td>\n",
       "      <td>0</td>\n",
       "      <td>2.3</td>\n",
       "      <td>0</td>\n",
       "      <td>0</td>\n",
       "      <td>1</td>\n",
       "      <td>1</td>\n",
       "    </tr>\n",
       "    <tr>\n",
       "      <th>1</th>\n",
       "      <td>37</td>\n",
       "      <td>1</td>\n",
       "      <td>2</td>\n",
       "      <td>130</td>\n",
       "      <td>250</td>\n",
       "      <td>0</td>\n",
       "      <td>1</td>\n",
       "      <td>187</td>\n",
       "      <td>0</td>\n",
       "      <td>3.5</td>\n",
       "      <td>0</td>\n",
       "      <td>0</td>\n",
       "      <td>2</td>\n",
       "      <td>1</td>\n",
       "    </tr>\n",
       "    <tr>\n",
       "      <th>2</th>\n",
       "      <td>41</td>\n",
       "      <td>0</td>\n",
       "      <td>1</td>\n",
       "      <td>130</td>\n",
       "      <td>204</td>\n",
       "      <td>0</td>\n",
       "      <td>0</td>\n",
       "      <td>172</td>\n",
       "      <td>0</td>\n",
       "      <td>1.4</td>\n",
       "      <td>2</td>\n",
       "      <td>0</td>\n",
       "      <td>2</td>\n",
       "      <td>1</td>\n",
       "    </tr>\n",
       "    <tr>\n",
       "      <th>3</th>\n",
       "      <td>56</td>\n",
       "      <td>1</td>\n",
       "      <td>1</td>\n",
       "      <td>120</td>\n",
       "      <td>236</td>\n",
       "      <td>0</td>\n",
       "      <td>1</td>\n",
       "      <td>178</td>\n",
       "      <td>0</td>\n",
       "      <td>0.8</td>\n",
       "      <td>2</td>\n",
       "      <td>0</td>\n",
       "      <td>2</td>\n",
       "      <td>1</td>\n",
       "    </tr>\n",
       "    <tr>\n",
       "      <th>4</th>\n",
       "      <td>57</td>\n",
       "      <td>0</td>\n",
       "      <td>0</td>\n",
       "      <td>120</td>\n",
       "      <td>354</td>\n",
       "      <td>0</td>\n",
       "      <td>1</td>\n",
       "      <td>163</td>\n",
       "      <td>1</td>\n",
       "      <td>0.6</td>\n",
       "      <td>2</td>\n",
       "      <td>0</td>\n",
       "      <td>2</td>\n",
       "      <td>1</td>\n",
       "    </tr>\n",
       "  </tbody>\n",
       "</table>\n",
       "</div>"
      ],
      "text/plain": [
       "   age  sex  cp  trestbps  chol  fbs  ...  exang  oldpeak  slope  ca  thal  target\n",
       "0   63    1   3       145   233    1  ...      0      2.3      0   0     1       1\n",
       "1   37    1   2       130   250    0  ...      0      3.5      0   0     2       1\n",
       "2   41    0   1       130   204    0  ...      0      1.4      2   0     2       1\n",
       "3   56    1   1       120   236    0  ...      0      0.8      2   0     2       1\n",
       "4   57    0   0       120   354    0  ...      1      0.6      2   0     2       1\n",
       "\n",
       "[5 rows x 14 columns]"
      ]
     },
     "execution_count": 4,
     "metadata": {},
     "output_type": "execute_result"
    }
   ],
   "source": [
    "hea.head()"
   ]
  },
  {
   "cell_type": "code",
   "execution_count": 5,
   "metadata": {
    "colab": {
     "base_uri": "https://localhost:8080/",
     "height": 203
    },
    "id": "j_yg0RN0Bcqz",
    "outputId": "b731c5d1-a338-4528-8cee-b9c1afc64e90"
   },
   "outputs": [
    {
     "data": {
      "text/html": [
       "<div>\n",
       "<style scoped>\n",
       "    .dataframe tbody tr th:only-of-type {\n",
       "        vertical-align: middle;\n",
       "    }\n",
       "\n",
       "    .dataframe tbody tr th {\n",
       "        vertical-align: top;\n",
       "    }\n",
       "\n",
       "    .dataframe thead th {\n",
       "        text-align: right;\n",
       "    }\n",
       "</style>\n",
       "<table border=\"1\" class=\"dataframe\">\n",
       "  <thead>\n",
       "    <tr style=\"text-align: right;\">\n",
       "      <th></th>\n",
       "      <th>age</th>\n",
       "      <th>sex</th>\n",
       "      <th>cp</th>\n",
       "      <th>trestbps</th>\n",
       "      <th>chol</th>\n",
       "      <th>fbs</th>\n",
       "      <th>restecg</th>\n",
       "      <th>thalach</th>\n",
       "      <th>exang</th>\n",
       "      <th>oldpeak</th>\n",
       "      <th>slope</th>\n",
       "      <th>ca</th>\n",
       "      <th>thal</th>\n",
       "      <th>target</th>\n",
       "    </tr>\n",
       "  </thead>\n",
       "  <tbody>\n",
       "    <tr>\n",
       "      <th>298</th>\n",
       "      <td>57</td>\n",
       "      <td>0</td>\n",
       "      <td>0</td>\n",
       "      <td>140</td>\n",
       "      <td>241</td>\n",
       "      <td>0</td>\n",
       "      <td>1</td>\n",
       "      <td>123</td>\n",
       "      <td>1</td>\n",
       "      <td>0.2</td>\n",
       "      <td>1</td>\n",
       "      <td>0</td>\n",
       "      <td>3</td>\n",
       "      <td>0</td>\n",
       "    </tr>\n",
       "    <tr>\n",
       "      <th>299</th>\n",
       "      <td>45</td>\n",
       "      <td>1</td>\n",
       "      <td>3</td>\n",
       "      <td>110</td>\n",
       "      <td>264</td>\n",
       "      <td>0</td>\n",
       "      <td>1</td>\n",
       "      <td>132</td>\n",
       "      <td>0</td>\n",
       "      <td>1.2</td>\n",
       "      <td>1</td>\n",
       "      <td>0</td>\n",
       "      <td>3</td>\n",
       "      <td>0</td>\n",
       "    </tr>\n",
       "    <tr>\n",
       "      <th>300</th>\n",
       "      <td>68</td>\n",
       "      <td>1</td>\n",
       "      <td>0</td>\n",
       "      <td>144</td>\n",
       "      <td>193</td>\n",
       "      <td>1</td>\n",
       "      <td>1</td>\n",
       "      <td>141</td>\n",
       "      <td>0</td>\n",
       "      <td>3.4</td>\n",
       "      <td>1</td>\n",
       "      <td>2</td>\n",
       "      <td>3</td>\n",
       "      <td>0</td>\n",
       "    </tr>\n",
       "    <tr>\n",
       "      <th>301</th>\n",
       "      <td>57</td>\n",
       "      <td>1</td>\n",
       "      <td>0</td>\n",
       "      <td>130</td>\n",
       "      <td>131</td>\n",
       "      <td>0</td>\n",
       "      <td>1</td>\n",
       "      <td>115</td>\n",
       "      <td>1</td>\n",
       "      <td>1.2</td>\n",
       "      <td>1</td>\n",
       "      <td>1</td>\n",
       "      <td>3</td>\n",
       "      <td>0</td>\n",
       "    </tr>\n",
       "    <tr>\n",
       "      <th>302</th>\n",
       "      <td>57</td>\n",
       "      <td>0</td>\n",
       "      <td>1</td>\n",
       "      <td>130</td>\n",
       "      <td>236</td>\n",
       "      <td>0</td>\n",
       "      <td>0</td>\n",
       "      <td>174</td>\n",
       "      <td>0</td>\n",
       "      <td>0.0</td>\n",
       "      <td>1</td>\n",
       "      <td>1</td>\n",
       "      <td>2</td>\n",
       "      <td>0</td>\n",
       "    </tr>\n",
       "  </tbody>\n",
       "</table>\n",
       "</div>"
      ],
      "text/plain": [
       "     age  sex  cp  trestbps  chol  fbs  ...  exang  oldpeak  slope  ca  thal  target\n",
       "298   57    0   0       140   241    0  ...      1      0.2      1   0     3       0\n",
       "299   45    1   3       110   264    0  ...      0      1.2      1   0     3       0\n",
       "300   68    1   0       144   193    1  ...      0      3.4      1   2     3       0\n",
       "301   57    1   0       130   131    0  ...      1      1.2      1   1     3       0\n",
       "302   57    0   1       130   236    0  ...      0      0.0      1   1     2       0\n",
       "\n",
       "[5 rows x 14 columns]"
      ]
     },
     "execution_count": 5,
     "metadata": {},
     "output_type": "execute_result"
    }
   ],
   "source": [
    "hea.tail()"
   ]
  },
  {
   "cell_type": "code",
   "execution_count": 6,
   "metadata": {
    "colab": {
     "base_uri": "https://localhost:8080/"
    },
    "id": "L1TozWVIBhjT",
    "outputId": "36c7e515-28ad-43ef-99ff-f61e067ba38a"
   },
   "outputs": [
    {
     "data": {
      "text/plain": [
       "(303, 14)"
      ]
     },
     "execution_count": 6,
     "metadata": {},
     "output_type": "execute_result"
    }
   ],
   "source": [
    "hea.shape"
   ]
  },
  {
   "cell_type": "code",
   "execution_count": 7,
   "metadata": {
    "colab": {
     "base_uri": "https://localhost:8080/"
    },
    "id": "gjWhzjLBzwAY",
    "outputId": "fda55bec-54b4-4e6d-8347-19ed638ebc49"
   },
   "outputs": [
    {
     "data": {
      "text/plain": [
       "Index(['age', 'sex', 'cp', 'trestbps', 'chol', 'fbs', 'restecg', 'thalach',\n",
       "       'exang', 'oldpeak', 'slope', 'ca', 'thal', 'target'],\n",
       "      dtype='object')"
      ]
     },
     "execution_count": 7,
     "metadata": {},
     "output_type": "execute_result"
    }
   ],
   "source": [
    "hea.columns"
   ]
  },
  {
   "cell_type": "code",
   "execution_count": 8,
   "metadata": {
    "colab": {
     "base_uri": "https://localhost:8080/"
    },
    "id": "hdgVgrKqBm4v",
    "outputId": "162fae10-4b1b-43b3-a05f-2fa88fd98271"
   },
   "outputs": [
    {
     "data": {
      "text/plain": [
       "age         0\n",
       "sex         0\n",
       "cp          0\n",
       "trestbps    0\n",
       "chol        0\n",
       "fbs         0\n",
       "restecg     0\n",
       "thalach     0\n",
       "exang       0\n",
       "oldpeak     0\n",
       "slope       0\n",
       "ca          0\n",
       "thal        0\n",
       "target      0\n",
       "dtype: int64"
      ]
     },
     "execution_count": 8,
     "metadata": {},
     "output_type": "execute_result"
    }
   ],
   "source": [
    "hea.isnull().sum()"
   ]
  },
  {
   "cell_type": "code",
   "execution_count": 9,
   "metadata": {
    "colab": {
     "base_uri": "https://localhost:8080/"
    },
    "id": "HFIimpTmBsbA",
    "outputId": "2655a9f7-93d0-475d-c474-eb80af0cd959"
   },
   "outputs": [
    {
     "data": {
      "text/plain": [
       "<bound method NDFrame.describe of      age  sex  cp  trestbps  chol  fbs  ...  exang  oldpeak  slope  ca  thal  target\n",
       "0     63    1   3       145   233    1  ...      0      2.3      0   0     1       1\n",
       "1     37    1   2       130   250    0  ...      0      3.5      0   0     2       1\n",
       "2     41    0   1       130   204    0  ...      0      1.4      2   0     2       1\n",
       "3     56    1   1       120   236    0  ...      0      0.8      2   0     2       1\n",
       "4     57    0   0       120   354    0  ...      1      0.6      2   0     2       1\n",
       "..   ...  ...  ..       ...   ...  ...  ...    ...      ...    ...  ..   ...     ...\n",
       "298   57    0   0       140   241    0  ...      1      0.2      1   0     3       0\n",
       "299   45    1   3       110   264    0  ...      0      1.2      1   0     3       0\n",
       "300   68    1   0       144   193    1  ...      0      3.4      1   2     3       0\n",
       "301   57    1   0       130   131    0  ...      1      1.2      1   1     3       0\n",
       "302   57    0   1       130   236    0  ...      0      0.0      1   1     2       0\n",
       "\n",
       "[303 rows x 14 columns]>"
      ]
     },
     "execution_count": 9,
     "metadata": {},
     "output_type": "execute_result"
    }
   ],
   "source": [
    "hea.describe"
   ]
  },
  {
   "cell_type": "markdown",
   "metadata": {
    "id": "SSipuzfv6UIW"
   },
   "source": [
    "### 2. Split the dataset for training and testing (test size = 20%)"
   ]
  },
  {
   "cell_type": "code",
   "execution_count": 10,
   "metadata": {
    "id": "-Zp721chBxP_"
   },
   "outputs": [],
   "source": [
    "import numpy as np\n",
    "from sklearn.datasets import load_boston\n",
    "from sklearn.model_selection import train_test_split"
   ]
  },
  {
   "cell_type": "code",
   "execution_count": 11,
   "metadata": {
    "id": "auRv1zkRB5JI"
   },
   "outputs": [],
   "source": [
    "X = hea.drop('target', axis = 1) # Input Variables\n",
    "y = hea.target # Output Variables"
   ]
  },
  {
   "cell_type": "code",
   "execution_count": 12,
   "metadata": {
    "id": "7h4hxrh6CiF2"
   },
   "outputs": [],
   "source": [
    "X_train,X_test,y_train,y_test = train_test_split(X,y,train_size=0.80,test_size=0.20)"
   ]
  },
  {
   "cell_type": "code",
   "execution_count": 13,
   "metadata": {
    "colab": {
     "base_uri": "https://localhost:8080/",
     "height": 203
    },
    "id": "2URSZ5n4DHk8",
    "outputId": "539b398e-6610-46e2-d59b-5fac3b966e31"
   },
   "outputs": [
    {
     "data": {
      "text/html": [
       "<div>\n",
       "<style scoped>\n",
       "    .dataframe tbody tr th:only-of-type {\n",
       "        vertical-align: middle;\n",
       "    }\n",
       "\n",
       "    .dataframe tbody tr th {\n",
       "        vertical-align: top;\n",
       "    }\n",
       "\n",
       "    .dataframe thead th {\n",
       "        text-align: right;\n",
       "    }\n",
       "</style>\n",
       "<table border=\"1\" class=\"dataframe\">\n",
       "  <thead>\n",
       "    <tr style=\"text-align: right;\">\n",
       "      <th></th>\n",
       "      <th>age</th>\n",
       "      <th>sex</th>\n",
       "      <th>cp</th>\n",
       "      <th>trestbps</th>\n",
       "      <th>chol</th>\n",
       "      <th>fbs</th>\n",
       "      <th>restecg</th>\n",
       "      <th>thalach</th>\n",
       "      <th>exang</th>\n",
       "      <th>oldpeak</th>\n",
       "      <th>slope</th>\n",
       "      <th>ca</th>\n",
       "      <th>thal</th>\n",
       "    </tr>\n",
       "  </thead>\n",
       "  <tbody>\n",
       "    <tr>\n",
       "      <th>84</th>\n",
       "      <td>42</td>\n",
       "      <td>0</td>\n",
       "      <td>0</td>\n",
       "      <td>102</td>\n",
       "      <td>265</td>\n",
       "      <td>0</td>\n",
       "      <td>0</td>\n",
       "      <td>122</td>\n",
       "      <td>0</td>\n",
       "      <td>0.6</td>\n",
       "      <td>1</td>\n",
       "      <td>0</td>\n",
       "      <td>2</td>\n",
       "    </tr>\n",
       "    <tr>\n",
       "      <th>140</th>\n",
       "      <td>51</td>\n",
       "      <td>0</td>\n",
       "      <td>2</td>\n",
       "      <td>120</td>\n",
       "      <td>295</td>\n",
       "      <td>0</td>\n",
       "      <td>0</td>\n",
       "      <td>157</td>\n",
       "      <td>0</td>\n",
       "      <td>0.6</td>\n",
       "      <td>2</td>\n",
       "      <td>0</td>\n",
       "      <td>2</td>\n",
       "    </tr>\n",
       "    <tr>\n",
       "      <th>39</th>\n",
       "      <td>65</td>\n",
       "      <td>0</td>\n",
       "      <td>2</td>\n",
       "      <td>160</td>\n",
       "      <td>360</td>\n",
       "      <td>0</td>\n",
       "      <td>0</td>\n",
       "      <td>151</td>\n",
       "      <td>0</td>\n",
       "      <td>0.8</td>\n",
       "      <td>2</td>\n",
       "      <td>0</td>\n",
       "      <td>2</td>\n",
       "    </tr>\n",
       "    <tr>\n",
       "      <th>79</th>\n",
       "      <td>58</td>\n",
       "      <td>1</td>\n",
       "      <td>2</td>\n",
       "      <td>105</td>\n",
       "      <td>240</td>\n",
       "      <td>0</td>\n",
       "      <td>0</td>\n",
       "      <td>154</td>\n",
       "      <td>1</td>\n",
       "      <td>0.6</td>\n",
       "      <td>1</td>\n",
       "      <td>0</td>\n",
       "      <td>3</td>\n",
       "    </tr>\n",
       "    <tr>\n",
       "      <th>160</th>\n",
       "      <td>56</td>\n",
       "      <td>1</td>\n",
       "      <td>1</td>\n",
       "      <td>120</td>\n",
       "      <td>240</td>\n",
       "      <td>0</td>\n",
       "      <td>1</td>\n",
       "      <td>169</td>\n",
       "      <td>0</td>\n",
       "      <td>0.0</td>\n",
       "      <td>0</td>\n",
       "      <td>0</td>\n",
       "      <td>2</td>\n",
       "    </tr>\n",
       "  </tbody>\n",
       "</table>\n",
       "</div>"
      ],
      "text/plain": [
       "     age  sex  cp  trestbps  chol  ...  exang  oldpeak  slope  ca  thal\n",
       "84    42    0   0       102   265  ...      0      0.6      1   0     2\n",
       "140   51    0   2       120   295  ...      0      0.6      2   0     2\n",
       "39    65    0   2       160   360  ...      0      0.8      2   0     2\n",
       "79    58    1   2       105   240  ...      1      0.6      1   0     3\n",
       "160   56    1   1       120   240  ...      0      0.0      0   0     2\n",
       "\n",
       "[5 rows x 13 columns]"
      ]
     },
     "execution_count": 13,
     "metadata": {},
     "output_type": "execute_result"
    }
   ],
   "source": [
    "X_test.head()"
   ]
  },
  {
   "cell_type": "code",
   "execution_count": 14,
   "metadata": {
    "colab": {
     "base_uri": "https://localhost:8080/"
    },
    "id": "zYJ9sUvB3KxL",
    "outputId": "b191eafd-ab8c-4970-bca1-50966ef73b9a"
   },
   "outputs": [
    {
     "data": {
      "text/plain": [
       "(61, 13)"
      ]
     },
     "execution_count": 14,
     "metadata": {},
     "output_type": "execute_result"
    }
   ],
   "source": [
    "X_test.shape"
   ]
  },
  {
   "cell_type": "code",
   "execution_count": 15,
   "metadata": {
    "colab": {
     "base_uri": "https://localhost:8080/",
     "height": 203
    },
    "id": "noBZN46LDMfQ",
    "outputId": "d86697a7-ec2b-44bc-d928-bd69b9d50d12"
   },
   "outputs": [
    {
     "data": {
      "text/html": [
       "<div>\n",
       "<style scoped>\n",
       "    .dataframe tbody tr th:only-of-type {\n",
       "        vertical-align: middle;\n",
       "    }\n",
       "\n",
       "    .dataframe tbody tr th {\n",
       "        vertical-align: top;\n",
       "    }\n",
       "\n",
       "    .dataframe thead th {\n",
       "        text-align: right;\n",
       "    }\n",
       "</style>\n",
       "<table border=\"1\" class=\"dataframe\">\n",
       "  <thead>\n",
       "    <tr style=\"text-align: right;\">\n",
       "      <th></th>\n",
       "      <th>age</th>\n",
       "      <th>sex</th>\n",
       "      <th>cp</th>\n",
       "      <th>trestbps</th>\n",
       "      <th>chol</th>\n",
       "      <th>fbs</th>\n",
       "      <th>restecg</th>\n",
       "      <th>thalach</th>\n",
       "      <th>exang</th>\n",
       "      <th>oldpeak</th>\n",
       "      <th>slope</th>\n",
       "      <th>ca</th>\n",
       "      <th>thal</th>\n",
       "    </tr>\n",
       "  </thead>\n",
       "  <tbody>\n",
       "    <tr>\n",
       "      <th>124</th>\n",
       "      <td>39</td>\n",
       "      <td>0</td>\n",
       "      <td>2</td>\n",
       "      <td>94</td>\n",
       "      <td>199</td>\n",
       "      <td>0</td>\n",
       "      <td>1</td>\n",
       "      <td>179</td>\n",
       "      <td>0</td>\n",
       "      <td>0.0</td>\n",
       "      <td>2</td>\n",
       "      <td>0</td>\n",
       "      <td>2</td>\n",
       "    </tr>\n",
       "    <tr>\n",
       "      <th>287</th>\n",
       "      <td>57</td>\n",
       "      <td>1</td>\n",
       "      <td>1</td>\n",
       "      <td>154</td>\n",
       "      <td>232</td>\n",
       "      <td>0</td>\n",
       "      <td>0</td>\n",
       "      <td>164</td>\n",
       "      <td>0</td>\n",
       "      <td>0.0</td>\n",
       "      <td>2</td>\n",
       "      <td>1</td>\n",
       "      <td>2</td>\n",
       "    </tr>\n",
       "    <tr>\n",
       "      <th>77</th>\n",
       "      <td>59</td>\n",
       "      <td>1</td>\n",
       "      <td>1</td>\n",
       "      <td>140</td>\n",
       "      <td>221</td>\n",
       "      <td>0</td>\n",
       "      <td>1</td>\n",
       "      <td>164</td>\n",
       "      <td>1</td>\n",
       "      <td>0.0</td>\n",
       "      <td>2</td>\n",
       "      <td>0</td>\n",
       "      <td>2</td>\n",
       "    </tr>\n",
       "    <tr>\n",
       "      <th>16</th>\n",
       "      <td>58</td>\n",
       "      <td>0</td>\n",
       "      <td>2</td>\n",
       "      <td>120</td>\n",
       "      <td>340</td>\n",
       "      <td>0</td>\n",
       "      <td>1</td>\n",
       "      <td>172</td>\n",
       "      <td>0</td>\n",
       "      <td>0.0</td>\n",
       "      <td>2</td>\n",
       "      <td>0</td>\n",
       "      <td>2</td>\n",
       "    </tr>\n",
       "    <tr>\n",
       "      <th>300</th>\n",
       "      <td>68</td>\n",
       "      <td>1</td>\n",
       "      <td>0</td>\n",
       "      <td>144</td>\n",
       "      <td>193</td>\n",
       "      <td>1</td>\n",
       "      <td>1</td>\n",
       "      <td>141</td>\n",
       "      <td>0</td>\n",
       "      <td>3.4</td>\n",
       "      <td>1</td>\n",
       "      <td>2</td>\n",
       "      <td>3</td>\n",
       "    </tr>\n",
       "  </tbody>\n",
       "</table>\n",
       "</div>"
      ],
      "text/plain": [
       "     age  sex  cp  trestbps  chol  ...  exang  oldpeak  slope  ca  thal\n",
       "124   39    0   2        94   199  ...      0      0.0      2   0     2\n",
       "287   57    1   1       154   232  ...      0      0.0      2   1     2\n",
       "77    59    1   1       140   221  ...      1      0.0      2   0     2\n",
       "16    58    0   2       120   340  ...      0      0.0      2   0     2\n",
       "300   68    1   0       144   193  ...      0      3.4      1   2     3\n",
       "\n",
       "[5 rows x 13 columns]"
      ]
     },
     "execution_count": 15,
     "metadata": {},
     "output_type": "execute_result"
    }
   ],
   "source": [
    "X_train.head()"
   ]
  },
  {
   "cell_type": "code",
   "execution_count": 16,
   "metadata": {
    "colab": {
     "base_uri": "https://localhost:8080/"
    },
    "id": "1VkhtRH32-YY",
    "outputId": "1232edd5-ff71-4fd4-f601-9f86ae84d1b1"
   },
   "outputs": [
    {
     "data": {
      "text/plain": [
       "(242, 13)"
      ]
     },
     "execution_count": 16,
     "metadata": {},
     "output_type": "execute_result"
    }
   ],
   "source": [
    "X_train.shape"
   ]
  },
  {
   "cell_type": "code",
   "execution_count": 17,
   "metadata": {
    "colab": {
     "base_uri": "https://localhost:8080/"
    },
    "id": "ZU72l-RBDPNW",
    "outputId": "41cfc58f-ddee-4714-d10f-5a6f748ded24"
   },
   "outputs": [
    {
     "data": {
      "text/plain": [
       "124    1\n",
       "287    0\n",
       "77     1\n",
       "16     1\n",
       "300    0\n",
       "Name: target, dtype: int64"
      ]
     },
     "execution_count": 17,
     "metadata": {},
     "output_type": "execute_result"
    }
   ],
   "source": [
    " y_train.head()"
   ]
  },
  {
   "cell_type": "code",
   "execution_count": 18,
   "metadata": {
    "colab": {
     "base_uri": "https://localhost:8080/"
    },
    "id": "tFmtsmCY3X2E",
    "outputId": "cc677c47-4e26-4bd9-9701-44b1b421e6e5"
   },
   "outputs": [
    {
     "data": {
      "text/plain": [
       "(242,)"
      ]
     },
     "execution_count": 18,
     "metadata": {},
     "output_type": "execute_result"
    }
   ],
   "source": [
    "y_train.shape"
   ]
  },
  {
   "cell_type": "code",
   "execution_count": 19,
   "metadata": {
    "colab": {
     "base_uri": "https://localhost:8080/"
    },
    "id": "BTyluB5yDRbH",
    "outputId": "3a8c55f7-fafa-4c5a-aef0-e9a2184f3cfa"
   },
   "outputs": [
    {
     "data": {
      "text/plain": [
       "84     1\n",
       "140    1\n",
       "39     1\n",
       "79     1\n",
       "160    1\n",
       "Name: target, dtype: int64"
      ]
     },
     "execution_count": 19,
     "metadata": {},
     "output_type": "execute_result"
    }
   ],
   "source": [
    " y_test.head() "
   ]
  },
  {
   "cell_type": "code",
   "execution_count": 20,
   "metadata": {
    "colab": {
     "base_uri": "https://localhost:8080/"
    },
    "id": "n7uFhDLM3ioB",
    "outputId": "e1fb3002-7010-4977-9241-684c546f9d30"
   },
   "outputs": [
    {
     "data": {
      "text/plain": [
       "(61,)"
      ]
     },
     "execution_count": 20,
     "metadata": {},
     "output_type": "execute_result"
    }
   ],
   "source": [
    " y_test.shape"
   ]
  },
  {
   "cell_type": "markdown",
   "metadata": {
    "id": "9Gugnjjw6UIb"
   },
   "source": [
    "### 3. Create a neural network based on the following requirements \n",
    "* Input size = No. of features in X_train = 13 \n",
    "* No. of neurons/units in the Dense layer = 8, with Relu activation function \n",
    "* No. of neurons/units in output layer = 1, with sigmoid activation function"
   ]
  },
  {
   "cell_type": "code",
   "execution_count": 21,
   "metadata": {
    "id": "n2a8Gb4JDWN6"
   },
   "outputs": [],
   "source": [
    "import tensorflow\n",
    "from tensorflow.keras import Sequential\n",
    "from tensorflow.keras.layers import Dense"
   ]
  },
  {
   "cell_type": "code",
   "execution_count": 22,
   "metadata": {
    "id": "riQr34V-DZFQ"
   },
   "outputs": [],
   "source": [
    "model = Sequential()\n",
    "model.add(Dense(8, input_dim=13,activation='relu'))\n",
    "model.add(Dense(1, activation='sigmoid'))"
   ]
  },
  {
   "cell_type": "markdown",
   "metadata": {
    "id": "7-aHAgYU6UIc"
   },
   "source": [
    "### 4. Compile your model with learning rate = 0.001, optimizer as ‘RMSprop’, Mean square error loss and metrics  as ‘accuracy’. "
   ]
  },
  {
   "cell_type": "code",
   "execution_count": 23,
   "metadata": {
    "id": "9CYGFKbBFFrL"
   },
   "outputs": [],
   "source": [
    "from tensorflow.keras.optimizers import RMSprop\n",
    "from keras import metrics"
   ]
  },
  {
   "cell_type": "code",
   "execution_count": 24,
   "metadata": {
    "id": "38h0mxhmE8s5"
   },
   "outputs": [],
   "source": [
    "optimizer = RMSprop(0.001)"
   ]
  },
  {
   "cell_type": "code",
   "execution_count": 25,
   "metadata": {
    "colab": {
     "base_uri": "https://localhost:8080/"
    },
    "id": "hdsg0f98FAa2",
    "outputId": "ef1880f0-506a-454d-ee77-9aa73d67c720"
   },
   "outputs": [
    {
     "name": "stdout",
     "output_type": "stream",
     "text": [
      "Epoch 1/15\n",
      "13/13 [==============================] - 1s 2ms/step - loss: 0.5455 - accuracy: 0.4545\n",
      "Epoch 2/15\n",
      "13/13 [==============================] - 0s 2ms/step - loss: 0.5455 - accuracy: 0.4545\n",
      "Epoch 3/15\n",
      "13/13 [==============================] - 0s 3ms/step - loss: 0.5455 - accuracy: 0.4545\n",
      "Epoch 4/15\n",
      "13/13 [==============================] - 0s 2ms/step - loss: 0.5455 - accuracy: 0.4545\n",
      "Epoch 5/15\n",
      "13/13 [==============================] - 0s 2ms/step - loss: 0.5455 - accuracy: 0.4545\n",
      "Epoch 6/15\n",
      "13/13 [==============================] - 0s 3ms/step - loss: 0.5455 - accuracy: 0.4545\n",
      "Epoch 7/15\n",
      "13/13 [==============================] - 0s 2ms/step - loss: 0.5455 - accuracy: 0.4545\n",
      "Epoch 8/15\n",
      "13/13 [==============================] - 0s 2ms/step - loss: 0.5455 - accuracy: 0.4545\n",
      "Epoch 9/15\n",
      "13/13 [==============================] - 0s 2ms/step - loss: 0.5455 - accuracy: 0.4545\n",
      "Epoch 10/15\n",
      "13/13 [==============================] - 0s 2ms/step - loss: 0.5455 - accuracy: 0.4545\n",
      "Epoch 11/15\n",
      "13/13 [==============================] - 0s 2ms/step - loss: 0.5455 - accuracy: 0.4545\n",
      "Epoch 12/15\n",
      "13/13 [==============================] - 0s 2ms/step - loss: 0.5455 - accuracy: 0.4545\n",
      "Epoch 13/15\n",
      "13/13 [==============================] - 0s 2ms/step - loss: 0.5455 - accuracy: 0.4545\n",
      "Epoch 14/15\n",
      "13/13 [==============================] - 0s 2ms/step - loss: 0.5455 - accuracy: 0.4545\n",
      "Epoch 15/15\n",
      "13/13 [==============================] - 0s 2ms/step - loss: 0.5455 - accuracy: 0.4545\n"
     ]
    },
    {
     "data": {
      "text/plain": [
       "<keras.callbacks.History at 0x7f76105fee10>"
      ]
     },
     "execution_count": 25,
     "metadata": {},
     "output_type": "execute_result"
    }
   ],
   "source": [
    "model.compile(loss='mean_squared_error',optimizer=optimizer,metrics=['accuracy'])\n",
    "model.fit(X_train, y_train, epochs=15, batch_size=20, verbose = 1)"
   ]
  },
  {
   "cell_type": "code",
   "execution_count": 26,
   "metadata": {
    "colab": {
     "base_uri": "https://localhost:8080/"
    },
    "id": "6EjQdT_66UId",
    "outputId": "90d4671d-65d1-45f4-d0a9-14d2ef15cc50"
   },
   "outputs": [
    {
     "name": "stdout",
     "output_type": "stream",
     "text": [
      "2/2 [==============================] - 0s 8ms/step - loss: 0.5410 - accuracy: 0.4590\n"
     ]
    },
    {
     "data": {
      "text/plain": [
       "[0.5409836173057556, 0.4590163826942444]"
      ]
     },
     "execution_count": 26,
     "metadata": {},
     "output_type": "execute_result"
    }
   ],
   "source": [
    "model.evaluate(X_test,y_test)"
   ]
  },
  {
   "cell_type": "markdown",
   "metadata": {
    "id": "DKIh4W0K6UId"
   },
   "source": [
    "### 5. Print the summary of the model: model.summary()"
   ]
  },
  {
   "cell_type": "code",
   "execution_count": 27,
   "metadata": {
    "colab": {
     "base_uri": "https://localhost:8080/"
    },
    "id": "wrfa5qdxFgOJ",
    "outputId": "df2fb576-2613-47a5-a986-c30db863353d"
   },
   "outputs": [
    {
     "name": "stdout",
     "output_type": "stream",
     "text": [
      "Model: \"sequential\"\n",
      "_________________________________________________________________\n",
      "Layer (type)                 Output Shape              Param #   \n",
      "=================================================================\n",
      "dense (Dense)                (None, 8)                 112       \n",
      "_________________________________________________________________\n",
      "dense_1 (Dense)              (None, 1)                 9         \n",
      "=================================================================\n",
      "Total params: 121\n",
      "Trainable params: 121\n",
      "Non-trainable params: 0\n",
      "_________________________________________________________________\n"
     ]
    }
   ],
   "source": [
    "model.summary()"
   ]
  },
  {
   "cell_type": "markdown",
   "metadata": {
    "id": "5o2mbDa46UIe"
   },
   "source": [
    "### 6. Train the model for 200 epochs and batch size as 10"
   ]
  },
  {
   "cell_type": "code",
   "execution_count": 28,
   "metadata": {
    "id": "OvAf4jEL6bOQ"
   },
   "outputs": [],
   "source": [
    "model.compile(loss='mean_squared_error', optimizer=optimizer, metrics=['accuracy'])"
   ]
  },
  {
   "cell_type": "code",
   "execution_count": 29,
   "metadata": {
    "colab": {
     "base_uri": "https://localhost:8080/"
    },
    "id": "sWa6xIytFn7J",
    "outputId": "22b689cf-2645-4c29-ff8f-776410d2cc46"
   },
   "outputs": [
    {
     "name": "stdout",
     "output_type": "stream",
     "text": [
      "Epoch 1/200\n",
      "25/25 [==============================] - 0s 1ms/step - loss: 0.5455 - accuracy: 0.4545\n",
      "Epoch 2/200\n",
      "25/25 [==============================] - 0s 1ms/step - loss: 0.5455 - accuracy: 0.4545\n",
      "Epoch 3/200\n",
      "25/25 [==============================] - 0s 2ms/step - loss: 0.5455 - accuracy: 0.4545\n",
      "Epoch 4/200\n",
      "25/25 [==============================] - 0s 2ms/step - loss: 0.5455 - accuracy: 0.4545\n",
      "Epoch 5/200\n",
      "25/25 [==============================] - 0s 2ms/step - loss: 0.5455 - accuracy: 0.4545\n",
      "Epoch 6/200\n",
      "25/25 [==============================] - 0s 2ms/step - loss: 0.5455 - accuracy: 0.4545\n",
      "Epoch 7/200\n",
      "25/25 [==============================] - 0s 2ms/step - loss: 0.5455 - accuracy: 0.4545\n",
      "Epoch 8/200\n",
      "25/25 [==============================] - 0s 2ms/step - loss: 0.5455 - accuracy: 0.4545\n",
      "Epoch 9/200\n",
      "25/25 [==============================] - 0s 2ms/step - loss: 0.5455 - accuracy: 0.4545\n",
      "Epoch 10/200\n",
      "25/25 [==============================] - 0s 1ms/step - loss: 0.5455 - accuracy: 0.4545\n",
      "Epoch 11/200\n",
      "25/25 [==============================] - 0s 1ms/step - loss: 0.5455 - accuracy: 0.4545\n",
      "Epoch 12/200\n",
      "25/25 [==============================] - 0s 2ms/step - loss: 0.5455 - accuracy: 0.4545\n",
      "Epoch 13/200\n",
      "25/25 [==============================] - 0s 2ms/step - loss: 0.5455 - accuracy: 0.4545\n",
      "Epoch 14/200\n",
      "25/25 [==============================] - 0s 2ms/step - loss: 0.5455 - accuracy: 0.4545\n",
      "Epoch 15/200\n",
      "25/25 [==============================] - 0s 2ms/step - loss: 0.5455 - accuracy: 0.4545\n",
      "Epoch 16/200\n",
      "25/25 [==============================] - 0s 2ms/step - loss: 0.5455 - accuracy: 0.4545\n",
      "Epoch 17/200\n",
      "25/25 [==============================] - 0s 2ms/step - loss: 0.5455 - accuracy: 0.4545\n",
      "Epoch 18/200\n",
      "25/25 [==============================] - 0s 1ms/step - loss: 0.5455 - accuracy: 0.4545\n",
      "Epoch 19/200\n",
      "25/25 [==============================] - 0s 1ms/step - loss: 0.5455 - accuracy: 0.4545\n",
      "Epoch 20/200\n",
      "25/25 [==============================] - 0s 1ms/step - loss: 0.5455 - accuracy: 0.4545\n",
      "Epoch 21/200\n",
      "25/25 [==============================] - 0s 2ms/step - loss: 0.5455 - accuracy: 0.4545\n",
      "Epoch 22/200\n",
      "25/25 [==============================] - 0s 1ms/step - loss: 0.5455 - accuracy: 0.4545\n",
      "Epoch 23/200\n",
      "25/25 [==============================] - 0s 1ms/step - loss: 0.5455 - accuracy: 0.4545\n",
      "Epoch 24/200\n",
      "25/25 [==============================] - 0s 1ms/step - loss: 0.5455 - accuracy: 0.4545\n",
      "Epoch 25/200\n",
      "25/25 [==============================] - 0s 1ms/step - loss: 0.5455 - accuracy: 0.4545\n",
      "Epoch 26/200\n",
      "25/25 [==============================] - 0s 2ms/step - loss: 0.5455 - accuracy: 0.4545\n",
      "Epoch 27/200\n",
      "25/25 [==============================] - 0s 1ms/step - loss: 0.5455 - accuracy: 0.4545\n",
      "Epoch 28/200\n",
      "25/25 [==============================] - 0s 1ms/step - loss: 0.5455 - accuracy: 0.4545\n",
      "Epoch 29/200\n",
      "25/25 [==============================] - 0s 2ms/step - loss: 0.5455 - accuracy: 0.4545\n",
      "Epoch 30/200\n",
      "25/25 [==============================] - 0s 1ms/step - loss: 0.5455 - accuracy: 0.4545\n",
      "Epoch 31/200\n",
      "25/25 [==============================] - 0s 1ms/step - loss: 0.5455 - accuracy: 0.4545\n",
      "Epoch 32/200\n",
      "25/25 [==============================] - 0s 1ms/step - loss: 0.5455 - accuracy: 0.4545\n",
      "Epoch 33/200\n",
      "25/25 [==============================] - 0s 2ms/step - loss: 0.5455 - accuracy: 0.4545\n",
      "Epoch 34/200\n",
      "25/25 [==============================] - 0s 1ms/step - loss: 0.5455 - accuracy: 0.4545\n",
      "Epoch 35/200\n",
      "25/25 [==============================] - 0s 1ms/step - loss: 0.5455 - accuracy: 0.4545\n",
      "Epoch 36/200\n",
      "25/25 [==============================] - 0s 1ms/step - loss: 0.5455 - accuracy: 0.4545\n",
      "Epoch 37/200\n",
      "25/25 [==============================] - 0s 2ms/step - loss: 0.5455 - accuracy: 0.4545\n",
      "Epoch 38/200\n",
      "25/25 [==============================] - 0s 1ms/step - loss: 0.5455 - accuracy: 0.4545\n",
      "Epoch 39/200\n",
      "25/25 [==============================] - 0s 1ms/step - loss: 0.5455 - accuracy: 0.4545\n",
      "Epoch 40/200\n",
      "25/25 [==============================] - 0s 2ms/step - loss: 0.5455 - accuracy: 0.4545\n",
      "Epoch 41/200\n",
      "25/25 [==============================] - 0s 2ms/step - loss: 0.5455 - accuracy: 0.4545\n",
      "Epoch 42/200\n",
      "25/25 [==============================] - 0s 2ms/step - loss: 0.5455 - accuracy: 0.4545\n",
      "Epoch 43/200\n",
      "25/25 [==============================] - 0s 2ms/step - loss: 0.5455 - accuracy: 0.4545\n",
      "Epoch 44/200\n",
      "25/25 [==============================] - 0s 1ms/step - loss: 0.5455 - accuracy: 0.4545\n",
      "Epoch 45/200\n",
      "25/25 [==============================] - 0s 1ms/step - loss: 0.5455 - accuracy: 0.4545\n",
      "Epoch 46/200\n",
      "25/25 [==============================] - 0s 1ms/step - loss: 0.5455 - accuracy: 0.4545\n",
      "Epoch 47/200\n",
      "25/25 [==============================] - 0s 1ms/step - loss: 0.5455 - accuracy: 0.4545\n",
      "Epoch 48/200\n",
      "25/25 [==============================] - 0s 1ms/step - loss: 0.5455 - accuracy: 0.4545\n",
      "Epoch 49/200\n",
      "25/25 [==============================] - 0s 1ms/step - loss: 0.5455 - accuracy: 0.4545\n",
      "Epoch 50/200\n",
      "25/25 [==============================] - 0s 2ms/step - loss: 0.5455 - accuracy: 0.4545\n",
      "Epoch 51/200\n",
      "25/25 [==============================] - 0s 2ms/step - loss: 0.5455 - accuracy: 0.4545\n",
      "Epoch 52/200\n",
      "25/25 [==============================] - 0s 1ms/step - loss: 0.5455 - accuracy: 0.4545\n",
      "Epoch 53/200\n",
      "25/25 [==============================] - 0s 2ms/step - loss: 0.5455 - accuracy: 0.4545\n",
      "Epoch 54/200\n",
      "25/25 [==============================] - 0s 2ms/step - loss: 0.5455 - accuracy: 0.4545\n",
      "Epoch 55/200\n",
      "25/25 [==============================] - 0s 2ms/step - loss: 0.5455 - accuracy: 0.4545\n",
      "Epoch 56/200\n",
      "25/25 [==============================] - 0s 2ms/step - loss: 0.5455 - accuracy: 0.4545\n",
      "Epoch 57/200\n",
      "25/25 [==============================] - 0s 2ms/step - loss: 0.5455 - accuracy: 0.4545\n",
      "Epoch 58/200\n",
      "25/25 [==============================] - 0s 2ms/step - loss: 0.5455 - accuracy: 0.4545\n",
      "Epoch 59/200\n",
      "25/25 [==============================] - 0s 2ms/step - loss: 0.5455 - accuracy: 0.4545\n",
      "Epoch 60/200\n",
      "25/25 [==============================] - 0s 2ms/step - loss: 0.5455 - accuracy: 0.4545\n",
      "Epoch 61/200\n",
      "25/25 [==============================] - 0s 2ms/step - loss: 0.5455 - accuracy: 0.4545\n",
      "Epoch 62/200\n",
      "25/25 [==============================] - 0s 1ms/step - loss: 0.5455 - accuracy: 0.4545\n",
      "Epoch 63/200\n",
      "25/25 [==============================] - 0s 1ms/step - loss: 0.5455 - accuracy: 0.4545\n",
      "Epoch 64/200\n",
      "25/25 [==============================] - 0s 1ms/step - loss: 0.5455 - accuracy: 0.4545\n",
      "Epoch 65/200\n",
      "25/25 [==============================] - 0s 2ms/step - loss: 0.5455 - accuracy: 0.4545\n",
      "Epoch 66/200\n",
      "25/25 [==============================] - 0s 2ms/step - loss: 0.5455 - accuracy: 0.4545\n",
      "Epoch 67/200\n",
      "25/25 [==============================] - 0s 1ms/step - loss: 0.5455 - accuracy: 0.4545\n",
      "Epoch 68/200\n",
      "25/25 [==============================] - 0s 1ms/step - loss: 0.5455 - accuracy: 0.4545\n",
      "Epoch 69/200\n",
      "25/25 [==============================] - 0s 2ms/step - loss: 0.5455 - accuracy: 0.4545\n",
      "Epoch 70/200\n",
      "25/25 [==============================] - 0s 2ms/step - loss: 0.5455 - accuracy: 0.4545\n",
      "Epoch 71/200\n",
      "25/25 [==============================] - 0s 2ms/step - loss: 0.5455 - accuracy: 0.4545\n",
      "Epoch 72/200\n",
      "25/25 [==============================] - 0s 2ms/step - loss: 0.5455 - accuracy: 0.4545\n",
      "Epoch 73/200\n",
      "25/25 [==============================] - 0s 1ms/step - loss: 0.5455 - accuracy: 0.4545\n",
      "Epoch 74/200\n",
      "25/25 [==============================] - 0s 2ms/step - loss: 0.5455 - accuracy: 0.4545\n",
      "Epoch 75/200\n",
      "25/25 [==============================] - 0s 1ms/step - loss: 0.5455 - accuracy: 0.4545\n",
      "Epoch 76/200\n",
      "25/25 [==============================] - 0s 2ms/step - loss: 0.5455 - accuracy: 0.4545\n",
      "Epoch 77/200\n",
      "25/25 [==============================] - 0s 2ms/step - loss: 0.5455 - accuracy: 0.4545\n",
      "Epoch 78/200\n",
      "25/25 [==============================] - 0s 1ms/step - loss: 0.5455 - accuracy: 0.4545\n",
      "Epoch 79/200\n",
      "25/25 [==============================] - 0s 2ms/step - loss: 0.5455 - accuracy: 0.4545\n",
      "Epoch 80/200\n",
      "25/25 [==============================] - 0s 1ms/step - loss: 0.5455 - accuracy: 0.4545\n",
      "Epoch 81/200\n",
      "25/25 [==============================] - 0s 1ms/step - loss: 0.5455 - accuracy: 0.4545\n",
      "Epoch 82/200\n",
      "25/25 [==============================] - 0s 2ms/step - loss: 0.5455 - accuracy: 0.4545\n",
      "Epoch 83/200\n",
      "25/25 [==============================] - 0s 1ms/step - loss: 0.5455 - accuracy: 0.4545\n",
      "Epoch 84/200\n",
      "25/25 [==============================] - 0s 2ms/step - loss: 0.5455 - accuracy: 0.4545\n",
      "Epoch 85/200\n",
      "25/25 [==============================] - 0s 2ms/step - loss: 0.5455 - accuracy: 0.4545\n",
      "Epoch 86/200\n",
      "25/25 [==============================] - 0s 2ms/step - loss: 0.5455 - accuracy: 0.4545\n",
      "Epoch 87/200\n",
      "25/25 [==============================] - 0s 1ms/step - loss: 0.5455 - accuracy: 0.4545\n",
      "Epoch 88/200\n",
      "25/25 [==============================] - 0s 1ms/step - loss: 0.5455 - accuracy: 0.4545\n",
      "Epoch 89/200\n",
      "25/25 [==============================] - 0s 1ms/step - loss: 0.5455 - accuracy: 0.4545\n",
      "Epoch 90/200\n",
      "25/25 [==============================] - 0s 2ms/step - loss: 0.5455 - accuracy: 0.4545\n",
      "Epoch 91/200\n",
      "25/25 [==============================] - 0s 2ms/step - loss: 0.5455 - accuracy: 0.4545\n",
      "Epoch 92/200\n",
      "25/25 [==============================] - 0s 2ms/step - loss: 0.5455 - accuracy: 0.4545\n",
      "Epoch 93/200\n",
      "25/25 [==============================] - 0s 1ms/step - loss: 0.5455 - accuracy: 0.4545\n",
      "Epoch 94/200\n",
      "25/25 [==============================] - 0s 1ms/step - loss: 0.5455 - accuracy: 0.4545\n",
      "Epoch 95/200\n",
      "25/25 [==============================] - 0s 1ms/step - loss: 0.5455 - accuracy: 0.4545\n",
      "Epoch 96/200\n",
      "25/25 [==============================] - 0s 1ms/step - loss: 0.5455 - accuracy: 0.4545\n",
      "Epoch 97/200\n",
      "25/25 [==============================] - 0s 1ms/step - loss: 0.5455 - accuracy: 0.4545\n",
      "Epoch 98/200\n",
      "25/25 [==============================] - 0s 2ms/step - loss: 0.5455 - accuracy: 0.4545\n",
      "Epoch 99/200\n",
      "25/25 [==============================] - 0s 2ms/step - loss: 0.5455 - accuracy: 0.4545\n",
      "Epoch 100/200\n",
      "25/25 [==============================] - 0s 2ms/step - loss: 0.5455 - accuracy: 0.4545\n",
      "Epoch 101/200\n",
      "25/25 [==============================] - 0s 2ms/step - loss: 0.5455 - accuracy: 0.4545\n",
      "Epoch 102/200\n",
      "25/25 [==============================] - 0s 1ms/step - loss: 0.5455 - accuracy: 0.4545\n",
      "Epoch 103/200\n",
      "25/25 [==============================] - 0s 1ms/step - loss: 0.5455 - accuracy: 0.4545\n",
      "Epoch 104/200\n",
      "25/25 [==============================] - 0s 2ms/step - loss: 0.5455 - accuracy: 0.4545\n",
      "Epoch 105/200\n",
      "25/25 [==============================] - 0s 1ms/step - loss: 0.5455 - accuracy: 0.4545\n",
      "Epoch 106/200\n",
      "25/25 [==============================] - 0s 2ms/step - loss: 0.5455 - accuracy: 0.4545\n",
      "Epoch 107/200\n",
      "25/25 [==============================] - 0s 2ms/step - loss: 0.5455 - accuracy: 0.4545\n",
      "Epoch 108/200\n",
      "25/25 [==============================] - 0s 2ms/step - loss: 0.5455 - accuracy: 0.4545\n",
      "Epoch 109/200\n",
      "25/25 [==============================] - 0s 3ms/step - loss: 0.5455 - accuracy: 0.4545\n",
      "Epoch 110/200\n",
      "25/25 [==============================] - 0s 1ms/step - loss: 0.5455 - accuracy: 0.4545\n",
      "Epoch 111/200\n",
      "25/25 [==============================] - 0s 1ms/step - loss: 0.5455 - accuracy: 0.4545\n",
      "Epoch 112/200\n",
      "25/25 [==============================] - 0s 2ms/step - loss: 0.5455 - accuracy: 0.4545\n",
      "Epoch 113/200\n",
      "25/25 [==============================] - 0s 2ms/step - loss: 0.5455 - accuracy: 0.4545\n",
      "Epoch 114/200\n",
      "25/25 [==============================] - 0s 1ms/step - loss: 0.5455 - accuracy: 0.4545\n",
      "Epoch 115/200\n",
      "25/25 [==============================] - 0s 2ms/step - loss: 0.5455 - accuracy: 0.4545\n",
      "Epoch 116/200\n",
      "25/25 [==============================] - 0s 2ms/step - loss: 0.5455 - accuracy: 0.4545\n",
      "Epoch 117/200\n",
      "25/25 [==============================] - 0s 2ms/step - loss: 0.5455 - accuracy: 0.4545\n",
      "Epoch 118/200\n",
      "25/25 [==============================] - 0s 2ms/step - loss: 0.5455 - accuracy: 0.4545\n",
      "Epoch 119/200\n",
      "25/25 [==============================] - 0s 2ms/step - loss: 0.5455 - accuracy: 0.4545\n",
      "Epoch 120/200\n",
      "25/25 [==============================] - 0s 2ms/step - loss: 0.5455 - accuracy: 0.4545\n",
      "Epoch 121/200\n",
      "25/25 [==============================] - 0s 1ms/step - loss: 0.5455 - accuracy: 0.4545\n",
      "Epoch 122/200\n",
      "25/25 [==============================] - 0s 2ms/step - loss: 0.5455 - accuracy: 0.4545\n",
      "Epoch 123/200\n",
      "25/25 [==============================] - 0s 1ms/step - loss: 0.5455 - accuracy: 0.4545\n",
      "Epoch 124/200\n",
      "25/25 [==============================] - 0s 1ms/step - loss: 0.5455 - accuracy: 0.4545\n",
      "Epoch 125/200\n",
      "25/25 [==============================] - 0s 2ms/step - loss: 0.5455 - accuracy: 0.4545\n",
      "Epoch 126/200\n",
      "25/25 [==============================] - 0s 2ms/step - loss: 0.5455 - accuracy: 0.4545\n",
      "Epoch 127/200\n",
      "25/25 [==============================] - 0s 1ms/step - loss: 0.5455 - accuracy: 0.4545\n",
      "Epoch 128/200\n",
      "25/25 [==============================] - 0s 2ms/step - loss: 0.5455 - accuracy: 0.4545\n",
      "Epoch 129/200\n",
      "25/25 [==============================] - 0s 2ms/step - loss: 0.5455 - accuracy: 0.4545\n",
      "Epoch 130/200\n",
      "25/25 [==============================] - 0s 1ms/step - loss: 0.5455 - accuracy: 0.4545\n",
      "Epoch 131/200\n",
      "25/25 [==============================] - 0s 1ms/step - loss: 0.5455 - accuracy: 0.4545\n",
      "Epoch 132/200\n",
      "25/25 [==============================] - 0s 1ms/step - loss: 0.5455 - accuracy: 0.4545\n",
      "Epoch 133/200\n",
      "25/25 [==============================] - 0s 2ms/step - loss: 0.5455 - accuracy: 0.4545\n",
      "Epoch 134/200\n",
      "25/25 [==============================] - 0s 1ms/step - loss: 0.5455 - accuracy: 0.4545\n",
      "Epoch 135/200\n",
      "25/25 [==============================] - 0s 1ms/step - loss: 0.5455 - accuracy: 0.4545\n",
      "Epoch 136/200\n",
      "25/25 [==============================] - 0s 2ms/step - loss: 0.5455 - accuracy: 0.4545\n",
      "Epoch 137/200\n",
      "25/25 [==============================] - 0s 2ms/step - loss: 0.5455 - accuracy: 0.4545\n",
      "Epoch 138/200\n",
      "25/25 [==============================] - 0s 1ms/step - loss: 0.5455 - accuracy: 0.4545\n",
      "Epoch 139/200\n",
      "25/25 [==============================] - 0s 1ms/step - loss: 0.5455 - accuracy: 0.4545\n",
      "Epoch 140/200\n",
      "25/25 [==============================] - 0s 1ms/step - loss: 0.5455 - accuracy: 0.4545\n",
      "Epoch 141/200\n",
      "25/25 [==============================] - 0s 2ms/step - loss: 0.5455 - accuracy: 0.4545\n",
      "Epoch 142/200\n",
      "25/25 [==============================] - 0s 2ms/step - loss: 0.5455 - accuracy: 0.4545\n",
      "Epoch 143/200\n",
      "25/25 [==============================] - 0s 2ms/step - loss: 0.5455 - accuracy: 0.4545\n",
      "Epoch 144/200\n",
      "25/25 [==============================] - 0s 2ms/step - loss: 0.5455 - accuracy: 0.4545\n",
      "Epoch 145/200\n",
      "25/25 [==============================] - 0s 2ms/step - loss: 0.5455 - accuracy: 0.4545\n",
      "Epoch 146/200\n",
      "25/25 [==============================] - 0s 2ms/step - loss: 0.5455 - accuracy: 0.4545\n",
      "Epoch 147/200\n",
      "25/25 [==============================] - 0s 2ms/step - loss: 0.5455 - accuracy: 0.4545\n",
      "Epoch 148/200\n",
      "25/25 [==============================] - 0s 2ms/step - loss: 0.5455 - accuracy: 0.4545\n",
      "Epoch 149/200\n",
      "25/25 [==============================] - 0s 2ms/step - loss: 0.5455 - accuracy: 0.4545\n",
      "Epoch 150/200\n",
      "25/25 [==============================] - 0s 1ms/step - loss: 0.5455 - accuracy: 0.4545\n",
      "Epoch 151/200\n",
      "25/25 [==============================] - 0s 2ms/step - loss: 0.5455 - accuracy: 0.4545\n",
      "Epoch 152/200\n",
      "25/25 [==============================] - 0s 2ms/step - loss: 0.5455 - accuracy: 0.4545\n",
      "Epoch 153/200\n",
      "25/25 [==============================] - 0s 2ms/step - loss: 0.5455 - accuracy: 0.4545\n",
      "Epoch 154/200\n",
      "25/25 [==============================] - 0s 1ms/step - loss: 0.5455 - accuracy: 0.4545\n",
      "Epoch 155/200\n",
      "25/25 [==============================] - 0s 1ms/step - loss: 0.5455 - accuracy: 0.4545\n",
      "Epoch 156/200\n",
      "25/25 [==============================] - 0s 1ms/step - loss: 0.5455 - accuracy: 0.4545\n",
      "Epoch 157/200\n",
      "25/25 [==============================] - 0s 2ms/step - loss: 0.5455 - accuracy: 0.4545\n",
      "Epoch 158/200\n",
      "25/25 [==============================] - 0s 2ms/step - loss: 0.5455 - accuracy: 0.4545\n",
      "Epoch 159/200\n",
      "25/25 [==============================] - 0s 1ms/step - loss: 0.5455 - accuracy: 0.4545\n",
      "Epoch 160/200\n",
      "25/25 [==============================] - 0s 2ms/step - loss: 0.5455 - accuracy: 0.4545\n",
      "Epoch 161/200\n",
      "25/25 [==============================] - 0s 2ms/step - loss: 0.5455 - accuracy: 0.4545\n",
      "Epoch 162/200\n",
      "25/25 [==============================] - 0s 2ms/step - loss: 0.5455 - accuracy: 0.4545\n",
      "Epoch 163/200\n",
      "25/25 [==============================] - 0s 2ms/step - loss: 0.5455 - accuracy: 0.4545\n",
      "Epoch 164/200\n",
      "25/25 [==============================] - 0s 2ms/step - loss: 0.5455 - accuracy: 0.4545\n",
      "Epoch 165/200\n",
      "25/25 [==============================] - 0s 1ms/step - loss: 0.5455 - accuracy: 0.4545\n",
      "Epoch 166/200\n",
      "25/25 [==============================] - 0s 2ms/step - loss: 0.5455 - accuracy: 0.4545\n",
      "Epoch 167/200\n",
      "25/25 [==============================] - 0s 2ms/step - loss: 0.5455 - accuracy: 0.4545\n",
      "Epoch 168/200\n",
      "25/25 [==============================] - 0s 2ms/step - loss: 0.5455 - accuracy: 0.4545\n",
      "Epoch 169/200\n",
      "25/25 [==============================] - 0s 2ms/step - loss: 0.5455 - accuracy: 0.4545\n",
      "Epoch 170/200\n",
      "25/25 [==============================] - 0s 1ms/step - loss: 0.5455 - accuracy: 0.4545\n",
      "Epoch 171/200\n",
      "25/25 [==============================] - 0s 2ms/step - loss: 0.5455 - accuracy: 0.4545\n",
      "Epoch 172/200\n",
      "25/25 [==============================] - 0s 2ms/step - loss: 0.5455 - accuracy: 0.4545\n",
      "Epoch 173/200\n",
      "25/25 [==============================] - 0s 2ms/step - loss: 0.5455 - accuracy: 0.4545\n",
      "Epoch 174/200\n",
      "25/25 [==============================] - 0s 2ms/step - loss: 0.5455 - accuracy: 0.4545\n",
      "Epoch 175/200\n",
      "25/25 [==============================] - 0s 2ms/step - loss: 0.5455 - accuracy: 0.4545\n",
      "Epoch 176/200\n",
      "25/25 [==============================] - 0s 1ms/step - loss: 0.5455 - accuracy: 0.4545\n",
      "Epoch 177/200\n",
      "25/25 [==============================] - 0s 2ms/step - loss: 0.5455 - accuracy: 0.4545\n",
      "Epoch 178/200\n",
      "25/25 [==============================] - 0s 2ms/step - loss: 0.5455 - accuracy: 0.4545\n",
      "Epoch 179/200\n",
      "25/25 [==============================] - 0s 2ms/step - loss: 0.5455 - accuracy: 0.4545\n",
      "Epoch 180/200\n",
      "25/25 [==============================] - 0s 1ms/step - loss: 0.5455 - accuracy: 0.4545\n",
      "Epoch 181/200\n",
      "25/25 [==============================] - 0s 2ms/step - loss: 0.5455 - accuracy: 0.4545\n",
      "Epoch 182/200\n",
      "25/25 [==============================] - 0s 2ms/step - loss: 0.5455 - accuracy: 0.4545\n",
      "Epoch 183/200\n",
      "25/25 [==============================] - 0s 2ms/step - loss: 0.5455 - accuracy: 0.4545\n",
      "Epoch 184/200\n",
      "25/25 [==============================] - 0s 1ms/step - loss: 0.5455 - accuracy: 0.4545\n",
      "Epoch 185/200\n",
      "25/25 [==============================] - 0s 2ms/step - loss: 0.5455 - accuracy: 0.4545\n",
      "Epoch 186/200\n",
      "25/25 [==============================] - 0s 2ms/step - loss: 0.5455 - accuracy: 0.4545\n",
      "Epoch 187/200\n",
      "25/25 [==============================] - 0s 2ms/step - loss: 0.5455 - accuracy: 0.4545\n",
      "Epoch 188/200\n",
      "25/25 [==============================] - 0s 2ms/step - loss: 0.5455 - accuracy: 0.4545\n",
      "Epoch 189/200\n",
      "25/25 [==============================] - 0s 2ms/step - loss: 0.5455 - accuracy: 0.4545\n",
      "Epoch 190/200\n",
      "25/25 [==============================] - 0s 2ms/step - loss: 0.5455 - accuracy: 0.4545\n",
      "Epoch 191/200\n",
      "25/25 [==============================] - 0s 1ms/step - loss: 0.5455 - accuracy: 0.4545\n",
      "Epoch 192/200\n",
      "25/25 [==============================] - 0s 1ms/step - loss: 0.5455 - accuracy: 0.4545\n",
      "Epoch 193/200\n",
      "25/25 [==============================] - 0s 2ms/step - loss: 0.5455 - accuracy: 0.4545\n",
      "Epoch 194/200\n",
      "25/25 [==============================] - 0s 1ms/step - loss: 0.5455 - accuracy: 0.4545\n",
      "Epoch 195/200\n",
      "25/25 [==============================] - 0s 1ms/step - loss: 0.5455 - accuracy: 0.4545\n",
      "Epoch 196/200\n",
      "25/25 [==============================] - 0s 2ms/step - loss: 0.5455 - accuracy: 0.4545\n",
      "Epoch 197/200\n",
      "25/25 [==============================] - 0s 2ms/step - loss: 0.5455 - accuracy: 0.4545\n",
      "Epoch 198/200\n",
      "25/25 [==============================] - 0s 2ms/step - loss: 0.5455 - accuracy: 0.4545\n",
      "Epoch 199/200\n",
      "25/25 [==============================] - 0s 2ms/step - loss: 0.5455 - accuracy: 0.4545\n",
      "Epoch 200/200\n",
      "25/25 [==============================] - 0s 2ms/step - loss: 0.5455 - accuracy: 0.4545\n"
     ]
    },
    {
     "data": {
      "text/plain": [
       "<keras.callbacks.History at 0x7f761059ffd0>"
      ]
     },
     "execution_count": 29,
     "metadata": {},
     "output_type": "execute_result"
    }
   ],
   "source": [
    "model.fit(X_train, y_train, epochs=200, batch_size=10,verbose = 1)"
   ]
  },
  {
   "cell_type": "code",
   "execution_count": 30,
   "metadata": {
    "colab": {
     "base_uri": "https://localhost:8080/"
    },
    "id": "lRE_G4Id6UIf",
    "outputId": "86b5f994-3591-45bb-f8a9-8cdb945445c1"
   },
   "outputs": [
    {
     "name": "stdout",
     "output_type": "stream",
     "text": [
      "2/2 [==============================] - 0s 6ms/step - loss: 0.5410 - accuracy: 0.4590\n"
     ]
    },
    {
     "data": {
      "text/plain": [
       "[0.5409836173057556, 0.4590163826942444]"
      ]
     },
     "execution_count": 30,
     "metadata": {},
     "output_type": "execute_result"
    }
   ],
   "source": [
    "model.evaluate(X_test,y_test)"
   ]
  },
  {
   "cell_type": "markdown",
   "metadata": {
    "id": "4tvkr27v6UIf"
   },
   "source": [
    "### 7. Save the trained model in a variable, such as, history. Also, you can split your training data for validation  such as 20% of training data "
   ]
  },
  {
   "cell_type": "code",
   "execution_count": 31,
   "metadata": {
    "colab": {
     "base_uri": "https://localhost:8080/"
    },
    "id": "Y3pR6bVcF8Qn",
    "outputId": "8985c2ce-97e7-40b2-a6ed-6310586bf3f6"
   },
   "outputs": [
    {
     "name": "stdout",
     "output_type": "stream",
     "text": [
      "Epoch 1/100\n",
      "20/20 [==============================] - 0s 7ms/step - loss: 0.5544 - accuracy: 0.4456 - val_loss: 0.5102 - val_accuracy: 0.4898\n",
      "Epoch 2/100\n",
      "20/20 [==============================] - 0s 3ms/step - loss: 0.5544 - accuracy: 0.4456 - val_loss: 0.5102 - val_accuracy: 0.4898\n",
      "Epoch 3/100\n",
      "20/20 [==============================] - 0s 2ms/step - loss: 0.5544 - accuracy: 0.4456 - val_loss: 0.5102 - val_accuracy: 0.4898\n",
      "Epoch 4/100\n",
      "20/20 [==============================] - 0s 3ms/step - loss: 0.5544 - accuracy: 0.4456 - val_loss: 0.5102 - val_accuracy: 0.4898\n",
      "Epoch 5/100\n",
      "20/20 [==============================] - 0s 3ms/step - loss: 0.5544 - accuracy: 0.4456 - val_loss: 0.5102 - val_accuracy: 0.4898\n",
      "Epoch 6/100\n",
      "20/20 [==============================] - 0s 3ms/step - loss: 0.5544 - accuracy: 0.4456 - val_loss: 0.5102 - val_accuracy: 0.4898\n",
      "Epoch 7/100\n",
      "20/20 [==============================] - 0s 3ms/step - loss: 0.5544 - accuracy: 0.4456 - val_loss: 0.5102 - val_accuracy: 0.4898\n",
      "Epoch 8/100\n",
      "20/20 [==============================] - 0s 4ms/step - loss: 0.5544 - accuracy: 0.4456 - val_loss: 0.5102 - val_accuracy: 0.4898\n",
      "Epoch 9/100\n",
      "20/20 [==============================] - 0s 4ms/step - loss: 0.5544 - accuracy: 0.4456 - val_loss: 0.5102 - val_accuracy: 0.4898\n",
      "Epoch 10/100\n",
      "20/20 [==============================] - 0s 4ms/step - loss: 0.5544 - accuracy: 0.4456 - val_loss: 0.5102 - val_accuracy: 0.4898\n",
      "Epoch 11/100\n",
      "20/20 [==============================] - 0s 3ms/step - loss: 0.5544 - accuracy: 0.4456 - val_loss: 0.5102 - val_accuracy: 0.4898\n",
      "Epoch 12/100\n",
      "20/20 [==============================] - 0s 3ms/step - loss: 0.5544 - accuracy: 0.4456 - val_loss: 0.5102 - val_accuracy: 0.4898\n",
      "Epoch 13/100\n",
      "20/20 [==============================] - 0s 2ms/step - loss: 0.5544 - accuracy: 0.4456 - val_loss: 0.5102 - val_accuracy: 0.4898\n",
      "Epoch 14/100\n",
      "20/20 [==============================] - 0s 2ms/step - loss: 0.5544 - accuracy: 0.4456 - val_loss: 0.5102 - val_accuracy: 0.4898\n",
      "Epoch 15/100\n",
      "20/20 [==============================] - 0s 3ms/step - loss: 0.5544 - accuracy: 0.4456 - val_loss: 0.5102 - val_accuracy: 0.4898\n",
      "Epoch 16/100\n",
      "20/20 [==============================] - 0s 3ms/step - loss: 0.5544 - accuracy: 0.4456 - val_loss: 0.5102 - val_accuracy: 0.4898\n",
      "Epoch 17/100\n",
      "20/20 [==============================] - 0s 2ms/step - loss: 0.5544 - accuracy: 0.4456 - val_loss: 0.5102 - val_accuracy: 0.4898\n",
      "Epoch 18/100\n",
      "20/20 [==============================] - 0s 3ms/step - loss: 0.5544 - accuracy: 0.4456 - val_loss: 0.5102 - val_accuracy: 0.4898\n",
      "Epoch 19/100\n",
      "20/20 [==============================] - 0s 3ms/step - loss: 0.5544 - accuracy: 0.4456 - val_loss: 0.5102 - val_accuracy: 0.4898\n",
      "Epoch 20/100\n",
      "20/20 [==============================] - 0s 3ms/step - loss: 0.5544 - accuracy: 0.4456 - val_loss: 0.5102 - val_accuracy: 0.4898\n",
      "Epoch 21/100\n",
      "20/20 [==============================] - 0s 3ms/step - loss: 0.5544 - accuracy: 0.4456 - val_loss: 0.5102 - val_accuracy: 0.4898\n",
      "Epoch 22/100\n",
      "20/20 [==============================] - 0s 4ms/step - loss: 0.5544 - accuracy: 0.4456 - val_loss: 0.5102 - val_accuracy: 0.4898\n",
      "Epoch 23/100\n",
      "20/20 [==============================] - 0s 3ms/step - loss: 0.5544 - accuracy: 0.4456 - val_loss: 0.5102 - val_accuracy: 0.4898\n",
      "Epoch 24/100\n",
      "20/20 [==============================] - 0s 3ms/step - loss: 0.5544 - accuracy: 0.4456 - val_loss: 0.5102 - val_accuracy: 0.4898\n",
      "Epoch 25/100\n",
      "20/20 [==============================] - 0s 3ms/step - loss: 0.5544 - accuracy: 0.4456 - val_loss: 0.5102 - val_accuracy: 0.4898\n",
      "Epoch 26/100\n",
      "20/20 [==============================] - 0s 3ms/step - loss: 0.5544 - accuracy: 0.4456 - val_loss: 0.5102 - val_accuracy: 0.4898\n",
      "Epoch 27/100\n",
      "20/20 [==============================] - 0s 3ms/step - loss: 0.5544 - accuracy: 0.4456 - val_loss: 0.5102 - val_accuracy: 0.4898\n",
      "Epoch 28/100\n",
      "20/20 [==============================] - 0s 3ms/step - loss: 0.5544 - accuracy: 0.4456 - val_loss: 0.5102 - val_accuracy: 0.4898\n",
      "Epoch 29/100\n",
      "20/20 [==============================] - 0s 4ms/step - loss: 0.5544 - accuracy: 0.4456 - val_loss: 0.5102 - val_accuracy: 0.4898\n",
      "Epoch 30/100\n",
      "20/20 [==============================] - 0s 3ms/step - loss: 0.5544 - accuracy: 0.4456 - val_loss: 0.5102 - val_accuracy: 0.4898\n",
      "Epoch 31/100\n",
      "20/20 [==============================] - 0s 3ms/step - loss: 0.5544 - accuracy: 0.4456 - val_loss: 0.5102 - val_accuracy: 0.4898\n",
      "Epoch 32/100\n",
      "20/20 [==============================] - 0s 3ms/step - loss: 0.5544 - accuracy: 0.4456 - val_loss: 0.5102 - val_accuracy: 0.4898\n",
      "Epoch 33/100\n",
      "20/20 [==============================] - 0s 3ms/step - loss: 0.5544 - accuracy: 0.4456 - val_loss: 0.5102 - val_accuracy: 0.4898\n",
      "Epoch 34/100\n",
      "20/20 [==============================] - 0s 3ms/step - loss: 0.5544 - accuracy: 0.4456 - val_loss: 0.5102 - val_accuracy: 0.4898\n",
      "Epoch 35/100\n",
      "20/20 [==============================] - 0s 2ms/step - loss: 0.5544 - accuracy: 0.4456 - val_loss: 0.5102 - val_accuracy: 0.4898\n",
      "Epoch 36/100\n",
      "20/20 [==============================] - 0s 3ms/step - loss: 0.5544 - accuracy: 0.4456 - val_loss: 0.5102 - val_accuracy: 0.4898\n",
      "Epoch 37/100\n",
      "20/20 [==============================] - 0s 4ms/step - loss: 0.5544 - accuracy: 0.4456 - val_loss: 0.5102 - val_accuracy: 0.4898\n",
      "Epoch 38/100\n",
      "20/20 [==============================] - 0s 3ms/step - loss: 0.5544 - accuracy: 0.4456 - val_loss: 0.5102 - val_accuracy: 0.4898\n",
      "Epoch 39/100\n",
      "20/20 [==============================] - 0s 3ms/step - loss: 0.5544 - accuracy: 0.4456 - val_loss: 0.5102 - val_accuracy: 0.4898\n",
      "Epoch 40/100\n",
      "20/20 [==============================] - 0s 3ms/step - loss: 0.5544 - accuracy: 0.4456 - val_loss: 0.5102 - val_accuracy: 0.4898\n",
      "Epoch 41/100\n",
      "20/20 [==============================] - 0s 3ms/step - loss: 0.5544 - accuracy: 0.4456 - val_loss: 0.5102 - val_accuracy: 0.4898\n",
      "Epoch 42/100\n",
      "20/20 [==============================] - 0s 4ms/step - loss: 0.5544 - accuracy: 0.4456 - val_loss: 0.5102 - val_accuracy: 0.4898\n",
      "Epoch 43/100\n",
      "20/20 [==============================] - 0s 3ms/step - loss: 0.5544 - accuracy: 0.4456 - val_loss: 0.5102 - val_accuracy: 0.4898\n",
      "Epoch 44/100\n",
      "20/20 [==============================] - 0s 4ms/step - loss: 0.5544 - accuracy: 0.4456 - val_loss: 0.5102 - val_accuracy: 0.4898\n",
      "Epoch 45/100\n",
      "20/20 [==============================] - 0s 4ms/step - loss: 0.5544 - accuracy: 0.4456 - val_loss: 0.5102 - val_accuracy: 0.4898\n",
      "Epoch 46/100\n",
      "20/20 [==============================] - 0s 4ms/step - loss: 0.5544 - accuracy: 0.4456 - val_loss: 0.5102 - val_accuracy: 0.4898\n",
      "Epoch 47/100\n",
      "20/20 [==============================] - 0s 3ms/step - loss: 0.5544 - accuracy: 0.4456 - val_loss: 0.5102 - val_accuracy: 0.4898\n",
      "Epoch 48/100\n",
      "20/20 [==============================] - 0s 3ms/step - loss: 0.5544 - accuracy: 0.4456 - val_loss: 0.5102 - val_accuracy: 0.4898\n",
      "Epoch 49/100\n",
      "20/20 [==============================] - 0s 4ms/step - loss: 0.5544 - accuracy: 0.4456 - val_loss: 0.5102 - val_accuracy: 0.4898\n",
      "Epoch 50/100\n",
      "20/20 [==============================] - 0s 3ms/step - loss: 0.5544 - accuracy: 0.4456 - val_loss: 0.5102 - val_accuracy: 0.4898\n",
      "Epoch 51/100\n",
      "20/20 [==============================] - 0s 3ms/step - loss: 0.5544 - accuracy: 0.4456 - val_loss: 0.5102 - val_accuracy: 0.4898\n",
      "Epoch 52/100\n",
      "20/20 [==============================] - 0s 4ms/step - loss: 0.5544 - accuracy: 0.4456 - val_loss: 0.5102 - val_accuracy: 0.4898\n",
      "Epoch 53/100\n",
      "20/20 [==============================] - 0s 4ms/step - loss: 0.5544 - accuracy: 0.4456 - val_loss: 0.5102 - val_accuracy: 0.4898\n",
      "Epoch 54/100\n",
      "20/20 [==============================] - 0s 3ms/step - loss: 0.5544 - accuracy: 0.4456 - val_loss: 0.5102 - val_accuracy: 0.4898\n",
      "Epoch 55/100\n",
      "20/20 [==============================] - 0s 3ms/step - loss: 0.5544 - accuracy: 0.4456 - val_loss: 0.5102 - val_accuracy: 0.4898\n",
      "Epoch 56/100\n",
      "20/20 [==============================] - 0s 3ms/step - loss: 0.5544 - accuracy: 0.4456 - val_loss: 0.5102 - val_accuracy: 0.4898\n",
      "Epoch 57/100\n",
      "20/20 [==============================] - 0s 3ms/step - loss: 0.5544 - accuracy: 0.4456 - val_loss: 0.5102 - val_accuracy: 0.4898\n",
      "Epoch 58/100\n",
      "20/20 [==============================] - 0s 3ms/step - loss: 0.5544 - accuracy: 0.4456 - val_loss: 0.5102 - val_accuracy: 0.4898\n",
      "Epoch 59/100\n",
      "20/20 [==============================] - 0s 4ms/step - loss: 0.5544 - accuracy: 0.4456 - val_loss: 0.5102 - val_accuracy: 0.4898\n",
      "Epoch 60/100\n",
      "20/20 [==============================] - 0s 3ms/step - loss: 0.5544 - accuracy: 0.4456 - val_loss: 0.5102 - val_accuracy: 0.4898\n",
      "Epoch 61/100\n",
      "20/20 [==============================] - 0s 4ms/step - loss: 0.5544 - accuracy: 0.4456 - val_loss: 0.5102 - val_accuracy: 0.4898\n",
      "Epoch 62/100\n",
      "20/20 [==============================] - 0s 3ms/step - loss: 0.5544 - accuracy: 0.4456 - val_loss: 0.5102 - val_accuracy: 0.4898\n",
      "Epoch 63/100\n",
      "20/20 [==============================] - 0s 4ms/step - loss: 0.5544 - accuracy: 0.4456 - val_loss: 0.5102 - val_accuracy: 0.4898\n",
      "Epoch 64/100\n",
      "20/20 [==============================] - 0s 2ms/step - loss: 0.5544 - accuracy: 0.4456 - val_loss: 0.5102 - val_accuracy: 0.4898\n",
      "Epoch 65/100\n",
      "20/20 [==============================] - 0s 3ms/step - loss: 0.5544 - accuracy: 0.4456 - val_loss: 0.5102 - val_accuracy: 0.4898\n",
      "Epoch 66/100\n",
      "20/20 [==============================] - 0s 4ms/step - loss: 0.5544 - accuracy: 0.4456 - val_loss: 0.5102 - val_accuracy: 0.4898\n",
      "Epoch 67/100\n",
      "20/20 [==============================] - 0s 2ms/step - loss: 0.5544 - accuracy: 0.4456 - val_loss: 0.5102 - val_accuracy: 0.4898\n",
      "Epoch 68/100\n",
      "20/20 [==============================] - 0s 3ms/step - loss: 0.5544 - accuracy: 0.4456 - val_loss: 0.5102 - val_accuracy: 0.4898\n",
      "Epoch 69/100\n",
      "20/20 [==============================] - 0s 3ms/step - loss: 0.5544 - accuracy: 0.4456 - val_loss: 0.5102 - val_accuracy: 0.4898\n",
      "Epoch 70/100\n",
      "20/20 [==============================] - 0s 3ms/step - loss: 0.5544 - accuracy: 0.4456 - val_loss: 0.5102 - val_accuracy: 0.4898\n",
      "Epoch 71/100\n",
      "20/20 [==============================] - 0s 4ms/step - loss: 0.5544 - accuracy: 0.4456 - val_loss: 0.5102 - val_accuracy: 0.4898\n",
      "Epoch 72/100\n",
      "20/20 [==============================] - 0s 3ms/step - loss: 0.5544 - accuracy: 0.4456 - val_loss: 0.5102 - val_accuracy: 0.4898\n",
      "Epoch 73/100\n",
      "20/20 [==============================] - 0s 4ms/step - loss: 0.5544 - accuracy: 0.4456 - val_loss: 0.5102 - val_accuracy: 0.4898\n",
      "Epoch 74/100\n",
      "20/20 [==============================] - 0s 3ms/step - loss: 0.5544 - accuracy: 0.4456 - val_loss: 0.5102 - val_accuracy: 0.4898\n",
      "Epoch 75/100\n",
      "20/20 [==============================] - 0s 4ms/step - loss: 0.5544 - accuracy: 0.4456 - val_loss: 0.5102 - val_accuracy: 0.4898\n",
      "Epoch 76/100\n",
      "20/20 [==============================] - 0s 4ms/step - loss: 0.5544 - accuracy: 0.4456 - val_loss: 0.5102 - val_accuracy: 0.4898\n",
      "Epoch 77/100\n",
      "20/20 [==============================] - 0s 3ms/step - loss: 0.5544 - accuracy: 0.4456 - val_loss: 0.5102 - val_accuracy: 0.4898\n",
      "Epoch 78/100\n",
      "20/20 [==============================] - 0s 3ms/step - loss: 0.5544 - accuracy: 0.4456 - val_loss: 0.5102 - val_accuracy: 0.4898\n",
      "Epoch 79/100\n",
      "20/20 [==============================] - 0s 3ms/step - loss: 0.5544 - accuracy: 0.4456 - val_loss: 0.5102 - val_accuracy: 0.4898\n",
      "Epoch 80/100\n",
      "20/20 [==============================] - 0s 4ms/step - loss: 0.5544 - accuracy: 0.4456 - val_loss: 0.5102 - val_accuracy: 0.4898\n",
      "Epoch 81/100\n",
      "20/20 [==============================] - 0s 3ms/step - loss: 0.5544 - accuracy: 0.4456 - val_loss: 0.5102 - val_accuracy: 0.4898\n",
      "Epoch 82/100\n",
      "20/20 [==============================] - 0s 4ms/step - loss: 0.5544 - accuracy: 0.4456 - val_loss: 0.5102 - val_accuracy: 0.4898\n",
      "Epoch 83/100\n",
      "20/20 [==============================] - 0s 2ms/step - loss: 0.5544 - accuracy: 0.4456 - val_loss: 0.5102 - val_accuracy: 0.4898\n",
      "Epoch 84/100\n",
      "20/20 [==============================] - 0s 3ms/step - loss: 0.5544 - accuracy: 0.4456 - val_loss: 0.5102 - val_accuracy: 0.4898\n",
      "Epoch 85/100\n",
      "20/20 [==============================] - 0s 3ms/step - loss: 0.5544 - accuracy: 0.4456 - val_loss: 0.5102 - val_accuracy: 0.4898\n",
      "Epoch 86/100\n",
      "20/20 [==============================] - 0s 3ms/step - loss: 0.5544 - accuracy: 0.4456 - val_loss: 0.5102 - val_accuracy: 0.4898\n",
      "Epoch 87/100\n",
      "20/20 [==============================] - 0s 3ms/step - loss: 0.5544 - accuracy: 0.4456 - val_loss: 0.5102 - val_accuracy: 0.4898\n",
      "Epoch 88/100\n",
      "20/20 [==============================] - 0s 4ms/step - loss: 0.5544 - accuracy: 0.4456 - val_loss: 0.5102 - val_accuracy: 0.4898\n",
      "Epoch 89/100\n",
      "20/20 [==============================] - 0s 4ms/step - loss: 0.5544 - accuracy: 0.4456 - val_loss: 0.5102 - val_accuracy: 0.4898\n",
      "Epoch 90/100\n",
      "20/20 [==============================] - 0s 3ms/step - loss: 0.5544 - accuracy: 0.4456 - val_loss: 0.5102 - val_accuracy: 0.4898\n",
      "Epoch 91/100\n",
      "20/20 [==============================] - 0s 3ms/step - loss: 0.5544 - accuracy: 0.4456 - val_loss: 0.5102 - val_accuracy: 0.4898\n",
      "Epoch 92/100\n",
      "20/20 [==============================] - 0s 3ms/step - loss: 0.5544 - accuracy: 0.4456 - val_loss: 0.5102 - val_accuracy: 0.4898\n",
      "Epoch 93/100\n",
      "20/20 [==============================] - 0s 3ms/step - loss: 0.5544 - accuracy: 0.4456 - val_loss: 0.5102 - val_accuracy: 0.4898\n",
      "Epoch 94/100\n",
      "20/20 [==============================] - 0s 2ms/step - loss: 0.5544 - accuracy: 0.4456 - val_loss: 0.5102 - val_accuracy: 0.4898\n",
      "Epoch 95/100\n",
      "20/20 [==============================] - 0s 4ms/step - loss: 0.5544 - accuracy: 0.4456 - val_loss: 0.5102 - val_accuracy: 0.4898\n",
      "Epoch 96/100\n",
      "20/20 [==============================] - 0s 2ms/step - loss: 0.5544 - accuracy: 0.4456 - val_loss: 0.5102 - val_accuracy: 0.4898\n",
      "Epoch 97/100\n",
      "20/20 [==============================] - 0s 2ms/step - loss: 0.5544 - accuracy: 0.4456 - val_loss: 0.5102 - val_accuracy: 0.4898\n",
      "Epoch 98/100\n",
      "20/20 [==============================] - 0s 4ms/step - loss: 0.5544 - accuracy: 0.4456 - val_loss: 0.5102 - val_accuracy: 0.4898\n",
      "Epoch 99/100\n",
      "20/20 [==============================] - 0s 3ms/step - loss: 0.5544 - accuracy: 0.4456 - val_loss: 0.5102 - val_accuracy: 0.4898\n",
      "Epoch 100/100\n",
      "20/20 [==============================] - 0s 2ms/step - loss: 0.5544 - accuracy: 0.4456 - val_loss: 0.5102 - val_accuracy: 0.4898\n"
     ]
    }
   ],
   "source": [
    "history = model.fit(X_train, y_train, validation_split=0.2, epochs=100, batch_size=10, verbose=1)"
   ]
  },
  {
   "cell_type": "markdown",
   "metadata": {
    "id": "w38CKXrU6UIg"
   },
   "source": [
    "### 8. Evaluate the trained model to predict the probability values for the test data set (ie., xtest and ytest) "
   ]
  },
  {
   "cell_type": "code",
   "execution_count": 32,
   "metadata": {
    "colab": {
     "base_uri": "https://localhost:8080/"
    },
    "id": "BJ3JI6jtKGrF",
    "outputId": "fb1a56c0-390c-47ba-bb7a-093a9f770f90"
   },
   "outputs": [
    {
     "name": "stdout",
     "output_type": "stream",
     "text": [
      "2/2 [==============================] - 0s 6ms/step - loss: 0.5410 - accuracy: 0.4590\n"
     ]
    },
    {
     "data": {
      "text/plain": [
       "[0.5409836173057556, 0.4590163826942444]"
      ]
     },
     "execution_count": 32,
     "metadata": {},
     "output_type": "execute_result"
    }
   ],
   "source": [
    "model.evaluate(X_test, y_test)"
   ]
  },
  {
   "cell_type": "markdown",
   "metadata": {
    "id": "72TXFo2Q6UIh"
   },
   "source": [
    "### 9. Print the model accuracy and model loss as below (Use can use the ‘history’ object we have saved)"
   ]
  },
  {
   "cell_type": "code",
   "execution_count": 33,
   "metadata": {
    "id": "jfDEdNHNK1JL"
   },
   "outputs": [],
   "source": [
    "import matplotlib.pyplot as plt"
   ]
  },
  {
   "cell_type": "code",
   "execution_count": 34,
   "metadata": {
    "colab": {
     "base_uri": "https://localhost:8080/",
     "height": 295
    },
    "id": "jpy0Ge4CKckp",
    "outputId": "8bfe0b3d-c1b9-4910-f603-b6f29f5b7602"
   },
   "outputs": [
    {
     "data": {
      "image/png": "[encoded data removed]",
      "text/plain": [
       "<Figure size 432x288 with 1 Axes>"
      ]
     },
     "metadata": {
      "needs_background": "light"
     },
     "output_type": "display_data"
    }
   ],
   "source": [
    "plt.plot(history.history['accuracy'])\n",
    "plt.plot(history.history['val_accuracy'])\n",
    "plt.title('Model Accuracy')\n",
    "plt.ylabel('accuracy')\n",
    "plt.xlabel('epoch')\n",
    "plt.legend(['Train', 'Validation'])\n",
    "plt.show()"
   ]
  },
  {
   "cell_type": "code",
   "execution_count": 35,
   "metadata": {
    "colab": {
     "base_uri": "https://localhost:8080/",
     "height": 295
    },
    "id": "9ImDnfveKndn",
    "outputId": "3960f353-dbf2-4262-dcfc-c6e54ea0f3c8"
   },
   "outputs": [
    {
     "data": {
      "image/png": "[encoded data removed]",
      "text/plain": [
       "<Figure size 432x288 with 1 Axes>"
      ]
     },
     "metadata": {
      "needs_background": "light"
     },
     "output_type": "display_data"
    }
   ],
   "source": [
    "plt.plot(history.history['loss'])\n",
    "plt.plot(history.history['val_loss'])\n",
    "plt.title('Model Loss')\n",
    "plt.ylabel('loss')\n",
    "plt.xlabel('epoch')\n",
    "plt.legend(['Train', 'Validation'])\n",
    "plt.show()"
   ]
  },
  {
   "cell_type": "markdown",
   "metadata": {
    "id": "IlV5xbYk6UIi"
   },
   "source": [
    "### 10. Further experiments \n",
    "#### Add a hidden layer with 16 nodes and Relu activation function. Note that now this Dense layer should be the first hidden layer, which is followed by the previous Dense layer with 8 nodes. Now retrain your model, evaluate and print the accuracy and loss chart using matplotlib."
   ]
  },
  {
   "cell_type": "code",
   "execution_count": 36,
   "metadata": {
    "id": "NzWt044LK-4P"
   },
   "outputs": [],
   "source": [
    "model3 = Sequential()\n",
    "model3.add(Dense(16, input_dim=13, activation='relu')) # the keras model with 16 nodes\n",
    "model3.add(Dense(8, activation='relu'))\n",
    "model3.add(Dense(1,activation='sigmoid'))"
   ]
  },
  {
   "cell_type": "code",
   "execution_count": 37,
   "metadata": {
    "colab": {
     "base_uri": "https://localhost:8080/"
    },
    "id": "Gd6-DgXY8trb",
    "outputId": "3357d49e-6630-4499-dc4b-4f4008baf558"
   },
   "outputs": [
    {
     "name": "stdout",
     "output_type": "stream",
     "text": [
      "Epoch 1/15\n",
      "13/13 [==============================] - 1s 2ms/step - loss: 0.5455 - accuracy: 0.4545\n",
      "Epoch 2/15\n",
      "13/13 [==============================] - 0s 2ms/step - loss: 0.5455 - accuracy: 0.4545\n",
      "Epoch 3/15\n",
      "13/13 [==============================] - 0s 2ms/step - loss: 0.5455 - accuracy: 0.4545\n",
      "Epoch 4/15\n",
      "13/13 [==============================] - 0s 2ms/step - loss: 0.5455 - accuracy: 0.4545\n",
      "Epoch 5/15\n",
      "13/13 [==============================] - 0s 2ms/step - loss: 0.5455 - accuracy: 0.4545\n",
      "Epoch 6/15\n",
      "13/13 [==============================] - 0s 2ms/step - loss: 0.5455 - accuracy: 0.4545\n",
      "Epoch 7/15\n",
      "13/13 [==============================] - 0s 2ms/step - loss: 0.5455 - accuracy: 0.4545\n",
      "Epoch 8/15\n",
      "13/13 [==============================] - 0s 3ms/step - loss: 0.5455 - accuracy: 0.4545\n",
      "Epoch 9/15\n",
      "13/13 [==============================] - 0s 2ms/step - loss: 0.5455 - accuracy: 0.4545\n",
      "Epoch 10/15\n",
      "13/13 [==============================] - 0s 2ms/step - loss: 0.5455 - accuracy: 0.4545\n",
      "Epoch 11/15\n",
      "13/13 [==============================] - 0s 2ms/step - loss: 0.5455 - accuracy: 0.4545\n",
      "Epoch 12/15\n",
      "13/13 [==============================] - 0s 2ms/step - loss: 0.5455 - accuracy: 0.4545\n",
      "Epoch 13/15\n",
      "13/13 [==============================] - 0s 2ms/step - loss: 0.5455 - accuracy: 0.4545\n",
      "Epoch 14/15\n",
      "13/13 [==============================] - 0s 2ms/step - loss: 0.5455 - accuracy: 0.4545\n",
      "Epoch 15/15\n",
      "13/13 [==============================] - 0s 3ms/step - loss: 0.5455 - accuracy: 0.4545\n"
     ]
    },
    {
     "data": {
      "text/plain": [
       "<keras.callbacks.History at 0x7f760fde3ad0>"
      ]
     },
     "execution_count": 37,
     "metadata": {},
     "output_type": "execute_result"
    }
   ],
   "source": [
    "model3.compile(loss='mean_squared_error', optimizer=optimizer, metrics=['accuracy'])\n",
    "model3.fit(X_train, y_train, epochs=15, batch_size=20, verbose = 1)"
   ]
  },
  {
   "cell_type": "code",
   "execution_count": 38,
   "metadata": {
    "colab": {
     "base_uri": "https://localhost:8080/"
    },
    "id": "SiKQOWdJ8w7I",
    "outputId": "7d36b52c-b1d2-40af-eb72-925d5bb8f656"
   },
   "outputs": [
    {
     "name": "stdout",
     "output_type": "stream",
     "text": [
      "2/2 [==============================] - 0s 7ms/step - loss: 0.5410 - accuracy: 0.4590\n"
     ]
    },
    {
     "data": {
      "text/plain": [
       "[0.5409836173057556, 0.4590163826942444]"
      ]
     },
     "execution_count": 38,
     "metadata": {},
     "output_type": "execute_result"
    }
   ],
   "source": [
    "model3.evaluate(X_test,y_test)"
   ]
  },
  {
   "cell_type": "code",
   "execution_count": 39,
   "metadata": {
    "colab": {
     "base_uri": "https://localhost:8080/"
    },
    "id": "igRRUANT6UIj",
    "outputId": "67d525c5-5fea-4197-d690-b5a5baff0ee7"
   },
   "outputs": [
    {
     "name": "stdout",
     "output_type": "stream",
     "text": [
      "Epoch 1/100\n",
      "20/20 [==============================] - 0s 5ms/step - loss: 0.5544 - accuracy: 0.4456 - val_loss: 0.5102 - val_accuracy: 0.4898\n",
      "Epoch 2/100\n",
      "20/20 [==============================] - 0s 4ms/step - loss: 0.5544 - accuracy: 0.4456 - val_loss: 0.5102 - val_accuracy: 0.4898\n",
      "Epoch 3/100\n",
      "20/20 [==============================] - 0s 3ms/step - loss: 0.5544 - accuracy: 0.4456 - val_loss: 0.5102 - val_accuracy: 0.4898\n",
      "Epoch 4/100\n",
      "20/20 [==============================] - 0s 3ms/step - loss: 0.5544 - accuracy: 0.4456 - val_loss: 0.5102 - val_accuracy: 0.4898\n",
      "Epoch 5/100\n",
      "20/20 [==============================] - 0s 3ms/step - loss: 0.5544 - accuracy: 0.4456 - val_loss: 0.5102 - val_accuracy: 0.4898\n",
      "Epoch 6/100\n",
      "20/20 [==============================] - 0s 3ms/step - loss: 0.5544 - accuracy: 0.4456 - val_loss: 0.5102 - val_accuracy: 0.4898\n",
      "Epoch 7/100\n",
      "20/20 [==============================] - 0s 3ms/step - loss: 0.5544 - accuracy: 0.4456 - val_loss: 0.5102 - val_accuracy: 0.4898\n",
      "Epoch 8/100\n",
      "20/20 [==============================] - 0s 3ms/step - loss: 0.5544 - accuracy: 0.4456 - val_loss: 0.5102 - val_accuracy: 0.4898\n",
      "Epoch 9/100\n",
      "20/20 [==============================] - 0s 3ms/step - loss: 0.5544 - accuracy: 0.4456 - val_loss: 0.5102 - val_accuracy: 0.4898\n",
      "Epoch 10/100\n",
      "20/20 [==============================] - 0s 2ms/step - loss: 0.5544 - accuracy: 0.4456 - val_loss: 0.5102 - val_accuracy: 0.4898\n",
      "Epoch 11/100\n",
      "20/20 [==============================] - 0s 3ms/step - loss: 0.5544 - accuracy: 0.4456 - val_loss: 0.5102 - val_accuracy: 0.4898\n",
      "Epoch 12/100\n",
      "20/20 [==============================] - 0s 3ms/step - loss: 0.5544 - accuracy: 0.4456 - val_loss: 0.5102 - val_accuracy: 0.4898\n",
      "Epoch 13/100\n",
      "20/20 [==============================] - 0s 4ms/step - loss: 0.5544 - accuracy: 0.4456 - val_loss: 0.5102 - val_accuracy: 0.4898\n",
      "Epoch 14/100\n",
      "20/20 [==============================] - 0s 2ms/step - loss: 0.5544 - accuracy: 0.4456 - val_loss: 0.5102 - val_accuracy: 0.4898\n",
      "Epoch 15/100\n",
      "20/20 [==============================] - 0s 3ms/step - loss: 0.5544 - accuracy: 0.4456 - val_loss: 0.5102 - val_accuracy: 0.4898\n",
      "Epoch 16/100\n",
      "20/20 [==============================] - 0s 4ms/step - loss: 0.5544 - accuracy: 0.4456 - val_loss: 0.5102 - val_accuracy: 0.4898\n",
      "Epoch 17/100\n",
      "20/20 [==============================] - 0s 3ms/step - loss: 0.5544 - accuracy: 0.4456 - val_loss: 0.5102 - val_accuracy: 0.4898\n",
      "Epoch 18/100\n",
      "20/20 [==============================] - 0s 4ms/step - loss: 0.5544 - accuracy: 0.4456 - val_loss: 0.5102 - val_accuracy: 0.4898\n",
      "Epoch 19/100\n",
      "20/20 [==============================] - 0s 4ms/step - loss: 0.5544 - accuracy: 0.4456 - val_loss: 0.5102 - val_accuracy: 0.4898\n",
      "Epoch 20/100\n",
      "20/20 [==============================] - 0s 4ms/step - loss: 0.5544 - accuracy: 0.4456 - val_loss: 0.5102 - val_accuracy: 0.4898\n",
      "Epoch 21/100\n",
      "20/20 [==============================] - 0s 4ms/step - loss: 0.5544 - accuracy: 0.4456 - val_loss: 0.5102 - val_accuracy: 0.4898\n",
      "Epoch 22/100\n",
      "20/20 [==============================] - 0s 4ms/step - loss: 0.5544 - accuracy: 0.4456 - val_loss: 0.5102 - val_accuracy: 0.4898\n",
      "Epoch 23/100\n",
      "20/20 [==============================] - 0s 4ms/step - loss: 0.5544 - accuracy: 0.4456 - val_loss: 0.5102 - val_accuracy: 0.4898\n",
      "Epoch 24/100\n",
      "20/20 [==============================] - 0s 3ms/step - loss: 0.5544 - accuracy: 0.4456 - val_loss: 0.5102 - val_accuracy: 0.4898\n",
      "Epoch 25/100\n",
      "20/20 [==============================] - 0s 4ms/step - loss: 0.5544 - accuracy: 0.4456 - val_loss: 0.5102 - val_accuracy: 0.4898\n",
      "Epoch 26/100\n",
      "20/20 [==============================] - 0s 3ms/step - loss: 0.5544 - accuracy: 0.4456 - val_loss: 0.5102 - val_accuracy: 0.4898\n",
      "Epoch 27/100\n",
      "20/20 [==============================] - 0s 3ms/step - loss: 0.5544 - accuracy: 0.4456 - val_loss: 0.5102 - val_accuracy: 0.4898\n",
      "Epoch 28/100\n",
      "20/20 [==============================] - 0s 3ms/step - loss: 0.5544 - accuracy: 0.4456 - val_loss: 0.5102 - val_accuracy: 0.4898\n",
      "Epoch 29/100\n",
      "20/20 [==============================] - 0s 3ms/step - loss: 0.5544 - accuracy: 0.4456 - val_loss: 0.5102 - val_accuracy: 0.4898\n",
      "Epoch 30/100\n",
      "20/20 [==============================] - 0s 3ms/step - loss: 0.5544 - accuracy: 0.4456 - val_loss: 0.5102 - val_accuracy: 0.4898\n",
      "Epoch 31/100\n",
      "20/20 [==============================] - 0s 3ms/step - loss: 0.5544 - accuracy: 0.4456 - val_loss: 0.5102 - val_accuracy: 0.4898\n",
      "Epoch 32/100\n",
      "20/20 [==============================] - 0s 3ms/step - loss: 0.5544 - accuracy: 0.4456 - val_loss: 0.5102 - val_accuracy: 0.4898\n",
      "Epoch 33/100\n",
      "20/20 [==============================] - 0s 3ms/step - loss: 0.5544 - accuracy: 0.4456 - val_loss: 0.5102 - val_accuracy: 0.4898\n",
      "Epoch 34/100\n",
      "20/20 [==============================] - 0s 3ms/step - loss: 0.5544 - accuracy: 0.4456 - val_loss: 0.5102 - val_accuracy: 0.4898\n",
      "Epoch 35/100\n",
      "20/20 [==============================] - 0s 4ms/step - loss: 0.5544 - accuracy: 0.4456 - val_loss: 0.5102 - val_accuracy: 0.4898\n",
      "Epoch 36/100\n",
      "20/20 [==============================] - 0s 3ms/step - loss: 0.5544 - accuracy: 0.4456 - val_loss: 0.5102 - val_accuracy: 0.4898\n",
      "Epoch 37/100\n",
      "20/20 [==============================] - 0s 4ms/step - loss: 0.5544 - accuracy: 0.4456 - val_loss: 0.5102 - val_accuracy: 0.4898\n",
      "Epoch 38/100\n",
      "20/20 [==============================] - 0s 3ms/step - loss: 0.5544 - accuracy: 0.4456 - val_loss: 0.5102 - val_accuracy: 0.4898\n",
      "Epoch 39/100\n",
      "20/20 [==============================] - 0s 3ms/step - loss: 0.5544 - accuracy: 0.4456 - val_loss: 0.5102 - val_accuracy: 0.4898\n",
      "Epoch 40/100\n",
      "20/20 [==============================] - 0s 3ms/step - loss: 0.5544 - accuracy: 0.4456 - val_loss: 0.5102 - val_accuracy: 0.4898\n",
      "Epoch 41/100\n",
      "20/20 [==============================] - 0s 3ms/step - loss: 0.5544 - accuracy: 0.4456 - val_loss: 0.5102 - val_accuracy: 0.4898\n",
      "Epoch 42/100\n",
      "20/20 [==============================] - 0s 3ms/step - loss: 0.5544 - accuracy: 0.4456 - val_loss: 0.5102 - val_accuracy: 0.4898\n",
      "Epoch 43/100\n",
      "20/20 [==============================] - 0s 3ms/step - loss: 0.5544 - accuracy: 0.4456 - val_loss: 0.5102 - val_accuracy: 0.4898\n",
      "Epoch 44/100\n",
      "20/20 [==============================] - 0s 3ms/step - loss: 0.5544 - accuracy: 0.4456 - val_loss: 0.5102 - val_accuracy: 0.4898\n",
      "Epoch 45/100\n",
      "20/20 [==============================] - 0s 4ms/step - loss: 0.5544 - accuracy: 0.4456 - val_loss: 0.5102 - val_accuracy: 0.4898\n",
      "Epoch 46/100\n",
      "20/20 [==============================] - 0s 3ms/step - loss: 0.5544 - accuracy: 0.4456 - val_loss: 0.5102 - val_accuracy: 0.4898\n",
      "Epoch 47/100\n",
      "20/20 [==============================] - 0s 4ms/step - loss: 0.5544 - accuracy: 0.4456 - val_loss: 0.5102 - val_accuracy: 0.4898\n",
      "Epoch 48/100\n",
      "20/20 [==============================] - 0s 3ms/step - loss: 0.5544 - accuracy: 0.4456 - val_loss: 0.5102 - val_accuracy: 0.4898\n",
      "Epoch 49/100\n",
      "20/20 [==============================] - 0s 4ms/step - loss: 0.5544 - accuracy: 0.4456 - val_loss: 0.5102 - val_accuracy: 0.4898\n",
      "Epoch 50/100\n",
      "20/20 [==============================] - 0s 3ms/step - loss: 0.5544 - accuracy: 0.4456 - val_loss: 0.5102 - val_accuracy: 0.4898\n",
      "Epoch 51/100\n",
      "20/20 [==============================] - 0s 4ms/step - loss: 0.5544 - accuracy: 0.4456 - val_loss: 0.5102 - val_accuracy: 0.4898\n",
      "Epoch 52/100\n",
      "20/20 [==============================] - 0s 3ms/step - loss: 0.5544 - accuracy: 0.4456 - val_loss: 0.5102 - val_accuracy: 0.4898\n",
      "Epoch 53/100\n",
      "20/20 [==============================] - 0s 3ms/step - loss: 0.5544 - accuracy: 0.4456 - val_loss: 0.5102 - val_accuracy: 0.4898\n",
      "Epoch 54/100\n",
      "20/20 [==============================] - 0s 3ms/step - loss: 0.5544 - accuracy: 0.4456 - val_loss: 0.5102 - val_accuracy: 0.4898\n",
      "Epoch 55/100\n",
      "20/20 [==============================] - 0s 4ms/step - loss: 0.5544 - accuracy: 0.4456 - val_loss: 0.5102 - val_accuracy: 0.4898\n",
      "Epoch 56/100\n",
      "20/20 [==============================] - 0s 3ms/step - loss: 0.5544 - accuracy: 0.4456 - val_loss: 0.5102 - val_accuracy: 0.4898\n",
      "Epoch 57/100\n",
      "20/20 [==============================] - 0s 3ms/step - loss: 0.5544 - accuracy: 0.4456 - val_loss: 0.5102 - val_accuracy: 0.4898\n",
      "Epoch 58/100\n",
      "20/20 [==============================] - 0s 4ms/step - loss: 0.5544 - accuracy: 0.4456 - val_loss: 0.5102 - val_accuracy: 0.4898\n",
      "Epoch 59/100\n",
      "20/20 [==============================] - 0s 3ms/step - loss: 0.5544 - accuracy: 0.4456 - val_loss: 0.5102 - val_accuracy: 0.4898\n",
      "Epoch 60/100\n",
      "20/20 [==============================] - 0s 4ms/step - loss: 0.5544 - accuracy: 0.4456 - val_loss: 0.5102 - val_accuracy: 0.4898\n",
      "Epoch 61/100\n",
      "20/20 [==============================] - 0s 3ms/step - loss: 0.5544 - accuracy: 0.4456 - val_loss: 0.5102 - val_accuracy: 0.4898\n",
      "Epoch 62/100\n",
      "20/20 [==============================] - 0s 3ms/step - loss: 0.5544 - accuracy: 0.4456 - val_loss: 0.5102 - val_accuracy: 0.4898\n",
      "Epoch 63/100\n",
      "20/20 [==============================] - 0s 5ms/step - loss: 0.5544 - accuracy: 0.4456 - val_loss: 0.5102 - val_accuracy: 0.4898\n",
      "Epoch 64/100\n",
      "20/20 [==============================] - 0s 3ms/step - loss: 0.5544 - accuracy: 0.4456 - val_loss: 0.5102 - val_accuracy: 0.4898\n",
      "Epoch 65/100\n",
      "20/20 [==============================] - 0s 3ms/step - loss: 0.5544 - accuracy: 0.4456 - val_loss: 0.5102 - val_accuracy: 0.4898\n",
      "Epoch 66/100\n",
      "20/20 [==============================] - 0s 3ms/step - loss: 0.5544 - accuracy: 0.4456 - val_loss: 0.5102 - val_accuracy: 0.4898\n",
      "Epoch 67/100\n",
      "20/20 [==============================] - 0s 3ms/step - loss: 0.5544 - accuracy: 0.4456 - val_loss: 0.5102 - val_accuracy: 0.4898\n",
      "Epoch 68/100\n",
      "20/20 [==============================] - 0s 4ms/step - loss: 0.5544 - accuracy: 0.4456 - val_loss: 0.5102 - val_accuracy: 0.4898\n",
      "Epoch 69/100\n",
      "20/20 [==============================] - 0s 3ms/step - loss: 0.5544 - accuracy: 0.4456 - val_loss: 0.5102 - val_accuracy: 0.4898\n",
      "Epoch 70/100\n",
      "20/20 [==============================] - 0s 3ms/step - loss: 0.5544 - accuracy: 0.4456 - val_loss: 0.5102 - val_accuracy: 0.4898\n",
      "Epoch 71/100\n",
      "20/20 [==============================] - 0s 3ms/step - loss: 0.5544 - accuracy: 0.4456 - val_loss: 0.5102 - val_accuracy: 0.4898\n",
      "Epoch 72/100\n",
      "20/20 [==============================] - 0s 3ms/step - loss: 0.5544 - accuracy: 0.4456 - val_loss: 0.5102 - val_accuracy: 0.4898\n",
      "Epoch 73/100\n",
      "20/20 [==============================] - 0s 4ms/step - loss: 0.5544 - accuracy: 0.4456 - val_loss: 0.5102 - val_accuracy: 0.4898\n",
      "Epoch 74/100\n",
      "20/20 [==============================] - 0s 3ms/step - loss: 0.5544 - accuracy: 0.4456 - val_loss: 0.5102 - val_accuracy: 0.4898\n",
      "Epoch 75/100\n",
      "20/20 [==============================] - 0s 4ms/step - loss: 0.5544 - accuracy: 0.4456 - val_loss: 0.5102 - val_accuracy: 0.4898\n",
      "Epoch 76/100\n",
      "20/20 [==============================] - 0s 3ms/step - loss: 0.5544 - accuracy: 0.4456 - val_loss: 0.5102 - val_accuracy: 0.4898\n",
      "Epoch 77/100\n",
      "20/20 [==============================] - 0s 2ms/step - loss: 0.5544 - accuracy: 0.4456 - val_loss: 0.5102 - val_accuracy: 0.4898\n",
      "Epoch 78/100\n",
      "20/20 [==============================] - 0s 4ms/step - loss: 0.5544 - accuracy: 0.4456 - val_loss: 0.5102 - val_accuracy: 0.4898\n",
      "Epoch 79/100\n",
      "20/20 [==============================] - 0s 4ms/step - loss: 0.5544 - accuracy: 0.4456 - val_loss: 0.5102 - val_accuracy: 0.4898\n",
      "Epoch 80/100\n",
      "20/20 [==============================] - 0s 3ms/step - loss: 0.5544 - accuracy: 0.4456 - val_loss: 0.5102 - val_accuracy: 0.4898\n",
      "Epoch 81/100\n",
      "20/20 [==============================] - 0s 3ms/step - loss: 0.5544 - accuracy: 0.4456 - val_loss: 0.5102 - val_accuracy: 0.4898\n",
      "Epoch 82/100\n",
      "20/20 [==============================] - 0s 3ms/step - loss: 0.5544 - accuracy: 0.4456 - val_loss: 0.5102 - val_accuracy: 0.4898\n",
      "Epoch 83/100\n",
      "20/20 [==============================] - 0s 4ms/step - loss: 0.5544 - accuracy: 0.4456 - val_loss: 0.5102 - val_accuracy: 0.4898\n",
      "Epoch 84/100\n",
      "20/20 [==============================] - 0s 3ms/step - loss: 0.5544 - accuracy: 0.4456 - val_loss: 0.5102 - val_accuracy: 0.4898\n",
      "Epoch 85/100\n",
      "20/20 [==============================] - 0s 4ms/step - loss: 0.5544 - accuracy: 0.4456 - val_loss: 0.5102 - val_accuracy: 0.4898\n",
      "Epoch 86/100\n",
      "20/20 [==============================] - 0s 3ms/step - loss: 0.5544 - accuracy: 0.4456 - val_loss: 0.5102 - val_accuracy: 0.4898\n",
      "Epoch 87/100\n",
      "20/20 [==============================] - 0s 4ms/step - loss: 0.5544 - accuracy: 0.4456 - val_loss: 0.5102 - val_accuracy: 0.4898\n",
      "Epoch 88/100\n",
      "20/20 [==============================] - 0s 3ms/step - loss: 0.5544 - accuracy: 0.4456 - val_loss: 0.5102 - val_accuracy: 0.4898\n",
      "Epoch 89/100\n",
      "20/20 [==============================] - 0s 3ms/step - loss: 0.5544 - accuracy: 0.4456 - val_loss: 0.5102 - val_accuracy: 0.4898\n",
      "Epoch 90/100\n",
      "20/20 [==============================] - 0s 3ms/step - loss: 0.5544 - accuracy: 0.4456 - val_loss: 0.5102 - val_accuracy: 0.4898\n",
      "Epoch 91/100\n",
      "20/20 [==============================] - 0s 4ms/step - loss: 0.5544 - accuracy: 0.4456 - val_loss: 0.5102 - val_accuracy: 0.4898\n",
      "Epoch 92/100\n",
      "20/20 [==============================] - 0s 4ms/step - loss: 0.5544 - accuracy: 0.4456 - val_loss: 0.5102 - val_accuracy: 0.4898\n",
      "Epoch 93/100\n",
      "20/20 [==============================] - 0s 3ms/step - loss: 0.5544 - accuracy: 0.4456 - val_loss: 0.5102 - val_accuracy: 0.4898\n",
      "Epoch 94/100\n",
      "20/20 [==============================] - 0s 3ms/step - loss: 0.5544 - accuracy: 0.4456 - val_loss: 0.5102 - val_accuracy: 0.4898\n",
      "Epoch 95/100\n",
      "20/20 [==============================] - 0s 4ms/step - loss: 0.5544 - accuracy: 0.4456 - val_loss: 0.5102 - val_accuracy: 0.4898\n",
      "Epoch 96/100\n",
      "20/20 [==============================] - 0s 3ms/step - loss: 0.5544 - accuracy: 0.4456 - val_loss: 0.5102 - val_accuracy: 0.4898\n",
      "Epoch 97/100\n",
      "20/20 [==============================] - 0s 3ms/step - loss: 0.5544 - accuracy: 0.4456 - val_loss: 0.5102 - val_accuracy: 0.4898\n",
      "Epoch 98/100\n",
      "20/20 [==============================] - 0s 4ms/step - loss: 0.5544 - accuracy: 0.4456 - val_loss: 0.5102 - val_accuracy: 0.4898\n",
      "Epoch 99/100\n",
      "20/20 [==============================] - 0s 3ms/step - loss: 0.5544 - accuracy: 0.4456 - val_loss: 0.5102 - val_accuracy: 0.4898\n",
      "Epoch 100/100\n",
      "20/20 [==============================] - 0s 4ms/step - loss: 0.5544 - accuracy: 0.4456 - val_loss: 0.5102 - val_accuracy: 0.4898\n"
     ]
    }
   ],
   "source": [
    "history3 = model3.fit(X_train, y_train, validation_split=0.2, epochs=100, batch_size=10, verbose=1)"
   ]
  },
  {
   "cell_type": "code",
   "execution_count": 40,
   "metadata": {
    "colab": {
     "base_uri": "https://localhost:8080/"
    },
    "id": "dhXTAZgU6UIj",
    "outputId": "04aafbae-7bb2-4145-e389-d5637a28c25b"
   },
   "outputs": [
    {
     "name": "stdout",
     "output_type": "stream",
     "text": [
      "Model: \"sequential_1\"\n",
      "_________________________________________________________________\n",
      "Layer (type)                 Output Shape              Param #   \n",
      "=================================================================\n",
      "dense_2 (Dense)              (None, 16)                224       \n",
      "_________________________________________________________________\n",
      "dense_3 (Dense)              (None, 8)                 136       \n",
      "_________________________________________________________________\n",
      "dense_4 (Dense)              (None, 1)                 9         \n",
      "=================================================================\n",
      "Total params: 369\n",
      "Trainable params: 369\n",
      "Non-trainable params: 0\n",
      "_________________________________________________________________\n"
     ]
    }
   ],
   "source": [
    "model3.summary()"
   ]
  },
  {
   "cell_type": "code",
   "execution_count": 41,
   "metadata": {
    "id": "h_bILfgr6UIk"
   },
   "outputs": [],
   "source": [
    "his=history3.history"
   ]
  },
  {
   "cell_type": "code",
   "execution_count": 42,
   "metadata": {
    "colab": {
     "base_uri": "https://localhost:8080/",
     "height": 295
    },
    "id": "fyjv8eVX8JOQ",
    "outputId": "76226901-059e-48c4-b499-a2d6472f51fc"
   },
   "outputs": [
    {
     "data": {
      "image/png": "[encoded data removed]",
      "text/plain": [
       "<Figure size 432x288 with 1 Axes>"
      ]
     },
     "metadata": {
      "needs_background": "light"
     },
     "output_type": "display_data"
    }
   ],
   "source": [
    "plt.plot(history3.history['accuracy'])\n",
    "plt.plot(history3.history['val_accuracy'])\n",
    "plt.title('Model Accuracy')\n",
    "plt.ylabel('accuracy')\n",
    "plt.xlabel('epoch')\n",
    "plt.legend(['Train', 'Validation'])\n",
    "plt.show()"
   ]
  },
  {
   "cell_type": "code",
   "execution_count": 43,
   "metadata": {
    "colab": {
     "base_uri": "https://localhost:8080/",
     "height": 295
    },
    "id": "Pkx9LwdY8a9y",
    "outputId": "aeedbd7c-7ae1-4dbf-b9ba-833e90a30498"
   },
   "outputs": [
    {
     "data": {
      "image/png": "[encoded data removed]",
      "text/plain": [
       "<Figure size 432x288 with 1 Axes>"
      ]
     },
     "metadata": {
      "needs_background": "light"
     },
     "output_type": "display_data"
    }
   ],
   "source": [
    "plt.plot(history3.history['loss'])\n",
    "plt.plot(history3.history['val_loss'])\n",
    "plt.title('Model Loss')\n",
    "plt.ylabel('loss')\n",
    "plt.xlabel('epoch')\n",
    "plt.legend(['Train', 'Validation'])\n",
    "plt.show()"
   ]
  },
  {
   "cell_type": "markdown",
   "metadata": {
    "id": "pXA-Gn7YL_FX"
   },
   "source": [
    "#### Add a hidden layer with 32 nodes and Relu activation function. Note that now this Dense layer should be the first hidden layer. Now retrain your model, evaluate and print the accuracy and loss chart using matplotlib."
   ]
  },
  {
   "cell_type": "code",
   "execution_count": 44,
   "metadata": {
    "id": "i72S7ZFO6UIk"
   },
   "outputs": [],
   "source": [
    "model5 = Sequential()   # the keras model with 32 nodes\n",
    "model5.add(Dense(32, input_dim=13, activation='relu'))\n",
    "model5.add(Dense(16, activation='relu'))\n",
    "model5.add(Dense(8, activation='relu'))\n",
    "model5.add(Dense(1,activation='sigmoid'))"
   ]
  },
  {
   "cell_type": "code",
   "execution_count": 45,
   "metadata": {
    "colab": {
     "base_uri": "https://localhost:8080/"
    },
    "id": "sHfce2BX6UIl",
    "outputId": "58834b54-484f-47f3-e564-60e61bf0081d"
   },
   "outputs": [
    {
     "name": "stdout",
     "output_type": "stream",
     "text": [
      "Epoch 1/15\n",
      "13/13 [==============================] - 1s 2ms/step - loss: 0.5252 - accuracy: 0.4298\n",
      "Epoch 2/15\n",
      "13/13 [==============================] - 0s 2ms/step - loss: 0.3744 - accuracy: 0.5289\n",
      "Epoch 3/15\n",
      "13/13 [==============================] - 0s 2ms/step - loss: 0.3664 - accuracy: 0.5702\n",
      "Epoch 4/15\n",
      "13/13 [==============================] - 0s 2ms/step - loss: 0.3142 - accuracy: 0.6322\n",
      "Epoch 5/15\n",
      "13/13 [==============================] - 0s 2ms/step - loss: 0.3160 - accuracy: 0.6281\n",
      "Epoch 6/15\n",
      "13/13 [==============================] - 0s 2ms/step - loss: 0.3548 - accuracy: 0.5496\n",
      "Epoch 7/15\n",
      "13/13 [==============================] - 0s 2ms/step - loss: 0.2941 - accuracy: 0.6033\n",
      "Epoch 8/15\n",
      "13/13 [==============================] - 0s 2ms/step - loss: 0.2987 - accuracy: 0.5909\n",
      "Epoch 9/15\n",
      "13/13 [==============================] - 0s 2ms/step - loss: 0.2585 - accuracy: 0.6612\n",
      "Epoch 10/15\n",
      "13/13 [==============================] - 0s 2ms/step - loss: 0.2843 - accuracy: 0.6281\n",
      "Epoch 11/15\n",
      "13/13 [==============================] - 0s 2ms/step - loss: 0.2733 - accuracy: 0.6116\n",
      "Epoch 12/15\n",
      "13/13 [==============================] - 0s 2ms/step - loss: 0.2681 - accuracy: 0.6364\n",
      "Epoch 13/15\n",
      "13/13 [==============================] - 0s 2ms/step - loss: 0.2523 - accuracy: 0.6405\n",
      "Epoch 14/15\n",
      "13/13 [==============================] - 0s 2ms/step - loss: 0.2682 - accuracy: 0.6281\n",
      "Epoch 15/15\n",
      "13/13 [==============================] - 0s 3ms/step - loss: 0.2507 - accuracy: 0.6364\n"
     ]
    },
    {
     "data": {
      "text/plain": [
       "<keras.callbacks.History at 0x7f760fdfcbd0>"
      ]
     },
     "execution_count": 45,
     "metadata": {},
     "output_type": "execute_result"
    }
   ],
   "source": [
    "model5.compile(loss='mean_squared_error', optimizer=optimizer, metrics=['accuracy'])\n",
    "model5.fit(X_train, y_train, epochs=15, batch_size=20, verbose = 1)"
   ]
  },
  {
   "cell_type": "code",
   "execution_count": 46,
   "metadata": {
    "colab": {
     "base_uri": "https://localhost:8080/"
    },
    "id": "ySWojTP16UIl",
    "outputId": "a30ece58-3d50-4c96-9b8c-012915142f1d"
   },
   "outputs": [
    {
     "name": "stdout",
     "output_type": "stream",
     "text": [
      "2/2 [==============================] - 0s 7ms/step - loss: 0.4842 - accuracy: 0.4590\n"
     ]
    },
    {
     "data": {
      "text/plain": [
       "[0.4841545522212982, 0.4590163826942444]"
      ]
     },
     "execution_count": 46,
     "metadata": {},
     "output_type": "execute_result"
    }
   ],
   "source": [
    "model5.evaluate(X_test,y_test)"
   ]
  },
  {
   "cell_type": "code",
   "execution_count": 47,
   "metadata": {
    "colab": {
     "base_uri": "https://localhost:8080/"
    },
    "id": "iPhS8g7093Ed",
    "outputId": "b8283e06-0478-4934-b6b0-f55dc30e8213"
   },
   "outputs": [
    {
     "name": "stdout",
     "output_type": "stream",
     "text": [
      "Epoch 1/100\n",
      "20/20 [==============================] - 0s 7ms/step - loss: 0.2517 - accuracy: 0.6321 - val_loss: 0.4271 - val_accuracy: 0.5102\n",
      "Epoch 2/100\n",
      "20/20 [==============================] - 0s 4ms/step - loss: 0.2406 - accuracy: 0.6528 - val_loss: 0.3942 - val_accuracy: 0.5306\n",
      "Epoch 3/100\n",
      "20/20 [==============================] - 0s 3ms/step - loss: 0.2358 - accuracy: 0.6632 - val_loss: 0.3527 - val_accuracy: 0.5306\n",
      "Epoch 4/100\n",
      "20/20 [==============================] - 0s 3ms/step - loss: 0.2180 - accuracy: 0.6839 - val_loss: 0.2484 - val_accuracy: 0.6327\n",
      "Epoch 5/100\n",
      "20/20 [==============================] - 0s 4ms/step - loss: 0.2280 - accuracy: 0.6684 - val_loss: 0.2601 - val_accuracy: 0.6531\n",
      "Epoch 6/100\n",
      "20/20 [==============================] - 0s 4ms/step - loss: 0.2549 - accuracy: 0.6269 - val_loss: 0.2295 - val_accuracy: 0.6327\n",
      "Epoch 7/100\n",
      "20/20 [==============================] - 0s 3ms/step - loss: 0.2212 - accuracy: 0.6528 - val_loss: 0.4512 - val_accuracy: 0.4898\n",
      "Epoch 8/100\n",
      "20/20 [==============================] - 0s 4ms/step - loss: 0.2793 - accuracy: 0.6269 - val_loss: 0.2692 - val_accuracy: 0.6327\n",
      "Epoch 9/100\n",
      "20/20 [==============================] - 0s 4ms/step - loss: 0.2203 - accuracy: 0.6839 - val_loss: 0.2808 - val_accuracy: 0.5918\n",
      "Epoch 10/100\n",
      "20/20 [==============================] - 0s 3ms/step - loss: 0.2433 - accuracy: 0.6580 - val_loss: 0.3422 - val_accuracy: 0.5102\n",
      "Epoch 11/100\n",
      "20/20 [==============================] - 0s 3ms/step - loss: 0.2036 - accuracy: 0.7461 - val_loss: 0.2438 - val_accuracy: 0.6735\n",
      "Epoch 12/100\n",
      "20/20 [==============================] - 0s 7ms/step - loss: 0.2126 - accuracy: 0.6839 - val_loss: 0.3140 - val_accuracy: 0.6122\n",
      "Epoch 13/100\n",
      "20/20 [==============================] - 0s 12ms/step - loss: 0.2370 - accuracy: 0.6632 - val_loss: 0.3037 - val_accuracy: 0.5714\n",
      "Epoch 14/100\n",
      "20/20 [==============================] - 0s 12ms/step - loss: 0.2027 - accuracy: 0.6995 - val_loss: 0.3212 - val_accuracy: 0.5714\n",
      "Epoch 15/100\n",
      "20/20 [==============================] - 0s 9ms/step - loss: 0.2134 - accuracy: 0.7150 - val_loss: 0.2983 - val_accuracy: 0.6327\n",
      "Epoch 16/100\n",
      "20/20 [==============================] - 0s 10ms/step - loss: 0.1838 - accuracy: 0.7306 - val_loss: 0.4149 - val_accuracy: 0.5306\n",
      "Epoch 17/100\n",
      "20/20 [==============================] - 0s 11ms/step - loss: 0.2306 - accuracy: 0.6736 - val_loss: 0.3270 - val_accuracy: 0.5510\n",
      "Epoch 18/100\n",
      "20/20 [==============================] - 0s 11ms/step - loss: 0.1877 - accuracy: 0.7358 - val_loss: 0.2850 - val_accuracy: 0.6327\n",
      "Epoch 19/100\n",
      "20/20 [==============================] - 0s 5ms/step - loss: 0.2064 - accuracy: 0.6995 - val_loss: 0.4738 - val_accuracy: 0.4898\n",
      "Epoch 20/100\n",
      "20/20 [==============================] - 0s 3ms/step - loss: 0.2467 - accuracy: 0.6425 - val_loss: 0.2724 - val_accuracy: 0.6735\n",
      "Epoch 21/100\n",
      "20/20 [==============================] - 0s 4ms/step - loss: 0.2001 - accuracy: 0.7254 - val_loss: 0.3414 - val_accuracy: 0.5510\n",
      "Epoch 22/100\n",
      "20/20 [==============================] - 0s 4ms/step - loss: 0.2179 - accuracy: 0.7098 - val_loss: 0.3086 - val_accuracy: 0.5714\n",
      "Epoch 23/100\n",
      "20/20 [==============================] - 0s 10ms/step - loss: 0.2145 - accuracy: 0.6891 - val_loss: 0.2706 - val_accuracy: 0.6735\n",
      "Epoch 24/100\n",
      "20/20 [==============================] - 0s 13ms/step - loss: 0.1999 - accuracy: 0.7254 - val_loss: 0.3417 - val_accuracy: 0.5510\n",
      "Epoch 25/100\n",
      "20/20 [==============================] - 0s 7ms/step - loss: 0.1942 - accuracy: 0.7409 - val_loss: 0.3216 - val_accuracy: 0.5306\n",
      "Epoch 26/100\n",
      "20/20 [==============================] - 0s 12ms/step - loss: 0.2055 - accuracy: 0.7202 - val_loss: 0.2630 - val_accuracy: 0.6327\n",
      "Epoch 27/100\n",
      "20/20 [==============================] - 0s 11ms/step - loss: 0.1843 - accuracy: 0.7306 - val_loss: 0.2387 - val_accuracy: 0.6122\n",
      "Epoch 28/100\n",
      "20/20 [==============================] - 0s 11ms/step - loss: 0.1957 - accuracy: 0.6943 - val_loss: 0.2579 - val_accuracy: 0.6327\n",
      "Epoch 29/100\n",
      "20/20 [==============================] - 0s 8ms/step - loss: 0.1734 - accuracy: 0.7513 - val_loss: 0.3141 - val_accuracy: 0.6122\n",
      "Epoch 30/100\n",
      "20/20 [==============================] - 0s 4ms/step - loss: 0.2374 - accuracy: 0.6580 - val_loss: 0.3111 - val_accuracy: 0.5102\n",
      "Epoch 31/100\n",
      "20/20 [==============================] - 0s 3ms/step - loss: 0.1693 - accuracy: 0.7513 - val_loss: 0.2624 - val_accuracy: 0.6735\n",
      "Epoch 32/100\n",
      "20/20 [==============================] - 0s 3ms/step - loss: 0.2022 - accuracy: 0.7358 - val_loss: 0.2685 - val_accuracy: 0.6531\n",
      "Epoch 33/100\n",
      "20/20 [==============================] - 0s 4ms/step - loss: 0.1956 - accuracy: 0.7461 - val_loss: 0.2968 - val_accuracy: 0.6327\n",
      "Epoch 34/100\n",
      "20/20 [==============================] - 0s 3ms/step - loss: 0.1893 - accuracy: 0.7306 - val_loss: 0.3597 - val_accuracy: 0.5510\n",
      "Epoch 35/100\n",
      "20/20 [==============================] - 0s 12ms/step - loss: 0.1921 - accuracy: 0.7409 - val_loss: 0.2443 - val_accuracy: 0.6939\n",
      "Epoch 36/100\n",
      "20/20 [==============================] - 0s 12ms/step - loss: 0.1855 - accuracy: 0.7513 - val_loss: 0.3765 - val_accuracy: 0.5306\n",
      "Epoch 37/100\n",
      "20/20 [==============================] - 0s 9ms/step - loss: 0.1811 - accuracy: 0.7668 - val_loss: 0.2560 - val_accuracy: 0.6735\n",
      "Epoch 38/100\n",
      "20/20 [==============================] - 0s 11ms/step - loss: 0.1779 - accuracy: 0.7409 - val_loss: 0.3454 - val_accuracy: 0.5510\n",
      "Epoch 39/100\n",
      "20/20 [==============================] - 0s 12ms/step - loss: 0.1845 - accuracy: 0.7098 - val_loss: 0.2945 - val_accuracy: 0.5918\n",
      "Epoch 40/100\n",
      "20/20 [==============================] - 0s 8ms/step - loss: 0.1825 - accuracy: 0.7358 - val_loss: 0.3174 - val_accuracy: 0.5918\n",
      "Epoch 41/100\n",
      "20/20 [==============================] - 0s 9ms/step - loss: 0.1883 - accuracy: 0.7409 - val_loss: 0.2981 - val_accuracy: 0.6122\n",
      "Epoch 42/100\n",
      "20/20 [==============================] - 0s 4ms/step - loss: 0.1749 - accuracy: 0.7513 - val_loss: 0.2581 - val_accuracy: 0.6735\n",
      "Epoch 43/100\n",
      "20/20 [==============================] - 0s 3ms/step - loss: 0.1878 - accuracy: 0.7306 - val_loss: 0.3014 - val_accuracy: 0.5918\n",
      "Epoch 44/100\n",
      "20/20 [==============================] - 0s 3ms/step - loss: 0.1780 - accuracy: 0.7409 - val_loss: 0.3021 - val_accuracy: 0.5102\n",
      "Epoch 45/100\n",
      "20/20 [==============================] - 0s 4ms/step - loss: 0.2118 - accuracy: 0.6995 - val_loss: 0.3219 - val_accuracy: 0.5714\n",
      "Epoch 46/100\n",
      "20/20 [==============================] - 0s 4ms/step - loss: 0.1525 - accuracy: 0.7979 - val_loss: 0.2523 - val_accuracy: 0.6735\n",
      "Epoch 47/100\n",
      "20/20 [==============================] - 0s 3ms/step - loss: 0.1710 - accuracy: 0.7824 - val_loss: 0.3046 - val_accuracy: 0.6327\n",
      "Epoch 48/100\n",
      "20/20 [==============================] - 0s 3ms/step - loss: 0.1726 - accuracy: 0.7513 - val_loss: 0.2700 - val_accuracy: 0.6531\n",
      "Epoch 49/100\n",
      "20/20 [==============================] - 0s 3ms/step - loss: 0.1706 - accuracy: 0.7565 - val_loss: 0.2597 - val_accuracy: 0.6327\n",
      "Epoch 50/100\n",
      "20/20 [==============================] - 0s 4ms/step - loss: 0.1583 - accuracy: 0.8031 - val_loss: 0.3360 - val_accuracy: 0.5714\n",
      "Epoch 51/100\n",
      "20/20 [==============================] - 0s 4ms/step - loss: 0.1722 - accuracy: 0.7617 - val_loss: 0.2841 - val_accuracy: 0.6327\n",
      "Epoch 52/100\n",
      "20/20 [==============================] - 0s 3ms/step - loss: 0.1607 - accuracy: 0.7565 - val_loss: 0.3867 - val_accuracy: 0.5714\n",
      "Epoch 53/100\n",
      "20/20 [==============================] - 0s 4ms/step - loss: 0.2021 - accuracy: 0.7461 - val_loss: 0.2560 - val_accuracy: 0.6327\n",
      "Epoch 54/100\n",
      "20/20 [==============================] - 0s 3ms/step - loss: 0.1656 - accuracy: 0.7668 - val_loss: 0.2940 - val_accuracy: 0.6327\n",
      "Epoch 55/100\n",
      "20/20 [==============================] - 0s 5ms/step - loss: 0.1568 - accuracy: 0.8031 - val_loss: 0.3008 - val_accuracy: 0.5918\n",
      "Epoch 56/100\n",
      "20/20 [==============================] - 0s 3ms/step - loss: 0.1692 - accuracy: 0.7668 - val_loss: 0.2789 - val_accuracy: 0.6122\n",
      "Epoch 57/100\n",
      "20/20 [==============================] - 0s 4ms/step - loss: 0.1601 - accuracy: 0.7565 - val_loss: 0.2718 - val_accuracy: 0.6327\n",
      "Epoch 58/100\n",
      "20/20 [==============================] - 0s 3ms/step - loss: 0.1825 - accuracy: 0.7409 - val_loss: 0.2752 - val_accuracy: 0.5918\n",
      "Epoch 59/100\n",
      "20/20 [==============================] - 0s 3ms/step - loss: 0.1736 - accuracy: 0.7409 - val_loss: 0.2658 - val_accuracy: 0.6327\n",
      "Epoch 60/100\n",
      "20/20 [==============================] - 0s 4ms/step - loss: 0.1642 - accuracy: 0.7720 - val_loss: 0.2652 - val_accuracy: 0.6327\n",
      "Epoch 61/100\n",
      "20/20 [==============================] - 0s 4ms/step - loss: 0.1846 - accuracy: 0.7306 - val_loss: 0.2636 - val_accuracy: 0.6531\n",
      "Epoch 62/100\n",
      "20/20 [==============================] - 0s 3ms/step - loss: 0.1382 - accuracy: 0.8135 - val_loss: 0.3273 - val_accuracy: 0.5714\n",
      "Epoch 63/100\n",
      "20/20 [==============================] - 0s 3ms/step - loss: 0.1756 - accuracy: 0.7358 - val_loss: 0.3378 - val_accuracy: 0.5714\n",
      "Epoch 64/100\n",
      "20/20 [==============================] - 0s 4ms/step - loss: 0.1729 - accuracy: 0.7720 - val_loss: 0.3101 - val_accuracy: 0.5510\n",
      "Epoch 65/100\n",
      "20/20 [==============================] - 0s 3ms/step - loss: 0.1727 - accuracy: 0.7824 - val_loss: 0.2858 - val_accuracy: 0.5714\n",
      "Epoch 66/100\n",
      "20/20 [==============================] - 0s 4ms/step - loss: 0.1360 - accuracy: 0.8083 - val_loss: 0.2455 - val_accuracy: 0.6327\n",
      "Epoch 67/100\n",
      "20/20 [==============================] - 0s 3ms/step - loss: 0.1643 - accuracy: 0.7513 - val_loss: 0.2737 - val_accuracy: 0.5918\n",
      "Epoch 68/100\n",
      "20/20 [==============================] - 0s 4ms/step - loss: 0.1440 - accuracy: 0.7927 - val_loss: 0.2765 - val_accuracy: 0.5918\n",
      "Epoch 69/100\n",
      "20/20 [==============================] - 0s 3ms/step - loss: 0.1493 - accuracy: 0.7927 - val_loss: 0.3226 - val_accuracy: 0.5918\n",
      "Epoch 70/100\n",
      "20/20 [==============================] - 0s 3ms/step - loss: 0.1449 - accuracy: 0.7927 - val_loss: 0.2399 - val_accuracy: 0.6327\n",
      "Epoch 71/100\n",
      "20/20 [==============================] - 0s 3ms/step - loss: 0.1467 - accuracy: 0.7824 - val_loss: 0.2586 - val_accuracy: 0.6735\n",
      "Epoch 72/100\n",
      "20/20 [==============================] - 0s 4ms/step - loss: 0.1424 - accuracy: 0.7668 - val_loss: 0.2500 - val_accuracy: 0.6327\n",
      "Epoch 73/100\n",
      "20/20 [==============================] - 0s 4ms/step - loss: 0.1553 - accuracy: 0.7617 - val_loss: 0.2485 - val_accuracy: 0.6327\n",
      "Epoch 74/100\n",
      "20/20 [==============================] - 0s 4ms/step - loss: 0.1464 - accuracy: 0.8083 - val_loss: 0.3484 - val_accuracy: 0.5714\n",
      "Epoch 75/100\n",
      "20/20 [==============================] - 0s 3ms/step - loss: 0.1601 - accuracy: 0.7772 - val_loss: 0.2448 - val_accuracy: 0.6531\n",
      "Epoch 76/100\n",
      "20/20 [==============================] - 0s 4ms/step - loss: 0.1489 - accuracy: 0.7876 - val_loss: 0.2207 - val_accuracy: 0.6735\n",
      "Epoch 77/100\n",
      "20/20 [==============================] - 0s 3ms/step - loss: 0.1328 - accuracy: 0.8394 - val_loss: 0.2702 - val_accuracy: 0.6735\n",
      "Epoch 78/100\n",
      "20/20 [==============================] - 0s 3ms/step - loss: 0.1569 - accuracy: 0.7876 - val_loss: 0.2516 - val_accuracy: 0.6531\n",
      "Epoch 79/100\n",
      "20/20 [==============================] - 0s 4ms/step - loss: 0.1384 - accuracy: 0.8031 - val_loss: 0.3058 - val_accuracy: 0.6122\n",
      "Epoch 80/100\n",
      "20/20 [==============================] - 0s 3ms/step - loss: 0.1437 - accuracy: 0.8238 - val_loss: 0.2969 - val_accuracy: 0.6531\n",
      "Epoch 81/100\n",
      "20/20 [==============================] - 0s 4ms/step - loss: 0.1679 - accuracy: 0.7513 - val_loss: 0.3362 - val_accuracy: 0.5714\n",
      "Epoch 82/100\n",
      "20/20 [==============================] - 0s 3ms/step - loss: 0.1431 - accuracy: 0.7927 - val_loss: 0.2815 - val_accuracy: 0.6531\n",
      "Epoch 83/100\n",
      "20/20 [==============================] - 0s 4ms/step - loss: 0.1474 - accuracy: 0.7772 - val_loss: 0.3001 - val_accuracy: 0.6122\n",
      "Epoch 84/100\n",
      "20/20 [==============================] - 0s 3ms/step - loss: 0.1413 - accuracy: 0.7979 - val_loss: 0.3109 - val_accuracy: 0.6327\n",
      "Epoch 85/100\n",
      "20/20 [==============================] - 0s 4ms/step - loss: 0.1629 - accuracy: 0.7927 - val_loss: 0.3137 - val_accuracy: 0.5918\n",
      "Epoch 86/100\n",
      "20/20 [==============================] - 0s 3ms/step - loss: 0.1517 - accuracy: 0.7668 - val_loss: 0.2685 - val_accuracy: 0.6122\n",
      "Epoch 87/100\n",
      "20/20 [==============================] - 0s 3ms/step - loss: 0.1287 - accuracy: 0.7876 - val_loss: 0.2608 - val_accuracy: 0.6735\n",
      "Epoch 88/100\n",
      "20/20 [==============================] - 0s 4ms/step - loss: 0.1280 - accuracy: 0.7979 - val_loss: 0.3515 - val_accuracy: 0.5918\n",
      "Epoch 89/100\n",
      "20/20 [==============================] - 0s 3ms/step - loss: 0.1172 - accuracy: 0.8446 - val_loss: 0.3547 - val_accuracy: 0.5714\n",
      "Epoch 90/100\n",
      "20/20 [==============================] - 0s 4ms/step - loss: 0.1349 - accuracy: 0.8238 - val_loss: 0.2461 - val_accuracy: 0.6735\n",
      "Epoch 91/100\n",
      "20/20 [==============================] - 0s 3ms/step - loss: 0.1386 - accuracy: 0.8083 - val_loss: 0.2384 - val_accuracy: 0.6939\n",
      "Epoch 92/100\n",
      "20/20 [==============================] - 0s 3ms/step - loss: 0.1293 - accuracy: 0.8290 - val_loss: 0.3130 - val_accuracy: 0.5918\n",
      "Epoch 93/100\n",
      "20/20 [==============================] - 0s 3ms/step - loss: 0.1339 - accuracy: 0.8394 - val_loss: 0.3364 - val_accuracy: 0.5918\n",
      "Epoch 94/100\n",
      "20/20 [==============================] - 0s 3ms/step - loss: 0.1637 - accuracy: 0.7876 - val_loss: 0.2180 - val_accuracy: 0.7347\n",
      "Epoch 95/100\n",
      "20/20 [==============================] - 0s 3ms/step - loss: 0.1465 - accuracy: 0.8290 - val_loss: 0.2675 - val_accuracy: 0.6122\n",
      "Epoch 96/100\n",
      "20/20 [==============================] - 0s 4ms/step - loss: 0.1442 - accuracy: 0.8031 - val_loss: 0.3412 - val_accuracy: 0.5714\n",
      "Epoch 97/100\n",
      "20/20 [==============================] - 0s 4ms/step - loss: 0.1311 - accuracy: 0.8083 - val_loss: 0.2731 - val_accuracy: 0.5918\n",
      "Epoch 98/100\n",
      "20/20 [==============================] - 0s 3ms/step - loss: 0.1335 - accuracy: 0.8083 - val_loss: 0.2718 - val_accuracy: 0.6735\n",
      "Epoch 99/100\n",
      "20/20 [==============================] - 0s 3ms/step - loss: 0.1383 - accuracy: 0.8135 - val_loss: 0.2640 - val_accuracy: 0.6735\n",
      "Epoch 100/100\n",
      "20/20 [==============================] - 0s 3ms/step - loss: 0.1256 - accuracy: 0.8187 - val_loss: 0.3012 - val_accuracy: 0.6531\n"
     ]
    }
   ],
   "source": [
    "history5 = model5.fit(X_train, y_train, validation_split=0.2, epochs=100, batch_size=10, verbose=1)"
   ]
  },
  {
   "cell_type": "code",
   "execution_count": 48,
   "metadata": {
    "colab": {
     "base_uri": "https://localhost:8080/"
    },
    "id": "drrf6aP16UIl",
    "outputId": "cb5e5cc8-6d7c-4739-a301-c85b6d08b4d7"
   },
   "outputs": [
    {
     "name": "stdout",
     "output_type": "stream",
     "text": [
      "Model: \"sequential_2\"\n",
      "_________________________________________________________________\n",
      "Layer (type)                 Output Shape              Param #   \n",
      "=================================================================\n",
      "dense_5 (Dense)              (None, 32)                448       \n",
      "_________________________________________________________________\n",
      "dense_6 (Dense)              (None, 16)                528       \n",
      "_________________________________________________________________\n",
      "dense_7 (Dense)              (None, 8)                 136       \n",
      "_________________________________________________________________\n",
      "dense_8 (Dense)              (None, 1)                 9         \n",
      "=================================================================\n",
      "Total params: 1,121\n",
      "Trainable params: 1,121\n",
      "Non-trainable params: 0\n",
      "_________________________________________________________________\n"
     ]
    }
   ],
   "source": [
    "model5.summary()"
   ]
  },
  {
   "cell_type": "code",
   "execution_count": 49,
   "metadata": {
    "id": "YBw4-JWK9JXO"
   },
   "outputs": [],
   "source": [
    "his1=history5.history"
   ]
  },
  {
   "cell_type": "code",
   "execution_count": 50,
   "metadata": {
    "colab": {
     "base_uri": "https://localhost:8080/",
     "height": 295
    },
    "id": "iQcGGvNw-CIo",
    "outputId": "b58025b2-46c5-4f06-8f80-3ec67c5a3691"
   },
   "outputs": [
    {
     "data": {
      "image/png": "[encoded data removed]",
      "text/plain": [
       "<Figure size 432x288 with 1 Axes>"
      ]
     },
     "metadata": {
      "needs_background": "light"
     },
     "output_type": "display_data"
    }
   ],
   "source": [
    "plt.plot(history5.history['accuracy'])\n",
    "plt.plot(history5.history['val_accuracy'])\n",
    "plt.title('Model Accuracy')\n",
    "plt.ylabel('accuracy')\n",
    "plt.xlabel('epoch')\n",
    "plt.legend(['Train', 'Validation'])\n",
    "plt.show()"
   ]
  },
  {
   "cell_type": "code",
   "execution_count": 51,
   "metadata": {
    "colab": {
     "base_uri": "https://localhost:8080/",
     "height": 295
    },
    "id": "8q2zfEVb-CLg",
    "outputId": "01687b9a-ae48-40ff-dc9b-3a81d6f1cc12"
   },
   "outputs": [
    {
     "data": {
      "image/png": "[encoded data removed]",
      "text/plain": [
       "<Figure size 432x288 with 1 Axes>"
      ]
     },
     "metadata": {
      "needs_background": "light"
     },
     "output_type": "display_data"
    }
   ],
   "source": [
    "plt.plot(history5.history['loss'])\n",
    "plt.plot(history5.history['val_loss'])\n",
    "plt.title('Model Loss')\n",
    "plt.ylabel('loss')\n",
    "plt.xlabel('epoch')\n",
    "plt.legend(['Train', 'Validation'])\n",
    "plt.show()"
   ]
  },
  {
   "cell_type": "markdown",
   "metadata": {
    "id": "Fv1Og-vnL_Fb"
   },
   "source": [
    "#### Now, increase the nodes 64, 32, 16 for the three hidden layers. Now retrain your model, evaluate and print the accuracy and loss chart using matplotlib."
   ]
  },
  {
   "cell_type": "code",
   "execution_count": 52,
   "metadata": {
    "id": "QdFWbmTQ6UIl"
   },
   "outputs": [],
   "source": [
    "model6 = Sequential()   # the keras model with 64 nodes\n",
    "model6.add(Dense(64, input_dim=13, activation='relu'))\n",
    "model6.add(Dense(32, activation='relu'))\n",
    "model6.add(Dense(16, activation='relu'))\n",
    "model6.add(Dense(8, activation='relu'))\n",
    "model6.add(Dense(1,activation='sigmoid'))"
   ]
  },
  {
   "cell_type": "code",
   "execution_count": 53,
   "metadata": {
    "colab": {
     "base_uri": "https://localhost:8080/"
    },
    "id": "Xaht1L2r6UIm",
    "outputId": "dc301723-0616-4e94-9010-574e3a7fc601"
   },
   "outputs": [
    {
     "name": "stdout",
     "output_type": "stream",
     "text": [
      "Epoch 1/15\n",
      "13/13 [==============================] - 1s 2ms/step - loss: 0.4545 - accuracy: 0.5455\n",
      "Epoch 2/15\n",
      "13/13 [==============================] - 0s 2ms/step - loss: 0.4545 - accuracy: 0.5455\n",
      "Epoch 3/15\n",
      "13/13 [==============================] - 0s 2ms/step - loss: 0.4545 - accuracy: 0.5455\n",
      "Epoch 4/15\n",
      "13/13 [==============================] - 0s 2ms/step - loss: 0.4545 - accuracy: 0.5455\n",
      "Epoch 5/15\n",
      "13/13 [==============================] - 0s 2ms/step - loss: 0.4545 - accuracy: 0.5455\n",
      "Epoch 6/15\n",
      "13/13 [==============================] - 0s 2ms/step - loss: 0.4545 - accuracy: 0.5455\n",
      "Epoch 7/15\n",
      "13/13 [==============================] - 0s 2ms/step - loss: 0.4545 - accuracy: 0.5455\n",
      "Epoch 8/15\n",
      "13/13 [==============================] - 0s 2ms/step - loss: 0.4545 - accuracy: 0.5455\n",
      "Epoch 9/15\n",
      "13/13 [==============================] - 0s 2ms/step - loss: 0.4545 - accuracy: 0.5455\n",
      "Epoch 10/15\n",
      "13/13 [==============================] - 0s 3ms/step - loss: 0.4545 - accuracy: 0.5455\n",
      "Epoch 11/15\n",
      "13/13 [==============================] - 0s 2ms/step - loss: 0.4545 - accuracy: 0.5455\n",
      "Epoch 12/15\n",
      "13/13 [==============================] - 0s 2ms/step - loss: 0.4545 - accuracy: 0.5455\n",
      "Epoch 13/15\n",
      "13/13 [==============================] - 0s 2ms/step - loss: 0.4545 - accuracy: 0.5455\n",
      "Epoch 14/15\n",
      "13/13 [==============================] - 0s 2ms/step - loss: 0.4545 - accuracy: 0.5455\n",
      "Epoch 15/15\n",
      "13/13 [==============================] - 0s 2ms/step - loss: 0.4545 - accuracy: 0.5455\n"
     ]
    },
    {
     "data": {
      "text/plain": [
       "<keras.callbacks.History at 0x7f760b423550>"
      ]
     },
     "execution_count": 53,
     "metadata": {},
     "output_type": "execute_result"
    }
   ],
   "source": [
    "model6.compile(loss='mean_squared_error', optimizer=optimizer, metrics=['accuracy'])\n",
    "model6.fit(X_train, y_train, epochs=15, batch_size=20, verbose = 1)"
   ]
  },
  {
   "cell_type": "code",
   "execution_count": 54,
   "metadata": {
    "colab": {
     "base_uri": "https://localhost:8080/"
    },
    "id": "JTCKYa0H6UIm",
    "outputId": "cf12ac5c-9033-4dd7-a198-b8d2dd5018f4"
   },
   "outputs": [
    {
     "name": "stdout",
     "output_type": "stream",
     "text": [
      "2/2 [==============================] - 0s 7ms/step - loss: 0.4590 - accuracy: 0.5410\n"
     ]
    },
    {
     "data": {
      "text/plain": [
       "[0.4590163826942444, 0.5409836173057556]"
      ]
     },
     "execution_count": 54,
     "metadata": {},
     "output_type": "execute_result"
    }
   ],
   "source": [
    "model6.evaluate(X_test,y_test)"
   ]
  },
  {
   "cell_type": "code",
   "execution_count": 55,
   "metadata": {
    "colab": {
     "base_uri": "https://localhost:8080/"
    },
    "id": "fHs29oNBAnoi",
    "outputId": "8a35ed2a-d1ed-4f36-e035-1d66d5068a1b"
   },
   "outputs": [
    {
     "name": "stdout",
     "output_type": "stream",
     "text": [
      "Epoch 1/100\n",
      "20/20 [==============================] - 0s 6ms/step - loss: 0.4456 - accuracy: 0.5544 - val_loss: 0.4898 - val_accuracy: 0.5102\n",
      "Epoch 2/100\n",
      "20/20 [==============================] - 0s 3ms/step - loss: 0.4456 - accuracy: 0.5544 - val_loss: 0.4898 - val_accuracy: 0.5102\n",
      "Epoch 3/100\n",
      "20/20 [==============================] - 0s 3ms/step - loss: 0.4456 - accuracy: 0.5544 - val_loss: 0.4898 - val_accuracy: 0.5102\n",
      "Epoch 4/100\n",
      "20/20 [==============================] - 0s 4ms/step - loss: 0.4456 - accuracy: 0.5544 - val_loss: 0.4898 - val_accuracy: 0.5102\n",
      "Epoch 5/100\n",
      "20/20 [==============================] - 0s 3ms/step - loss: 0.4456 - accuracy: 0.5544 - val_loss: 0.4898 - val_accuracy: 0.5102\n",
      "Epoch 6/100\n",
      "20/20 [==============================] - 0s 3ms/step - loss: 0.4456 - accuracy: 0.5544 - val_loss: 0.4898 - val_accuracy: 0.5102\n",
      "Epoch 7/100\n",
      "20/20 [==============================] - 0s 4ms/step - loss: 0.4456 - accuracy: 0.5544 - val_loss: 0.4898 - val_accuracy: 0.5102\n",
      "Epoch 8/100\n",
      "20/20 [==============================] - 0s 3ms/step - loss: 0.4456 - accuracy: 0.5544 - val_loss: 0.4898 - val_accuracy: 0.5102\n",
      "Epoch 9/100\n",
      "20/20 [==============================] - 0s 3ms/step - loss: 0.4456 - accuracy: 0.5544 - val_loss: 0.4898 - val_accuracy: 0.5102\n",
      "Epoch 10/100\n",
      "20/20 [==============================] - 0s 4ms/step - loss: 0.4456 - accuracy: 0.5544 - val_loss: 0.4898 - val_accuracy: 0.5102\n",
      "Epoch 11/100\n",
      "20/20 [==============================] - 0s 3ms/step - loss: 0.4456 - accuracy: 0.5544 - val_loss: 0.4898 - val_accuracy: 0.5102\n",
      "Epoch 12/100\n",
      "20/20 [==============================] - 0s 3ms/step - loss: 0.4456 - accuracy: 0.5544 - val_loss: 0.4898 - val_accuracy: 0.5102\n",
      "Epoch 13/100\n",
      "20/20 [==============================] - 0s 4ms/step - loss: 0.4456 - accuracy: 0.5544 - val_loss: 0.4898 - val_accuracy: 0.5102\n",
      "Epoch 14/100\n",
      "20/20 [==============================] - 0s 4ms/step - loss: 0.4456 - accuracy: 0.5544 - val_loss: 0.4898 - val_accuracy: 0.5102\n",
      "Epoch 15/100\n",
      "20/20 [==============================] - 0s 3ms/step - loss: 0.4456 - accuracy: 0.5544 - val_loss: 0.4898 - val_accuracy: 0.5102\n",
      "Epoch 16/100\n",
      "20/20 [==============================] - 0s 3ms/step - loss: 0.4456 - accuracy: 0.5544 - val_loss: 0.4898 - val_accuracy: 0.5102\n",
      "Epoch 17/100\n",
      "20/20 [==============================] - 0s 4ms/step - loss: 0.4456 - accuracy: 0.5544 - val_loss: 0.4898 - val_accuracy: 0.5102\n",
      "Epoch 18/100\n",
      "20/20 [==============================] - 0s 3ms/step - loss: 0.4456 - accuracy: 0.5544 - val_loss: 0.4898 - val_accuracy: 0.5102\n",
      "Epoch 19/100\n",
      "20/20 [==============================] - 0s 3ms/step - loss: 0.4456 - accuracy: 0.5544 - val_loss: 0.4898 - val_accuracy: 0.5102\n",
      "Epoch 20/100\n",
      "20/20 [==============================] - 0s 3ms/step - loss: 0.4456 - accuracy: 0.5544 - val_loss: 0.4898 - val_accuracy: 0.5102\n",
      "Epoch 21/100\n",
      "20/20 [==============================] - 0s 4ms/step - loss: 0.4456 - accuracy: 0.5544 - val_loss: 0.4898 - val_accuracy: 0.5102\n",
      "Epoch 22/100\n",
      "20/20 [==============================] - 0s 4ms/step - loss: 0.4456 - accuracy: 0.5544 - val_loss: 0.4898 - val_accuracy: 0.5102\n",
      "Epoch 23/100\n",
      "20/20 [==============================] - 0s 3ms/step - loss: 0.4456 - accuracy: 0.5544 - val_loss: 0.4898 - val_accuracy: 0.5102\n",
      "Epoch 24/100\n",
      "20/20 [==============================] - 0s 4ms/step - loss: 0.4456 - accuracy: 0.5544 - val_loss: 0.4898 - val_accuracy: 0.5102\n",
      "Epoch 25/100\n",
      "20/20 [==============================] - 0s 3ms/step - loss: 0.4456 - accuracy: 0.5544 - val_loss: 0.4898 - val_accuracy: 0.5102\n",
      "Epoch 26/100\n",
      "20/20 [==============================] - 0s 3ms/step - loss: 0.4456 - accuracy: 0.5544 - val_loss: 0.4898 - val_accuracy: 0.5102\n",
      "Epoch 27/100\n",
      "20/20 [==============================] - 0s 4ms/step - loss: 0.4456 - accuracy: 0.5544 - val_loss: 0.4898 - val_accuracy: 0.5102\n",
      "Epoch 28/100\n",
      "20/20 [==============================] - 0s 3ms/step - loss: 0.4456 - accuracy: 0.5544 - val_loss: 0.4898 - val_accuracy: 0.5102\n",
      "Epoch 29/100\n",
      "20/20 [==============================] - 0s 6ms/step - loss: 0.4456 - accuracy: 0.5544 - val_loss: 0.4898 - val_accuracy: 0.5102\n",
      "Epoch 30/100\n",
      "20/20 [==============================] - 0s 4ms/step - loss: 0.4456 - accuracy: 0.5544 - val_loss: 0.4898 - val_accuracy: 0.5102\n",
      "Epoch 31/100\n",
      "20/20 [==============================] - 0s 4ms/step - loss: 0.4456 - accuracy: 0.5544 - val_loss: 0.4898 - val_accuracy: 0.5102\n",
      "Epoch 32/100\n",
      "20/20 [==============================] - 0s 4ms/step - loss: 0.4456 - accuracy: 0.5544 - val_loss: 0.4898 - val_accuracy: 0.5102\n",
      "Epoch 33/100\n",
      "20/20 [==============================] - 0s 3ms/step - loss: 0.4456 - accuracy: 0.5544 - val_loss: 0.4898 - val_accuracy: 0.5102\n",
      "Epoch 34/100\n",
      "20/20 [==============================] - 0s 4ms/step - loss: 0.4456 - accuracy: 0.5544 - val_loss: 0.4898 - val_accuracy: 0.5102\n",
      "Epoch 35/100\n",
      "20/20 [==============================] - 0s 3ms/step - loss: 0.4456 - accuracy: 0.5544 - val_loss: 0.4898 - val_accuracy: 0.5102\n",
      "Epoch 36/100\n",
      "20/20 [==============================] - 0s 3ms/step - loss: 0.4456 - accuracy: 0.5544 - val_loss: 0.4898 - val_accuracy: 0.5102\n",
      "Epoch 37/100\n",
      "20/20 [==============================] - 0s 3ms/step - loss: 0.4456 - accuracy: 0.5544 - val_loss: 0.4898 - val_accuracy: 0.5102\n",
      "Epoch 38/100\n",
      "20/20 [==============================] - 0s 4ms/step - loss: 0.4456 - accuracy: 0.5544 - val_loss: 0.4898 - val_accuracy: 0.5102\n",
      "Epoch 39/100\n",
      "20/20 [==============================] - 0s 4ms/step - loss: 0.4456 - accuracy: 0.5544 - val_loss: 0.4898 - val_accuracy: 0.5102\n",
      "Epoch 40/100\n",
      "20/20 [==============================] - 0s 3ms/step - loss: 0.4456 - accuracy: 0.5544 - val_loss: 0.4898 - val_accuracy: 0.5102\n",
      "Epoch 41/100\n",
      "20/20 [==============================] - 0s 3ms/step - loss: 0.4456 - accuracy: 0.5544 - val_loss: 0.4898 - val_accuracy: 0.5102\n",
      "Epoch 42/100\n",
      "20/20 [==============================] - 0s 3ms/step - loss: 0.4456 - accuracy: 0.5544 - val_loss: 0.4898 - val_accuracy: 0.5102\n",
      "Epoch 43/100\n",
      "20/20 [==============================] - 0s 3ms/step - loss: 0.4456 - accuracy: 0.5544 - val_loss: 0.4898 - val_accuracy: 0.5102\n",
      "Epoch 44/100\n",
      "20/20 [==============================] - 0s 3ms/step - loss: 0.4456 - accuracy: 0.5544 - val_loss: 0.4898 - val_accuracy: 0.5102\n",
      "Epoch 45/100\n",
      "20/20 [==============================] - 0s 4ms/step - loss: 0.4456 - accuracy: 0.5544 - val_loss: 0.4898 - val_accuracy: 0.5102\n",
      "Epoch 46/100\n",
      "20/20 [==============================] - 0s 3ms/step - loss: 0.4456 - accuracy: 0.5544 - val_loss: 0.4898 - val_accuracy: 0.5102\n",
      "Epoch 47/100\n",
      "20/20 [==============================] - 0s 3ms/step - loss: 0.4456 - accuracy: 0.5544 - val_loss: 0.4898 - val_accuracy: 0.5102\n",
      "Epoch 48/100\n",
      "20/20 [==============================] - 0s 3ms/step - loss: 0.4456 - accuracy: 0.5544 - val_loss: 0.4898 - val_accuracy: 0.5102\n",
      "Epoch 49/100\n",
      "20/20 [==============================] - 0s 3ms/step - loss: 0.4456 - accuracy: 0.5544 - val_loss: 0.4898 - val_accuracy: 0.5102\n",
      "Epoch 50/100\n",
      "20/20 [==============================] - 0s 4ms/step - loss: 0.4456 - accuracy: 0.5544 - val_loss: 0.4898 - val_accuracy: 0.5102\n",
      "Epoch 51/100\n",
      "20/20 [==============================] - 0s 3ms/step - loss: 0.4456 - accuracy: 0.5544 - val_loss: 0.4898 - val_accuracy: 0.5102\n",
      "Epoch 52/100\n",
      "20/20 [==============================] - 0s 3ms/step - loss: 0.4456 - accuracy: 0.5544 - val_loss: 0.4898 - val_accuracy: 0.5102\n",
      "Epoch 53/100\n",
      "20/20 [==============================] - 0s 4ms/step - loss: 0.4456 - accuracy: 0.5544 - val_loss: 0.4898 - val_accuracy: 0.5102\n",
      "Epoch 54/100\n",
      "20/20 [==============================] - 0s 3ms/step - loss: 0.4456 - accuracy: 0.5544 - val_loss: 0.4898 - val_accuracy: 0.5102\n",
      "Epoch 55/100\n",
      "20/20 [==============================] - 0s 4ms/step - loss: 0.4456 - accuracy: 0.5544 - val_loss: 0.4898 - val_accuracy: 0.5102\n",
      "Epoch 56/100\n",
      "20/20 [==============================] - 0s 3ms/step - loss: 0.4456 - accuracy: 0.5544 - val_loss: 0.4898 - val_accuracy: 0.5102\n",
      "Epoch 57/100\n",
      "20/20 [==============================] - 0s 4ms/step - loss: 0.4456 - accuracy: 0.5544 - val_loss: 0.4898 - val_accuracy: 0.5102\n",
      "Epoch 58/100\n",
      "20/20 [==============================] - 0s 4ms/step - loss: 0.4456 - accuracy: 0.5544 - val_loss: 0.4898 - val_accuracy: 0.5102\n",
      "Epoch 59/100\n",
      "20/20 [==============================] - 0s 3ms/step - loss: 0.4456 - accuracy: 0.5544 - val_loss: 0.4898 - val_accuracy: 0.5102\n",
      "Epoch 60/100\n",
      "20/20 [==============================] - 0s 4ms/step - loss: 0.4456 - accuracy: 0.5544 - val_loss: 0.4898 - val_accuracy: 0.5102\n",
      "Epoch 61/100\n",
      "20/20 [==============================] - 0s 4ms/step - loss: 0.4456 - accuracy: 0.5544 - val_loss: 0.4898 - val_accuracy: 0.5102\n",
      "Epoch 62/100\n",
      "20/20 [==============================] - 0s 4ms/step - loss: 0.4456 - accuracy: 0.5544 - val_loss: 0.4898 - val_accuracy: 0.5102\n",
      "Epoch 63/100\n",
      "20/20 [==============================] - 0s 3ms/step - loss: 0.4456 - accuracy: 0.5544 - val_loss: 0.4898 - val_accuracy: 0.5102\n",
      "Epoch 64/100\n",
      "20/20 [==============================] - 0s 3ms/step - loss: 0.4456 - accuracy: 0.5544 - val_loss: 0.4898 - val_accuracy: 0.5102\n",
      "Epoch 65/100\n",
      "20/20 [==============================] - 0s 3ms/step - loss: 0.4456 - accuracy: 0.5544 - val_loss: 0.4898 - val_accuracy: 0.5102\n",
      "Epoch 66/100\n",
      "20/20 [==============================] - 0s 3ms/step - loss: 0.4456 - accuracy: 0.5544 - val_loss: 0.4898 - val_accuracy: 0.5102\n",
      "Epoch 67/100\n",
      "20/20 [==============================] - 0s 4ms/step - loss: 0.4456 - accuracy: 0.5544 - val_loss: 0.4898 - val_accuracy: 0.5102\n",
      "Epoch 68/100\n",
      "20/20 [==============================] - 0s 4ms/step - loss: 0.4456 - accuracy: 0.5544 - val_loss: 0.4898 - val_accuracy: 0.5102\n",
      "Epoch 69/100\n",
      "20/20 [==============================] - 0s 3ms/step - loss: 0.4456 - accuracy: 0.5544 - val_loss: 0.4898 - val_accuracy: 0.5102\n",
      "Epoch 70/100\n",
      "20/20 [==============================] - 0s 3ms/step - loss: 0.4456 - accuracy: 0.5544 - val_loss: 0.4898 - val_accuracy: 0.5102\n",
      "Epoch 71/100\n",
      "20/20 [==============================] - 0s 4ms/step - loss: 0.4456 - accuracy: 0.5544 - val_loss: 0.4898 - val_accuracy: 0.5102\n",
      "Epoch 72/100\n",
      "20/20 [==============================] - 0s 3ms/step - loss: 0.4456 - accuracy: 0.5544 - val_loss: 0.4898 - val_accuracy: 0.5102\n",
      "Epoch 73/100\n",
      "20/20 [==============================] - 0s 4ms/step - loss: 0.4456 - accuracy: 0.5544 - val_loss: 0.4898 - val_accuracy: 0.5102\n",
      "Epoch 74/100\n",
      "20/20 [==============================] - 0s 4ms/step - loss: 0.4456 - accuracy: 0.5544 - val_loss: 0.4898 - val_accuracy: 0.5102\n",
      "Epoch 75/100\n",
      "20/20 [==============================] - 0s 4ms/step - loss: 0.4456 - accuracy: 0.5544 - val_loss: 0.4898 - val_accuracy: 0.5102\n",
      "Epoch 76/100\n",
      "20/20 [==============================] - 0s 4ms/step - loss: 0.4456 - accuracy: 0.5544 - val_loss: 0.4898 - val_accuracy: 0.5102\n",
      "Epoch 77/100\n",
      "20/20 [==============================] - 0s 3ms/step - loss: 0.4456 - accuracy: 0.5544 - val_loss: 0.4898 - val_accuracy: 0.5102\n",
      "Epoch 78/100\n",
      "20/20 [==============================] - 0s 3ms/step - loss: 0.4456 - accuracy: 0.5544 - val_loss: 0.4898 - val_accuracy: 0.5102\n",
      "Epoch 79/100\n",
      "20/20 [==============================] - 0s 4ms/step - loss: 0.4456 - accuracy: 0.5544 - val_loss: 0.4898 - val_accuracy: 0.5102\n",
      "Epoch 80/100\n",
      "20/20 [==============================] - 0s 3ms/step - loss: 0.4456 - accuracy: 0.5544 - val_loss: 0.4898 - val_accuracy: 0.5102\n",
      "Epoch 81/100\n",
      "20/20 [==============================] - 0s 3ms/step - loss: 0.4456 - accuracy: 0.5544 - val_loss: 0.4898 - val_accuracy: 0.5102\n",
      "Epoch 82/100\n",
      "20/20 [==============================] - 0s 4ms/step - loss: 0.4456 - accuracy: 0.5544 - val_loss: 0.4898 - val_accuracy: 0.5102\n",
      "Epoch 83/100\n",
      "20/20 [==============================] - 0s 3ms/step - loss: 0.4456 - accuracy: 0.5544 - val_loss: 0.4898 - val_accuracy: 0.5102\n",
      "Epoch 84/100\n",
      "20/20 [==============================] - 0s 4ms/step - loss: 0.4456 - accuracy: 0.5544 - val_loss: 0.4898 - val_accuracy: 0.5102\n",
      "Epoch 85/100\n",
      "20/20 [==============================] - 0s 3ms/step - loss: 0.4456 - accuracy: 0.5544 - val_loss: 0.4898 - val_accuracy: 0.5102\n",
      "Epoch 86/100\n",
      "20/20 [==============================] - 0s 3ms/step - loss: 0.4456 - accuracy: 0.5544 - val_loss: 0.4898 - val_accuracy: 0.5102\n",
      "Epoch 87/100\n",
      "20/20 [==============================] - 0s 4ms/step - loss: 0.4456 - accuracy: 0.5544 - val_loss: 0.4898 - val_accuracy: 0.5102\n",
      "Epoch 88/100\n",
      "20/20 [==============================] - 0s 4ms/step - loss: 0.4456 - accuracy: 0.5544 - val_loss: 0.4898 - val_accuracy: 0.5102\n",
      "Epoch 89/100\n",
      "20/20 [==============================] - 0s 4ms/step - loss: 0.4456 - accuracy: 0.5544 - val_loss: 0.4898 - val_accuracy: 0.5102\n",
      "Epoch 90/100\n",
      "20/20 [==============================] - 0s 3ms/step - loss: 0.4456 - accuracy: 0.5544 - val_loss: 0.4898 - val_accuracy: 0.5102\n",
      "Epoch 91/100\n",
      "20/20 [==============================] - 0s 3ms/step - loss: 0.4456 - accuracy: 0.5544 - val_loss: 0.4898 - val_accuracy: 0.5102\n",
      "Epoch 92/100\n",
      "20/20 [==============================] - 0s 4ms/step - loss: 0.4456 - accuracy: 0.5544 - val_loss: 0.4898 - val_accuracy: 0.5102\n",
      "Epoch 93/100\n",
      "20/20 [==============================] - 0s 4ms/step - loss: 0.4456 - accuracy: 0.5544 - val_loss: 0.4898 - val_accuracy: 0.5102\n",
      "Epoch 94/100\n",
      "20/20 [==============================] - 0s 3ms/step - loss: 0.4456 - accuracy: 0.5544 - val_loss: 0.4898 - val_accuracy: 0.5102\n",
      "Epoch 95/100\n",
      "20/20 [==============================] - 0s 3ms/step - loss: 0.4456 - accuracy: 0.5544 - val_loss: 0.4898 - val_accuracy: 0.5102\n",
      "Epoch 96/100\n",
      "20/20 [==============================] - 0s 3ms/step - loss: 0.4456 - accuracy: 0.5544 - val_loss: 0.4898 - val_accuracy: 0.5102\n",
      "Epoch 97/100\n",
      "20/20 [==============================] - 0s 3ms/step - loss: 0.4456 - accuracy: 0.5544 - val_loss: 0.4898 - val_accuracy: 0.5102\n",
      "Epoch 98/100\n",
      "20/20 [==============================] - 0s 4ms/step - loss: 0.4456 - accuracy: 0.5544 - val_loss: 0.4898 - val_accuracy: 0.5102\n",
      "Epoch 99/100\n",
      "20/20 [==============================] - 0s 3ms/step - loss: 0.4456 - accuracy: 0.5544 - val_loss: 0.4898 - val_accuracy: 0.5102\n",
      "Epoch 100/100\n",
      "20/20 [==============================] - 0s 4ms/step - loss: 0.4456 - accuracy: 0.5544 - val_loss: 0.4898 - val_accuracy: 0.5102\n"
     ]
    }
   ],
   "source": [
    "history6 = model6.fit(X_train, y_train, validation_split=0.2, epochs=100, batch_size=10, verbose=1)"
   ]
  },
  {
   "cell_type": "code",
   "execution_count": 56,
   "metadata": {
    "colab": {
     "base_uri": "https://localhost:8080/"
    },
    "id": "8eODoE256UIn",
    "outputId": "0656dec7-956a-4ce0-b9b7-40b359d7b033"
   },
   "outputs": [
    {
     "name": "stdout",
     "output_type": "stream",
     "text": [
      "Model: \"sequential_3\"\n",
      "_________________________________________________________________\n",
      "Layer (type)                 Output Shape              Param #   \n",
      "=================================================================\n",
      "dense_9 (Dense)              (None, 64)                896       \n",
      "_________________________________________________________________\n",
      "dense_10 (Dense)             (None, 32)                2080      \n",
      "_________________________________________________________________\n",
      "dense_11 (Dense)             (None, 16)                528       \n",
      "_________________________________________________________________\n",
      "dense_12 (Dense)             (None, 8)                 136       \n",
      "_________________________________________________________________\n",
      "dense_13 (Dense)             (None, 1)                 9         \n",
      "=================================================================\n",
      "Total params: 3,649\n",
      "Trainable params: 3,649\n",
      "Non-trainable params: 0\n",
      "_________________________________________________________________\n"
     ]
    }
   ],
   "source": [
    "model6.summary()"
   ]
  },
  {
   "cell_type": "code",
   "execution_count": 57,
   "metadata": {
    "id": "RziQ-QLA6UIn"
   },
   "outputs": [],
   "source": [
    "his3=history6.history"
   ]
  },
  {
   "cell_type": "code",
   "execution_count": 58,
   "metadata": {
    "colab": {
     "base_uri": "https://localhost:8080/",
     "height": 295
    },
    "id": "5q2A8DvE6UIn",
    "outputId": "1fbb11b0-be98-4f63-a636-3b06f0de51b7"
   },
   "outputs": [
    {
     "data": {
      "image/png": "[encoded data removed]",
      "text/plain": [
       "<Figure size 432x288 with 1 Axes>"
      ]
     },
     "metadata": {
      "needs_background": "light"
     },
     "output_type": "display_data"
    }
   ],
   "source": [
    "plt.plot(history6.history['accuracy'])\n",
    "plt.plot(history6.history['val_accuracy'])\n",
    "plt.title('Model Accuracy')\n",
    "plt.ylabel('accuracy')\n",
    "plt.xlabel('epoch')\n",
    "plt.legend(['Train', 'Validation'])\n",
    "plt.show()"
   ]
  },
  {
   "cell_type": "code",
   "execution_count": 59,
   "metadata": {
    "colab": {
     "base_uri": "https://localhost:8080/",
     "height": 295
    },
    "id": "Y6UJhEYMAxM_",
    "outputId": "618e6278-6b34-46f5-aacb-02746756d2ae"
   },
   "outputs": [
    {
     "data": {
      "image/png": "[encoded data removed]",
      "text/plain": [
       "<Figure size 432x288 with 1 Axes>"
      ]
     },
     "metadata": {
      "needs_background": "light"
     },
     "output_type": "display_data"
    }
   ],
   "source": [
    "plt.plot(history6.history['loss'])\n",
    "plt.plot(history6.history['val_loss'])\n",
    "plt.title('Model Loss')\n",
    "plt.ylabel('loss')\n",
    "plt.xlabel('epoch')\n",
    "plt.legend(['Train', 'Validation'])\n",
    "plt.show()"
   ]
  },
  {
   "cell_type": "markdown",
   "metadata": {
    "id": "PVy9XRy_L_Fe"
   },
   "source": [
    "#### Now, increase number of epochs as 150, 200, 300 and batch size as 15 and 20. Now retrain your model, evaluate and print the accuracy and loss chart using matplotlib."
   ]
  },
  {
   "cell_type": "code",
   "execution_count": 60,
   "metadata": {
    "id": "rysmYBylA6LZ"
   },
   "outputs": [],
   "source": [
    "model7 = Sequential()\n",
    "model7.add(Dense(8, input_dim=13,activation='relu'))\n",
    "model7.add(Dense(1, activation='sigmoid'))"
   ]
  },
  {
   "cell_type": "code",
   "execution_count": 61,
   "metadata": {
    "colab": {
     "base_uri": "https://localhost:8080/"
    },
    "id": "RGmNKahOL_Fe",
    "outputId": "3e83dea1-c8d3-4757-c98f-cfc466fd2494"
   },
   "outputs": [
    {
     "name": "stdout",
     "output_type": "stream",
     "text": [
      "Epoch 1/15\n",
      "13/13 [==============================] - 0s 2ms/step - loss: 0.5455 - accuracy: 0.4545\n",
      "Epoch 2/15\n",
      "13/13 [==============================] - 0s 2ms/step - loss: 0.5455 - accuracy: 0.4545\n",
      "Epoch 3/15\n",
      "13/13 [==============================] - 0s 2ms/step - loss: 0.5455 - accuracy: 0.4545\n",
      "Epoch 4/15\n",
      "13/13 [==============================] - 0s 2ms/step - loss: 0.5455 - accuracy: 0.4545\n",
      "Epoch 5/15\n",
      "13/13 [==============================] - 0s 2ms/step - loss: 0.5455 - accuracy: 0.4545\n",
      "Epoch 6/15\n",
      "13/13 [==============================] - 0s 2ms/step - loss: 0.5455 - accuracy: 0.4545\n",
      "Epoch 7/15\n",
      "13/13 [==============================] - 0s 2ms/step - loss: 0.5455 - accuracy: 0.4545\n",
      "Epoch 8/15\n",
      "13/13 [==============================] - 0s 2ms/step - loss: 0.5455 - accuracy: 0.4545\n",
      "Epoch 9/15\n",
      "13/13 [==============================] - 0s 3ms/step - loss: 0.5455 - accuracy: 0.4545\n",
      "Epoch 10/15\n",
      "13/13 [==============================] - 0s 2ms/step - loss: 0.5455 - accuracy: 0.4545\n",
      "Epoch 11/15\n",
      "13/13 [==============================] - 0s 3ms/step - loss: 0.5455 - accuracy: 0.4545\n",
      "Epoch 12/15\n",
      "13/13 [==============================] - 0s 2ms/step - loss: 0.5455 - accuracy: 0.4545\n",
      "Epoch 13/15\n",
      "13/13 [==============================] - 0s 2ms/step - loss: 0.5455 - accuracy: 0.4545\n",
      "Epoch 14/15\n",
      "13/13 [==============================] - 0s 2ms/step - loss: 0.5455 - accuracy: 0.4545\n",
      "Epoch 15/15\n",
      "13/13 [==============================] - 0s 2ms/step - loss: 0.5455 - accuracy: 0.4545\n"
     ]
    },
    {
     "data": {
      "text/plain": [
       "<keras.callbacks.History at 0x7f760b1289d0>"
      ]
     },
     "execution_count": 61,
     "metadata": {},
     "output_type": "execute_result"
    }
   ],
   "source": [
    "model7.compile(loss='mean_squared_error',optimizer=optimizer,metrics=['accuracy'])\n",
    "model7.fit(X_train, y_train, epochs=15, batch_size=20, verbose = 1)    "
   ]
  },
  {
   "cell_type": "code",
   "execution_count": 62,
   "metadata": {
    "colab": {
     "base_uri": "https://localhost:8080/"
    },
    "id": "AkBgx7uxL_Ff",
    "outputId": "e13ac420-5f49-4235-ec75-bab7fb421322"
   },
   "outputs": [
    {
     "name": "stdout",
     "output_type": "stream",
     "text": [
      "2/2 [==============================] - 0s 5ms/step - loss: 0.5410 - accuracy: 0.4590\n"
     ]
    },
    {
     "data": {
      "text/plain": [
       "[0.5409836173057556, 0.4590163826942444]"
      ]
     },
     "execution_count": 62,
     "metadata": {},
     "output_type": "execute_result"
    }
   ],
   "source": [
    "model7.evaluate(X_test,y_test)"
   ]
  },
  {
   "cell_type": "code",
   "execution_count": 63,
   "metadata": {
    "colab": {
     "base_uri": "https://localhost:8080/"
    },
    "id": "gt5-gfeDL_Ff",
    "outputId": "c9d07625-34f3-4397-ef66-e7857cb0b6f0"
   },
   "outputs": [
    {
     "name": "stdout",
     "output_type": "stream",
     "text": [
      "Epoch 1/150\n",
      "13/13 [==============================] - 0s 10ms/step - loss: 0.5544 - accuracy: 0.4456 - val_loss: 0.5102 - val_accuracy: 0.4898\n",
      "Epoch 2/150\n",
      "13/13 [==============================] - 0s 5ms/step - loss: 0.5544 - accuracy: 0.4456 - val_loss: 0.5102 - val_accuracy: 0.4898\n",
      "Epoch 3/150\n",
      "13/13 [==============================] - 0s 4ms/step - loss: 0.5544 - accuracy: 0.4456 - val_loss: 0.5102 - val_accuracy: 0.4898\n",
      "Epoch 4/150\n",
      "13/13 [==============================] - 0s 4ms/step - loss: 0.5544 - accuracy: 0.4456 - val_loss: 0.5102 - val_accuracy: 0.4898\n",
      "Epoch 5/150\n",
      "13/13 [==============================] - 0s 5ms/step - loss: 0.5544 - accuracy: 0.4456 - val_loss: 0.5102 - val_accuracy: 0.4898\n",
      "Epoch 6/150\n",
      "13/13 [==============================] - 0s 4ms/step - loss: 0.5544 - accuracy: 0.4456 - val_loss: 0.5102 - val_accuracy: 0.4898\n",
      "Epoch 7/150\n",
      "13/13 [==============================] - 0s 5ms/step - loss: 0.5544 - accuracy: 0.4456 - val_loss: 0.5102 - val_accuracy: 0.4898\n",
      "Epoch 8/150\n",
      "13/13 [==============================] - 0s 3ms/step - loss: 0.5544 - accuracy: 0.4456 - val_loss: 0.5102 - val_accuracy: 0.4898\n",
      "Epoch 9/150\n",
      "13/13 [==============================] - 0s 4ms/step - loss: 0.5544 - accuracy: 0.4456 - val_loss: 0.5102 - val_accuracy: 0.4898\n",
      "Epoch 10/150\n",
      "13/13 [==============================] - 0s 5ms/step - loss: 0.5544 - accuracy: 0.4456 - val_loss: 0.5102 - val_accuracy: 0.4898\n",
      "Epoch 11/150\n",
      "13/13 [==============================] - 0s 4ms/step - loss: 0.5544 - accuracy: 0.4456 - val_loss: 0.5102 - val_accuracy: 0.4898\n",
      "Epoch 12/150\n",
      "13/13 [==============================] - 0s 6ms/step - loss: 0.5544 - accuracy: 0.4456 - val_loss: 0.5102 - val_accuracy: 0.4898\n",
      "Epoch 13/150\n",
      "13/13 [==============================] - 0s 4ms/step - loss: 0.5544 - accuracy: 0.4456 - val_loss: 0.5102 - val_accuracy: 0.4898\n",
      "Epoch 14/150\n",
      "13/13 [==============================] - 0s 5ms/step - loss: 0.5544 - accuracy: 0.4456 - val_loss: 0.5102 - val_accuracy: 0.4898\n",
      "Epoch 15/150\n",
      "13/13 [==============================] - 0s 4ms/step - loss: 0.5544 - accuracy: 0.4456 - val_loss: 0.5102 - val_accuracy: 0.4898\n",
      "Epoch 16/150\n",
      "13/13 [==============================] - 0s 4ms/step - loss: 0.5544 - accuracy: 0.4456 - val_loss: 0.5102 - val_accuracy: 0.4898\n",
      "Epoch 17/150\n",
      "13/13 [==============================] - 0s 3ms/step - loss: 0.5544 - accuracy: 0.4456 - val_loss: 0.5102 - val_accuracy: 0.4898\n",
      "Epoch 18/150\n",
      "13/13 [==============================] - 0s 5ms/step - loss: 0.5544 - accuracy: 0.4456 - val_loss: 0.5102 - val_accuracy: 0.4898\n",
      "Epoch 19/150\n",
      "13/13 [==============================] - 0s 5ms/step - loss: 0.5544 - accuracy: 0.4456 - val_loss: 0.5102 - val_accuracy: 0.4898\n",
      "Epoch 20/150\n",
      "13/13 [==============================] - 0s 3ms/step - loss: 0.5544 - accuracy: 0.4456 - val_loss: 0.5102 - val_accuracy: 0.4898\n",
      "Epoch 21/150\n",
      "13/13 [==============================] - 0s 5ms/step - loss: 0.5544 - accuracy: 0.4456 - val_loss: 0.5102 - val_accuracy: 0.4898\n",
      "Epoch 22/150\n",
      "13/13 [==============================] - 0s 4ms/step - loss: 0.5544 - accuracy: 0.4456 - val_loss: 0.5102 - val_accuracy: 0.4898\n",
      "Epoch 23/150\n",
      "13/13 [==============================] - 0s 3ms/step - loss: 0.5544 - accuracy: 0.4456 - val_loss: 0.5102 - val_accuracy: 0.4898\n",
      "Epoch 24/150\n",
      "13/13 [==============================] - 0s 5ms/step - loss: 0.5544 - accuracy: 0.4456 - val_loss: 0.5102 - val_accuracy: 0.4898\n",
      "Epoch 25/150\n",
      "13/13 [==============================] - 0s 4ms/step - loss: 0.5544 - accuracy: 0.4456 - val_loss: 0.5102 - val_accuracy: 0.4898\n",
      "Epoch 26/150\n",
      "13/13 [==============================] - 0s 4ms/step - loss: 0.5544 - accuracy: 0.4456 - val_loss: 0.5102 - val_accuracy: 0.4898\n",
      "Epoch 27/150\n",
      "13/13 [==============================] - 0s 5ms/step - loss: 0.5544 - accuracy: 0.4456 - val_loss: 0.5102 - val_accuracy: 0.4898\n",
      "Epoch 28/150\n",
      "13/13 [==============================] - 0s 4ms/step - loss: 0.5544 - accuracy: 0.4456 - val_loss: 0.5102 - val_accuracy: 0.4898\n",
      "Epoch 29/150\n",
      "13/13 [==============================] - 0s 4ms/step - loss: 0.5544 - accuracy: 0.4456 - val_loss: 0.5102 - val_accuracy: 0.4898\n",
      "Epoch 30/150\n",
      "13/13 [==============================] - 0s 5ms/step - loss: 0.5544 - accuracy: 0.4456 - val_loss: 0.5102 - val_accuracy: 0.4898\n",
      "Epoch 31/150\n",
      "13/13 [==============================] - 0s 4ms/step - loss: 0.5544 - accuracy: 0.4456 - val_loss: 0.5102 - val_accuracy: 0.4898\n",
      "Epoch 32/150\n",
      "13/13 [==============================] - 0s 3ms/step - loss: 0.5544 - accuracy: 0.4456 - val_loss: 0.5102 - val_accuracy: 0.4898\n",
      "Epoch 33/150\n",
      "13/13 [==============================] - 0s 5ms/step - loss: 0.5544 - accuracy: 0.4456 - val_loss: 0.5102 - val_accuracy: 0.4898\n",
      "Epoch 34/150\n",
      "13/13 [==============================] - 0s 5ms/step - loss: 0.5544 - accuracy: 0.4456 - val_loss: 0.5102 - val_accuracy: 0.4898\n",
      "Epoch 35/150\n",
      "13/13 [==============================] - 0s 4ms/step - loss: 0.5544 - accuracy: 0.4456 - val_loss: 0.5102 - val_accuracy: 0.4898\n",
      "Epoch 36/150\n",
      "13/13 [==============================] - 0s 4ms/step - loss: 0.5544 - accuracy: 0.4456 - val_loss: 0.5102 - val_accuracy: 0.4898\n",
      "Epoch 37/150\n",
      "13/13 [==============================] - 0s 5ms/step - loss: 0.5544 - accuracy: 0.4456 - val_loss: 0.5102 - val_accuracy: 0.4898\n",
      "Epoch 38/150\n",
      "13/13 [==============================] - 0s 5ms/step - loss: 0.5544 - accuracy: 0.4456 - val_loss: 0.5102 - val_accuracy: 0.4898\n",
      "Epoch 39/150\n",
      "13/13 [==============================] - 0s 5ms/step - loss: 0.5544 - accuracy: 0.4456 - val_loss: 0.5102 - val_accuracy: 0.4898\n",
      "Epoch 40/150\n",
      "13/13 [==============================] - 0s 3ms/step - loss: 0.5544 - accuracy: 0.4456 - val_loss: 0.5102 - val_accuracy: 0.4898\n",
      "Epoch 41/150\n",
      "13/13 [==============================] - 0s 5ms/step - loss: 0.5544 - accuracy: 0.4456 - val_loss: 0.5102 - val_accuracy: 0.4898\n",
      "Epoch 42/150\n",
      "13/13 [==============================] - 0s 5ms/step - loss: 0.5544 - accuracy: 0.4456 - val_loss: 0.5102 - val_accuracy: 0.4898\n",
      "Epoch 43/150\n",
      "13/13 [==============================] - 0s 5ms/step - loss: 0.5544 - accuracy: 0.4456 - val_loss: 0.5102 - val_accuracy: 0.4898\n",
      "Epoch 44/150\n",
      "13/13 [==============================] - 0s 3ms/step - loss: 0.5544 - accuracy: 0.4456 - val_loss: 0.5102 - val_accuracy: 0.4898\n",
      "Epoch 45/150\n",
      "13/13 [==============================] - 0s 6ms/step - loss: 0.5544 - accuracy: 0.4456 - val_loss: 0.5102 - val_accuracy: 0.4898\n",
      "Epoch 46/150\n",
      "13/13 [==============================] - 0s 4ms/step - loss: 0.5544 - accuracy: 0.4456 - val_loss: 0.5102 - val_accuracy: 0.4898\n",
      "Epoch 47/150\n",
      "13/13 [==============================] - 0s 4ms/step - loss: 0.5544 - accuracy: 0.4456 - val_loss: 0.5102 - val_accuracy: 0.4898\n",
      "Epoch 48/150\n",
      "13/13 [==============================] - 0s 3ms/step - loss: 0.5544 - accuracy: 0.4456 - val_loss: 0.5102 - val_accuracy: 0.4898\n",
      "Epoch 49/150\n",
      "13/13 [==============================] - 0s 3ms/step - loss: 0.5544 - accuracy: 0.4456 - val_loss: 0.5102 - val_accuracy: 0.4898\n",
      "Epoch 50/150\n",
      "13/13 [==============================] - 0s 5ms/step - loss: 0.5544 - accuracy: 0.4456 - val_loss: 0.5102 - val_accuracy: 0.4898\n",
      "Epoch 51/150\n",
      "13/13 [==============================] - 0s 6ms/step - loss: 0.5544 - accuracy: 0.4456 - val_loss: 0.5102 - val_accuracy: 0.4898\n",
      "Epoch 52/150\n",
      "13/13 [==============================] - 0s 4ms/step - loss: 0.5544 - accuracy: 0.4456 - val_loss: 0.5102 - val_accuracy: 0.4898\n",
      "Epoch 53/150\n",
      "13/13 [==============================] - 0s 4ms/step - loss: 0.5544 - accuracy: 0.4456 - val_loss: 0.5102 - val_accuracy: 0.4898\n",
      "Epoch 54/150\n",
      "13/13 [==============================] - 0s 4ms/step - loss: 0.5544 - accuracy: 0.4456 - val_loss: 0.5102 - val_accuracy: 0.4898\n",
      "Epoch 55/150\n",
      "13/13 [==============================] - 0s 4ms/step - loss: 0.5544 - accuracy: 0.4456 - val_loss: 0.5102 - val_accuracy: 0.4898\n",
      "Epoch 56/150\n",
      "13/13 [==============================] - 0s 5ms/step - loss: 0.5544 - accuracy: 0.4456 - val_loss: 0.5102 - val_accuracy: 0.4898\n",
      "Epoch 57/150\n",
      "13/13 [==============================] - 0s 3ms/step - loss: 0.5544 - accuracy: 0.4456 - val_loss: 0.5102 - val_accuracy: 0.4898\n",
      "Epoch 58/150\n",
      "13/13 [==============================] - 0s 5ms/step - loss: 0.5544 - accuracy: 0.4456 - val_loss: 0.5102 - val_accuracy: 0.4898\n",
      "Epoch 59/150\n",
      "13/13 [==============================] - 0s 5ms/step - loss: 0.5544 - accuracy: 0.4456 - val_loss: 0.5102 - val_accuracy: 0.4898\n",
      "Epoch 60/150\n",
      "13/13 [==============================] - 0s 4ms/step - loss: 0.5544 - accuracy: 0.4456 - val_loss: 0.5102 - val_accuracy: 0.4898\n",
      "Epoch 61/150\n",
      "13/13 [==============================] - 0s 4ms/step - loss: 0.5544 - accuracy: 0.4456 - val_loss: 0.5102 - val_accuracy: 0.4898\n",
      "Epoch 62/150\n",
      "13/13 [==============================] - 0s 5ms/step - loss: 0.5544 - accuracy: 0.4456 - val_loss: 0.5102 - val_accuracy: 0.4898\n",
      "Epoch 63/150\n",
      "13/13 [==============================] - 0s 6ms/step - loss: 0.5544 - accuracy: 0.4456 - val_loss: 0.5102 - val_accuracy: 0.4898\n",
      "Epoch 64/150\n",
      "13/13 [==============================] - 0s 5ms/step - loss: 0.5544 - accuracy: 0.4456 - val_loss: 0.5102 - val_accuracy: 0.4898\n",
      "Epoch 65/150\n",
      "13/13 [==============================] - 0s 4ms/step - loss: 0.5544 - accuracy: 0.4456 - val_loss: 0.5102 - val_accuracy: 0.4898\n",
      "Epoch 66/150\n",
      "13/13 [==============================] - 0s 5ms/step - loss: 0.5544 - accuracy: 0.4456 - val_loss: 0.5102 - val_accuracy: 0.4898\n",
      "Epoch 67/150\n",
      "13/13 [==============================] - 0s 4ms/step - loss: 0.5544 - accuracy: 0.4456 - val_loss: 0.5102 - val_accuracy: 0.4898\n",
      "Epoch 68/150\n",
      "13/13 [==============================] - 0s 4ms/step - loss: 0.5544 - accuracy: 0.4456 - val_loss: 0.5102 - val_accuracy: 0.4898\n",
      "Epoch 69/150\n",
      "13/13 [==============================] - 0s 4ms/step - loss: 0.5544 - accuracy: 0.4456 - val_loss: 0.5102 - val_accuracy: 0.4898\n",
      "Epoch 70/150\n",
      "13/13 [==============================] - 0s 6ms/step - loss: 0.5544 - accuracy: 0.4456 - val_loss: 0.5102 - val_accuracy: 0.4898\n",
      "Epoch 71/150\n",
      "13/13 [==============================] - 0s 5ms/step - loss: 0.5544 - accuracy: 0.4456 - val_loss: 0.5102 - val_accuracy: 0.4898\n",
      "Epoch 72/150\n",
      "13/13 [==============================] - 0s 3ms/step - loss: 0.5544 - accuracy: 0.4456 - val_loss: 0.5102 - val_accuracy: 0.4898\n",
      "Epoch 73/150\n",
      "13/13 [==============================] - 0s 3ms/step - loss: 0.5544 - accuracy: 0.4456 - val_loss: 0.5102 - val_accuracy: 0.4898\n",
      "Epoch 74/150\n",
      "13/13 [==============================] - 0s 4ms/step - loss: 0.5544 - accuracy: 0.4456 - val_loss: 0.5102 - val_accuracy: 0.4898\n",
      "Epoch 75/150\n",
      "13/13 [==============================] - 0s 4ms/step - loss: 0.5544 - accuracy: 0.4456 - val_loss: 0.5102 - val_accuracy: 0.4898\n",
      "Epoch 76/150\n",
      "13/13 [==============================] - 0s 4ms/step - loss: 0.5544 - accuracy: 0.4456 - val_loss: 0.5102 - val_accuracy: 0.4898\n",
      "Epoch 77/150\n",
      "13/13 [==============================] - 0s 5ms/step - loss: 0.5544 - accuracy: 0.4456 - val_loss: 0.5102 - val_accuracy: 0.4898\n",
      "Epoch 78/150\n",
      "13/13 [==============================] - 0s 4ms/step - loss: 0.5544 - accuracy: 0.4456 - val_loss: 0.5102 - val_accuracy: 0.4898\n",
      "Epoch 79/150\n",
      "13/13 [==============================] - 0s 5ms/step - loss: 0.5544 - accuracy: 0.4456 - val_loss: 0.5102 - val_accuracy: 0.4898\n",
      "Epoch 80/150\n",
      "13/13 [==============================] - 0s 5ms/step - loss: 0.5544 - accuracy: 0.4456 - val_loss: 0.5102 - val_accuracy: 0.4898\n",
      "Epoch 81/150\n",
      "13/13 [==============================] - 0s 4ms/step - loss: 0.5544 - accuracy: 0.4456 - val_loss: 0.5102 - val_accuracy: 0.4898\n",
      "Epoch 82/150\n",
      "13/13 [==============================] - 0s 4ms/step - loss: 0.5544 - accuracy: 0.4456 - val_loss: 0.5102 - val_accuracy: 0.4898\n",
      "Epoch 83/150\n",
      "13/13 [==============================] - 0s 5ms/step - loss: 0.5544 - accuracy: 0.4456 - val_loss: 0.5102 - val_accuracy: 0.4898\n",
      "Epoch 84/150\n",
      "13/13 [==============================] - 0s 4ms/step - loss: 0.5544 - accuracy: 0.4456 - val_loss: 0.5102 - val_accuracy: 0.4898\n",
      "Epoch 85/150\n",
      "13/13 [==============================] - 0s 4ms/step - loss: 0.5544 - accuracy: 0.4456 - val_loss: 0.5102 - val_accuracy: 0.4898\n",
      "Epoch 86/150\n",
      "13/13 [==============================] - 0s 3ms/step - loss: 0.5544 - accuracy: 0.4456 - val_loss: 0.5102 - val_accuracy: 0.4898\n",
      "Epoch 87/150\n",
      "13/13 [==============================] - 0s 5ms/step - loss: 0.5544 - accuracy: 0.4456 - val_loss: 0.5102 - val_accuracy: 0.4898\n",
      "Epoch 88/150\n",
      "13/13 [==============================] - 0s 5ms/step - loss: 0.5544 - accuracy: 0.4456 - val_loss: 0.5102 - val_accuracy: 0.4898\n",
      "Epoch 89/150\n",
      "13/13 [==============================] - 0s 3ms/step - loss: 0.5544 - accuracy: 0.4456 - val_loss: 0.5102 - val_accuracy: 0.4898\n",
      "Epoch 90/150\n",
      "13/13 [==============================] - 0s 5ms/step - loss: 0.5544 - accuracy: 0.4456 - val_loss: 0.5102 - val_accuracy: 0.4898\n",
      "Epoch 91/150\n",
      "13/13 [==============================] - 0s 6ms/step - loss: 0.5544 - accuracy: 0.4456 - val_loss: 0.5102 - val_accuracy: 0.4898\n",
      "Epoch 92/150\n",
      "13/13 [==============================] - 0s 4ms/step - loss: 0.5544 - accuracy: 0.4456 - val_loss: 0.5102 - val_accuracy: 0.4898\n",
      "Epoch 93/150\n",
      "13/13 [==============================] - 0s 5ms/step - loss: 0.5544 - accuracy: 0.4456 - val_loss: 0.5102 - val_accuracy: 0.4898\n",
      "Epoch 94/150\n",
      "13/13 [==============================] - 0s 6ms/step - loss: 0.5544 - accuracy: 0.4456 - val_loss: 0.5102 - val_accuracy: 0.4898\n",
      "Epoch 95/150\n",
      "13/13 [==============================] - 0s 4ms/step - loss: 0.5544 - accuracy: 0.4456 - val_loss: 0.5102 - val_accuracy: 0.4898\n",
      "Epoch 96/150\n",
      "13/13 [==============================] - 0s 5ms/step - loss: 0.5544 - accuracy: 0.4456 - val_loss: 0.5102 - val_accuracy: 0.4898\n",
      "Epoch 97/150\n",
      "13/13 [==============================] - 0s 4ms/step - loss: 0.5544 - accuracy: 0.4456 - val_loss: 0.5102 - val_accuracy: 0.4898\n",
      "Epoch 98/150\n",
      "13/13 [==============================] - 0s 4ms/step - loss: 0.5544 - accuracy: 0.4456 - val_loss: 0.5102 - val_accuracy: 0.4898\n",
      "Epoch 99/150\n",
      "13/13 [==============================] - 0s 6ms/step - loss: 0.5544 - accuracy: 0.4456 - val_loss: 0.5102 - val_accuracy: 0.4898\n",
      "Epoch 100/150\n",
      "13/13 [==============================] - 0s 4ms/step - loss: 0.5544 - accuracy: 0.4456 - val_loss: 0.5102 - val_accuracy: 0.4898\n",
      "Epoch 101/150\n",
      "13/13 [==============================] - 0s 4ms/step - loss: 0.5544 - accuracy: 0.4456 - val_loss: 0.5102 - val_accuracy: 0.4898\n",
      "Epoch 102/150\n",
      "13/13 [==============================] - 0s 3ms/step - loss: 0.5544 - accuracy: 0.4456 - val_loss: 0.5102 - val_accuracy: 0.4898\n",
      "Epoch 103/150\n",
      "13/13 [==============================] - 0s 3ms/step - loss: 0.5544 - accuracy: 0.4456 - val_loss: 0.5102 - val_accuracy: 0.4898\n",
      "Epoch 104/150\n",
      "13/13 [==============================] - 0s 4ms/step - loss: 0.5544 - accuracy: 0.4456 - val_loss: 0.5102 - val_accuracy: 0.4898\n",
      "Epoch 105/150\n",
      "13/13 [==============================] - 0s 5ms/step - loss: 0.5544 - accuracy: 0.4456 - val_loss: 0.5102 - val_accuracy: 0.4898\n",
      "Epoch 106/150\n",
      "13/13 [==============================] - 0s 5ms/step - loss: 0.5544 - accuracy: 0.4456 - val_loss: 0.5102 - val_accuracy: 0.4898\n",
      "Epoch 107/150\n",
      "13/13 [==============================] - 0s 4ms/step - loss: 0.5544 - accuracy: 0.4456 - val_loss: 0.5102 - val_accuracy: 0.4898\n",
      "Epoch 108/150\n",
      "13/13 [==============================] - 0s 5ms/step - loss: 0.5544 - accuracy: 0.4456 - val_loss: 0.5102 - val_accuracy: 0.4898\n",
      "Epoch 109/150\n",
      "13/13 [==============================] - 0s 4ms/step - loss: 0.5544 - accuracy: 0.4456 - val_loss: 0.5102 - val_accuracy: 0.4898\n",
      "Epoch 110/150\n",
      "13/13 [==============================] - 0s 4ms/step - loss: 0.5544 - accuracy: 0.4456 - val_loss: 0.5102 - val_accuracy: 0.4898\n",
      "Epoch 111/150\n",
      "13/13 [==============================] - 0s 4ms/step - loss: 0.5544 - accuracy: 0.4456 - val_loss: 0.5102 - val_accuracy: 0.4898\n",
      "Epoch 112/150\n",
      "13/13 [==============================] - 0s 6ms/step - loss: 0.5544 - accuracy: 0.4456 - val_loss: 0.5102 - val_accuracy: 0.4898\n",
      "Epoch 113/150\n",
      "13/13 [==============================] - 0s 5ms/step - loss: 0.5544 - accuracy: 0.4456 - val_loss: 0.5102 - val_accuracy: 0.4898\n",
      "Epoch 114/150\n",
      "13/13 [==============================] - 0s 4ms/step - loss: 0.5544 - accuracy: 0.4456 - val_loss: 0.5102 - val_accuracy: 0.4898\n",
      "Epoch 115/150\n",
      "13/13 [==============================] - 0s 4ms/step - loss: 0.5544 - accuracy: 0.4456 - val_loss: 0.5102 - val_accuracy: 0.4898\n",
      "Epoch 116/150\n",
      "13/13 [==============================] - 0s 5ms/step - loss: 0.5544 - accuracy: 0.4456 - val_loss: 0.5102 - val_accuracy: 0.4898\n",
      "Epoch 117/150\n",
      "13/13 [==============================] - 0s 4ms/step - loss: 0.5544 - accuracy: 0.4456 - val_loss: 0.5102 - val_accuracy: 0.4898\n",
      "Epoch 118/150\n",
      "13/13 [==============================] - 0s 5ms/step - loss: 0.5544 - accuracy: 0.4456 - val_loss: 0.5102 - val_accuracy: 0.4898\n",
      "Epoch 119/150\n",
      "13/13 [==============================] - 0s 5ms/step - loss: 0.5544 - accuracy: 0.4456 - val_loss: 0.5102 - val_accuracy: 0.4898\n",
      "Epoch 120/150\n",
      "13/13 [==============================] - 0s 6ms/step - loss: 0.5544 - accuracy: 0.4456 - val_loss: 0.5102 - val_accuracy: 0.4898\n",
      "Epoch 121/150\n",
      "13/13 [==============================] - 0s 3ms/step - loss: 0.5544 - accuracy: 0.4456 - val_loss: 0.5102 - val_accuracy: 0.4898\n",
      "Epoch 122/150\n",
      "13/13 [==============================] - 0s 4ms/step - loss: 0.5544 - accuracy: 0.4456 - val_loss: 0.5102 - val_accuracy: 0.4898\n",
      "Epoch 123/150\n",
      "13/13 [==============================] - 0s 4ms/step - loss: 0.5544 - accuracy: 0.4456 - val_loss: 0.5102 - val_accuracy: 0.4898\n",
      "Epoch 124/150\n",
      "13/13 [==============================] - 0s 4ms/step - loss: 0.5544 - accuracy: 0.4456 - val_loss: 0.5102 - val_accuracy: 0.4898\n",
      "Epoch 125/150\n",
      "13/13 [==============================] - 0s 5ms/step - loss: 0.5544 - accuracy: 0.4456 - val_loss: 0.5102 - val_accuracy: 0.4898\n",
      "Epoch 126/150\n",
      "13/13 [==============================] - 0s 4ms/step - loss: 0.5544 - accuracy: 0.4456 - val_loss: 0.5102 - val_accuracy: 0.4898\n",
      "Epoch 127/150\n",
      "13/13 [==============================] - 0s 5ms/step - loss: 0.5544 - accuracy: 0.4456 - val_loss: 0.5102 - val_accuracy: 0.4898\n",
      "Epoch 128/150\n",
      "13/13 [==============================] - 0s 4ms/step - loss: 0.5544 - accuracy: 0.4456 - val_loss: 0.5102 - val_accuracy: 0.4898\n",
      "Epoch 129/150\n",
      "13/13 [==============================] - 0s 5ms/step - loss: 0.5544 - accuracy: 0.4456 - val_loss: 0.5102 - val_accuracy: 0.4898\n",
      "Epoch 130/150\n",
      "13/13 [==============================] - 0s 5ms/step - loss: 0.5544 - accuracy: 0.4456 - val_loss: 0.5102 - val_accuracy: 0.4898\n",
      "Epoch 131/150\n",
      "13/13 [==============================] - 0s 5ms/step - loss: 0.5544 - accuracy: 0.4456 - val_loss: 0.5102 - val_accuracy: 0.4898\n",
      "Epoch 132/150\n",
      "13/13 [==============================] - 0s 5ms/step - loss: 0.5544 - accuracy: 0.4456 - val_loss: 0.5102 - val_accuracy: 0.4898\n",
      "Epoch 133/150\n",
      "13/13 [==============================] - 0s 4ms/step - loss: 0.5544 - accuracy: 0.4456 - val_loss: 0.5102 - val_accuracy: 0.4898\n",
      "Epoch 134/150\n",
      "13/13 [==============================] - 0s 5ms/step - loss: 0.5544 - accuracy: 0.4456 - val_loss: 0.5102 - val_accuracy: 0.4898\n",
      "Epoch 135/150\n",
      "13/13 [==============================] - 0s 4ms/step - loss: 0.5544 - accuracy: 0.4456 - val_loss: 0.5102 - val_accuracy: 0.4898\n",
      "Epoch 136/150\n",
      "13/13 [==============================] - 0s 3ms/step - loss: 0.5544 - accuracy: 0.4456 - val_loss: 0.5102 - val_accuracy: 0.4898\n",
      "Epoch 137/150\n",
      "13/13 [==============================] - 0s 4ms/step - loss: 0.5544 - accuracy: 0.4456 - val_loss: 0.5102 - val_accuracy: 0.4898\n",
      "Epoch 138/150\n",
      "13/13 [==============================] - 0s 5ms/step - loss: 0.5544 - accuracy: 0.4456 - val_loss: 0.5102 - val_accuracy: 0.4898\n",
      "Epoch 139/150\n",
      "13/13 [==============================] - 0s 5ms/step - loss: 0.5544 - accuracy: 0.4456 - val_loss: 0.5102 - val_accuracy: 0.4898\n",
      "Epoch 140/150\n",
      "13/13 [==============================] - 0s 5ms/step - loss: 0.5544 - accuracy: 0.4456 - val_loss: 0.5102 - val_accuracy: 0.4898\n",
      "Epoch 141/150\n",
      "13/13 [==============================] - 0s 4ms/step - loss: 0.5544 - accuracy: 0.4456 - val_loss: 0.5102 - val_accuracy: 0.4898\n",
      "Epoch 142/150\n",
      "13/13 [==============================] - 0s 5ms/step - loss: 0.5544 - accuracy: 0.4456 - val_loss: 0.5102 - val_accuracy: 0.4898\n",
      "Epoch 143/150\n",
      "13/13 [==============================] - 0s 6ms/step - loss: 0.5544 - accuracy: 0.4456 - val_loss: 0.5102 - val_accuracy: 0.4898\n",
      "Epoch 144/150\n",
      "13/13 [==============================] - 0s 4ms/step - loss: 0.5544 - accuracy: 0.4456 - val_loss: 0.5102 - val_accuracy: 0.4898\n",
      "Epoch 145/150\n",
      "13/13 [==============================] - 0s 5ms/step - loss: 0.5544 - accuracy: 0.4456 - val_loss: 0.5102 - val_accuracy: 0.4898\n",
      "Epoch 146/150\n",
      "13/13 [==============================] - 0s 5ms/step - loss: 0.5544 - accuracy: 0.4456 - val_loss: 0.5102 - val_accuracy: 0.4898\n",
      "Epoch 147/150\n",
      "13/13 [==============================] - 0s 4ms/step - loss: 0.5544 - accuracy: 0.4456 - val_loss: 0.5102 - val_accuracy: 0.4898\n",
      "Epoch 148/150\n",
      "13/13 [==============================] - 0s 3ms/step - loss: 0.5544 - accuracy: 0.4456 - val_loss: 0.5102 - val_accuracy: 0.4898\n",
      "Epoch 149/150\n",
      "13/13 [==============================] - 0s 5ms/step - loss: 0.5544 - accuracy: 0.4456 - val_loss: 0.5102 - val_accuracy: 0.4898\n",
      "Epoch 150/150\n",
      "13/13 [==============================] - 0s 4ms/step - loss: 0.5544 - accuracy: 0.4456 - val_loss: 0.5102 - val_accuracy: 0.4898\n"
     ]
    }
   ],
   "source": [
    "history7 = model7.fit(X_train, y_train, validation_split=0.2, epochs=150, batch_size=15, verbose=1)  ### Here increase number of epochs as 150 and batch size as 15"
   ]
  },
  {
   "cell_type": "code",
   "execution_count": 64,
   "metadata": {
    "colab": {
     "base_uri": "https://localhost:8080/"
    },
    "id": "5d21HWAXL_Ff",
    "outputId": "4ae9de04-8527-4003-e88f-0da60d29199a"
   },
   "outputs": [
    {
     "name": "stdout",
     "output_type": "stream",
     "text": [
      "Model: \"sequential_4\"\n",
      "_________________________________________________________________\n",
      "Layer (type)                 Output Shape              Param #   \n",
      "=================================================================\n",
      "dense_14 (Dense)             (None, 8)                 112       \n",
      "_________________________________________________________________\n",
      "dense_15 (Dense)             (None, 1)                 9         \n",
      "=================================================================\n",
      "Total params: 121\n",
      "Trainable params: 121\n",
      "Non-trainable params: 0\n",
      "_________________________________________________________________\n"
     ]
    }
   ],
   "source": [
    "model7.summary()"
   ]
  },
  {
   "cell_type": "code",
   "execution_count": 65,
   "metadata": {
    "id": "rlcaEUUAL_Ff"
   },
   "outputs": [],
   "source": [
    "his4=history7.history"
   ]
  },
  {
   "cell_type": "code",
   "execution_count": 66,
   "metadata": {
    "colab": {
     "base_uri": "https://localhost:8080/",
     "height": 295
    },
    "id": "yb8mWaaCL_Fg",
    "outputId": "7f5674db-c7ae-4abe-9838-b8c625f89e31"
   },
   "outputs": [
    {
     "data": {
      "image/png": "[encoded data removed]",
      "text/plain": [
       "<Figure size 432x288 with 1 Axes>"
      ]
     },
     "metadata": {
      "needs_background": "light"
     },
     "output_type": "display_data"
    }
   ],
   "source": [
    "plt.plot(history7.history['accuracy'])\n",
    "plt.plot(history7.history['val_accuracy'])\n",
    "plt.title('Model Accuracy')\n",
    "plt.ylabel('accuracy')\n",
    "plt.xlabel('epoch')\n",
    "plt.legend(['Train', 'Validation'])\n",
    "plt.show()"
   ]
  },
  {
   "cell_type": "code",
   "execution_count": 67,
   "metadata": {
    "colab": {
     "base_uri": "https://localhost:8080/",
     "height": 295
    },
    "id": "7jR8n7CLL_Fg",
    "outputId": "08e94aaf-b8bf-4c2a-aa9a-d4011eb407b8"
   },
   "outputs": [
    {
     "data": {
      "image/png": "[encoded data removed]",
      "text/plain": [
       "<Figure size 432x288 with 1 Axes>"
      ]
     },
     "metadata": {
      "needs_background": "light"
     },
     "output_type": "display_data"
    }
   ],
   "source": [
    "plt.plot(history7.history['loss'])\n",
    "plt.plot(history7.history['val_loss'])\n",
    "plt.title('Model Loss')\n",
    "plt.ylabel('loss')\n",
    "plt.xlabel('epoch')\n",
    "plt.legend(['Train', 'Validation'])\n",
    "plt.show()"
   ]
  },
  {
   "cell_type": "code",
   "execution_count": 68,
   "metadata": {
    "id": "7cUjJESbL_Fg"
   },
   "outputs": [],
   "source": [
    "model8 = Sequential()\n",
    "model8.add(Dense(16, input_dim=13, activation='relu')) # the keras model with 16 nodes\n",
    "model8.add(Dense(8, activation='relu'))\n",
    "model8.add(Dense(1,activation='sigmoid'))"
   ]
  },
  {
   "cell_type": "code",
   "execution_count": 69,
   "metadata": {
    "colab": {
     "base_uri": "https://localhost:8080/"
    },
    "id": "592khwBWL_Fh",
    "outputId": "fd26fff5-0680-4388-dc30-6fd6ce9cc0b9"
   },
   "outputs": [
    {
     "name": "stdout",
     "output_type": "stream",
     "text": [
      "Epoch 1/15\n",
      "13/13 [==============================] - 1s 2ms/step - loss: 0.3394 - accuracy: 0.5992\n",
      "Epoch 2/15\n",
      "13/13 [==============================] - 0s 2ms/step - loss: 0.2827 - accuracy: 0.6446\n",
      "Epoch 3/15\n",
      "13/13 [==============================] - 0s 2ms/step - loss: 0.3435 - accuracy: 0.5992\n",
      "Epoch 4/15\n",
      "13/13 [==============================] - 0s 2ms/step - loss: 0.2745 - accuracy: 0.6612\n",
      "Epoch 5/15\n",
      "13/13 [==============================] - 0s 2ms/step - loss: 0.2680 - accuracy: 0.6446\n",
      "Epoch 6/15\n",
      "13/13 [==============================] - 0s 2ms/step - loss: 0.2797 - accuracy: 0.6074\n",
      "Epoch 7/15\n",
      "13/13 [==============================] - 0s 2ms/step - loss: 0.2548 - accuracy: 0.6446\n",
      "Epoch 8/15\n",
      "13/13 [==============================] - 0s 2ms/step - loss: 0.2434 - accuracy: 0.6736\n",
      "Epoch 9/15\n",
      "13/13 [==============================] - 0s 3ms/step - loss: 0.2893 - accuracy: 0.6405\n",
      "Epoch 10/15\n",
      "13/13 [==============================] - 0s 2ms/step - loss: 0.2543 - accuracy: 0.6240\n",
      "Epoch 11/15\n",
      "13/13 [==============================] - 0s 3ms/step - loss: 0.2333 - accuracy: 0.6983\n",
      "Epoch 12/15\n",
      "13/13 [==============================] - 0s 2ms/step - loss: 0.2470 - accuracy: 0.6488\n",
      "Epoch 13/15\n",
      "13/13 [==============================] - 0s 2ms/step - loss: 0.2219 - accuracy: 0.6942\n",
      "Epoch 14/15\n",
      "13/13 [==============================] - 0s 2ms/step - loss: 0.2526 - accuracy: 0.6777\n",
      "Epoch 15/15\n",
      "13/13 [==============================] - 0s 2ms/step - loss: 0.2747 - accuracy: 0.6446\n"
     ]
    },
    {
     "data": {
      "text/plain": [
       "<keras.callbacks.History at 0x7f760af7d090>"
      ]
     },
     "execution_count": 69,
     "metadata": {},
     "output_type": "execute_result"
    }
   ],
   "source": [
    "model8.compile(loss='mean_squared_error', optimizer=optimizer, metrics=['accuracy'])\n",
    "model8.fit(X_train, y_train, epochs=15, batch_size=20, verbose = 1)   "
   ]
  },
  {
   "cell_type": "code",
   "execution_count": 70,
   "metadata": {
    "colab": {
     "base_uri": "https://localhost:8080/"
    },
    "id": "Qo1IVm_-L_Fh",
    "outputId": "a17ccf71-cd15-4853-9707-6aa6b9aca464"
   },
   "outputs": [
    {
     "name": "stdout",
     "output_type": "stream",
     "text": [
      "2/2 [==============================] - 0s 5ms/step - loss: 0.3217 - accuracy: 0.5410\n"
     ]
    },
    {
     "data": {
      "text/plain": [
       "[0.3216562867164612, 0.5409836173057556]"
      ]
     },
     "execution_count": 70,
     "metadata": {},
     "output_type": "execute_result"
    }
   ],
   "source": [
    "model8.evaluate(X_test,y_test)"
   ]
  },
  {
   "cell_type": "code",
   "execution_count": 71,
   "metadata": {
    "colab": {
     "base_uri": "https://localhost:8080/"
    },
    "id": "Es7tPJR8L_Fh",
    "outputId": "7696e730-3270-4768-a744-0a328091d994"
   },
   "outputs": [
    {
     "name": "stdout",
     "output_type": "stream",
     "text": [
      "Epoch 1/200\n",
      "10/10 [==============================] - 0s 11ms/step - loss: 0.1958 - accuracy: 0.7202 - val_loss: 0.2791 - val_accuracy: 0.5918\n",
      "Epoch 2/200\n",
      "10/10 [==============================] - 0s 5ms/step - loss: 0.2123 - accuracy: 0.6995 - val_loss: 0.2395 - val_accuracy: 0.6531\n",
      "Epoch 3/200\n",
      "10/10 [==============================] - 0s 5ms/step - loss: 0.1960 - accuracy: 0.7202 - val_loss: 0.3445 - val_accuracy: 0.5918\n",
      "Epoch 4/200\n",
      "10/10 [==============================] - 0s 4ms/step - loss: 0.1928 - accuracy: 0.7098 - val_loss: 0.2625 - val_accuracy: 0.5714\n",
      "Epoch 5/200\n",
      "10/10 [==============================] - 0s 6ms/step - loss: 0.1826 - accuracy: 0.7254 - val_loss: 0.3071 - val_accuracy: 0.6122\n",
      "Epoch 6/200\n",
      "10/10 [==============================] - 0s 4ms/step - loss: 0.1806 - accuracy: 0.7409 - val_loss: 0.2742 - val_accuracy: 0.6122\n",
      "Epoch 7/200\n",
      "10/10 [==============================] - 0s 4ms/step - loss: 0.1694 - accuracy: 0.7668 - val_loss: 0.2854 - val_accuracy: 0.6122\n",
      "Epoch 8/200\n",
      "10/10 [==============================] - 0s 5ms/step - loss: 0.1891 - accuracy: 0.7358 - val_loss: 0.2936 - val_accuracy: 0.5918\n",
      "Epoch 9/200\n",
      "10/10 [==============================] - 0s 7ms/step - loss: 0.1971 - accuracy: 0.7047 - val_loss: 0.2361 - val_accuracy: 0.6939\n",
      "Epoch 10/200\n",
      "10/10 [==============================] - 0s 6ms/step - loss: 0.1692 - accuracy: 0.7565 - val_loss: 0.2400 - val_accuracy: 0.6122\n",
      "Epoch 11/200\n",
      "10/10 [==============================] - 0s 5ms/step - loss: 0.1676 - accuracy: 0.7720 - val_loss: 0.2854 - val_accuracy: 0.6327\n",
      "Epoch 12/200\n",
      "10/10 [==============================] - 0s 5ms/step - loss: 0.1759 - accuracy: 0.7461 - val_loss: 0.2446 - val_accuracy: 0.6735\n",
      "Epoch 13/200\n",
      "10/10 [==============================] - 0s 4ms/step - loss: 0.1864 - accuracy: 0.7358 - val_loss: 0.2863 - val_accuracy: 0.5918\n",
      "Epoch 14/200\n",
      "10/10 [==============================] - 0s 4ms/step - loss: 0.1775 - accuracy: 0.7358 - val_loss: 0.3295 - val_accuracy: 0.5306\n",
      "Epoch 15/200\n",
      "10/10 [==============================] - 0s 4ms/step - loss: 0.1920 - accuracy: 0.7150 - val_loss: 0.2434 - val_accuracy: 0.6735\n",
      "Epoch 16/200\n",
      "10/10 [==============================] - 0s 5ms/step - loss: 0.1774 - accuracy: 0.7254 - val_loss: 0.2423 - val_accuracy: 0.6735\n",
      "Epoch 17/200\n",
      "10/10 [==============================] - 0s 4ms/step - loss: 0.1789 - accuracy: 0.7513 - val_loss: 0.2379 - val_accuracy: 0.6735\n",
      "Epoch 18/200\n",
      "10/10 [==============================] - 0s 4ms/step - loss: 0.1885 - accuracy: 0.7668 - val_loss: 0.2836 - val_accuracy: 0.5918\n",
      "Epoch 19/200\n",
      "10/10 [==============================] - 0s 5ms/step - loss: 0.1869 - accuracy: 0.7254 - val_loss: 0.3803 - val_accuracy: 0.4694\n",
      "Epoch 20/200\n",
      "10/10 [==============================] - 0s 4ms/step - loss: 0.1488 - accuracy: 0.7720 - val_loss: 0.2857 - val_accuracy: 0.6327\n",
      "Epoch 21/200\n",
      "10/10 [==============================] - 0s 4ms/step - loss: 0.1560 - accuracy: 0.7979 - val_loss: 0.2657 - val_accuracy: 0.6327\n",
      "Epoch 22/200\n",
      "10/10 [==============================] - 0s 4ms/step - loss: 0.1593 - accuracy: 0.7876 - val_loss: 0.2396 - val_accuracy: 0.6327\n",
      "Epoch 23/200\n",
      "10/10 [==============================] - 0s 4ms/step - loss: 0.1722 - accuracy: 0.7461 - val_loss: 0.2413 - val_accuracy: 0.6735\n",
      "Epoch 24/200\n",
      "10/10 [==============================] - 0s 4ms/step - loss: 0.1722 - accuracy: 0.7306 - val_loss: 0.2845 - val_accuracy: 0.6327\n",
      "Epoch 25/200\n",
      "10/10 [==============================] - 0s 4ms/step - loss: 0.1746 - accuracy: 0.7772 - val_loss: 0.2373 - val_accuracy: 0.6735\n",
      "Epoch 26/200\n",
      "10/10 [==============================] - 0s 7ms/step - loss: 0.1359 - accuracy: 0.7979 - val_loss: 0.2401 - val_accuracy: 0.6939\n",
      "Epoch 27/200\n",
      "10/10 [==============================] - 0s 7ms/step - loss: 0.1639 - accuracy: 0.7565 - val_loss: 0.2909 - val_accuracy: 0.6327\n",
      "Epoch 28/200\n",
      "10/10 [==============================] - 0s 5ms/step - loss: 0.1590 - accuracy: 0.7772 - val_loss: 0.2390 - val_accuracy: 0.6531\n",
      "Epoch 29/200\n",
      "10/10 [==============================] - 0s 9ms/step - loss: 0.1999 - accuracy: 0.7202 - val_loss: 0.2418 - val_accuracy: 0.6327\n",
      "Epoch 30/200\n",
      "10/10 [==============================] - 0s 6ms/step - loss: 0.1556 - accuracy: 0.7824 - val_loss: 0.2572 - val_accuracy: 0.6122\n",
      "Epoch 31/200\n",
      "10/10 [==============================] - 0s 6ms/step - loss: 0.1537 - accuracy: 0.7927 - val_loss: 0.2386 - val_accuracy: 0.6939\n",
      "Epoch 32/200\n",
      "10/10 [==============================] - 0s 5ms/step - loss: 0.1404 - accuracy: 0.8135 - val_loss: 0.2555 - val_accuracy: 0.6735\n",
      "Epoch 33/200\n",
      "10/10 [==============================] - 0s 5ms/step - loss: 0.1410 - accuracy: 0.8135 - val_loss: 0.2941 - val_accuracy: 0.6327\n",
      "Epoch 34/200\n",
      "10/10 [==============================] - 0s 5ms/step - loss: 0.1905 - accuracy: 0.7047 - val_loss: 0.2279 - val_accuracy: 0.6939\n",
      "Epoch 35/200\n",
      "10/10 [==============================] - 0s 5ms/step - loss: 0.1553 - accuracy: 0.7824 - val_loss: 0.2813 - val_accuracy: 0.6122\n",
      "Epoch 36/200\n",
      "10/10 [==============================] - 0s 4ms/step - loss: 0.1459 - accuracy: 0.8031 - val_loss: 0.2614 - val_accuracy: 0.6327\n",
      "Epoch 37/200\n",
      "10/10 [==============================] - 0s 5ms/step - loss: 0.1312 - accuracy: 0.8083 - val_loss: 0.2968 - val_accuracy: 0.5714\n",
      "Epoch 38/200\n",
      "10/10 [==============================] - 0s 6ms/step - loss: 0.2039 - accuracy: 0.7098 - val_loss: 0.2239 - val_accuracy: 0.6735\n",
      "Epoch 39/200\n",
      "10/10 [==============================] - 0s 4ms/step - loss: 0.1324 - accuracy: 0.8187 - val_loss: 0.2362 - val_accuracy: 0.6531\n",
      "Epoch 40/200\n",
      "10/10 [==============================] - 0s 6ms/step - loss: 0.1518 - accuracy: 0.7824 - val_loss: 0.2254 - val_accuracy: 0.6939\n",
      "Epoch 41/200\n",
      "10/10 [==============================] - 0s 4ms/step - loss: 0.1620 - accuracy: 0.7824 - val_loss: 0.2270 - val_accuracy: 0.7143\n",
      "Epoch 42/200\n",
      "10/10 [==============================] - 0s 5ms/step - loss: 0.1604 - accuracy: 0.7979 - val_loss: 0.2214 - val_accuracy: 0.7347\n",
      "Epoch 43/200\n",
      "10/10 [==============================] - 0s 4ms/step - loss: 0.1585 - accuracy: 0.7617 - val_loss: 0.2485 - val_accuracy: 0.6735\n",
      "Epoch 44/200\n",
      "10/10 [==============================] - 0s 4ms/step - loss: 0.1400 - accuracy: 0.8031 - val_loss: 0.2415 - val_accuracy: 0.6531\n",
      "Epoch 45/200\n",
      "10/10 [==============================] - 0s 5ms/step - loss: 0.1700 - accuracy: 0.7617 - val_loss: 0.2992 - val_accuracy: 0.5918\n",
      "Epoch 46/200\n",
      "10/10 [==============================] - 0s 5ms/step - loss: 0.1643 - accuracy: 0.7772 - val_loss: 0.2854 - val_accuracy: 0.5918\n",
      "Epoch 47/200\n",
      "10/10 [==============================] - 0s 5ms/step - loss: 0.1331 - accuracy: 0.8031 - val_loss: 0.2785 - val_accuracy: 0.6327\n",
      "Epoch 48/200\n",
      "10/10 [==============================] - 0s 4ms/step - loss: 0.1584 - accuracy: 0.7824 - val_loss: 0.2209 - val_accuracy: 0.7143\n",
      "Epoch 49/200\n",
      "10/10 [==============================] - 0s 6ms/step - loss: 0.1382 - accuracy: 0.8290 - val_loss: 0.2302 - val_accuracy: 0.7347\n",
      "Epoch 50/200\n",
      "10/10 [==============================] - 0s 4ms/step - loss: 0.1297 - accuracy: 0.8083 - val_loss: 0.2444 - val_accuracy: 0.6939\n",
      "Epoch 51/200\n",
      "10/10 [==============================] - 0s 5ms/step - loss: 0.1740 - accuracy: 0.7358 - val_loss: 0.2203 - val_accuracy: 0.7347\n",
      "Epoch 52/200\n",
      "10/10 [==============================] - 0s 6ms/step - loss: 0.1423 - accuracy: 0.7876 - val_loss: 0.2586 - val_accuracy: 0.6327\n",
      "Epoch 53/200\n",
      "10/10 [==============================] - 0s 4ms/step - loss: 0.1687 - accuracy: 0.7565 - val_loss: 0.2631 - val_accuracy: 0.6531\n",
      "Epoch 54/200\n",
      "10/10 [==============================] - 0s 4ms/step - loss: 0.1696 - accuracy: 0.7565 - val_loss: 0.2195 - val_accuracy: 0.7143\n",
      "Epoch 55/200\n",
      "10/10 [==============================] - 0s 4ms/step - loss: 0.1246 - accuracy: 0.8083 - val_loss: 0.2507 - val_accuracy: 0.6735\n",
      "Epoch 56/200\n",
      "10/10 [==============================] - 0s 4ms/step - loss: 0.1573 - accuracy: 0.7876 - val_loss: 0.3012 - val_accuracy: 0.5918\n",
      "Epoch 57/200\n",
      "10/10 [==============================] - 0s 7ms/step - loss: 0.1368 - accuracy: 0.8083 - val_loss: 0.2656 - val_accuracy: 0.6531\n",
      "Epoch 58/200\n",
      "10/10 [==============================] - 0s 5ms/step - loss: 0.1353 - accuracy: 0.8083 - val_loss: 0.2211 - val_accuracy: 0.6939\n",
      "Epoch 59/200\n",
      "10/10 [==============================] - 0s 7ms/step - loss: 0.1320 - accuracy: 0.8135 - val_loss: 0.3160 - val_accuracy: 0.5714\n",
      "Epoch 60/200\n",
      "10/10 [==============================] - 0s 7ms/step - loss: 0.1465 - accuracy: 0.7876 - val_loss: 0.2251 - val_accuracy: 0.6531\n",
      "Epoch 61/200\n",
      "10/10 [==============================] - 0s 4ms/step - loss: 0.1399 - accuracy: 0.8083 - val_loss: 0.2230 - val_accuracy: 0.6531\n",
      "Epoch 62/200\n",
      "10/10 [==============================] - 0s 4ms/step - loss: 0.1216 - accuracy: 0.8238 - val_loss: 0.2440 - val_accuracy: 0.6939\n",
      "Epoch 63/200\n",
      "10/10 [==============================] - 0s 4ms/step - loss: 0.1506 - accuracy: 0.7824 - val_loss: 0.3029 - val_accuracy: 0.5918\n",
      "Epoch 64/200\n",
      "10/10 [==============================] - 0s 7ms/step - loss: 0.1715 - accuracy: 0.7617 - val_loss: 0.2166 - val_accuracy: 0.6939\n",
      "Epoch 65/200\n",
      "10/10 [==============================] - 0s 5ms/step - loss: 0.1473 - accuracy: 0.7876 - val_loss: 0.2653 - val_accuracy: 0.6327\n",
      "Epoch 66/200\n",
      "10/10 [==============================] - 0s 7ms/step - loss: 0.1378 - accuracy: 0.8031 - val_loss: 0.2615 - val_accuracy: 0.6327\n",
      "Epoch 67/200\n",
      "10/10 [==============================] - 0s 5ms/step - loss: 0.1591 - accuracy: 0.7565 - val_loss: 0.2221 - val_accuracy: 0.7143\n",
      "Epoch 68/200\n",
      "10/10 [==============================] - 0s 4ms/step - loss: 0.1629 - accuracy: 0.7617 - val_loss: 0.2222 - val_accuracy: 0.6735\n",
      "Epoch 69/200\n",
      "10/10 [==============================] - 0s 4ms/step - loss: 0.1427 - accuracy: 0.8187 - val_loss: 0.2546 - val_accuracy: 0.6939\n",
      "Epoch 70/200\n",
      "10/10 [==============================] - 0s 4ms/step - loss: 0.1528 - accuracy: 0.7927 - val_loss: 0.2389 - val_accuracy: 0.6327\n",
      "Epoch 71/200\n",
      "10/10 [==============================] - 0s 7ms/step - loss: 0.1452 - accuracy: 0.7824 - val_loss: 0.2334 - val_accuracy: 0.6122\n",
      "Epoch 72/200\n",
      "10/10 [==============================] - 0s 5ms/step - loss: 0.1232 - accuracy: 0.8342 - val_loss: 0.2290 - val_accuracy: 0.6531\n",
      "Epoch 73/200\n",
      "10/10 [==============================] - 0s 5ms/step - loss: 0.1329 - accuracy: 0.8394 - val_loss: 0.2225 - val_accuracy: 0.6939\n",
      "Epoch 74/200\n",
      "10/10 [==============================] - 0s 5ms/step - loss: 0.1508 - accuracy: 0.7979 - val_loss: 0.2437 - val_accuracy: 0.6735\n",
      "Epoch 75/200\n",
      "10/10 [==============================] - 0s 6ms/step - loss: 0.1435 - accuracy: 0.8135 - val_loss: 0.2578 - val_accuracy: 0.6735\n",
      "Epoch 76/200\n",
      "10/10 [==============================] - 0s 5ms/step - loss: 0.1362 - accuracy: 0.8083 - val_loss: 0.2313 - val_accuracy: 0.6122\n",
      "Epoch 77/200\n",
      "10/10 [==============================] - 0s 6ms/step - loss: 0.1489 - accuracy: 0.7772 - val_loss: 0.2227 - val_accuracy: 0.7143\n",
      "Epoch 78/200\n",
      "10/10 [==============================] - 0s 5ms/step - loss: 0.1238 - accuracy: 0.8135 - val_loss: 0.2505 - val_accuracy: 0.6735\n",
      "Epoch 79/200\n",
      "10/10 [==============================] - 0s 5ms/step - loss: 0.1667 - accuracy: 0.7617 - val_loss: 0.2464 - val_accuracy: 0.6939\n",
      "Epoch 80/200\n",
      "10/10 [==============================] - 0s 6ms/step - loss: 0.1413 - accuracy: 0.7979 - val_loss: 0.2221 - val_accuracy: 0.7143\n",
      "Epoch 81/200\n",
      "10/10 [==============================] - 0s 7ms/step - loss: 0.1698 - accuracy: 0.7617 - val_loss: 0.2425 - val_accuracy: 0.6939\n",
      "Epoch 82/200\n",
      "10/10 [==============================] - 0s 5ms/step - loss: 0.1296 - accuracy: 0.8187 - val_loss: 0.2271 - val_accuracy: 0.7143\n",
      "Epoch 83/200\n",
      "10/10 [==============================] - 0s 5ms/step - loss: 0.1478 - accuracy: 0.8083 - val_loss: 0.2964 - val_accuracy: 0.5918\n",
      "Epoch 84/200\n",
      "10/10 [==============================] - 0s 5ms/step - loss: 0.1328 - accuracy: 0.8031 - val_loss: 0.3068 - val_accuracy: 0.6122\n",
      "Epoch 85/200\n",
      "10/10 [==============================] - 0s 5ms/step - loss: 0.1481 - accuracy: 0.7927 - val_loss: 0.2559 - val_accuracy: 0.6939\n",
      "Epoch 86/200\n",
      "10/10 [==============================] - 0s 5ms/step - loss: 0.1319 - accuracy: 0.8187 - val_loss: 0.2402 - val_accuracy: 0.6735\n",
      "Epoch 87/200\n",
      "10/10 [==============================] - 0s 5ms/step - loss: 0.1493 - accuracy: 0.7772 - val_loss: 0.2406 - val_accuracy: 0.6939\n",
      "Epoch 88/200\n",
      "10/10 [==============================] - 0s 4ms/step - loss: 0.1427 - accuracy: 0.8031 - val_loss: 0.2426 - val_accuracy: 0.6939\n",
      "Epoch 89/200\n",
      "10/10 [==============================] - 0s 5ms/step - loss: 0.1431 - accuracy: 0.8135 - val_loss: 0.2192 - val_accuracy: 0.6939\n",
      "Epoch 90/200\n",
      "10/10 [==============================] - 0s 7ms/step - loss: 0.1450 - accuracy: 0.7979 - val_loss: 0.2229 - val_accuracy: 0.6735\n",
      "Epoch 91/200\n",
      "10/10 [==============================] - 0s 7ms/step - loss: 0.1299 - accuracy: 0.8342 - val_loss: 0.3394 - val_accuracy: 0.5714\n",
      "Epoch 92/200\n",
      "10/10 [==============================] - 0s 5ms/step - loss: 0.1369 - accuracy: 0.8238 - val_loss: 0.2916 - val_accuracy: 0.6327\n",
      "Epoch 93/200\n",
      "10/10 [==============================] - 0s 6ms/step - loss: 0.1268 - accuracy: 0.8135 - val_loss: 0.2388 - val_accuracy: 0.6735\n",
      "Epoch 94/200\n",
      "10/10 [==============================] - 0s 5ms/step - loss: 0.1270 - accuracy: 0.8135 - val_loss: 0.3302 - val_accuracy: 0.5714\n",
      "Epoch 95/200\n",
      "10/10 [==============================] - 0s 4ms/step - loss: 0.1393 - accuracy: 0.7979 - val_loss: 0.2175 - val_accuracy: 0.6939\n",
      "Epoch 96/200\n",
      "10/10 [==============================] - 0s 4ms/step - loss: 0.1298 - accuracy: 0.8187 - val_loss: 0.2178 - val_accuracy: 0.6735\n",
      "Epoch 97/200\n",
      "10/10 [==============================] - 0s 4ms/step - loss: 0.1161 - accuracy: 0.8290 - val_loss: 0.2737 - val_accuracy: 0.6531\n",
      "Epoch 98/200\n",
      "10/10 [==============================] - 0s 4ms/step - loss: 0.1358 - accuracy: 0.8238 - val_loss: 0.2360 - val_accuracy: 0.7143\n",
      "Epoch 99/200\n",
      "10/10 [==============================] - 0s 7ms/step - loss: 0.1555 - accuracy: 0.7565 - val_loss: 0.2376 - val_accuracy: 0.6939\n",
      "Epoch 100/200\n",
      "10/10 [==============================] - 0s 4ms/step - loss: 0.1357 - accuracy: 0.8083 - val_loss: 0.2203 - val_accuracy: 0.6735\n",
      "Epoch 101/200\n",
      "10/10 [==============================] - 0s 4ms/step - loss: 0.1297 - accuracy: 0.7979 - val_loss: 0.2243 - val_accuracy: 0.6327\n",
      "Epoch 102/200\n",
      "10/10 [==============================] - 0s 4ms/step - loss: 0.1458 - accuracy: 0.8083 - val_loss: 0.2174 - val_accuracy: 0.6939\n",
      "Epoch 103/200\n",
      "10/10 [==============================] - 0s 4ms/step - loss: 0.1549 - accuracy: 0.7824 - val_loss: 0.2183 - val_accuracy: 0.6939\n",
      "Epoch 104/200\n",
      "10/10 [==============================] - 0s 4ms/step - loss: 0.1342 - accuracy: 0.8031 - val_loss: 0.2688 - val_accuracy: 0.6327\n",
      "Epoch 105/200\n",
      "10/10 [==============================] - 0s 5ms/step - loss: 0.1405 - accuracy: 0.7876 - val_loss: 0.2215 - val_accuracy: 0.6735\n",
      "Epoch 106/200\n",
      "10/10 [==============================] - 0s 5ms/step - loss: 0.1560 - accuracy: 0.7927 - val_loss: 0.2218 - val_accuracy: 0.7143\n",
      "Epoch 107/200\n",
      "10/10 [==============================] - 0s 6ms/step - loss: 0.1331 - accuracy: 0.8031 - val_loss: 0.2246 - val_accuracy: 0.6735\n",
      "Epoch 108/200\n",
      "10/10 [==============================] - 0s 4ms/step - loss: 0.1337 - accuracy: 0.8187 - val_loss: 0.2732 - val_accuracy: 0.6735\n",
      "Epoch 109/200\n",
      "10/10 [==============================] - 0s 4ms/step - loss: 0.1476 - accuracy: 0.8031 - val_loss: 0.2220 - val_accuracy: 0.6735\n",
      "Epoch 110/200\n",
      "10/10 [==============================] - 0s 7ms/step - loss: 0.1484 - accuracy: 0.8031 - val_loss: 0.2321 - val_accuracy: 0.6327\n",
      "Epoch 111/200\n",
      "10/10 [==============================] - 0s 4ms/step - loss: 0.1107 - accuracy: 0.8549 - val_loss: 0.2263 - val_accuracy: 0.7347\n",
      "Epoch 112/200\n",
      "10/10 [==============================] - 0s 4ms/step - loss: 0.1706 - accuracy: 0.7720 - val_loss: 0.2217 - val_accuracy: 0.7143\n",
      "Epoch 113/200\n",
      "10/10 [==============================] - 0s 5ms/step - loss: 0.1248 - accuracy: 0.8446 - val_loss: 0.2192 - val_accuracy: 0.6939\n",
      "Epoch 114/200\n",
      "10/10 [==============================] - 0s 4ms/step - loss: 0.1509 - accuracy: 0.7876 - val_loss: 0.2293 - val_accuracy: 0.6327\n",
      "Epoch 115/200\n",
      "10/10 [==============================] - 0s 5ms/step - loss: 0.1300 - accuracy: 0.8187 - val_loss: 0.2490 - val_accuracy: 0.6939\n",
      "Epoch 116/200\n",
      "10/10 [==============================] - 0s 5ms/step - loss: 0.1411 - accuracy: 0.8083 - val_loss: 0.2262 - val_accuracy: 0.7347\n",
      "Epoch 117/200\n",
      "10/10 [==============================] - 0s 6ms/step - loss: 0.1136 - accuracy: 0.8653 - val_loss: 0.2248 - val_accuracy: 0.7347\n",
      "Epoch 118/200\n",
      "10/10 [==============================] - 0s 7ms/step - loss: 0.1209 - accuracy: 0.8394 - val_loss: 0.2172 - val_accuracy: 0.6939\n",
      "Epoch 119/200\n",
      "10/10 [==============================] - 0s 7ms/step - loss: 0.1616 - accuracy: 0.7720 - val_loss: 0.2212 - val_accuracy: 0.7143\n",
      "Epoch 120/200\n",
      "10/10 [==============================] - 0s 4ms/step - loss: 0.1107 - accuracy: 0.8394 - val_loss: 0.2187 - val_accuracy: 0.7143\n",
      "Epoch 121/200\n",
      "10/10 [==============================] - 0s 5ms/step - loss: 0.1480 - accuracy: 0.7772 - val_loss: 0.2458 - val_accuracy: 0.6939\n",
      "Epoch 122/200\n",
      "10/10 [==============================] - 0s 6ms/step - loss: 0.1451 - accuracy: 0.7772 - val_loss: 0.2943 - val_accuracy: 0.6327\n",
      "Epoch 123/200\n",
      "10/10 [==============================] - 0s 6ms/step - loss: 0.1232 - accuracy: 0.8031 - val_loss: 0.2326 - val_accuracy: 0.7143\n",
      "Epoch 124/200\n",
      "10/10 [==============================] - 0s 4ms/step - loss: 0.1479 - accuracy: 0.8031 - val_loss: 0.2192 - val_accuracy: 0.6939\n",
      "Epoch 125/200\n",
      "10/10 [==============================] - 0s 5ms/step - loss: 0.1309 - accuracy: 0.8135 - val_loss: 0.2294 - val_accuracy: 0.6531\n",
      "Epoch 126/200\n",
      "10/10 [==============================] - 0s 5ms/step - loss: 0.1427 - accuracy: 0.8031 - val_loss: 0.2657 - val_accuracy: 0.6735\n",
      "Epoch 127/200\n",
      "10/10 [==============================] - 0s 4ms/step - loss: 0.1112 - accuracy: 0.8653 - val_loss: 0.2384 - val_accuracy: 0.7143\n",
      "Epoch 128/200\n",
      "10/10 [==============================] - 0s 5ms/step - loss: 0.1488 - accuracy: 0.7927 - val_loss: 0.2214 - val_accuracy: 0.7551\n",
      "Epoch 129/200\n",
      "10/10 [==============================] - 0s 5ms/step - loss: 0.1265 - accuracy: 0.8031 - val_loss: 0.2228 - val_accuracy: 0.7551\n",
      "Epoch 130/200\n",
      "10/10 [==============================] - 0s 5ms/step - loss: 0.1200 - accuracy: 0.8446 - val_loss: 0.2184 - val_accuracy: 0.6939\n",
      "Epoch 131/200\n",
      "10/10 [==============================] - 0s 5ms/step - loss: 0.1437 - accuracy: 0.7824 - val_loss: 0.2224 - val_accuracy: 0.7551\n",
      "Epoch 132/200\n",
      "10/10 [==============================] - 0s 7ms/step - loss: 0.1420 - accuracy: 0.7927 - val_loss: 0.2414 - val_accuracy: 0.6531\n",
      "Epoch 133/200\n",
      "10/10 [==============================] - 0s 4ms/step - loss: 0.1107 - accuracy: 0.8601 - val_loss: 0.2216 - val_accuracy: 0.6531\n",
      "Epoch 134/200\n",
      "10/10 [==============================] - 0s 6ms/step - loss: 0.1395 - accuracy: 0.7876 - val_loss: 0.2289 - val_accuracy: 0.7347\n",
      "Epoch 135/200\n",
      "10/10 [==============================] - 0s 5ms/step - loss: 0.1420 - accuracy: 0.7927 - val_loss: 0.2797 - val_accuracy: 0.6531\n",
      "Epoch 136/200\n",
      "10/10 [==============================] - 0s 5ms/step - loss: 0.1311 - accuracy: 0.8238 - val_loss: 0.2717 - val_accuracy: 0.6531\n",
      "Epoch 137/200\n",
      "10/10 [==============================] - 0s 6ms/step - loss: 0.1620 - accuracy: 0.7772 - val_loss: 0.2268 - val_accuracy: 0.7347\n",
      "Epoch 138/200\n",
      "10/10 [==============================] - 0s 6ms/step - loss: 0.1131 - accuracy: 0.8549 - val_loss: 0.3044 - val_accuracy: 0.6122\n",
      "Epoch 139/200\n",
      "10/10 [==============================] - 0s 4ms/step - loss: 0.1495 - accuracy: 0.8083 - val_loss: 0.2196 - val_accuracy: 0.6939\n",
      "Epoch 140/200\n",
      "10/10 [==============================] - 0s 5ms/step - loss: 0.1229 - accuracy: 0.8135 - val_loss: 0.2372 - val_accuracy: 0.6735\n",
      "Epoch 141/200\n",
      "10/10 [==============================] - 0s 6ms/step - loss: 0.1465 - accuracy: 0.7979 - val_loss: 0.2383 - val_accuracy: 0.6735\n",
      "Epoch 142/200\n",
      "10/10 [==============================] - 0s 4ms/step - loss: 0.1373 - accuracy: 0.8083 - val_loss: 0.2193 - val_accuracy: 0.6939\n",
      "Epoch 143/200\n",
      "10/10 [==============================] - 0s 4ms/step - loss: 0.1117 - accuracy: 0.8549 - val_loss: 0.2215 - val_accuracy: 0.6735\n",
      "Epoch 144/200\n",
      "10/10 [==============================] - 0s 4ms/step - loss: 0.1353 - accuracy: 0.8083 - val_loss: 0.2168 - val_accuracy: 0.6939\n",
      "Epoch 145/200\n",
      "10/10 [==============================] - 0s 5ms/step - loss: 0.1436 - accuracy: 0.8187 - val_loss: 0.2182 - val_accuracy: 0.7143\n",
      "Epoch 146/200\n",
      "10/10 [==============================] - 0s 6ms/step - loss: 0.1312 - accuracy: 0.8238 - val_loss: 0.2344 - val_accuracy: 0.6735\n",
      "Epoch 147/200\n",
      "10/10 [==============================] - 0s 5ms/step - loss: 0.1447 - accuracy: 0.7824 - val_loss: 0.2379 - val_accuracy: 0.7143\n",
      "Epoch 148/200\n",
      "10/10 [==============================] - 0s 4ms/step - loss: 0.1214 - accuracy: 0.8394 - val_loss: 0.2917 - val_accuracy: 0.6531\n",
      "Epoch 149/200\n",
      "10/10 [==============================] - 0s 4ms/step - loss: 0.1228 - accuracy: 0.8446 - val_loss: 0.2388 - val_accuracy: 0.6735\n",
      "Epoch 150/200\n",
      "10/10 [==============================] - 0s 4ms/step - loss: 0.1401 - accuracy: 0.8031 - val_loss: 0.2277 - val_accuracy: 0.7347\n",
      "Epoch 151/200\n",
      "10/10 [==============================] - 0s 7ms/step - loss: 0.1341 - accuracy: 0.8031 - val_loss: 0.2550 - val_accuracy: 0.6735\n",
      "Epoch 152/200\n",
      "10/10 [==============================] - 0s 5ms/step - loss: 0.1401 - accuracy: 0.7927 - val_loss: 0.3079 - val_accuracy: 0.6122\n",
      "Epoch 153/200\n",
      "10/10 [==============================] - 0s 5ms/step - loss: 0.1255 - accuracy: 0.8031 - val_loss: 0.2424 - val_accuracy: 0.6939\n",
      "Epoch 154/200\n",
      "10/10 [==============================] - 0s 4ms/step - loss: 0.1172 - accuracy: 0.8497 - val_loss: 0.2367 - val_accuracy: 0.7143\n",
      "Epoch 155/200\n",
      "10/10 [==============================] - 0s 6ms/step - loss: 0.1235 - accuracy: 0.8342 - val_loss: 0.2628 - val_accuracy: 0.6735\n",
      "Epoch 156/200\n",
      "10/10 [==============================] - 0s 5ms/step - loss: 0.1398 - accuracy: 0.8187 - val_loss: 0.2174 - val_accuracy: 0.7143\n",
      "Epoch 157/200\n",
      "10/10 [==============================] - 0s 5ms/step - loss: 0.1381 - accuracy: 0.7979 - val_loss: 0.2192 - val_accuracy: 0.6531\n",
      "Epoch 158/200\n",
      "10/10 [==============================] - 0s 4ms/step - loss: 0.1394 - accuracy: 0.7824 - val_loss: 0.2445 - val_accuracy: 0.6939\n",
      "Epoch 159/200\n",
      "10/10 [==============================] - 0s 5ms/step - loss: 0.1199 - accuracy: 0.8342 - val_loss: 0.2366 - val_accuracy: 0.6735\n",
      "Epoch 160/200\n",
      "10/10 [==============================] - 0s 4ms/step - loss: 0.1470 - accuracy: 0.7876 - val_loss: 0.2232 - val_accuracy: 0.7551\n",
      "Epoch 161/200\n",
      "10/10 [==============================] - 0s 4ms/step - loss: 0.1238 - accuracy: 0.8238 - val_loss: 0.2367 - val_accuracy: 0.7143\n",
      "Epoch 162/200\n",
      "10/10 [==============================] - 0s 6ms/step - loss: 0.1145 - accuracy: 0.8342 - val_loss: 0.2627 - val_accuracy: 0.6327\n",
      "Epoch 163/200\n",
      "10/10 [==============================] - 0s 4ms/step - loss: 0.1497 - accuracy: 0.7927 - val_loss: 0.2177 - val_accuracy: 0.6939\n",
      "Epoch 164/200\n",
      "10/10 [==============================] - 0s 4ms/step - loss: 0.1455 - accuracy: 0.8031 - val_loss: 0.2178 - val_accuracy: 0.6939\n",
      "Epoch 165/200\n",
      "10/10 [==============================] - 0s 4ms/step - loss: 0.1137 - accuracy: 0.8135 - val_loss: 0.2265 - val_accuracy: 0.6531\n",
      "Epoch 166/200\n",
      "10/10 [==============================] - 0s 5ms/step - loss: 0.1517 - accuracy: 0.7824 - val_loss: 0.2189 - val_accuracy: 0.6939\n",
      "Epoch 167/200\n",
      "10/10 [==============================] - 0s 7ms/step - loss: 0.1530 - accuracy: 0.7617 - val_loss: 0.2233 - val_accuracy: 0.7551\n",
      "Epoch 168/200\n",
      "10/10 [==============================] - 0s 7ms/step - loss: 0.1240 - accuracy: 0.8135 - val_loss: 0.2195 - val_accuracy: 0.6735\n",
      "Epoch 169/200\n",
      "10/10 [==============================] - 0s 5ms/step - loss: 0.1309 - accuracy: 0.8083 - val_loss: 0.2649 - val_accuracy: 0.6327\n",
      "Epoch 170/200\n",
      "10/10 [==============================] - 0s 5ms/step - loss: 0.1324 - accuracy: 0.8290 - val_loss: 0.2442 - val_accuracy: 0.6939\n",
      "Epoch 171/200\n",
      "10/10 [==============================] - 0s 5ms/step - loss: 0.1493 - accuracy: 0.7876 - val_loss: 0.2585 - val_accuracy: 0.6327\n",
      "Epoch 172/200\n",
      "10/10 [==============================] - 0s 4ms/step - loss: 0.1432 - accuracy: 0.7979 - val_loss: 0.2413 - val_accuracy: 0.6531\n",
      "Epoch 173/200\n",
      "10/10 [==============================] - 0s 5ms/step - loss: 0.1142 - accuracy: 0.8446 - val_loss: 0.2224 - val_accuracy: 0.7551\n",
      "Epoch 174/200\n",
      "10/10 [==============================] - 0s 5ms/step - loss: 0.1449 - accuracy: 0.7876 - val_loss: 0.2159 - val_accuracy: 0.6939\n",
      "Epoch 175/200\n",
      "10/10 [==============================] - 0s 5ms/step - loss: 0.1359 - accuracy: 0.8031 - val_loss: 0.2372 - val_accuracy: 0.7143\n",
      "Epoch 176/200\n",
      "10/10 [==============================] - 0s 5ms/step - loss: 0.1160 - accuracy: 0.8497 - val_loss: 0.2167 - val_accuracy: 0.6939\n",
      "Epoch 177/200\n",
      "10/10 [==============================] - 0s 5ms/step - loss: 0.1147 - accuracy: 0.8446 - val_loss: 0.2449 - val_accuracy: 0.6735\n",
      "Epoch 178/200\n",
      "10/10 [==============================] - 0s 4ms/step - loss: 0.1588 - accuracy: 0.7668 - val_loss: 0.2716 - val_accuracy: 0.6531\n",
      "Epoch 179/200\n",
      "10/10 [==============================] - 0s 4ms/step - loss: 0.1156 - accuracy: 0.8549 - val_loss: 0.2189 - val_accuracy: 0.6939\n",
      "Epoch 180/200\n",
      "10/10 [==============================] - 0s 4ms/step - loss: 0.1282 - accuracy: 0.8135 - val_loss: 0.2449 - val_accuracy: 0.6939\n",
      "Epoch 181/200\n",
      "10/10 [==============================] - 0s 5ms/step - loss: 0.1322 - accuracy: 0.8187 - val_loss: 0.2243 - val_accuracy: 0.7551\n",
      "Epoch 182/200\n",
      "10/10 [==============================] - 0s 7ms/step - loss: 0.1345 - accuracy: 0.7979 - val_loss: 0.2179 - val_accuracy: 0.6735\n",
      "Epoch 183/200\n",
      "10/10 [==============================] - 0s 5ms/step - loss: 0.1229 - accuracy: 0.8238 - val_loss: 0.2360 - val_accuracy: 0.7143\n",
      "Epoch 184/200\n",
      "10/10 [==============================] - 0s 5ms/step - loss: 0.1282 - accuracy: 0.8238 - val_loss: 0.2166 - val_accuracy: 0.6939\n",
      "Epoch 185/200\n",
      "10/10 [==============================] - 0s 5ms/step - loss: 0.1398 - accuracy: 0.7876 - val_loss: 0.2157 - val_accuracy: 0.7143\n",
      "Epoch 186/200\n",
      "10/10 [==============================] - 0s 5ms/step - loss: 0.1280 - accuracy: 0.8187 - val_loss: 0.2312 - val_accuracy: 0.6939\n",
      "Epoch 187/200\n",
      "10/10 [==============================] - 0s 4ms/step - loss: 0.1173 - accuracy: 0.8342 - val_loss: 0.2158 - val_accuracy: 0.7347\n",
      "Epoch 188/200\n",
      "10/10 [==============================] - 0s 4ms/step - loss: 0.1130 - accuracy: 0.8238 - val_loss: 0.2382 - val_accuracy: 0.7143\n",
      "Epoch 189/200\n",
      "10/10 [==============================] - 0s 5ms/step - loss: 0.1223 - accuracy: 0.8083 - val_loss: 0.2148 - val_accuracy: 0.6735\n",
      "Epoch 190/200\n",
      "10/10 [==============================] - 0s 5ms/step - loss: 0.1546 - accuracy: 0.7824 - val_loss: 0.2136 - val_accuracy: 0.7143\n",
      "Epoch 191/200\n",
      "10/10 [==============================] - 0s 4ms/step - loss: 0.1189 - accuracy: 0.8342 - val_loss: 0.2156 - val_accuracy: 0.6939\n",
      "Epoch 192/200\n",
      "10/10 [==============================] - 0s 5ms/step - loss: 0.1594 - accuracy: 0.7876 - val_loss: 0.2441 - val_accuracy: 0.6735\n",
      "Epoch 193/200\n",
      "10/10 [==============================] - 0s 5ms/step - loss: 0.1016 - accuracy: 0.8601 - val_loss: 0.2356 - val_accuracy: 0.7143\n",
      "Epoch 194/200\n",
      "10/10 [==============================] - 0s 5ms/step - loss: 0.1243 - accuracy: 0.8187 - val_loss: 0.2362 - val_accuracy: 0.7143\n",
      "Epoch 195/200\n",
      "10/10 [==============================] - 0s 4ms/step - loss: 0.1376 - accuracy: 0.8083 - val_loss: 0.2231 - val_accuracy: 0.7551\n",
      "Epoch 196/200\n",
      "10/10 [==============================] - 0s 5ms/step - loss: 0.1158 - accuracy: 0.8290 - val_loss: 0.2477 - val_accuracy: 0.6939\n",
      "Epoch 197/200\n",
      "10/10 [==============================] - 0s 5ms/step - loss: 0.1254 - accuracy: 0.8342 - val_loss: 0.2196 - val_accuracy: 0.6939\n",
      "Epoch 198/200\n",
      "10/10 [==============================] - 0s 7ms/step - loss: 0.1390 - accuracy: 0.8031 - val_loss: 0.2267 - val_accuracy: 0.6735\n",
      "Epoch 199/200\n",
      "10/10 [==============================] - 0s 5ms/step - loss: 0.1098 - accuracy: 0.8549 - val_loss: 0.2160 - val_accuracy: 0.7143\n",
      "Epoch 200/200\n",
      "10/10 [==============================] - 0s 4ms/step - loss: 0.1290 - accuracy: 0.8083 - val_loss: 0.2128 - val_accuracy: 0.7143\n"
     ]
    }
   ],
   "source": [
    "history8 = model8.fit(X_train, y_train, validation_split=0.2, epochs=200, batch_size=20, verbose=1)  ### Here increase number of epochs as 200 and batch size as 20"
   ]
  },
  {
   "cell_type": "code",
   "execution_count": 72,
   "metadata": {
    "colab": {
     "base_uri": "https://localhost:8080/"
    },
    "id": "1vnCcgrLL_Fi",
    "outputId": "e0f98899-e40c-40c9-ca60-4c85af00ec55"
   },
   "outputs": [
    {
     "name": "stdout",
     "output_type": "stream",
     "text": [
      "Model: \"sequential_5\"\n",
      "_________________________________________________________________\n",
      "Layer (type)                 Output Shape              Param #   \n",
      "=================================================================\n",
      "dense_16 (Dense)             (None, 16)                224       \n",
      "_________________________________________________________________\n",
      "dense_17 (Dense)             (None, 8)                 136       \n",
      "_________________________________________________________________\n",
      "dense_18 (Dense)             (None, 1)                 9         \n",
      "=================================================================\n",
      "Total params: 369\n",
      "Trainable params: 369\n",
      "Non-trainable params: 0\n",
      "_________________________________________________________________\n"
     ]
    }
   ],
   "source": [
    "model8.summary()"
   ]
  },
  {
   "cell_type": "code",
   "execution_count": 73,
   "metadata": {
    "id": "at2kEX2qL_Fi"
   },
   "outputs": [],
   "source": [
    "his5=history8.history"
   ]
  },
  {
   "cell_type": "code",
   "execution_count": 74,
   "metadata": {
    "colab": {
     "base_uri": "https://localhost:8080/",
     "height": 295
    },
    "id": "eLG9x3aSL_Fi",
    "outputId": "2c164a22-3492-42b5-a58f-5543a6634ced"
   },
   "outputs": [
    {
     "data": {
      "image/png": "[encoded data removed]",
      "text/plain": [
       "<Figure size 432x288 with 1 Axes>"
      ]
     },
     "metadata": {
      "needs_background": "light"
     },
     "output_type": "display_data"
    }
   ],
   "source": [
    "plt.plot(history8.history['accuracy'])\n",
    "plt.plot(history8.history['val_accuracy'])\n",
    "plt.title('Model Accuracy')\n",
    "plt.ylabel('accuracy')\n",
    "plt.xlabel('epoch')\n",
    "plt.legend(['Train', 'Validation'])\n",
    "plt.show()"
   ]
  },
  {
   "cell_type": "code",
   "execution_count": 75,
   "metadata": {
    "colab": {
     "base_uri": "https://localhost:8080/",
     "height": 295
    },
    "id": "j5TnGuzsL_Fi",
    "outputId": "8f5599da-785a-4daf-ce92-7d6ae2584b3d"
   },
   "outputs": [
    {
     "data": {
      "image/png": "[encoded data removed]",
      "text/plain": [
       "<Figure size 432x288 with 1 Axes>"
      ]
     },
     "metadata": {
      "needs_background": "light"
     },
     "output_type": "display_data"
    }
   ],
   "source": [
    "plt.plot(history8.history['loss'])\n",
    "plt.plot(history8.history['val_loss'])\n",
    "plt.title('Model Loss')\n",
    "plt.ylabel('loss')\n",
    "plt.xlabel('epoch')\n",
    "plt.legend(['Train', 'Validation'])\n",
    "plt.show()"
   ]
  },
  {
   "cell_type": "code",
   "execution_count": 76,
   "metadata": {
    "id": "uOJ7fCFIL_Fj"
   },
   "outputs": [],
   "source": [
    "model9 = Sequential()   # the keras model with 32 nodes\n",
    "model9.add(Dense(32, input_dim=13, activation='relu'))\n",
    "model9.add(Dense(16, activation='relu'))\n",
    "model9.add(Dense(8, activation='relu'))\n",
    "model9.add(Dense(1,activation='sigmoid'))"
   ]
  },
  {
   "cell_type": "code",
   "execution_count": 77,
   "metadata": {
    "colab": {
     "base_uri": "https://localhost:8080/"
    },
    "id": "_1KqHXeAL_Fj",
    "outputId": "204ddebe-47a7-446b-ddb9-95b52fa396ee"
   },
   "outputs": [
    {
     "name": "stdout",
     "output_type": "stream",
     "text": [
      "Epoch 1/15\n",
      "13/13 [==============================] - 1s 2ms/step - loss: 0.4545 - accuracy: 0.5455\n",
      "Epoch 2/15\n",
      "13/13 [==============================] - 0s 2ms/step - loss: 0.4545 - accuracy: 0.5455\n",
      "Epoch 3/15\n",
      "13/13 [==============================] - 0s 2ms/step - loss: 0.4545 - accuracy: 0.5455\n",
      "Epoch 4/15\n",
      "13/13 [==============================] - 0s 2ms/step - loss: 0.4545 - accuracy: 0.5455\n",
      "Epoch 5/15\n",
      "13/13 [==============================] - 0s 2ms/step - loss: 0.4545 - accuracy: 0.5455\n",
      "Epoch 6/15\n",
      "13/13 [==============================] - 0s 2ms/step - loss: 0.4545 - accuracy: 0.5455\n",
      "Epoch 7/15\n",
      "13/13 [==============================] - 0s 2ms/step - loss: 0.4545 - accuracy: 0.5455\n",
      "Epoch 8/15\n",
      "13/13 [==============================] - 0s 2ms/step - loss: 0.4545 - accuracy: 0.5455\n",
      "Epoch 9/15\n",
      "13/13 [==============================] - 0s 2ms/step - loss: 0.4545 - accuracy: 0.5455\n",
      "Epoch 10/15\n",
      "13/13 [==============================] - 0s 2ms/step - loss: 0.4545 - accuracy: 0.5455\n",
      "Epoch 11/15\n",
      "13/13 [==============================] - 0s 2ms/step - loss: 0.4545 - accuracy: 0.5455\n",
      "Epoch 12/15\n",
      "13/13 [==============================] - 0s 3ms/step - loss: 0.4545 - accuracy: 0.5455\n",
      "Epoch 13/15\n",
      "13/13 [==============================] - 0s 2ms/step - loss: 0.4545 - accuracy: 0.5455\n",
      "Epoch 14/15\n",
      "13/13 [==============================] - 0s 2ms/step - loss: 0.4545 - accuracy: 0.5455\n",
      "Epoch 15/15\n",
      "13/13 [==============================] - 0s 2ms/step - loss: 0.4545 - accuracy: 0.5455\n"
     ]
    },
    {
     "data": {
      "text/plain": [
       "<keras.callbacks.History at 0x7f7607e7cf90>"
      ]
     },
     "execution_count": 77,
     "metadata": {},
     "output_type": "execute_result"
    }
   ],
   "source": [
    "model9.compile(loss='mean_squared_error', optimizer=optimizer, metrics=['accuracy'])\n",
    "model9.fit(X_train, y_train, epochs=15, batch_size=20, verbose = 1)"
   ]
  },
  {
   "cell_type": "code",
   "execution_count": 78,
   "metadata": {
    "colab": {
     "base_uri": "https://localhost:8080/"
    },
    "id": "kUYI7UPEL_Fj",
    "outputId": "4c10209e-2c35-402e-b82d-484959d233b4"
   },
   "outputs": [
    {
     "name": "stdout",
     "output_type": "stream",
     "text": [
      "2/2 [==============================] - 0s 6ms/step - loss: 0.4590 - accuracy: 0.5410\n"
     ]
    },
    {
     "data": {
      "text/plain": [
       "[0.4590163826942444, 0.5409836173057556]"
      ]
     },
     "execution_count": 78,
     "metadata": {},
     "output_type": "execute_result"
    }
   ],
   "source": [
    "model9.evaluate(X_test,y_test)"
   ]
  },
  {
   "cell_type": "code",
   "execution_count": 79,
   "metadata": {
    "colab": {
     "base_uri": "https://localhost:8080/"
    },
    "id": "MrJvPU20L_Fk",
    "outputId": "4debac2f-91dd-43a4-b008-119271efb86f"
   },
   "outputs": [
    {
     "name": "stdout",
     "output_type": "stream",
     "text": [
      "Epoch 1/300\n",
      "13/13 [==============================] - 0s 8ms/step - loss: 0.4456 - accuracy: 0.5544 - val_loss: 0.4898 - val_accuracy: 0.5102\n",
      "Epoch 2/300\n",
      "13/13 [==============================] - 0s 5ms/step - loss: 0.4456 - accuracy: 0.5544 - val_loss: 0.4898 - val_accuracy: 0.5102\n",
      "Epoch 3/300\n",
      "13/13 [==============================] - 0s 4ms/step - loss: 0.4456 - accuracy: 0.5544 - val_loss: 0.4898 - val_accuracy: 0.5102\n",
      "Epoch 4/300\n",
      "13/13 [==============================] - 0s 4ms/step - loss: 0.4456 - accuracy: 0.5544 - val_loss: 0.4898 - val_accuracy: 0.5102\n",
      "Epoch 5/300\n",
      "13/13 [==============================] - 0s 4ms/step - loss: 0.4456 - accuracy: 0.5544 - val_loss: 0.4898 - val_accuracy: 0.5102\n",
      "Epoch 6/300\n",
      "13/13 [==============================] - 0s 5ms/step - loss: 0.4456 - accuracy: 0.5544 - val_loss: 0.4898 - val_accuracy: 0.5102\n",
      "Epoch 7/300\n",
      "13/13 [==============================] - 0s 4ms/step - loss: 0.4456 - accuracy: 0.5544 - val_loss: 0.4898 - val_accuracy: 0.5102\n",
      "Epoch 8/300\n",
      "13/13 [==============================] - 0s 4ms/step - loss: 0.4456 - accuracy: 0.5544 - val_loss: 0.4898 - val_accuracy: 0.5102\n",
      "Epoch 9/300\n",
      "13/13 [==============================] - 0s 4ms/step - loss: 0.4456 - accuracy: 0.5544 - val_loss: 0.4898 - val_accuracy: 0.5102\n",
      "Epoch 10/300\n",
      "13/13 [==============================] - 0s 5ms/step - loss: 0.4456 - accuracy: 0.5544 - val_loss: 0.4898 - val_accuracy: 0.5102\n",
      "Epoch 11/300\n",
      "13/13 [==============================] - 0s 3ms/step - loss: 0.4456 - accuracy: 0.5544 - val_loss: 0.4898 - val_accuracy: 0.5102\n",
      "Epoch 12/300\n",
      "13/13 [==============================] - 0s 3ms/step - loss: 0.4456 - accuracy: 0.5544 - val_loss: 0.4898 - val_accuracy: 0.5102\n",
      "Epoch 13/300\n",
      "13/13 [==============================] - 0s 3ms/step - loss: 0.4456 - accuracy: 0.5544 - val_loss: 0.4898 - val_accuracy: 0.5102\n",
      "Epoch 14/300\n",
      "13/13 [==============================] - 0s 3ms/step - loss: 0.4456 - accuracy: 0.5544 - val_loss: 0.4898 - val_accuracy: 0.5102\n",
      "Epoch 15/300\n",
      "13/13 [==============================] - 0s 4ms/step - loss: 0.4456 - accuracy: 0.5544 - val_loss: 0.4898 - val_accuracy: 0.5102\n",
      "Epoch 16/300\n",
      "13/13 [==============================] - 0s 6ms/step - loss: 0.4456 - accuracy: 0.5544 - val_loss: 0.4898 - val_accuracy: 0.5102\n",
      "Epoch 17/300\n",
      "13/13 [==============================] - 0s 5ms/step - loss: 0.4456 - accuracy: 0.5544 - val_loss: 0.4898 - val_accuracy: 0.5102\n",
      "Epoch 18/300\n",
      "13/13 [==============================] - 0s 5ms/step - loss: 0.4456 - accuracy: 0.5544 - val_loss: 0.4898 - val_accuracy: 0.5102\n",
      "Epoch 19/300\n",
      "13/13 [==============================] - 0s 5ms/step - loss: 0.4456 - accuracy: 0.5544 - val_loss: 0.4898 - val_accuracy: 0.5102\n",
      "Epoch 20/300\n",
      "13/13 [==============================] - 0s 5ms/step - loss: 0.4456 - accuracy: 0.5544 - val_loss: 0.4898 - val_accuracy: 0.5102\n",
      "Epoch 21/300\n",
      "13/13 [==============================] - 0s 4ms/step - loss: 0.4456 - accuracy: 0.5544 - val_loss: 0.4898 - val_accuracy: 0.5102\n",
      "Epoch 22/300\n",
      "13/13 [==============================] - 0s 5ms/step - loss: 0.4456 - accuracy: 0.5544 - val_loss: 0.4898 - val_accuracy: 0.5102\n",
      "Epoch 23/300\n",
      "13/13 [==============================] - 0s 4ms/step - loss: 0.4456 - accuracy: 0.5544 - val_loss: 0.4898 - val_accuracy: 0.5102\n",
      "Epoch 24/300\n",
      "13/13 [==============================] - 0s 4ms/step - loss: 0.4456 - accuracy: 0.5544 - val_loss: 0.4898 - val_accuracy: 0.5102\n",
      "Epoch 25/300\n",
      "13/13 [==============================] - 0s 5ms/step - loss: 0.4456 - accuracy: 0.5544 - val_loss: 0.4898 - val_accuracy: 0.5102\n",
      "Epoch 26/300\n",
      "13/13 [==============================] - 0s 5ms/step - loss: 0.4456 - accuracy: 0.5544 - val_loss: 0.4898 - val_accuracy: 0.5102\n",
      "Epoch 27/300\n",
      "13/13 [==============================] - 0s 3ms/step - loss: 0.4456 - accuracy: 0.5544 - val_loss: 0.4898 - val_accuracy: 0.5102\n",
      "Epoch 28/300\n",
      "13/13 [==============================] - 0s 5ms/step - loss: 0.4456 - accuracy: 0.5544 - val_loss: 0.4898 - val_accuracy: 0.5102\n",
      "Epoch 29/300\n",
      "13/13 [==============================] - 0s 4ms/step - loss: 0.4456 - accuracy: 0.5544 - val_loss: 0.4898 - val_accuracy: 0.5102\n",
      "Epoch 30/300\n",
      "13/13 [==============================] - 0s 4ms/step - loss: 0.4456 - accuracy: 0.5544 - val_loss: 0.4898 - val_accuracy: 0.5102\n",
      "Epoch 31/300\n",
      "13/13 [==============================] - 0s 4ms/step - loss: 0.4456 - accuracy: 0.5544 - val_loss: 0.4898 - val_accuracy: 0.5102\n",
      "Epoch 32/300\n",
      "13/13 [==============================] - 0s 5ms/step - loss: 0.4456 - accuracy: 0.5544 - val_loss: 0.4898 - val_accuracy: 0.5102\n",
      "Epoch 33/300\n",
      "13/13 [==============================] - 0s 5ms/step - loss: 0.4456 - accuracy: 0.5544 - val_loss: 0.4898 - val_accuracy: 0.5102\n",
      "Epoch 34/300\n",
      "13/13 [==============================] - 0s 3ms/step - loss: 0.4456 - accuracy: 0.5544 - val_loss: 0.4898 - val_accuracy: 0.5102\n",
      "Epoch 35/300\n",
      "13/13 [==============================] - 0s 4ms/step - loss: 0.4456 - accuracy: 0.5544 - val_loss: 0.4898 - val_accuracy: 0.5102\n",
      "Epoch 36/300\n",
      "13/13 [==============================] - 0s 4ms/step - loss: 0.4456 - accuracy: 0.5544 - val_loss: 0.4898 - val_accuracy: 0.5102\n",
      "Epoch 37/300\n",
      "13/13 [==============================] - 0s 4ms/step - loss: 0.4456 - accuracy: 0.5544 - val_loss: 0.4898 - val_accuracy: 0.5102\n",
      "Epoch 38/300\n",
      "13/13 [==============================] - 0s 5ms/step - loss: 0.4456 - accuracy: 0.5544 - val_loss: 0.4898 - val_accuracy: 0.5102\n",
      "Epoch 39/300\n",
      "13/13 [==============================] - 0s 3ms/step - loss: 0.4456 - accuracy: 0.5544 - val_loss: 0.4898 - val_accuracy: 0.5102\n",
      "Epoch 40/300\n",
      "13/13 [==============================] - 0s 5ms/step - loss: 0.4456 - accuracy: 0.5544 - val_loss: 0.4898 - val_accuracy: 0.5102\n",
      "Epoch 41/300\n",
      "13/13 [==============================] - 0s 5ms/step - loss: 0.4456 - accuracy: 0.5544 - val_loss: 0.4898 - val_accuracy: 0.5102\n",
      "Epoch 42/300\n",
      "13/13 [==============================] - 0s 3ms/step - loss: 0.4456 - accuracy: 0.5544 - val_loss: 0.4898 - val_accuracy: 0.5102\n",
      "Epoch 43/300\n",
      "13/13 [==============================] - 0s 4ms/step - loss: 0.4456 - accuracy: 0.5544 - val_loss: 0.4898 - val_accuracy: 0.5102\n",
      "Epoch 44/300\n",
      "13/13 [==============================] - 0s 4ms/step - loss: 0.4456 - accuracy: 0.5544 - val_loss: 0.4898 - val_accuracy: 0.5102\n",
      "Epoch 45/300\n",
      "13/13 [==============================] - 0s 4ms/step - loss: 0.4456 - accuracy: 0.5544 - val_loss: 0.4898 - val_accuracy: 0.5102\n",
      "Epoch 46/300\n",
      "13/13 [==============================] - 0s 4ms/step - loss: 0.4456 - accuracy: 0.5544 - val_loss: 0.4898 - val_accuracy: 0.5102\n",
      "Epoch 47/300\n",
      "13/13 [==============================] - 0s 4ms/step - loss: 0.4456 - accuracy: 0.5544 - val_loss: 0.4898 - val_accuracy: 0.5102\n",
      "Epoch 48/300\n",
      "13/13 [==============================] - 0s 5ms/step - loss: 0.4456 - accuracy: 0.5544 - val_loss: 0.4898 - val_accuracy: 0.5102\n",
      "Epoch 49/300\n",
      "13/13 [==============================] - 0s 5ms/step - loss: 0.4456 - accuracy: 0.5544 - val_loss: 0.4898 - val_accuracy: 0.5102\n",
      "Epoch 50/300\n",
      "13/13 [==============================] - 0s 6ms/step - loss: 0.4456 - accuracy: 0.5544 - val_loss: 0.4898 - val_accuracy: 0.5102\n",
      "Epoch 51/300\n",
      "13/13 [==============================] - 0s 4ms/step - loss: 0.4456 - accuracy: 0.5544 - val_loss: 0.4898 - val_accuracy: 0.5102\n",
      "Epoch 52/300\n",
      "13/13 [==============================] - 0s 6ms/step - loss: 0.4456 - accuracy: 0.5544 - val_loss: 0.4898 - val_accuracy: 0.5102\n",
      "Epoch 53/300\n",
      "13/13 [==============================] - 0s 4ms/step - loss: 0.4456 - accuracy: 0.5544 - val_loss: 0.4898 - val_accuracy: 0.5102\n",
      "Epoch 54/300\n",
      "13/13 [==============================] - 0s 5ms/step - loss: 0.4456 - accuracy: 0.5544 - val_loss: 0.4898 - val_accuracy: 0.5102\n",
      "Epoch 55/300\n",
      "13/13 [==============================] - 0s 6ms/step - loss: 0.4456 - accuracy: 0.5544 - val_loss: 0.4898 - val_accuracy: 0.5102\n",
      "Epoch 56/300\n",
      "13/13 [==============================] - 0s 4ms/step - loss: 0.4456 - accuracy: 0.5544 - val_loss: 0.4898 - val_accuracy: 0.5102\n",
      "Epoch 57/300\n",
      "13/13 [==============================] - 0s 4ms/step - loss: 0.4456 - accuracy: 0.5544 - val_loss: 0.4898 - val_accuracy: 0.5102\n",
      "Epoch 58/300\n",
      "13/13 [==============================] - 0s 3ms/step - loss: 0.4456 - accuracy: 0.5544 - val_loss: 0.4898 - val_accuracy: 0.5102\n",
      "Epoch 59/300\n",
      "13/13 [==============================] - 0s 4ms/step - loss: 0.4456 - accuracy: 0.5544 - val_loss: 0.4898 - val_accuracy: 0.5102\n",
      "Epoch 60/300\n",
      "13/13 [==============================] - 0s 3ms/step - loss: 0.4456 - accuracy: 0.5544 - val_loss: 0.4898 - val_accuracy: 0.5102\n",
      "Epoch 61/300\n",
      "13/13 [==============================] - 0s 3ms/step - loss: 0.4456 - accuracy: 0.5544 - val_loss: 0.4898 - val_accuracy: 0.5102\n",
      "Epoch 62/300\n",
      "13/13 [==============================] - 0s 5ms/step - loss: 0.4456 - accuracy: 0.5544 - val_loss: 0.4898 - val_accuracy: 0.5102\n",
      "Epoch 63/300\n",
      "13/13 [==============================] - 0s 5ms/step - loss: 0.4456 - accuracy: 0.5544 - val_loss: 0.4898 - val_accuracy: 0.5102\n",
      "Epoch 64/300\n",
      "13/13 [==============================] - 0s 5ms/step - loss: 0.4456 - accuracy: 0.5544 - val_loss: 0.4898 - val_accuracy: 0.5102\n",
      "Epoch 65/300\n",
      "13/13 [==============================] - 0s 5ms/step - loss: 0.4456 - accuracy: 0.5544 - val_loss: 0.4898 - val_accuracy: 0.5102\n",
      "Epoch 66/300\n",
      "13/13 [==============================] - 0s 6ms/step - loss: 0.4456 - accuracy: 0.5544 - val_loss: 0.4898 - val_accuracy: 0.5102\n",
      "Epoch 67/300\n",
      "13/13 [==============================] - 0s 5ms/step - loss: 0.4456 - accuracy: 0.5544 - val_loss: 0.4898 - val_accuracy: 0.5102\n",
      "Epoch 68/300\n",
      "13/13 [==============================] - 0s 4ms/step - loss: 0.4456 - accuracy: 0.5544 - val_loss: 0.4898 - val_accuracy: 0.5102\n",
      "Epoch 69/300\n",
      "13/13 [==============================] - 0s 6ms/step - loss: 0.4456 - accuracy: 0.5544 - val_loss: 0.4898 - val_accuracy: 0.5102\n",
      "Epoch 70/300\n",
      "13/13 [==============================] - 0s 5ms/step - loss: 0.4456 - accuracy: 0.5544 - val_loss: 0.4898 - val_accuracy: 0.5102\n",
      "Epoch 71/300\n",
      "13/13 [==============================] - 0s 4ms/step - loss: 0.4456 - accuracy: 0.5544 - val_loss: 0.4898 - val_accuracy: 0.5102\n",
      "Epoch 72/300\n",
      "13/13 [==============================] - 0s 5ms/step - loss: 0.4456 - accuracy: 0.5544 - val_loss: 0.4898 - val_accuracy: 0.5102\n",
      "Epoch 73/300\n",
      "13/13 [==============================] - 0s 5ms/step - loss: 0.4456 - accuracy: 0.5544 - val_loss: 0.4898 - val_accuracy: 0.5102\n",
      "Epoch 74/300\n",
      "13/13 [==============================] - 0s 5ms/step - loss: 0.4456 - accuracy: 0.5544 - val_loss: 0.4898 - val_accuracy: 0.5102\n",
      "Epoch 75/300\n",
      "13/13 [==============================] - 0s 4ms/step - loss: 0.4456 - accuracy: 0.5544 - val_loss: 0.4898 - val_accuracy: 0.5102\n",
      "Epoch 76/300\n",
      "13/13 [==============================] - 0s 5ms/step - loss: 0.4456 - accuracy: 0.5544 - val_loss: 0.4898 - val_accuracy: 0.5102\n",
      "Epoch 77/300\n",
      "13/13 [==============================] - 0s 4ms/step - loss: 0.4456 - accuracy: 0.5544 - val_loss: 0.4898 - val_accuracy: 0.5102\n",
      "Epoch 78/300\n",
      "13/13 [==============================] - 0s 5ms/step - loss: 0.4456 - accuracy: 0.5544 - val_loss: 0.4898 - val_accuracy: 0.5102\n",
      "Epoch 79/300\n",
      "13/13 [==============================] - 0s 5ms/step - loss: 0.4456 - accuracy: 0.5544 - val_loss: 0.4898 - val_accuracy: 0.5102\n",
      "Epoch 80/300\n",
      "13/13 [==============================] - 0s 5ms/step - loss: 0.4456 - accuracy: 0.5544 - val_loss: 0.4898 - val_accuracy: 0.5102\n",
      "Epoch 81/300\n",
      "13/13 [==============================] - 0s 3ms/step - loss: 0.4456 - accuracy: 0.5544 - val_loss: 0.4898 - val_accuracy: 0.5102\n",
      "Epoch 82/300\n",
      "13/13 [==============================] - 0s 5ms/step - loss: 0.4456 - accuracy: 0.5544 - val_loss: 0.4898 - val_accuracy: 0.5102\n",
      "Epoch 83/300\n",
      "13/13 [==============================] - 0s 5ms/step - loss: 0.4456 - accuracy: 0.5544 - val_loss: 0.4898 - val_accuracy: 0.5102\n",
      "Epoch 84/300\n",
      "13/13 [==============================] - 0s 5ms/step - loss: 0.4456 - accuracy: 0.5544 - val_loss: 0.4898 - val_accuracy: 0.5102\n",
      "Epoch 85/300\n",
      "13/13 [==============================] - 0s 6ms/step - loss: 0.4456 - accuracy: 0.5544 - val_loss: 0.4898 - val_accuracy: 0.5102\n",
      "Epoch 86/300\n",
      "13/13 [==============================] - 0s 5ms/step - loss: 0.4456 - accuracy: 0.5544 - val_loss: 0.4898 - val_accuracy: 0.5102\n",
      "Epoch 87/300\n",
      "13/13 [==============================] - 0s 3ms/step - loss: 0.4456 - accuracy: 0.5544 - val_loss: 0.4898 - val_accuracy: 0.5102\n",
      "Epoch 88/300\n",
      "13/13 [==============================] - 0s 4ms/step - loss: 0.4456 - accuracy: 0.5544 - val_loss: 0.4898 - val_accuracy: 0.5102\n",
      "Epoch 89/300\n",
      "13/13 [==============================] - 0s 3ms/step - loss: 0.4456 - accuracy: 0.5544 - val_loss: 0.4898 - val_accuracy: 0.5102\n",
      "Epoch 90/300\n",
      "13/13 [==============================] - 0s 3ms/step - loss: 0.4456 - accuracy: 0.5544 - val_loss: 0.4898 - val_accuracy: 0.5102\n",
      "Epoch 91/300\n",
      "13/13 [==============================] - 0s 5ms/step - loss: 0.4456 - accuracy: 0.5544 - val_loss: 0.4898 - val_accuracy: 0.5102\n",
      "Epoch 92/300\n",
      "13/13 [==============================] - 0s 4ms/step - loss: 0.4456 - accuracy: 0.5544 - val_loss: 0.4898 - val_accuracy: 0.5102\n",
      "Epoch 93/300\n",
      "13/13 [==============================] - 0s 4ms/step - loss: 0.4456 - accuracy: 0.5544 - val_loss: 0.4898 - val_accuracy: 0.5102\n",
      "Epoch 94/300\n",
      "13/13 [==============================] - 0s 5ms/step - loss: 0.4456 - accuracy: 0.5544 - val_loss: 0.4898 - val_accuracy: 0.5102\n",
      "Epoch 95/300\n",
      "13/13 [==============================] - 0s 3ms/step - loss: 0.4456 - accuracy: 0.5544 - val_loss: 0.4898 - val_accuracy: 0.5102\n",
      "Epoch 96/300\n",
      "13/13 [==============================] - 0s 5ms/step - loss: 0.4456 - accuracy: 0.5544 - val_loss: 0.4898 - val_accuracy: 0.5102\n",
      "Epoch 97/300\n",
      "13/13 [==============================] - 0s 5ms/step - loss: 0.4456 - accuracy: 0.5544 - val_loss: 0.4898 - val_accuracy: 0.5102\n",
      "Epoch 98/300\n",
      "13/13 [==============================] - 0s 5ms/step - loss: 0.4456 - accuracy: 0.5544 - val_loss: 0.4898 - val_accuracy: 0.5102\n",
      "Epoch 99/300\n",
      "13/13 [==============================] - 0s 5ms/step - loss: 0.4456 - accuracy: 0.5544 - val_loss: 0.4898 - val_accuracy: 0.5102\n",
      "Epoch 100/300\n",
      "13/13 [==============================] - 0s 5ms/step - loss: 0.4456 - accuracy: 0.5544 - val_loss: 0.4898 - val_accuracy: 0.5102\n",
      "Epoch 101/300\n",
      "13/13 [==============================] - 0s 4ms/step - loss: 0.4456 - accuracy: 0.5544 - val_loss: 0.4898 - val_accuracy: 0.5102\n",
      "Epoch 102/300\n",
      "13/13 [==============================] - 0s 4ms/step - loss: 0.4456 - accuracy: 0.5544 - val_loss: 0.4898 - val_accuracy: 0.5102\n",
      "Epoch 103/300\n",
      "13/13 [==============================] - 0s 4ms/step - loss: 0.4456 - accuracy: 0.5544 - val_loss: 0.4898 - val_accuracy: 0.5102\n",
      "Epoch 104/300\n",
      "13/13 [==============================] - 0s 5ms/step - loss: 0.4456 - accuracy: 0.5544 - val_loss: 0.4898 - val_accuracy: 0.5102\n",
      "Epoch 105/300\n",
      "13/13 [==============================] - 0s 5ms/step - loss: 0.4456 - accuracy: 0.5544 - val_loss: 0.4898 - val_accuracy: 0.5102\n",
      "Epoch 106/300\n",
      "13/13 [==============================] - 0s 5ms/step - loss: 0.4456 - accuracy: 0.5544 - val_loss: 0.4898 - val_accuracy: 0.5102\n",
      "Epoch 107/300\n",
      "13/13 [==============================] - 0s 6ms/step - loss: 0.4456 - accuracy: 0.5544 - val_loss: 0.4898 - val_accuracy: 0.5102\n",
      "Epoch 108/300\n",
      "13/13 [==============================] - 0s 4ms/step - loss: 0.4456 - accuracy: 0.5544 - val_loss: 0.4898 - val_accuracy: 0.5102\n",
      "Epoch 109/300\n",
      "13/13 [==============================] - 0s 4ms/step - loss: 0.4456 - accuracy: 0.5544 - val_loss: 0.4898 - val_accuracy: 0.5102\n",
      "Epoch 110/300\n",
      "13/13 [==============================] - 0s 5ms/step - loss: 0.4456 - accuracy: 0.5544 - val_loss: 0.4898 - val_accuracy: 0.5102\n",
      "Epoch 111/300\n",
      "13/13 [==============================] - 0s 6ms/step - loss: 0.4456 - accuracy: 0.5544 - val_loss: 0.4898 - val_accuracy: 0.5102\n",
      "Epoch 112/300\n",
      "13/13 [==============================] - 0s 4ms/step - loss: 0.4456 - accuracy: 0.5544 - val_loss: 0.4898 - val_accuracy: 0.5102\n",
      "Epoch 113/300\n",
      "13/13 [==============================] - 0s 4ms/step - loss: 0.4456 - accuracy: 0.5544 - val_loss: 0.4898 - val_accuracy: 0.5102\n",
      "Epoch 114/300\n",
      "13/13 [==============================] - 0s 5ms/step - loss: 0.4456 - accuracy: 0.5544 - val_loss: 0.4898 - val_accuracy: 0.5102\n",
      "Epoch 115/300\n",
      "13/13 [==============================] - 0s 5ms/step - loss: 0.4456 - accuracy: 0.5544 - val_loss: 0.4898 - val_accuracy: 0.5102\n",
      "Epoch 116/300\n",
      "13/13 [==============================] - 0s 4ms/step - loss: 0.4456 - accuracy: 0.5544 - val_loss: 0.4898 - val_accuracy: 0.5102\n",
      "Epoch 117/300\n",
      "13/13 [==============================] - 0s 5ms/step - loss: 0.4456 - accuracy: 0.5544 - val_loss: 0.4898 - val_accuracy: 0.5102\n",
      "Epoch 118/300\n",
      "13/13 [==============================] - 0s 5ms/step - loss: 0.4456 - accuracy: 0.5544 - val_loss: 0.4898 - val_accuracy: 0.5102\n",
      "Epoch 119/300\n",
      "13/13 [==============================] - 0s 5ms/step - loss: 0.4456 - accuracy: 0.5544 - val_loss: 0.4898 - val_accuracy: 0.5102\n",
      "Epoch 120/300\n",
      "13/13 [==============================] - 0s 6ms/step - loss: 0.4456 - accuracy: 0.5544 - val_loss: 0.4898 - val_accuracy: 0.5102\n",
      "Epoch 121/300\n",
      "13/13 [==============================] - 0s 5ms/step - loss: 0.4456 - accuracy: 0.5544 - val_loss: 0.4898 - val_accuracy: 0.5102\n",
      "Epoch 122/300\n",
      "13/13 [==============================] - 0s 5ms/step - loss: 0.4456 - accuracy: 0.5544 - val_loss: 0.4898 - val_accuracy: 0.5102\n",
      "Epoch 123/300\n",
      "13/13 [==============================] - 0s 4ms/step - loss: 0.4456 - accuracy: 0.5544 - val_loss: 0.4898 - val_accuracy: 0.5102\n",
      "Epoch 124/300\n",
      "13/13 [==============================] - 0s 4ms/step - loss: 0.4456 - accuracy: 0.5544 - val_loss: 0.4898 - val_accuracy: 0.5102\n",
      "Epoch 125/300\n",
      "13/13 [==============================] - 0s 6ms/step - loss: 0.4456 - accuracy: 0.5544 - val_loss: 0.4898 - val_accuracy: 0.5102\n",
      "Epoch 126/300\n",
      "13/13 [==============================] - 0s 4ms/step - loss: 0.4456 - accuracy: 0.5544 - val_loss: 0.4898 - val_accuracy: 0.5102\n",
      "Epoch 127/300\n",
      "13/13 [==============================] - 0s 4ms/step - loss: 0.4456 - accuracy: 0.5544 - val_loss: 0.4898 - val_accuracy: 0.5102\n",
      "Epoch 128/300\n",
      "13/13 [==============================] - 0s 4ms/step - loss: 0.4456 - accuracy: 0.5544 - val_loss: 0.4898 - val_accuracy: 0.5102\n",
      "Epoch 129/300\n",
      "13/13 [==============================] - 0s 4ms/step - loss: 0.4456 - accuracy: 0.5544 - val_loss: 0.4898 - val_accuracy: 0.5102\n",
      "Epoch 130/300\n",
      "13/13 [==============================] - 0s 4ms/step - loss: 0.4456 - accuracy: 0.5544 - val_loss: 0.4898 - val_accuracy: 0.5102\n",
      "Epoch 131/300\n",
      "13/13 [==============================] - 0s 4ms/step - loss: 0.4456 - accuracy: 0.5544 - val_loss: 0.4898 - val_accuracy: 0.5102\n",
      "Epoch 132/300\n",
      "13/13 [==============================] - 0s 4ms/step - loss: 0.4456 - accuracy: 0.5544 - val_loss: 0.4898 - val_accuracy: 0.5102\n",
      "Epoch 133/300\n",
      "13/13 [==============================] - 0s 5ms/step - loss: 0.4456 - accuracy: 0.5544 - val_loss: 0.4898 - val_accuracy: 0.5102\n",
      "Epoch 134/300\n",
      "13/13 [==============================] - 0s 5ms/step - loss: 0.4456 - accuracy: 0.5544 - val_loss: 0.4898 - val_accuracy: 0.5102\n",
      "Epoch 135/300\n",
      "13/13 [==============================] - 0s 4ms/step - loss: 0.4456 - accuracy: 0.5544 - val_loss: 0.4898 - val_accuracy: 0.5102\n",
      "Epoch 136/300\n",
      "13/13 [==============================] - 0s 6ms/step - loss: 0.4456 - accuracy: 0.5544 - val_loss: 0.4898 - val_accuracy: 0.5102\n",
      "Epoch 137/300\n",
      "13/13 [==============================] - 0s 4ms/step - loss: 0.4456 - accuracy: 0.5544 - val_loss: 0.4898 - val_accuracy: 0.5102\n",
      "Epoch 138/300\n",
      "13/13 [==============================] - 0s 4ms/step - loss: 0.4456 - accuracy: 0.5544 - val_loss: 0.4898 - val_accuracy: 0.5102\n",
      "Epoch 139/300\n",
      "13/13 [==============================] - 0s 4ms/step - loss: 0.4456 - accuracy: 0.5544 - val_loss: 0.4898 - val_accuracy: 0.5102\n",
      "Epoch 140/300\n",
      "13/13 [==============================] - 0s 4ms/step - loss: 0.4456 - accuracy: 0.5544 - val_loss: 0.4898 - val_accuracy: 0.5102\n",
      "Epoch 141/300\n",
      "13/13 [==============================] - 0s 4ms/step - loss: 0.4456 - accuracy: 0.5544 - val_loss: 0.4898 - val_accuracy: 0.5102\n",
      "Epoch 142/300\n",
      "13/13 [==============================] - 0s 5ms/step - loss: 0.4456 - accuracy: 0.5544 - val_loss: 0.4898 - val_accuracy: 0.5102\n",
      "Epoch 143/300\n",
      "13/13 [==============================] - 0s 5ms/step - loss: 0.4456 - accuracy: 0.5544 - val_loss: 0.4898 - val_accuracy: 0.5102\n",
      "Epoch 144/300\n",
      "13/13 [==============================] - 0s 6ms/step - loss: 0.4456 - accuracy: 0.5544 - val_loss: 0.4898 - val_accuracy: 0.5102\n",
      "Epoch 145/300\n",
      "13/13 [==============================] - 0s 6ms/step - loss: 0.4456 - accuracy: 0.5544 - val_loss: 0.4898 - val_accuracy: 0.5102\n",
      "Epoch 146/300\n",
      "13/13 [==============================] - 0s 5ms/step - loss: 0.4456 - accuracy: 0.5544 - val_loss: 0.4898 - val_accuracy: 0.5102\n",
      "Epoch 147/300\n",
      "13/13 [==============================] - 0s 3ms/step - loss: 0.4456 - accuracy: 0.5544 - val_loss: 0.4898 - val_accuracy: 0.5102\n",
      "Epoch 148/300\n",
      "13/13 [==============================] - 0s 4ms/step - loss: 0.4456 - accuracy: 0.5544 - val_loss: 0.4898 - val_accuracy: 0.5102\n",
      "Epoch 149/300\n",
      "13/13 [==============================] - 0s 5ms/step - loss: 0.4456 - accuracy: 0.5544 - val_loss: 0.4898 - val_accuracy: 0.5102\n",
      "Epoch 150/300\n",
      "13/13 [==============================] - 0s 5ms/step - loss: 0.4456 - accuracy: 0.5544 - val_loss: 0.4898 - val_accuracy: 0.5102\n",
      "Epoch 151/300\n",
      "13/13 [==============================] - 0s 6ms/step - loss: 0.4456 - accuracy: 0.5544 - val_loss: 0.4898 - val_accuracy: 0.5102\n",
      "Epoch 152/300\n",
      "13/13 [==============================] - 0s 5ms/step - loss: 0.4456 - accuracy: 0.5544 - val_loss: 0.4898 - val_accuracy: 0.5102\n",
      "Epoch 153/300\n",
      "13/13 [==============================] - 0s 5ms/step - loss: 0.4456 - accuracy: 0.5544 - val_loss: 0.4898 - val_accuracy: 0.5102\n",
      "Epoch 154/300\n",
      "13/13 [==============================] - 0s 4ms/step - loss: 0.4456 - accuracy: 0.5544 - val_loss: 0.4898 - val_accuracy: 0.5102\n",
      "Epoch 155/300\n",
      "13/13 [==============================] - 0s 6ms/step - loss: 0.4456 - accuracy: 0.5544 - val_loss: 0.4898 - val_accuracy: 0.5102\n",
      "Epoch 156/300\n",
      "13/13 [==============================] - 0s 4ms/step - loss: 0.4456 - accuracy: 0.5544 - val_loss: 0.4898 - val_accuracy: 0.5102\n",
      "Epoch 157/300\n",
      "13/13 [==============================] - 0s 6ms/step - loss: 0.4456 - accuracy: 0.5544 - val_loss: 0.4898 - val_accuracy: 0.5102\n",
      "Epoch 158/300\n",
      "13/13 [==============================] - 0s 5ms/step - loss: 0.4456 - accuracy: 0.5544 - val_loss: 0.4898 - val_accuracy: 0.5102\n",
      "Epoch 159/300\n",
      "13/13 [==============================] - 0s 4ms/step - loss: 0.4456 - accuracy: 0.5544 - val_loss: 0.4898 - val_accuracy: 0.5102\n",
      "Epoch 160/300\n",
      "13/13 [==============================] - 0s 4ms/step - loss: 0.4456 - accuracy: 0.5544 - val_loss: 0.4898 - val_accuracy: 0.5102\n",
      "Epoch 161/300\n",
      "13/13 [==============================] - 0s 5ms/step - loss: 0.4456 - accuracy: 0.5544 - val_loss: 0.4898 - val_accuracy: 0.5102\n",
      "Epoch 162/300\n",
      "13/13 [==============================] - 0s 5ms/step - loss: 0.4456 - accuracy: 0.5544 - val_loss: 0.4898 - val_accuracy: 0.5102\n",
      "Epoch 163/300\n",
      "13/13 [==============================] - 0s 4ms/step - loss: 0.4456 - accuracy: 0.5544 - val_loss: 0.4898 - val_accuracy: 0.5102\n",
      "Epoch 164/300\n",
      "13/13 [==============================] - 0s 4ms/step - loss: 0.4456 - accuracy: 0.5544 - val_loss: 0.4898 - val_accuracy: 0.5102\n",
      "Epoch 165/300\n",
      "13/13 [==============================] - 0s 4ms/step - loss: 0.4456 - accuracy: 0.5544 - val_loss: 0.4898 - val_accuracy: 0.5102\n",
      "Epoch 166/300\n",
      "13/13 [==============================] - 0s 5ms/step - loss: 0.4456 - accuracy: 0.5544 - val_loss: 0.4898 - val_accuracy: 0.5102\n",
      "Epoch 167/300\n",
      "13/13 [==============================] - 0s 6ms/step - loss: 0.4456 - accuracy: 0.5544 - val_loss: 0.4898 - val_accuracy: 0.5102\n",
      "Epoch 168/300\n",
      "13/13 [==============================] - 0s 5ms/step - loss: 0.4456 - accuracy: 0.5544 - val_loss: 0.4898 - val_accuracy: 0.5102\n",
      "Epoch 169/300\n",
      "13/13 [==============================] - 0s 4ms/step - loss: 0.4456 - accuracy: 0.5544 - val_loss: 0.4898 - val_accuracy: 0.5102\n",
      "Epoch 170/300\n",
      "13/13 [==============================] - 0s 5ms/step - loss: 0.4456 - accuracy: 0.5544 - val_loss: 0.4898 - val_accuracy: 0.5102\n",
      "Epoch 171/300\n",
      "13/13 [==============================] - 0s 5ms/step - loss: 0.4456 - accuracy: 0.5544 - val_loss: 0.4898 - val_accuracy: 0.5102\n",
      "Epoch 172/300\n",
      "13/13 [==============================] - 0s 4ms/step - loss: 0.4456 - accuracy: 0.5544 - val_loss: 0.4898 - val_accuracy: 0.5102\n",
      "Epoch 173/300\n",
      "13/13 [==============================] - 0s 4ms/step - loss: 0.4456 - accuracy: 0.5544 - val_loss: 0.4898 - val_accuracy: 0.5102\n",
      "Epoch 174/300\n",
      "13/13 [==============================] - 0s 5ms/step - loss: 0.4456 - accuracy: 0.5544 - val_loss: 0.4898 - val_accuracy: 0.5102\n",
      "Epoch 175/300\n",
      "13/13 [==============================] - 0s 4ms/step - loss: 0.4456 - accuracy: 0.5544 - val_loss: 0.4898 - val_accuracy: 0.5102\n",
      "Epoch 176/300\n",
      "13/13 [==============================] - 0s 4ms/step - loss: 0.4456 - accuracy: 0.5544 - val_loss: 0.4898 - val_accuracy: 0.5102\n",
      "Epoch 177/300\n",
      "13/13 [==============================] - 0s 4ms/step - loss: 0.4456 - accuracy: 0.5544 - val_loss: 0.4898 - val_accuracy: 0.5102\n",
      "Epoch 178/300\n",
      "13/13 [==============================] - 0s 4ms/step - loss: 0.4456 - accuracy: 0.5544 - val_loss: 0.4898 - val_accuracy: 0.5102\n",
      "Epoch 179/300\n",
      "13/13 [==============================] - 0s 5ms/step - loss: 0.4456 - accuracy: 0.5544 - val_loss: 0.4898 - val_accuracy: 0.5102\n",
      "Epoch 180/300\n",
      "13/13 [==============================] - 0s 5ms/step - loss: 0.4456 - accuracy: 0.5544 - val_loss: 0.4898 - val_accuracy: 0.5102\n",
      "Epoch 181/300\n",
      "13/13 [==============================] - 0s 5ms/step - loss: 0.4456 - accuracy: 0.5544 - val_loss: 0.4898 - val_accuracy: 0.5102\n",
      "Epoch 182/300\n",
      "13/13 [==============================] - 0s 5ms/step - loss: 0.4456 - accuracy: 0.5544 - val_loss: 0.4898 - val_accuracy: 0.5102\n",
      "Epoch 183/300\n",
      "13/13 [==============================] - 0s 5ms/step - loss: 0.4456 - accuracy: 0.5544 - val_loss: 0.4898 - val_accuracy: 0.5102\n",
      "Epoch 184/300\n",
      "13/13 [==============================] - 0s 5ms/step - loss: 0.4456 - accuracy: 0.5544 - val_loss: 0.4898 - val_accuracy: 0.5102\n",
      "Epoch 185/300\n",
      "13/13 [==============================] - 0s 5ms/step - loss: 0.4456 - accuracy: 0.5544 - val_loss: 0.4898 - val_accuracy: 0.5102\n",
      "Epoch 186/300\n",
      "13/13 [==============================] - 0s 5ms/step - loss: 0.4456 - accuracy: 0.5544 - val_loss: 0.4898 - val_accuracy: 0.5102\n",
      "Epoch 187/300\n",
      "13/13 [==============================] - 0s 4ms/step - loss: 0.4456 - accuracy: 0.5544 - val_loss: 0.4898 - val_accuracy: 0.5102\n",
      "Epoch 188/300\n",
      "13/13 [==============================] - 0s 4ms/step - loss: 0.4456 - accuracy: 0.5544 - val_loss: 0.4898 - val_accuracy: 0.5102\n",
      "Epoch 189/300\n",
      "13/13 [==============================] - 0s 5ms/step - loss: 0.4456 - accuracy: 0.5544 - val_loss: 0.4898 - val_accuracy: 0.5102\n",
      "Epoch 190/300\n",
      "13/13 [==============================] - 0s 6ms/step - loss: 0.4456 - accuracy: 0.5544 - val_loss: 0.4898 - val_accuracy: 0.5102\n",
      "Epoch 191/300\n",
      "13/13 [==============================] - 0s 4ms/step - loss: 0.4456 - accuracy: 0.5544 - val_loss: 0.4898 - val_accuracy: 0.5102\n",
      "Epoch 192/300\n",
      "13/13 [==============================] - 0s 5ms/step - loss: 0.4456 - accuracy: 0.5544 - val_loss: 0.4898 - val_accuracy: 0.5102\n",
      "Epoch 193/300\n",
      "13/13 [==============================] - 0s 6ms/step - loss: 0.4456 - accuracy: 0.5544 - val_loss: 0.4898 - val_accuracy: 0.5102\n",
      "Epoch 194/300\n",
      "13/13 [==============================] - 0s 5ms/step - loss: 0.4456 - accuracy: 0.5544 - val_loss: 0.4898 - val_accuracy: 0.5102\n",
      "Epoch 195/300\n",
      "13/13 [==============================] - 0s 4ms/step - loss: 0.4456 - accuracy: 0.5544 - val_loss: 0.4898 - val_accuracy: 0.5102\n",
      "Epoch 196/300\n",
      "13/13 [==============================] - 0s 4ms/step - loss: 0.4456 - accuracy: 0.5544 - val_loss: 0.4898 - val_accuracy: 0.5102\n",
      "Epoch 197/300\n",
      "13/13 [==============================] - 0s 5ms/step - loss: 0.4456 - accuracy: 0.5544 - val_loss: 0.4898 - val_accuracy: 0.5102\n",
      "Epoch 198/300\n",
      "13/13 [==============================] - 0s 5ms/step - loss: 0.4456 - accuracy: 0.5544 - val_loss: 0.4898 - val_accuracy: 0.5102\n",
      "Epoch 199/300\n",
      "13/13 [==============================] - 0s 3ms/step - loss: 0.4456 - accuracy: 0.5544 - val_loss: 0.4898 - val_accuracy: 0.5102\n",
      "Epoch 200/300\n",
      "13/13 [==============================] - 0s 5ms/step - loss: 0.4456 - accuracy: 0.5544 - val_loss: 0.4898 - val_accuracy: 0.5102\n",
      "Epoch 201/300\n",
      "13/13 [==============================] - 0s 4ms/step - loss: 0.4456 - accuracy: 0.5544 - val_loss: 0.4898 - val_accuracy: 0.5102\n",
      "Epoch 202/300\n",
      "13/13 [==============================] - 0s 5ms/step - loss: 0.4456 - accuracy: 0.5544 - val_loss: 0.4898 - val_accuracy: 0.5102\n",
      "Epoch 203/300\n",
      "13/13 [==============================] - 0s 4ms/step - loss: 0.4456 - accuracy: 0.5544 - val_loss: 0.4898 - val_accuracy: 0.5102\n",
      "Epoch 204/300\n",
      "13/13 [==============================] - 0s 4ms/step - loss: 0.4456 - accuracy: 0.5544 - val_loss: 0.4898 - val_accuracy: 0.5102\n",
      "Epoch 205/300\n",
      "13/13 [==============================] - 0s 4ms/step - loss: 0.4456 - accuracy: 0.5544 - val_loss: 0.4898 - val_accuracy: 0.5102\n",
      "Epoch 206/300\n",
      "13/13 [==============================] - 0s 5ms/step - loss: 0.4456 - accuracy: 0.5544 - val_loss: 0.4898 - val_accuracy: 0.5102\n",
      "Epoch 207/300\n",
      "13/13 [==============================] - 0s 4ms/step - loss: 0.4456 - accuracy: 0.5544 - val_loss: 0.4898 - val_accuracy: 0.5102\n",
      "Epoch 208/300\n",
      "13/13 [==============================] - 0s 5ms/step - loss: 0.4456 - accuracy: 0.5544 - val_loss: 0.4898 - val_accuracy: 0.5102\n",
      "Epoch 209/300\n",
      "13/13 [==============================] - 0s 4ms/step - loss: 0.4456 - accuracy: 0.5544 - val_loss: 0.4898 - val_accuracy: 0.5102\n",
      "Epoch 210/300\n",
      "13/13 [==============================] - 0s 4ms/step - loss: 0.4456 - accuracy: 0.5544 - val_loss: 0.4898 - val_accuracy: 0.5102\n",
      "Epoch 211/300\n",
      "13/13 [==============================] - 0s 5ms/step - loss: 0.4456 - accuracy: 0.5544 - val_loss: 0.4898 - val_accuracy: 0.5102\n",
      "Epoch 212/300\n",
      "13/13 [==============================] - 0s 5ms/step - loss: 0.4456 - accuracy: 0.5544 - val_loss: 0.4898 - val_accuracy: 0.5102\n",
      "Epoch 213/300\n",
      "13/13 [==============================] - 0s 5ms/step - loss: 0.4456 - accuracy: 0.5544 - val_loss: 0.4898 - val_accuracy: 0.5102\n",
      "Epoch 214/300\n",
      "13/13 [==============================] - 0s 4ms/step - loss: 0.4456 - accuracy: 0.5544 - val_loss: 0.4898 - val_accuracy: 0.5102\n",
      "Epoch 215/300\n",
      "13/13 [==============================] - 0s 3ms/step - loss: 0.4456 - accuracy: 0.5544 - val_loss: 0.4898 - val_accuracy: 0.5102\n",
      "Epoch 216/300\n",
      "13/13 [==============================] - 0s 4ms/step - loss: 0.4456 - accuracy: 0.5544 - val_loss: 0.4898 - val_accuracy: 0.5102\n",
      "Epoch 217/300\n",
      "13/13 [==============================] - 0s 5ms/step - loss: 0.4456 - accuracy: 0.5544 - val_loss: 0.4898 - val_accuracy: 0.5102\n",
      "Epoch 218/300\n",
      "13/13 [==============================] - 0s 5ms/step - loss: 0.4456 - accuracy: 0.5544 - val_loss: 0.4898 - val_accuracy: 0.5102\n",
      "Epoch 219/300\n",
      "13/13 [==============================] - 0s 5ms/step - loss: 0.4456 - accuracy: 0.5544 - val_loss: 0.4898 - val_accuracy: 0.5102\n",
      "Epoch 220/300\n",
      "13/13 [==============================] - 0s 5ms/step - loss: 0.4456 - accuracy: 0.5544 - val_loss: 0.4898 - val_accuracy: 0.5102\n",
      "Epoch 221/300\n",
      "13/13 [==============================] - 0s 4ms/step - loss: 0.4456 - accuracy: 0.5544 - val_loss: 0.4898 - val_accuracy: 0.5102\n",
      "Epoch 222/300\n",
      "13/13 [==============================] - 0s 4ms/step - loss: 0.4456 - accuracy: 0.5544 - val_loss: 0.4898 - val_accuracy: 0.5102\n",
      "Epoch 223/300\n",
      "13/13 [==============================] - 0s 5ms/step - loss: 0.4456 - accuracy: 0.5544 - val_loss: 0.4898 - val_accuracy: 0.5102\n",
      "Epoch 224/300\n",
      "13/13 [==============================] - 0s 4ms/step - loss: 0.4456 - accuracy: 0.5544 - val_loss: 0.4898 - val_accuracy: 0.5102\n",
      "Epoch 225/300\n",
      "13/13 [==============================] - 0s 5ms/step - loss: 0.4456 - accuracy: 0.5544 - val_loss: 0.4898 - val_accuracy: 0.5102\n",
      "Epoch 226/300\n",
      "13/13 [==============================] - 0s 4ms/step - loss: 0.4456 - accuracy: 0.5544 - val_loss: 0.4898 - val_accuracy: 0.5102\n",
      "Epoch 227/300\n",
      "13/13 [==============================] - 0s 5ms/step - loss: 0.4456 - accuracy: 0.5544 - val_loss: 0.4898 - val_accuracy: 0.5102\n",
      "Epoch 228/300\n",
      "13/13 [==============================] - 0s 6ms/step - loss: 0.4456 - accuracy: 0.5544 - val_loss: 0.4898 - val_accuracy: 0.5102\n",
      "Epoch 229/300\n",
      "13/13 [==============================] - 0s 5ms/step - loss: 0.4456 - accuracy: 0.5544 - val_loss: 0.4898 - val_accuracy: 0.5102\n",
      "Epoch 230/300\n",
      "13/13 [==============================] - 0s 5ms/step - loss: 0.4456 - accuracy: 0.5544 - val_loss: 0.4898 - val_accuracy: 0.5102\n",
      "Epoch 231/300\n",
      "13/13 [==============================] - 0s 4ms/step - loss: 0.4456 - accuracy: 0.5544 - val_loss: 0.4898 - val_accuracy: 0.5102\n",
      "Epoch 232/300\n",
      "13/13 [==============================] - 0s 4ms/step - loss: 0.4456 - accuracy: 0.5544 - val_loss: 0.4898 - val_accuracy: 0.5102\n",
      "Epoch 233/300\n",
      "13/13 [==============================] - 0s 5ms/step - loss: 0.4456 - accuracy: 0.5544 - val_loss: 0.4898 - val_accuracy: 0.5102\n",
      "Epoch 234/300\n",
      "13/13 [==============================] - 0s 4ms/step - loss: 0.4456 - accuracy: 0.5544 - val_loss: 0.4898 - val_accuracy: 0.5102\n",
      "Epoch 235/300\n",
      "13/13 [==============================] - 0s 4ms/step - loss: 0.4456 - accuracy: 0.5544 - val_loss: 0.4898 - val_accuracy: 0.5102\n",
      "Epoch 236/300\n",
      "13/13 [==============================] - 0s 5ms/step - loss: 0.4456 - accuracy: 0.5544 - val_loss: 0.4898 - val_accuracy: 0.5102\n",
      "Epoch 237/300\n",
      "13/13 [==============================] - 0s 4ms/step - loss: 0.4456 - accuracy: 0.5544 - val_loss: 0.4898 - val_accuracy: 0.5102\n",
      "Epoch 238/300\n",
      "13/13 [==============================] - 0s 5ms/step - loss: 0.4456 - accuracy: 0.5544 - val_loss: 0.4898 - val_accuracy: 0.5102\n",
      "Epoch 239/300\n",
      "13/13 [==============================] - 0s 4ms/step - loss: 0.4456 - accuracy: 0.5544 - val_loss: 0.4898 - val_accuracy: 0.5102\n",
      "Epoch 240/300\n",
      "13/13 [==============================] - 0s 5ms/step - loss: 0.4456 - accuracy: 0.5544 - val_loss: 0.4898 - val_accuracy: 0.5102\n",
      "Epoch 241/300\n",
      "13/13 [==============================] - 0s 5ms/step - loss: 0.4456 - accuracy: 0.5544 - val_loss: 0.4898 - val_accuracy: 0.5102\n",
      "Epoch 242/300\n",
      "13/13 [==============================] - 0s 4ms/step - loss: 0.4456 - accuracy: 0.5544 - val_loss: 0.4898 - val_accuracy: 0.5102\n",
      "Epoch 243/300\n",
      "13/13 [==============================] - 0s 4ms/step - loss: 0.4456 - accuracy: 0.5544 - val_loss: 0.4898 - val_accuracy: 0.5102\n",
      "Epoch 244/300\n",
      "13/13 [==============================] - 0s 4ms/step - loss: 0.4456 - accuracy: 0.5544 - val_loss: 0.4898 - val_accuracy: 0.5102\n",
      "Epoch 245/300\n",
      "13/13 [==============================] - 0s 4ms/step - loss: 0.4456 - accuracy: 0.5544 - val_loss: 0.4898 - val_accuracy: 0.5102\n",
      "Epoch 246/300\n",
      "13/13 [==============================] - 0s 5ms/step - loss: 0.4456 - accuracy: 0.5544 - val_loss: 0.4898 - val_accuracy: 0.5102\n",
      "Epoch 247/300\n",
      "13/13 [==============================] - 0s 4ms/step - loss: 0.4456 - accuracy: 0.5544 - val_loss: 0.4898 - val_accuracy: 0.5102\n",
      "Epoch 248/300\n",
      "13/13 [==============================] - 0s 4ms/step - loss: 0.4456 - accuracy: 0.5544 - val_loss: 0.4898 - val_accuracy: 0.5102\n",
      "Epoch 249/300\n",
      "13/13 [==============================] - 0s 5ms/step - loss: 0.4456 - accuracy: 0.5544 - val_loss: 0.4898 - val_accuracy: 0.5102\n",
      "Epoch 250/300\n",
      "13/13 [==============================] - 0s 5ms/step - loss: 0.4456 - accuracy: 0.5544 - val_loss: 0.4898 - val_accuracy: 0.5102\n",
      "Epoch 251/300\n",
      "13/13 [==============================] - 0s 4ms/step - loss: 0.4456 - accuracy: 0.5544 - val_loss: 0.4898 - val_accuracy: 0.5102\n",
      "Epoch 252/300\n",
      "13/13 [==============================] - 0s 5ms/step - loss: 0.4456 - accuracy: 0.5544 - val_loss: 0.4898 - val_accuracy: 0.5102\n",
      "Epoch 253/300\n",
      "13/13 [==============================] - 0s 4ms/step - loss: 0.4456 - accuracy: 0.5544 - val_loss: 0.4898 - val_accuracy: 0.5102\n",
      "Epoch 254/300\n",
      "13/13 [==============================] - 0s 6ms/step - loss: 0.4456 - accuracy: 0.5544 - val_loss: 0.4898 - val_accuracy: 0.5102\n",
      "Epoch 255/300\n",
      "13/13 [==============================] - 0s 4ms/step - loss: 0.4456 - accuracy: 0.5544 - val_loss: 0.4898 - val_accuracy: 0.5102\n",
      "Epoch 256/300\n",
      "13/13 [==============================] - 0s 4ms/step - loss: 0.4456 - accuracy: 0.5544 - val_loss: 0.4898 - val_accuracy: 0.5102\n",
      "Epoch 257/300\n",
      "13/13 [==============================] - 0s 4ms/step - loss: 0.4456 - accuracy: 0.5544 - val_loss: 0.4898 - val_accuracy: 0.5102\n",
      "Epoch 258/300\n",
      "13/13 [==============================] - 0s 5ms/step - loss: 0.4456 - accuracy: 0.5544 - val_loss: 0.4898 - val_accuracy: 0.5102\n",
      "Epoch 259/300\n",
      "13/13 [==============================] - 0s 5ms/step - loss: 0.4456 - accuracy: 0.5544 - val_loss: 0.4898 - val_accuracy: 0.5102\n",
      "Epoch 260/300\n",
      "13/13 [==============================] - 0s 4ms/step - loss: 0.4456 - accuracy: 0.5544 - val_loss: 0.4898 - val_accuracy: 0.5102\n",
      "Epoch 261/300\n",
      "13/13 [==============================] - 0s 5ms/step - loss: 0.4456 - accuracy: 0.5544 - val_loss: 0.4898 - val_accuracy: 0.5102\n",
      "Epoch 262/300\n",
      "13/13 [==============================] - 0s 4ms/step - loss: 0.4456 - accuracy: 0.5544 - val_loss: 0.4898 - val_accuracy: 0.5102\n",
      "Epoch 263/300\n",
      "13/13 [==============================] - 0s 4ms/step - loss: 0.4456 - accuracy: 0.5544 - val_loss: 0.4898 - val_accuracy: 0.5102\n",
      "Epoch 264/300\n",
      "13/13 [==============================] - 0s 6ms/step - loss: 0.4456 - accuracy: 0.5544 - val_loss: 0.4898 - val_accuracy: 0.5102\n",
      "Epoch 265/300\n",
      "13/13 [==============================] - 0s 4ms/step - loss: 0.4456 - accuracy: 0.5544 - val_loss: 0.4898 - val_accuracy: 0.5102\n",
      "Epoch 266/300\n",
      "13/13 [==============================] - 0s 4ms/step - loss: 0.4456 - accuracy: 0.5544 - val_loss: 0.4898 - val_accuracy: 0.5102\n",
      "Epoch 267/300\n",
      "13/13 [==============================] - 0s 4ms/step - loss: 0.4456 - accuracy: 0.5544 - val_loss: 0.4898 - val_accuracy: 0.5102\n",
      "Epoch 268/300\n",
      "13/13 [==============================] - 0s 5ms/step - loss: 0.4456 - accuracy: 0.5544 - val_loss: 0.4898 - val_accuracy: 0.5102\n",
      "Epoch 269/300\n",
      "13/13 [==============================] - 0s 5ms/step - loss: 0.4456 - accuracy: 0.5544 - val_loss: 0.4898 - val_accuracy: 0.5102\n",
      "Epoch 270/300\n",
      "13/13 [==============================] - 0s 5ms/step - loss: 0.4456 - accuracy: 0.5544 - val_loss: 0.4898 - val_accuracy: 0.5102\n",
      "Epoch 271/300\n",
      "13/13 [==============================] - 0s 4ms/step - loss: 0.4456 - accuracy: 0.5544 - val_loss: 0.4898 - val_accuracy: 0.5102\n",
      "Epoch 272/300\n",
      "13/13 [==============================] - 0s 4ms/step - loss: 0.4456 - accuracy: 0.5544 - val_loss: 0.4898 - val_accuracy: 0.5102\n",
      "Epoch 273/300\n",
      "13/13 [==============================] - 0s 4ms/step - loss: 0.4456 - accuracy: 0.5544 - val_loss: 0.4898 - val_accuracy: 0.5102\n",
      "Epoch 274/300\n",
      "13/13 [==============================] - 0s 6ms/step - loss: 0.4456 - accuracy: 0.5544 - val_loss: 0.4898 - val_accuracy: 0.5102\n",
      "Epoch 275/300\n",
      "13/13 [==============================] - 0s 5ms/step - loss: 0.4456 - accuracy: 0.5544 - val_loss: 0.4898 - val_accuracy: 0.5102\n",
      "Epoch 276/300\n",
      "13/13 [==============================] - 0s 6ms/step - loss: 0.4456 - accuracy: 0.5544 - val_loss: 0.4898 - val_accuracy: 0.5102\n",
      "Epoch 277/300\n",
      "13/13 [==============================] - 0s 5ms/step - loss: 0.4456 - accuracy: 0.5544 - val_loss: 0.4898 - val_accuracy: 0.5102\n",
      "Epoch 278/300\n",
      "13/13 [==============================] - 0s 5ms/step - loss: 0.4456 - accuracy: 0.5544 - val_loss: 0.4898 - val_accuracy: 0.5102\n",
      "Epoch 279/300\n",
      "13/13 [==============================] - 0s 5ms/step - loss: 0.4456 - accuracy: 0.5544 - val_loss: 0.4898 - val_accuracy: 0.5102\n",
      "Epoch 280/300\n",
      "13/13 [==============================] - 0s 4ms/step - loss: 0.4456 - accuracy: 0.5544 - val_loss: 0.4898 - val_accuracy: 0.5102\n",
      "Epoch 281/300\n",
      "13/13 [==============================] - 0s 5ms/step - loss: 0.4456 - accuracy: 0.5544 - val_loss: 0.4898 - val_accuracy: 0.5102\n",
      "Epoch 282/300\n",
      "13/13 [==============================] - 0s 4ms/step - loss: 0.4456 - accuracy: 0.5544 - val_loss: 0.4898 - val_accuracy: 0.5102\n",
      "Epoch 283/300\n",
      "13/13 [==============================] - 0s 6ms/step - loss: 0.4456 - accuracy: 0.5544 - val_loss: 0.4898 - val_accuracy: 0.5102\n",
      "Epoch 284/300\n",
      "13/13 [==============================] - 0s 5ms/step - loss: 0.4456 - accuracy: 0.5544 - val_loss: 0.4898 - val_accuracy: 0.5102\n",
      "Epoch 285/300\n",
      "13/13 [==============================] - 0s 4ms/step - loss: 0.4456 - accuracy: 0.5544 - val_loss: 0.4898 - val_accuracy: 0.5102\n",
      "Epoch 286/300\n",
      "13/13 [==============================] - 0s 4ms/step - loss: 0.4456 - accuracy: 0.5544 - val_loss: 0.4898 - val_accuracy: 0.5102\n",
      "Epoch 287/300\n",
      "13/13 [==============================] - 0s 5ms/step - loss: 0.4456 - accuracy: 0.5544 - val_loss: 0.4898 - val_accuracy: 0.5102\n",
      "Epoch 288/300\n",
      "13/13 [==============================] - 0s 6ms/step - loss: 0.4456 - accuracy: 0.5544 - val_loss: 0.4898 - val_accuracy: 0.5102\n",
      "Epoch 289/300\n",
      "13/13 [==============================] - 0s 4ms/step - loss: 0.4456 - accuracy: 0.5544 - val_loss: 0.4898 - val_accuracy: 0.5102\n",
      "Epoch 290/300\n",
      "13/13 [==============================] - 0s 4ms/step - loss: 0.4456 - accuracy: 0.5544 - val_loss: 0.4898 - val_accuracy: 0.5102\n",
      "Epoch 291/300\n",
      "13/13 [==============================] - 0s 4ms/step - loss: 0.4456 - accuracy: 0.5544 - val_loss: 0.4898 - val_accuracy: 0.5102\n",
      "Epoch 292/300\n",
      "13/13 [==============================] - 0s 4ms/step - loss: 0.4456 - accuracy: 0.5544 - val_loss: 0.4898 - val_accuracy: 0.5102\n",
      "Epoch 293/300\n",
      "13/13 [==============================] - 0s 5ms/step - loss: 0.4456 - accuracy: 0.5544 - val_loss: 0.4898 - val_accuracy: 0.5102\n",
      "Epoch 294/300\n",
      "13/13 [==============================] - 0s 4ms/step - loss: 0.4456 - accuracy: 0.5544 - val_loss: 0.4898 - val_accuracy: 0.5102\n",
      "Epoch 295/300\n",
      "13/13 [==============================] - 0s 5ms/step - loss: 0.4456 - accuracy: 0.5544 - val_loss: 0.4898 - val_accuracy: 0.5102\n",
      "Epoch 296/300\n",
      "13/13 [==============================] - 0s 5ms/step - loss: 0.4456 - accuracy: 0.5544 - val_loss: 0.4898 - val_accuracy: 0.5102\n",
      "Epoch 297/300\n",
      "13/13 [==============================] - 0s 4ms/step - loss: 0.4456 - accuracy: 0.5544 - val_loss: 0.4898 - val_accuracy: 0.5102\n",
      "Epoch 298/300\n",
      "13/13 [==============================] - 0s 4ms/step - loss: 0.4456 - accuracy: 0.5544 - val_loss: 0.4898 - val_accuracy: 0.5102\n",
      "Epoch 299/300\n",
      "13/13 [==============================] - 0s 4ms/step - loss: 0.4456 - accuracy: 0.5544 - val_loss: 0.4898 - val_accuracy: 0.5102\n",
      "Epoch 300/300\n",
      "13/13 [==============================] - 0s 4ms/step - loss: 0.4456 - accuracy: 0.5544 - val_loss: 0.4898 - val_accuracy: 0.5102\n"
     ]
    }
   ],
   "source": [
    "history9 = model9.fit(X_train, y_train, validation_split=0.2, epochs=300, batch_size=15, verbose=1)  ### Here increase number of epochs as 300 and batch size as 15"
   ]
  },
  {
   "cell_type": "code",
   "execution_count": 80,
   "metadata": {
    "colab": {
     "base_uri": "https://localhost:8080/"
    },
    "id": "NjCHZ14sL_Fk",
    "outputId": "f339f146-c169-4960-c0b0-0e3d9e4da4ba"
   },
   "outputs": [
    {
     "name": "stdout",
     "output_type": "stream",
     "text": [
      "Model: \"sequential_6\"\n",
      "_________________________________________________________________\n",
      "Layer (type)                 Output Shape              Param #   \n",
      "=================================================================\n",
      "dense_19 (Dense)             (None, 32)                448       \n",
      "_________________________________________________________________\n",
      "dense_20 (Dense)             (None, 16)                528       \n",
      "_________________________________________________________________\n",
      "dense_21 (Dense)             (None, 8)                 136       \n",
      "_________________________________________________________________\n",
      "dense_22 (Dense)             (None, 1)                 9         \n",
      "=================================================================\n",
      "Total params: 1,121\n",
      "Trainable params: 1,121\n",
      "Non-trainable params: 0\n",
      "_________________________________________________________________\n"
     ]
    }
   ],
   "source": [
    "model9.summary()"
   ]
  },
  {
   "cell_type": "code",
   "execution_count": 81,
   "metadata": {
    "id": "qzkW70bXL_Fl"
   },
   "outputs": [],
   "source": [
    "his6=history9.history"
   ]
  },
  {
   "cell_type": "code",
   "execution_count": 82,
   "metadata": {
    "colab": {
     "base_uri": "https://localhost:8080/",
     "height": 295
    },
    "id": "n6qmhERWL_Fl",
    "outputId": "9304a09a-a531-4038-dfca-f87f312701fa"
   },
   "outputs": [
    {
     "data": {
      "image/png": "[encoded data removed]",
      "text/plain": [
       "<Figure size 432x288 with 1 Axes>"
      ]
     },
     "metadata": {
      "needs_background": "light"
     },
     "output_type": "display_data"
    }
   ],
   "source": [
    "plt.plot(history9.history['accuracy'])\n",
    "plt.plot(history9.history['val_accuracy'])\n",
    "plt.title('Model Accuracy')\n",
    "plt.ylabel('accuracy')\n",
    "plt.xlabel('epoch')\n",
    "plt.legend(['Train', 'Validation'])\n",
    "plt.show()"
   ]
  },
  {
   "cell_type": "code",
   "execution_count": 83,
   "metadata": {
    "colab": {
     "base_uri": "https://localhost:8080/",
     "height": 295
    },
    "id": "J4cWfAv9L_Fl",
    "outputId": "3bd53f54-d7bd-4422-96a3-1f89cfaf3e37"
   },
   "outputs": [
    {
     "data": {
      "image/png": "[encoded data removed]",
      "text/plain": [
       "<Figure size 432x288 with 1 Axes>"
      ]
     },
     "metadata": {
      "needs_background": "light"
     },
     "output_type": "display_data"
    }
   ],
   "source": [
    "plt.plot(history9.history['loss'])\n",
    "plt.plot(history9.history['val_loss'])\n",
    "plt.title('Model Loss')\n",
    "plt.ylabel('loss')\n",
    "plt.xlabel('epoch')\n",
    "plt.legend(['Train', 'Validation'])\n",
    "plt.show()"
   ]
  },
  {
   "cell_type": "markdown",
   "metadata": {
    "id": "T28u5i1ZL_Fl"
   },
   "source": [
    "#### Now use binary_crossentropy loss function instead of mean square error loss function. Now, compare the accuracy ad loss function values. Draw a bar chart and compare the performance."
   ]
  },
  {
   "cell_type": "code",
   "execution_count": 84,
   "metadata": {
    "id": "ofegQWtrL_Fm"
   },
   "outputs": [],
   "source": [
    "model10 = Sequential()   # the keras model with 64 nodes\n",
    "model10.add(Dense(64, input_dim=13, activation='relu'))\n",
    "model10.add(Dense(32, activation='relu'))\n",
    "model10.add(Dense(16, activation='relu'))\n",
    "model10.add(Dense(8, activation='relu'))\n",
    "model10.add(Dense(1,activation='sigmoid'))"
   ]
  },
  {
   "cell_type": "code",
   "execution_count": 85,
   "metadata": {
    "colab": {
     "base_uri": "https://localhost:8080/"
    },
    "id": "aABKrv5-L_Fm",
    "outputId": "eec11c32-329a-423a-e302-3dca4a87cfca"
   },
   "outputs": [
    {
     "name": "stdout",
     "output_type": "stream",
     "text": [
      "Epoch 1/15\n",
      "13/13 [==============================] - 1s 3ms/step - loss: 0.6931 - accuracy: 0.5124\n",
      "Epoch 2/15\n",
      "13/13 [==============================] - 0s 2ms/step - loss: 0.6928 - accuracy: 0.5455\n",
      "Epoch 3/15\n",
      "13/13 [==============================] - 0s 2ms/step - loss: 0.6927 - accuracy: 0.5455\n",
      "Epoch 4/15\n",
      "13/13 [==============================] - 0s 2ms/step - loss: 0.6925 - accuracy: 0.5455\n",
      "Epoch 5/15\n",
      "13/13 [==============================] - 0s 2ms/step - loss: 0.6923 - accuracy: 0.5455\n",
      "Epoch 6/15\n",
      "13/13 [==============================] - 0s 4ms/step - loss: 0.6921 - accuracy: 0.5455\n",
      "Epoch 7/15\n",
      "13/13 [==============================] - 0s 2ms/step - loss: 0.6920 - accuracy: 0.5455\n",
      "Epoch 8/15\n",
      "13/13 [==============================] - 0s 2ms/step - loss: 0.6918 - accuracy: 0.5455\n",
      "Epoch 9/15\n",
      "13/13 [==============================] - 0s 2ms/step - loss: 0.6916 - accuracy: 0.5455\n",
      "Epoch 10/15\n",
      "13/13 [==============================] - 0s 2ms/step - loss: 0.6916 - accuracy: 0.5455\n",
      "Epoch 11/15\n",
      "13/13 [==============================] - 0s 2ms/step - loss: 0.6916 - accuracy: 0.5455\n",
      "Epoch 12/15\n",
      "13/13 [==============================] - 0s 2ms/step - loss: 0.6915 - accuracy: 0.5455\n",
      "Epoch 13/15\n",
      "13/13 [==============================] - 0s 2ms/step - loss: 0.6914 - accuracy: 0.5455\n",
      "Epoch 14/15\n",
      "13/13 [==============================] - 0s 2ms/step - loss: 0.6913 - accuracy: 0.5455\n",
      "Epoch 15/15\n",
      "13/13 [==============================] - 0s 2ms/step - loss: 0.6912 - accuracy: 0.5455\n"
     ]
    },
    {
     "data": {
      "text/plain": [
       "<keras.callbacks.History at 0x7f7607400750>"
      ]
     },
     "execution_count": 85,
     "metadata": {},
     "output_type": "execute_result"
    }
   ],
   "source": [
    "model10.compile(loss='binary_crossentropy', optimizer=optimizer, metrics=['accuracy'])\n",
    "model10.fit(X_train, y_train, epochs=15, batch_size=20, verbose = 1)"
   ]
  },
  {
   "cell_type": "code",
   "execution_count": 86,
   "metadata": {
    "colab": {
     "base_uri": "https://localhost:8080/"
    },
    "id": "cFhWpCBxL_Fm",
    "outputId": "0e7e1c94-0b03-4d20-93cf-2bf5c1088861"
   },
   "outputs": [
    {
     "name": "stdout",
     "output_type": "stream",
     "text": [
      "2/2 [==============================] - 0s 7ms/step - loss: 0.6913 - accuracy: 0.5410\n"
     ]
    },
    {
     "data": {
      "text/plain": [
       "[0.6913321018218994, 0.5409836173057556]"
      ]
     },
     "execution_count": 86,
     "metadata": {},
     "output_type": "execute_result"
    }
   ],
   "source": [
    "model10.evaluate(X_test,y_test)"
   ]
  },
  {
   "cell_type": "code",
   "execution_count": 87,
   "metadata": {
    "colab": {
     "base_uri": "https://localhost:8080/"
    },
    "id": "LFJNIsP1L_Fn",
    "outputId": "f1fb0770-0b76-4103-cbf9-18b8d0e26adb"
   },
   "outputs": [
    {
     "name": "stdout",
     "output_type": "stream",
     "text": [
      "Epoch 1/250\n",
      "7/7 [==============================] - 0s 15ms/step - loss: 0.6906 - accuracy: 0.5544 - val_loss: 0.6930 - val_accuracy: 0.5102\n",
      "Epoch 2/250\n",
      "7/7 [==============================] - 0s 5ms/step - loss: 0.6905 - accuracy: 0.5544 - val_loss: 0.6930 - val_accuracy: 0.5102\n",
      "Epoch 3/250\n",
      "7/7 [==============================] - 0s 6ms/step - loss: 0.6904 - accuracy: 0.5544 - val_loss: 0.6930 - val_accuracy: 0.5102\n",
      "Epoch 4/250\n",
      "7/7 [==============================] - 0s 6ms/step - loss: 0.6903 - accuracy: 0.5544 - val_loss: 0.6930 - val_accuracy: 0.5102\n",
      "Epoch 5/250\n",
      "7/7 [==============================] - 0s 5ms/step - loss: 0.6903 - accuracy: 0.5544 - val_loss: 0.6930 - val_accuracy: 0.5102\n",
      "Epoch 6/250\n",
      "7/7 [==============================] - 0s 7ms/step - loss: 0.6902 - accuracy: 0.5544 - val_loss: 0.6930 - val_accuracy: 0.5102\n",
      "Epoch 7/250\n",
      "7/7 [==============================] - 0s 6ms/step - loss: 0.6901 - accuracy: 0.5544 - val_loss: 0.6930 - val_accuracy: 0.5102\n",
      "Epoch 8/250\n",
      "7/7 [==============================] - 0s 5ms/step - loss: 0.6901 - accuracy: 0.5544 - val_loss: 0.6930 - val_accuracy: 0.5102\n",
      "Epoch 9/250\n",
      "7/7 [==============================] - 0s 6ms/step - loss: 0.6900 - accuracy: 0.5544 - val_loss: 0.6930 - val_accuracy: 0.5102\n",
      "Epoch 10/250\n",
      "7/7 [==============================] - 0s 8ms/step - loss: 0.6900 - accuracy: 0.5544 - val_loss: 0.6931 - val_accuracy: 0.5102\n",
      "Epoch 11/250\n",
      "7/7 [==============================] - 0s 7ms/step - loss: 0.6899 - accuracy: 0.5544 - val_loss: 0.6931 - val_accuracy: 0.5102\n",
      "Epoch 12/250\n",
      "7/7 [==============================] - 0s 6ms/step - loss: 0.6898 - accuracy: 0.5544 - val_loss: 0.6931 - val_accuracy: 0.5102\n",
      "Epoch 13/250\n",
      "7/7 [==============================] - 0s 10ms/step - loss: 0.6897 - accuracy: 0.5544 - val_loss: 0.6931 - val_accuracy: 0.5102\n",
      "Epoch 14/250\n",
      "7/7 [==============================] - 0s 5ms/step - loss: 0.6896 - accuracy: 0.5544 - val_loss: 0.6932 - val_accuracy: 0.5102\n",
      "Epoch 15/250\n",
      "7/7 [==============================] - 0s 5ms/step - loss: 0.6896 - accuracy: 0.5544 - val_loss: 0.6932 - val_accuracy: 0.5102\n",
      "Epoch 16/250\n",
      "7/7 [==============================] - 0s 6ms/step - loss: 0.6894 - accuracy: 0.5544 - val_loss: 0.6932 - val_accuracy: 0.5102\n",
      "Epoch 17/250\n",
      "7/7 [==============================] - 0s 6ms/step - loss: 0.6894 - accuracy: 0.5544 - val_loss: 0.6932 - val_accuracy: 0.5102\n",
      "Epoch 18/250\n",
      "7/7 [==============================] - 0s 5ms/step - loss: 0.6893 - accuracy: 0.5544 - val_loss: 0.6933 - val_accuracy: 0.5102\n",
      "Epoch 19/250\n",
      "7/7 [==============================] - 0s 5ms/step - loss: 0.6892 - accuracy: 0.5544 - val_loss: 0.6933 - val_accuracy: 0.5102\n",
      "Epoch 20/250\n",
      "7/7 [==============================] - 0s 5ms/step - loss: 0.6891 - accuracy: 0.5544 - val_loss: 0.6934 - val_accuracy: 0.5102\n",
      "Epoch 21/250\n",
      "7/7 [==============================] - 0s 6ms/step - loss: 0.6890 - accuracy: 0.5544 - val_loss: 0.6934 - val_accuracy: 0.5102\n",
      "Epoch 22/250\n",
      "7/7 [==============================] - 0s 7ms/step - loss: 0.6889 - accuracy: 0.5544 - val_loss: 0.6934 - val_accuracy: 0.5102\n",
      "Epoch 23/250\n",
      "7/7 [==============================] - 0s 5ms/step - loss: 0.6889 - accuracy: 0.5544 - val_loss: 0.6934 - val_accuracy: 0.5102\n",
      "Epoch 24/250\n",
      "7/7 [==============================] - 0s 6ms/step - loss: 0.6889 - accuracy: 0.5544 - val_loss: 0.6935 - val_accuracy: 0.5102\n",
      "Epoch 25/250\n",
      "7/7 [==============================] - 0s 6ms/step - loss: 0.6887 - accuracy: 0.5544 - val_loss: 0.6935 - val_accuracy: 0.5102\n",
      "Epoch 26/250\n",
      "7/7 [==============================] - 0s 6ms/step - loss: 0.6887 - accuracy: 0.5544 - val_loss: 0.6936 - val_accuracy: 0.5102\n",
      "Epoch 27/250\n",
      "7/7 [==============================] - 0s 5ms/step - loss: 0.6887 - accuracy: 0.5544 - val_loss: 0.6936 - val_accuracy: 0.5102\n",
      "Epoch 28/250\n",
      "7/7 [==============================] - 0s 6ms/step - loss: 0.6886 - accuracy: 0.5544 - val_loss: 0.6936 - val_accuracy: 0.5102\n",
      "Epoch 29/250\n",
      "7/7 [==============================] - 0s 5ms/step - loss: 0.6885 - accuracy: 0.5544 - val_loss: 0.6937 - val_accuracy: 0.5102\n",
      "Epoch 30/250\n",
      "7/7 [==============================] - 0s 5ms/step - loss: 0.6885 - accuracy: 0.5544 - val_loss: 0.6937 - val_accuracy: 0.5102\n",
      "Epoch 31/250\n",
      "7/7 [==============================] - 0s 6ms/step - loss: 0.6884 - accuracy: 0.5544 - val_loss: 0.6937 - val_accuracy: 0.5102\n",
      "Epoch 32/250\n",
      "7/7 [==============================] - 0s 6ms/step - loss: 0.6884 - accuracy: 0.5544 - val_loss: 0.6938 - val_accuracy: 0.5102\n",
      "Epoch 33/250\n",
      "7/7 [==============================] - 0s 6ms/step - loss: 0.6884 - accuracy: 0.5544 - val_loss: 0.6938 - val_accuracy: 0.5102\n",
      "Epoch 34/250\n",
      "7/7 [==============================] - 0s 8ms/step - loss: 0.6884 - accuracy: 0.5544 - val_loss: 0.6938 - val_accuracy: 0.5102\n",
      "Epoch 35/250\n",
      "7/7 [==============================] - 0s 9ms/step - loss: 0.6883 - accuracy: 0.5544 - val_loss: 0.6938 - val_accuracy: 0.5102\n",
      "Epoch 36/250\n",
      "7/7 [==============================] - 0s 7ms/step - loss: 0.6883 - accuracy: 0.5544 - val_loss: 0.6939 - val_accuracy: 0.5102\n",
      "Epoch 37/250\n",
      "7/7 [==============================] - 0s 6ms/step - loss: 0.6883 - accuracy: 0.5544 - val_loss: 0.6939 - val_accuracy: 0.5102\n",
      "Epoch 38/250\n",
      "7/7 [==============================] - 0s 6ms/step - loss: 0.6882 - accuracy: 0.5544 - val_loss: 0.6939 - val_accuracy: 0.5102\n",
      "Epoch 39/250\n",
      "7/7 [==============================] - 0s 7ms/step - loss: 0.6882 - accuracy: 0.5544 - val_loss: 0.6940 - val_accuracy: 0.5102\n",
      "Epoch 40/250\n",
      "7/7 [==============================] - 0s 7ms/step - loss: 0.6882 - accuracy: 0.5544 - val_loss: 0.6940 - val_accuracy: 0.5102\n",
      "Epoch 41/250\n",
      "7/7 [==============================] - 0s 6ms/step - loss: 0.6882 - accuracy: 0.5544 - val_loss: 0.6940 - val_accuracy: 0.5102\n",
      "Epoch 42/250\n",
      "7/7 [==============================] - 0s 8ms/step - loss: 0.6882 - accuracy: 0.5544 - val_loss: 0.6940 - val_accuracy: 0.5102\n",
      "Epoch 43/250\n",
      "7/7 [==============================] - 0s 6ms/step - loss: 0.6882 - accuracy: 0.5544 - val_loss: 0.6940 - val_accuracy: 0.5102\n",
      "Epoch 44/250\n",
      "7/7 [==============================] - 0s 6ms/step - loss: 0.6881 - accuracy: 0.5544 - val_loss: 0.6940 - val_accuracy: 0.5102\n",
      "Epoch 45/250\n",
      "7/7 [==============================] - 0s 9ms/step - loss: 0.6881 - accuracy: 0.5544 - val_loss: 0.6941 - val_accuracy: 0.5102\n",
      "Epoch 46/250\n",
      "7/7 [==============================] - 0s 6ms/step - loss: 0.6881 - accuracy: 0.5544 - val_loss: 0.6942 - val_accuracy: 0.5102\n",
      "Epoch 47/250\n",
      "7/7 [==============================] - 0s 6ms/step - loss: 0.6880 - accuracy: 0.5544 - val_loss: 0.6942 - val_accuracy: 0.5102\n",
      "Epoch 48/250\n",
      "7/7 [==============================] - 0s 8ms/step - loss: 0.6880 - accuracy: 0.5544 - val_loss: 0.6943 - val_accuracy: 0.5102\n",
      "Epoch 49/250\n",
      "7/7 [==============================] - 0s 6ms/step - loss: 0.6879 - accuracy: 0.5544 - val_loss: 0.6943 - val_accuracy: 0.5102\n",
      "Epoch 50/250\n",
      "7/7 [==============================] - 0s 8ms/step - loss: 0.6879 - accuracy: 0.5544 - val_loss: 0.6943 - val_accuracy: 0.5102\n",
      "Epoch 51/250\n",
      "7/7 [==============================] - 0s 6ms/step - loss: 0.6879 - accuracy: 0.5544 - val_loss: 0.6944 - val_accuracy: 0.5102\n",
      "Epoch 52/250\n",
      "7/7 [==============================] - 0s 6ms/step - loss: 0.6879 - accuracy: 0.5544 - val_loss: 0.6944 - val_accuracy: 0.5102\n",
      "Epoch 53/250\n",
      "7/7 [==============================] - 0s 6ms/step - loss: 0.6878 - accuracy: 0.5544 - val_loss: 0.6944 - val_accuracy: 0.5102\n",
      "Epoch 54/250\n",
      "7/7 [==============================] - 0s 6ms/step - loss: 0.6879 - accuracy: 0.5544 - val_loss: 0.6945 - val_accuracy: 0.5102\n",
      "Epoch 55/250\n",
      "7/7 [==============================] - 0s 7ms/step - loss: 0.6878 - accuracy: 0.5544 - val_loss: 0.6945 - val_accuracy: 0.5102\n",
      "Epoch 56/250\n",
      "7/7 [==============================] - 0s 6ms/step - loss: 0.6878 - accuracy: 0.5544 - val_loss: 0.6945 - val_accuracy: 0.5102\n",
      "Epoch 57/250\n",
      "7/7 [==============================] - 0s 6ms/step - loss: 0.6878 - accuracy: 0.5544 - val_loss: 0.6946 - val_accuracy: 0.5102\n",
      "Epoch 58/250\n",
      "7/7 [==============================] - 0s 5ms/step - loss: 0.6877 - accuracy: 0.5544 - val_loss: 0.6946 - val_accuracy: 0.5102\n",
      "Epoch 59/250\n",
      "7/7 [==============================] - 0s 6ms/step - loss: 0.6877 - accuracy: 0.5544 - val_loss: 0.6946 - val_accuracy: 0.5102\n",
      "Epoch 60/250\n",
      "7/7 [==============================] - 0s 6ms/step - loss: 0.6877 - accuracy: 0.5544 - val_loss: 0.6947 - val_accuracy: 0.5102\n",
      "Epoch 61/250\n",
      "7/7 [==============================] - 0s 6ms/step - loss: 0.6877 - accuracy: 0.5544 - val_loss: 0.6947 - val_accuracy: 0.5102\n",
      "Epoch 62/250\n",
      "7/7 [==============================] - 0s 6ms/step - loss: 0.6877 - accuracy: 0.5544 - val_loss: 0.6947 - val_accuracy: 0.5102\n",
      "Epoch 63/250\n",
      "7/7 [==============================] - 0s 6ms/step - loss: 0.6876 - accuracy: 0.5544 - val_loss: 0.6948 - val_accuracy: 0.5102\n",
      "Epoch 64/250\n",
      "7/7 [==============================] - 0s 7ms/step - loss: 0.6876 - accuracy: 0.5544 - val_loss: 0.6948 - val_accuracy: 0.5102\n",
      "Epoch 65/250\n",
      "7/7 [==============================] - 0s 6ms/step - loss: 0.6876 - accuracy: 0.5544 - val_loss: 0.6948 - val_accuracy: 0.5102\n",
      "Epoch 66/250\n",
      "7/7 [==============================] - 0s 5ms/step - loss: 0.6876 - accuracy: 0.5544 - val_loss: 0.6949 - val_accuracy: 0.5102\n",
      "Epoch 67/250\n",
      "7/7 [==============================] - 0s 5ms/step - loss: 0.6876 - accuracy: 0.5544 - val_loss: 0.6949 - val_accuracy: 0.5102\n",
      "Epoch 68/250\n",
      "7/7 [==============================] - 0s 5ms/step - loss: 0.6876 - accuracy: 0.5544 - val_loss: 0.6949 - val_accuracy: 0.5102\n",
      "Epoch 69/250\n",
      "7/7 [==============================] - 0s 5ms/step - loss: 0.6876 - accuracy: 0.5544 - val_loss: 0.6949 - val_accuracy: 0.5102\n",
      "Epoch 70/250\n",
      "7/7 [==============================] - 0s 5ms/step - loss: 0.6875 - accuracy: 0.5544 - val_loss: 0.6950 - val_accuracy: 0.5102\n",
      "Epoch 71/250\n",
      "7/7 [==============================] - 0s 7ms/step - loss: 0.6875 - accuracy: 0.5544 - val_loss: 0.6950 - val_accuracy: 0.5102\n",
      "Epoch 72/250\n",
      "7/7 [==============================] - 0s 6ms/step - loss: 0.6875 - accuracy: 0.5544 - val_loss: 0.6951 - val_accuracy: 0.5102\n",
      "Epoch 73/250\n",
      "7/7 [==============================] - 0s 6ms/step - loss: 0.6875 - accuracy: 0.5544 - val_loss: 0.6951 - val_accuracy: 0.5102\n",
      "Epoch 74/250\n",
      "7/7 [==============================] - 0s 5ms/step - loss: 0.6875 - accuracy: 0.5544 - val_loss: 0.6952 - val_accuracy: 0.5102\n",
      "Epoch 75/250\n",
      "7/7 [==============================] - 0s 7ms/step - loss: 0.6875 - accuracy: 0.5544 - val_loss: 0.6952 - val_accuracy: 0.5102\n",
      "Epoch 76/250\n",
      "7/7 [==============================] - 0s 6ms/step - loss: 0.6875 - accuracy: 0.5544 - val_loss: 0.6952 - val_accuracy: 0.5102\n",
      "Epoch 77/250\n",
      "7/7 [==============================] - 0s 6ms/step - loss: 0.6875 - accuracy: 0.5544 - val_loss: 0.6953 - val_accuracy: 0.5102\n",
      "Epoch 78/250\n",
      "7/7 [==============================] - 0s 5ms/step - loss: 0.6875 - accuracy: 0.5544 - val_loss: 0.6952 - val_accuracy: 0.5102\n",
      "Epoch 79/250\n",
      "7/7 [==============================] - 0s 6ms/step - loss: 0.6875 - accuracy: 0.5544 - val_loss: 0.6952 - val_accuracy: 0.5102\n",
      "Epoch 80/250\n",
      "7/7 [==============================] - 0s 5ms/step - loss: 0.6874 - accuracy: 0.5544 - val_loss: 0.6953 - val_accuracy: 0.5102\n",
      "Epoch 81/250\n",
      "7/7 [==============================] - 0s 6ms/step - loss: 0.6875 - accuracy: 0.5544 - val_loss: 0.6953 - val_accuracy: 0.5102\n",
      "Epoch 82/250\n",
      "7/7 [==============================] - 0s 6ms/step - loss: 0.6874 - accuracy: 0.5544 - val_loss: 0.6953 - val_accuracy: 0.5102\n",
      "Epoch 83/250\n",
      "7/7 [==============================] - 0s 6ms/step - loss: 0.6875 - accuracy: 0.5544 - val_loss: 0.6954 - val_accuracy: 0.5102\n",
      "Epoch 84/250\n",
      "7/7 [==============================] - 0s 6ms/step - loss: 0.6874 - accuracy: 0.5544 - val_loss: 0.6954 - val_accuracy: 0.5102\n",
      "Epoch 85/250\n",
      "7/7 [==============================] - 0s 5ms/step - loss: 0.6874 - accuracy: 0.5544 - val_loss: 0.6954 - val_accuracy: 0.5102\n",
      "Epoch 86/250\n",
      "7/7 [==============================] - 0s 5ms/step - loss: 0.6874 - accuracy: 0.5544 - val_loss: 0.6954 - val_accuracy: 0.5102\n",
      "Epoch 87/250\n",
      "7/7 [==============================] - 0s 6ms/step - loss: 0.6874 - accuracy: 0.5544 - val_loss: 0.6955 - val_accuracy: 0.5102\n",
      "Epoch 88/250\n",
      "7/7 [==============================] - 0s 6ms/step - loss: 0.6874 - accuracy: 0.5544 - val_loss: 0.6955 - val_accuracy: 0.5102\n",
      "Epoch 89/250\n",
      "7/7 [==============================] - 0s 7ms/step - loss: 0.6874 - accuracy: 0.5544 - val_loss: 0.6955 - val_accuracy: 0.5102\n",
      "Epoch 90/250\n",
      "7/7 [==============================] - 0s 6ms/step - loss: 0.6874 - accuracy: 0.5544 - val_loss: 0.6956 - val_accuracy: 0.5102\n",
      "Epoch 91/250\n",
      "7/7 [==============================] - 0s 6ms/step - loss: 0.6874 - accuracy: 0.5544 - val_loss: 0.6956 - val_accuracy: 0.5102\n",
      "Epoch 92/250\n",
      "7/7 [==============================] - 0s 6ms/step - loss: 0.6874 - accuracy: 0.5544 - val_loss: 0.6956 - val_accuracy: 0.5102\n",
      "Epoch 93/250\n",
      "7/7 [==============================] - 0s 7ms/step - loss: 0.6874 - accuracy: 0.5544 - val_loss: 0.6957 - val_accuracy: 0.5102\n",
      "Epoch 94/250\n",
      "7/7 [==============================] - 0s 7ms/step - loss: 0.6874 - accuracy: 0.5544 - val_loss: 0.6957 - val_accuracy: 0.5102\n",
      "Epoch 95/250\n",
      "7/7 [==============================] - 0s 6ms/step - loss: 0.6874 - accuracy: 0.5544 - val_loss: 0.6957 - val_accuracy: 0.5102\n",
      "Epoch 96/250\n",
      "7/7 [==============================] - 0s 6ms/step - loss: 0.6873 - accuracy: 0.5544 - val_loss: 0.6957 - val_accuracy: 0.5102\n",
      "Epoch 97/250\n",
      "7/7 [==============================] - 0s 7ms/step - loss: 0.6873 - accuracy: 0.5544 - val_loss: 0.6957 - val_accuracy: 0.5102\n",
      "Epoch 98/250\n",
      "7/7 [==============================] - 0s 9ms/step - loss: 0.6874 - accuracy: 0.5544 - val_loss: 0.6958 - val_accuracy: 0.5102\n",
      "Epoch 99/250\n",
      "7/7 [==============================] - 0s 7ms/step - loss: 0.6873 - accuracy: 0.5544 - val_loss: 0.6958 - val_accuracy: 0.5102\n",
      "Epoch 100/250\n",
      "7/7 [==============================] - 0s 6ms/step - loss: 0.6873 - accuracy: 0.5544 - val_loss: 0.6958 - val_accuracy: 0.5102\n",
      "Epoch 101/250\n",
      "7/7 [==============================] - 0s 5ms/step - loss: 0.6873 - accuracy: 0.5544 - val_loss: 0.6958 - val_accuracy: 0.5102\n",
      "Epoch 102/250\n",
      "7/7 [==============================] - 0s 6ms/step - loss: 0.6873 - accuracy: 0.5544 - val_loss: 0.6958 - val_accuracy: 0.5102\n",
      "Epoch 103/250\n",
      "7/7 [==============================] - 0s 6ms/step - loss: 0.6873 - accuracy: 0.5544 - val_loss: 0.6959 - val_accuracy: 0.5102\n",
      "Epoch 104/250\n",
      "7/7 [==============================] - 0s 6ms/step - loss: 0.6873 - accuracy: 0.5544 - val_loss: 0.6959 - val_accuracy: 0.5102\n",
      "Epoch 105/250\n",
      "7/7 [==============================] - 0s 6ms/step - loss: 0.6873 - accuracy: 0.5544 - val_loss: 0.6959 - val_accuracy: 0.5102\n",
      "Epoch 106/250\n",
      "7/7 [==============================] - 0s 7ms/step - loss: 0.6873 - accuracy: 0.5544 - val_loss: 0.6959 - val_accuracy: 0.5102\n",
      "Epoch 107/250\n",
      "7/7 [==============================] - 0s 6ms/step - loss: 0.6873 - accuracy: 0.5544 - val_loss: 0.6959 - val_accuracy: 0.5102\n",
      "Epoch 108/250\n",
      "7/7 [==============================] - 0s 5ms/step - loss: 0.6873 - accuracy: 0.5544 - val_loss: 0.6959 - val_accuracy: 0.5102\n",
      "Epoch 109/250\n",
      "7/7 [==============================] - 0s 7ms/step - loss: 0.6873 - accuracy: 0.5544 - val_loss: 0.6959 - val_accuracy: 0.5102\n",
      "Epoch 110/250\n",
      "7/7 [==============================] - 0s 6ms/step - loss: 0.6873 - accuracy: 0.5544 - val_loss: 0.6959 - val_accuracy: 0.5102\n",
      "Epoch 111/250\n",
      "7/7 [==============================] - 0s 5ms/step - loss: 0.6873 - accuracy: 0.5544 - val_loss: 0.6960 - val_accuracy: 0.5102\n",
      "Epoch 112/250\n",
      "7/7 [==============================] - 0s 6ms/step - loss: 0.6873 - accuracy: 0.5544 - val_loss: 0.6960 - val_accuracy: 0.5102\n",
      "Epoch 113/250\n",
      "7/7 [==============================] - 0s 6ms/step - loss: 0.6873 - accuracy: 0.5544 - val_loss: 0.6960 - val_accuracy: 0.5102\n",
      "Epoch 114/250\n",
      "7/7 [==============================] - 0s 6ms/step - loss: 0.6873 - accuracy: 0.5544 - val_loss: 0.6960 - val_accuracy: 0.5102\n",
      "Epoch 115/250\n",
      "7/7 [==============================] - 0s 5ms/step - loss: 0.6873 - accuracy: 0.5544 - val_loss: 0.6960 - val_accuracy: 0.5102\n",
      "Epoch 116/250\n",
      "7/7 [==============================] - 0s 6ms/step - loss: 0.6873 - accuracy: 0.5544 - val_loss: 0.6960 - val_accuracy: 0.5102\n",
      "Epoch 117/250\n",
      "7/7 [==============================] - 0s 6ms/step - loss: 0.6873 - accuracy: 0.5544 - val_loss: 0.6960 - val_accuracy: 0.5102\n",
      "Epoch 118/250\n",
      "7/7 [==============================] - 0s 6ms/step - loss: 0.6873 - accuracy: 0.5544 - val_loss: 0.6961 - val_accuracy: 0.5102\n",
      "Epoch 119/250\n",
      "7/7 [==============================] - 0s 7ms/step - loss: 0.6873 - accuracy: 0.5544 - val_loss: 0.6961 - val_accuracy: 0.5102\n",
      "Epoch 120/250\n",
      "7/7 [==============================] - 0s 7ms/step - loss: 0.6873 - accuracy: 0.5544 - val_loss: 0.6961 - val_accuracy: 0.5102\n",
      "Epoch 121/250\n",
      "7/7 [==============================] - 0s 7ms/step - loss: 0.6873 - accuracy: 0.5544 - val_loss: 0.6961 - val_accuracy: 0.5102\n",
      "Epoch 122/250\n",
      "7/7 [==============================] - 0s 7ms/step - loss: 0.6873 - accuracy: 0.5544 - val_loss: 0.6961 - val_accuracy: 0.5102\n",
      "Epoch 123/250\n",
      "7/7 [==============================] - 0s 6ms/step - loss: 0.6873 - accuracy: 0.5544 - val_loss: 0.6962 - val_accuracy: 0.5102\n",
      "Epoch 124/250\n",
      "7/7 [==============================] - 0s 7ms/step - loss: 0.6873 - accuracy: 0.5544 - val_loss: 0.6962 - val_accuracy: 0.5102\n",
      "Epoch 125/250\n",
      "7/7 [==============================] - 0s 7ms/step - loss: 0.6873 - accuracy: 0.5544 - val_loss: 0.6962 - val_accuracy: 0.5102\n",
      "Epoch 126/250\n",
      "7/7 [==============================] - 0s 7ms/step - loss: 0.6873 - accuracy: 0.5544 - val_loss: 0.6963 - val_accuracy: 0.5102\n",
      "Epoch 127/250\n",
      "7/7 [==============================] - 0s 7ms/step - loss: 0.6873 - accuracy: 0.5544 - val_loss: 0.6963 - val_accuracy: 0.5102\n",
      "Epoch 128/250\n",
      "7/7 [==============================] - 0s 7ms/step - loss: 0.6873 - accuracy: 0.5544 - val_loss: 0.6963 - val_accuracy: 0.5102\n",
      "Epoch 129/250\n",
      "7/7 [==============================] - 0s 7ms/step - loss: 0.6873 - accuracy: 0.5544 - val_loss: 0.6963 - val_accuracy: 0.5102\n",
      "Epoch 130/250\n",
      "7/7 [==============================] - 0s 6ms/step - loss: 0.6873 - accuracy: 0.5544 - val_loss: 0.6963 - val_accuracy: 0.5102\n",
      "Epoch 131/250\n",
      "7/7 [==============================] - 0s 7ms/step - loss: 0.6873 - accuracy: 0.5544 - val_loss: 0.6963 - val_accuracy: 0.5102\n",
      "Epoch 132/250\n",
      "7/7 [==============================] - 0s 6ms/step - loss: 0.6873 - accuracy: 0.5544 - val_loss: 0.6963 - val_accuracy: 0.5102\n",
      "Epoch 133/250\n",
      "7/7 [==============================] - 0s 7ms/step - loss: 0.6873 - accuracy: 0.5544 - val_loss: 0.6964 - val_accuracy: 0.5102\n",
      "Epoch 134/250\n",
      "7/7 [==============================] - 0s 6ms/step - loss: 0.6873 - accuracy: 0.5544 - val_loss: 0.6964 - val_accuracy: 0.5102\n",
      "Epoch 135/250\n",
      "7/7 [==============================] - 0s 8ms/step - loss: 0.6873 - accuracy: 0.5544 - val_loss: 0.6964 - val_accuracy: 0.5102\n",
      "Epoch 136/250\n",
      "7/7 [==============================] - 0s 7ms/step - loss: 0.6873 - accuracy: 0.5544 - val_loss: 0.6964 - val_accuracy: 0.5102\n",
      "Epoch 137/250\n",
      "7/7 [==============================] - 0s 8ms/step - loss: 0.6872 - accuracy: 0.5544 - val_loss: 0.6965 - val_accuracy: 0.5102\n",
      "Epoch 138/250\n",
      "7/7 [==============================] - 0s 6ms/step - loss: 0.6873 - accuracy: 0.5544 - val_loss: 0.6965 - val_accuracy: 0.5102\n",
      "Epoch 139/250\n",
      "7/7 [==============================] - 0s 5ms/step - loss: 0.6873 - accuracy: 0.5544 - val_loss: 0.6966 - val_accuracy: 0.5102\n",
      "Epoch 140/250\n",
      "7/7 [==============================] - 0s 5ms/step - loss: 0.6873 - accuracy: 0.5544 - val_loss: 0.6966 - val_accuracy: 0.5102\n",
      "Epoch 141/250\n",
      "7/7 [==============================] - 0s 6ms/step - loss: 0.6873 - accuracy: 0.5544 - val_loss: 0.6966 - val_accuracy: 0.5102\n",
      "Epoch 142/250\n",
      "7/7 [==============================] - 0s 6ms/step - loss: 0.6872 - accuracy: 0.5544 - val_loss: 0.6967 - val_accuracy: 0.5102\n",
      "Epoch 143/250\n",
      "7/7 [==============================] - 0s 7ms/step - loss: 0.6873 - accuracy: 0.5544 - val_loss: 0.6967 - val_accuracy: 0.5102\n",
      "Epoch 144/250\n",
      "7/7 [==============================] - 0s 6ms/step - loss: 0.6872 - accuracy: 0.5544 - val_loss: 0.6967 - val_accuracy: 0.5102\n",
      "Epoch 145/250\n",
      "7/7 [==============================] - 0s 6ms/step - loss: 0.6873 - accuracy: 0.5544 - val_loss: 0.6967 - val_accuracy: 0.5102\n",
      "Epoch 146/250\n",
      "7/7 [==============================] - 0s 7ms/step - loss: 0.6873 - accuracy: 0.5544 - val_loss: 0.6967 - val_accuracy: 0.5102\n",
      "Epoch 147/250\n",
      "7/7 [==============================] - 0s 6ms/step - loss: 0.6872 - accuracy: 0.5544 - val_loss: 0.6967 - val_accuracy: 0.5102\n",
      "Epoch 148/250\n",
      "7/7 [==============================] - 0s 6ms/step - loss: 0.6873 - accuracy: 0.5544 - val_loss: 0.6967 - val_accuracy: 0.5102\n",
      "Epoch 149/250\n",
      "7/7 [==============================] - 0s 6ms/step - loss: 0.6872 - accuracy: 0.5544 - val_loss: 0.6967 - val_accuracy: 0.5102\n",
      "Epoch 150/250\n",
      "7/7 [==============================] - 0s 7ms/step - loss: 0.6872 - accuracy: 0.5544 - val_loss: 0.6967 - val_accuracy: 0.5102\n",
      "Epoch 151/250\n",
      "7/7 [==============================] - 0s 7ms/step - loss: 0.6873 - accuracy: 0.5544 - val_loss: 0.6967 - val_accuracy: 0.5102\n",
      "Epoch 152/250\n",
      "7/7 [==============================] - 0s 6ms/step - loss: 0.6873 - accuracy: 0.5544 - val_loss: 0.6967 - val_accuracy: 0.5102\n",
      "Epoch 153/250\n",
      "7/7 [==============================] - 0s 7ms/step - loss: 0.6872 - accuracy: 0.5544 - val_loss: 0.6966 - val_accuracy: 0.5102\n",
      "Epoch 154/250\n",
      "7/7 [==============================] - 0s 6ms/step - loss: 0.6872 - accuracy: 0.5544 - val_loss: 0.6966 - val_accuracy: 0.5102\n",
      "Epoch 155/250\n",
      "7/7 [==============================] - 0s 6ms/step - loss: 0.6873 - accuracy: 0.5544 - val_loss: 0.6966 - val_accuracy: 0.5102\n",
      "Epoch 156/250\n",
      "7/7 [==============================] - 0s 6ms/step - loss: 0.6873 - accuracy: 0.5544 - val_loss: 0.6965 - val_accuracy: 0.5102\n",
      "Epoch 157/250\n",
      "7/7 [==============================] - 0s 7ms/step - loss: 0.6872 - accuracy: 0.5544 - val_loss: 0.6965 - val_accuracy: 0.5102\n",
      "Epoch 158/250\n",
      "7/7 [==============================] - 0s 7ms/step - loss: 0.6873 - accuracy: 0.5544 - val_loss: 0.6965 - val_accuracy: 0.5102\n",
      "Epoch 159/250\n",
      "7/7 [==============================] - 0s 8ms/step - loss: 0.6872 - accuracy: 0.5544 - val_loss: 0.6965 - val_accuracy: 0.5102\n",
      "Epoch 160/250\n",
      "7/7 [==============================] - 0s 7ms/step - loss: 0.6872 - accuracy: 0.5544 - val_loss: 0.6965 - val_accuracy: 0.5102\n",
      "Epoch 161/250\n",
      "7/7 [==============================] - 0s 6ms/step - loss: 0.6873 - accuracy: 0.5544 - val_loss: 0.6965 - val_accuracy: 0.5102\n",
      "Epoch 162/250\n",
      "7/7 [==============================] - 0s 7ms/step - loss: 0.6872 - accuracy: 0.5544 - val_loss: 0.6965 - val_accuracy: 0.5102\n",
      "Epoch 163/250\n",
      "7/7 [==============================] - 0s 6ms/step - loss: 0.6873 - accuracy: 0.5544 - val_loss: 0.6964 - val_accuracy: 0.5102\n",
      "Epoch 164/250\n",
      "7/7 [==============================] - 0s 6ms/step - loss: 0.6872 - accuracy: 0.5544 - val_loss: 0.6964 - val_accuracy: 0.5102\n",
      "Epoch 165/250\n",
      "7/7 [==============================] - 0s 6ms/step - loss: 0.6873 - accuracy: 0.5544 - val_loss: 0.6965 - val_accuracy: 0.5102\n",
      "Epoch 166/250\n",
      "7/7 [==============================] - 0s 6ms/step - loss: 0.6873 - accuracy: 0.5544 - val_loss: 0.6965 - val_accuracy: 0.5102\n",
      "Epoch 167/250\n",
      "7/7 [==============================] - 0s 6ms/step - loss: 0.6873 - accuracy: 0.5544 - val_loss: 0.6965 - val_accuracy: 0.5102\n",
      "Epoch 168/250\n",
      "7/7 [==============================] - 0s 7ms/step - loss: 0.6872 - accuracy: 0.5544 - val_loss: 0.6965 - val_accuracy: 0.5102\n",
      "Epoch 169/250\n",
      "7/7 [==============================] - 0s 6ms/step - loss: 0.6873 - accuracy: 0.5544 - val_loss: 0.6966 - val_accuracy: 0.5102\n",
      "Epoch 170/250\n",
      "7/7 [==============================] - 0s 6ms/step - loss: 0.6873 - accuracy: 0.5544 - val_loss: 0.6966 - val_accuracy: 0.5102\n",
      "Epoch 171/250\n",
      "7/7 [==============================] - 0s 7ms/step - loss: 0.6873 - accuracy: 0.5544 - val_loss: 0.6966 - val_accuracy: 0.5102\n",
      "Epoch 172/250\n",
      "7/7 [==============================] - 0s 6ms/step - loss: 0.6872 - accuracy: 0.5544 - val_loss: 0.6967 - val_accuracy: 0.5102\n",
      "Epoch 173/250\n",
      "7/7 [==============================] - 0s 7ms/step - loss: 0.6873 - accuracy: 0.5544 - val_loss: 0.6966 - val_accuracy: 0.5102\n",
      "Epoch 174/250\n",
      "7/7 [==============================] - 0s 7ms/step - loss: 0.6872 - accuracy: 0.5544 - val_loss: 0.6966 - val_accuracy: 0.5102\n",
      "Epoch 175/250\n",
      "7/7 [==============================] - 0s 6ms/step - loss: 0.6873 - accuracy: 0.5544 - val_loss: 0.6966 - val_accuracy: 0.5102\n",
      "Epoch 176/250\n",
      "7/7 [==============================] - 0s 6ms/step - loss: 0.6872 - accuracy: 0.5544 - val_loss: 0.6967 - val_accuracy: 0.5102\n",
      "Epoch 177/250\n",
      "7/7 [==============================] - 0s 7ms/step - loss: 0.6872 - accuracy: 0.5544 - val_loss: 0.6967 - val_accuracy: 0.5102\n",
      "Epoch 178/250\n",
      "7/7 [==============================] - 0s 5ms/step - loss: 0.6873 - accuracy: 0.5544 - val_loss: 0.6967 - val_accuracy: 0.5102\n",
      "Epoch 179/250\n",
      "7/7 [==============================] - 0s 5ms/step - loss: 0.6873 - accuracy: 0.5544 - val_loss: 0.6967 - val_accuracy: 0.5102\n",
      "Epoch 180/250\n",
      "7/7 [==============================] - 0s 6ms/step - loss: 0.6872 - accuracy: 0.5544 - val_loss: 0.6967 - val_accuracy: 0.5102\n",
      "Epoch 181/250\n",
      "7/7 [==============================] - 0s 10ms/step - loss: 0.6873 - accuracy: 0.5544 - val_loss: 0.6967 - val_accuracy: 0.5102\n",
      "Epoch 182/250\n",
      "7/7 [==============================] - 0s 6ms/step - loss: 0.6873 - accuracy: 0.5544 - val_loss: 0.6967 - val_accuracy: 0.5102\n",
      "Epoch 183/250\n",
      "7/7 [==============================] - 0s 7ms/step - loss: 0.6872 - accuracy: 0.5544 - val_loss: 0.6966 - val_accuracy: 0.5102\n",
      "Epoch 184/250\n",
      "7/7 [==============================] - 0s 6ms/step - loss: 0.6872 - accuracy: 0.5544 - val_loss: 0.6966 - val_accuracy: 0.5102\n",
      "Epoch 185/250\n",
      "7/7 [==============================] - 0s 6ms/step - loss: 0.6872 - accuracy: 0.5544 - val_loss: 0.6966 - val_accuracy: 0.5102\n",
      "Epoch 186/250\n",
      "7/7 [==============================] - 0s 5ms/step - loss: 0.6872 - accuracy: 0.5544 - val_loss: 0.6966 - val_accuracy: 0.5102\n",
      "Epoch 187/250\n",
      "7/7 [==============================] - 0s 6ms/step - loss: 0.6873 - accuracy: 0.5544 - val_loss: 0.6966 - val_accuracy: 0.5102\n",
      "Epoch 188/250\n",
      "7/7 [==============================] - 0s 6ms/step - loss: 0.6872 - accuracy: 0.5544 - val_loss: 0.6965 - val_accuracy: 0.5102\n",
      "Epoch 189/250\n",
      "7/7 [==============================] - 0s 6ms/step - loss: 0.6872 - accuracy: 0.5544 - val_loss: 0.6965 - val_accuracy: 0.5102\n",
      "Epoch 190/250\n",
      "7/7 [==============================] - 0s 8ms/step - loss: 0.6872 - accuracy: 0.5544 - val_loss: 0.6965 - val_accuracy: 0.5102\n",
      "Epoch 191/250\n",
      "7/7 [==============================] - 0s 7ms/step - loss: 0.6873 - accuracy: 0.5544 - val_loss: 0.6965 - val_accuracy: 0.5102\n",
      "Epoch 192/250\n",
      "7/7 [==============================] - 0s 7ms/step - loss: 0.6873 - accuracy: 0.5544 - val_loss: 0.6966 - val_accuracy: 0.5102\n",
      "Epoch 193/250\n",
      "7/7 [==============================] - 0s 6ms/step - loss: 0.6873 - accuracy: 0.5544 - val_loss: 0.6966 - val_accuracy: 0.5102\n",
      "Epoch 194/250\n",
      "7/7 [==============================] - 0s 6ms/step - loss: 0.6873 - accuracy: 0.5544 - val_loss: 0.6966 - val_accuracy: 0.5102\n",
      "Epoch 195/250\n",
      "7/7 [==============================] - 0s 6ms/step - loss: 0.6873 - accuracy: 0.5544 - val_loss: 0.6966 - val_accuracy: 0.5102\n",
      "Epoch 196/250\n",
      "7/7 [==============================] - 0s 6ms/step - loss: 0.6873 - accuracy: 0.5544 - val_loss: 0.6966 - val_accuracy: 0.5102\n",
      "Epoch 197/250\n",
      "7/7 [==============================] - 0s 5ms/step - loss: 0.6873 - accuracy: 0.5544 - val_loss: 0.6967 - val_accuracy: 0.5102\n",
      "Epoch 198/250\n",
      "7/7 [==============================] - 0s 6ms/step - loss: 0.6872 - accuracy: 0.5544 - val_loss: 0.6967 - val_accuracy: 0.5102\n",
      "Epoch 199/250\n",
      "7/7 [==============================] - 0s 7ms/step - loss: 0.6873 - accuracy: 0.5544 - val_loss: 0.6967 - val_accuracy: 0.5102\n",
      "Epoch 200/250\n",
      "7/7 [==============================] - 0s 9ms/step - loss: 0.6873 - accuracy: 0.5544 - val_loss: 0.6967 - val_accuracy: 0.5102\n",
      "Epoch 201/250\n",
      "7/7 [==============================] - 0s 6ms/step - loss: 0.6873 - accuracy: 0.5544 - val_loss: 0.6966 - val_accuracy: 0.5102\n",
      "Epoch 202/250\n",
      "7/7 [==============================] - 0s 6ms/step - loss: 0.6873 - accuracy: 0.5544 - val_loss: 0.6967 - val_accuracy: 0.5102\n",
      "Epoch 203/250\n",
      "7/7 [==============================] - 0s 7ms/step - loss: 0.6873 - accuracy: 0.5544 - val_loss: 0.6967 - val_accuracy: 0.5102\n",
      "Epoch 204/250\n",
      "7/7 [==============================] - 0s 7ms/step - loss: 0.6872 - accuracy: 0.5544 - val_loss: 0.6967 - val_accuracy: 0.5102\n",
      "Epoch 205/250\n",
      "7/7 [==============================] - 0s 7ms/step - loss: 0.6873 - accuracy: 0.5544 - val_loss: 0.6966 - val_accuracy: 0.5102\n",
      "Epoch 206/250\n",
      "7/7 [==============================] - 0s 6ms/step - loss: 0.6873 - accuracy: 0.5544 - val_loss: 0.6966 - val_accuracy: 0.5102\n",
      "Epoch 207/250\n",
      "7/7 [==============================] - 0s 6ms/step - loss: 0.6872 - accuracy: 0.5544 - val_loss: 0.6966 - val_accuracy: 0.5102\n",
      "Epoch 208/250\n",
      "7/7 [==============================] - 0s 7ms/step - loss: 0.6873 - accuracy: 0.5544 - val_loss: 0.6966 - val_accuracy: 0.5102\n",
      "Epoch 209/250\n",
      "7/7 [==============================] - 0s 6ms/step - loss: 0.6872 - accuracy: 0.5544 - val_loss: 0.6967 - val_accuracy: 0.5102\n",
      "Epoch 210/250\n",
      "7/7 [==============================] - 0s 6ms/step - loss: 0.6872 - accuracy: 0.5544 - val_loss: 0.6967 - val_accuracy: 0.5102\n",
      "Epoch 211/250\n",
      "7/7 [==============================] - 0s 6ms/step - loss: 0.6872 - accuracy: 0.5544 - val_loss: 0.6967 - val_accuracy: 0.5102\n",
      "Epoch 212/250\n",
      "7/7 [==============================] - 0s 6ms/step - loss: 0.6872 - accuracy: 0.5544 - val_loss: 0.6967 - val_accuracy: 0.5102\n",
      "Epoch 213/250\n",
      "7/7 [==============================] - 0s 6ms/step - loss: 0.6873 - accuracy: 0.5544 - val_loss: 0.6967 - val_accuracy: 0.5102\n",
      "Epoch 214/250\n",
      "7/7 [==============================] - 0s 6ms/step - loss: 0.6873 - accuracy: 0.5544 - val_loss: 0.6967 - val_accuracy: 0.5102\n",
      "Epoch 215/250\n",
      "7/7 [==============================] - 0s 6ms/step - loss: 0.6872 - accuracy: 0.5544 - val_loss: 0.6967 - val_accuracy: 0.5102\n",
      "Epoch 216/250\n",
      "7/7 [==============================] - 0s 6ms/step - loss: 0.6872 - accuracy: 0.5544 - val_loss: 0.6968 - val_accuracy: 0.5102\n",
      "Epoch 217/250\n",
      "7/7 [==============================] - 0s 6ms/step - loss: 0.6873 - accuracy: 0.5544 - val_loss: 0.6968 - val_accuracy: 0.5102\n",
      "Epoch 218/250\n",
      "7/7 [==============================] - 0s 6ms/step - loss: 0.6873 - accuracy: 0.5544 - val_loss: 0.6968 - val_accuracy: 0.5102\n",
      "Epoch 219/250\n",
      "7/7 [==============================] - 0s 7ms/step - loss: 0.6873 - accuracy: 0.5544 - val_loss: 0.6968 - val_accuracy: 0.5102\n",
      "Epoch 220/250\n",
      "7/7 [==============================] - 0s 6ms/step - loss: 0.6873 - accuracy: 0.5544 - val_loss: 0.6968 - val_accuracy: 0.5102\n",
      "Epoch 221/250\n",
      "7/7 [==============================] - 0s 7ms/step - loss: 0.6873 - accuracy: 0.5544 - val_loss: 0.6968 - val_accuracy: 0.5102\n",
      "Epoch 222/250\n",
      "7/7 [==============================] - 0s 6ms/step - loss: 0.6872 - accuracy: 0.5544 - val_loss: 0.6967 - val_accuracy: 0.5102\n",
      "Epoch 223/250\n",
      "7/7 [==============================] - 0s 6ms/step - loss: 0.6872 - accuracy: 0.5544 - val_loss: 0.6968 - val_accuracy: 0.5102\n",
      "Epoch 224/250\n",
      "7/7 [==============================] - 0s 7ms/step - loss: 0.6872 - accuracy: 0.5544 - val_loss: 0.6968 - val_accuracy: 0.5102\n",
      "Epoch 225/250\n",
      "7/7 [==============================] - 0s 6ms/step - loss: 0.6873 - accuracy: 0.5544 - val_loss: 0.6968 - val_accuracy: 0.5102\n",
      "Epoch 226/250\n",
      "7/7 [==============================] - 0s 6ms/step - loss: 0.6873 - accuracy: 0.5544 - val_loss: 0.6969 - val_accuracy: 0.5102\n",
      "Epoch 227/250\n",
      "7/7 [==============================] - 0s 6ms/step - loss: 0.6872 - accuracy: 0.5544 - val_loss: 0.6968 - val_accuracy: 0.5102\n",
      "Epoch 228/250\n",
      "7/7 [==============================] - 0s 6ms/step - loss: 0.6873 - accuracy: 0.5544 - val_loss: 0.6969 - val_accuracy: 0.5102\n",
      "Epoch 229/250\n",
      "7/7 [==============================] - 0s 7ms/step - loss: 0.6872 - accuracy: 0.5544 - val_loss: 0.6969 - val_accuracy: 0.5102\n",
      "Epoch 230/250\n",
      "7/7 [==============================] - 0s 7ms/step - loss: 0.6873 - accuracy: 0.5544 - val_loss: 0.6969 - val_accuracy: 0.5102\n",
      "Epoch 231/250\n",
      "7/7 [==============================] - 0s 7ms/step - loss: 0.6872 - accuracy: 0.5544 - val_loss: 0.6969 - val_accuracy: 0.5102\n",
      "Epoch 232/250\n",
      "7/7 [==============================] - 0s 6ms/step - loss: 0.6873 - accuracy: 0.5544 - val_loss: 0.6969 - val_accuracy: 0.5102\n",
      "Epoch 233/250\n",
      "7/7 [==============================] - 0s 6ms/step - loss: 0.6872 - accuracy: 0.5544 - val_loss: 0.6969 - val_accuracy: 0.5102\n",
      "Epoch 234/250\n",
      "7/7 [==============================] - 0s 7ms/step - loss: 0.6872 - accuracy: 0.5544 - val_loss: 0.6969 - val_accuracy: 0.5102\n",
      "Epoch 235/250\n",
      "7/7 [==============================] - 0s 6ms/step - loss: 0.6873 - accuracy: 0.5544 - val_loss: 0.6969 - val_accuracy: 0.5102\n",
      "Epoch 236/250\n",
      "7/7 [==============================] - 0s 6ms/step - loss: 0.6873 - accuracy: 0.5544 - val_loss: 0.6969 - val_accuracy: 0.5102\n",
      "Epoch 237/250\n",
      "7/7 [==============================] - 0s 6ms/step - loss: 0.6872 - accuracy: 0.5544 - val_loss: 0.6969 - val_accuracy: 0.5102\n",
      "Epoch 238/250\n",
      "7/7 [==============================] - 0s 6ms/step - loss: 0.6872 - accuracy: 0.5544 - val_loss: 0.6969 - val_accuracy: 0.5102\n",
      "Epoch 239/250\n",
      "7/7 [==============================] - 0s 8ms/step - loss: 0.6873 - accuracy: 0.5544 - val_loss: 0.6970 - val_accuracy: 0.5102\n",
      "Epoch 240/250\n",
      "7/7 [==============================] - 0s 6ms/step - loss: 0.6873 - accuracy: 0.5544 - val_loss: 0.6970 - val_accuracy: 0.5102\n",
      "Epoch 241/250\n",
      "7/7 [==============================] - 0s 7ms/step - loss: 0.6872 - accuracy: 0.5544 - val_loss: 0.6970 - val_accuracy: 0.5102\n",
      "Epoch 242/250\n",
      "7/7 [==============================] - 0s 7ms/step - loss: 0.6873 - accuracy: 0.5544 - val_loss: 0.6971 - val_accuracy: 0.5102\n",
      "Epoch 243/250\n",
      "7/7 [==============================] - 0s 6ms/step - loss: 0.6872 - accuracy: 0.5544 - val_loss: 0.6970 - val_accuracy: 0.5102\n",
      "Epoch 244/250\n",
      "7/7 [==============================] - 0s 7ms/step - loss: 0.6872 - accuracy: 0.5544 - val_loss: 0.6970 - val_accuracy: 0.5102\n",
      "Epoch 245/250\n",
      "7/7 [==============================] - 0s 7ms/step - loss: 0.6872 - accuracy: 0.5544 - val_loss: 0.6971 - val_accuracy: 0.5102\n",
      "Epoch 246/250\n",
      "7/7 [==============================] - 0s 6ms/step - loss: 0.6873 - accuracy: 0.5544 - val_loss: 0.6971 - val_accuracy: 0.5102\n",
      "Epoch 247/250\n",
      "7/7 [==============================] - 0s 7ms/step - loss: 0.6873 - accuracy: 0.5544 - val_loss: 0.6971 - val_accuracy: 0.5102\n",
      "Epoch 248/250\n",
      "7/7 [==============================] - 0s 7ms/step - loss: 0.6873 - accuracy: 0.5544 - val_loss: 0.6971 - val_accuracy: 0.5102\n",
      "Epoch 249/250\n",
      "7/7 [==============================] - 0s 8ms/step - loss: 0.6872 - accuracy: 0.5544 - val_loss: 0.6971 - val_accuracy: 0.5102\n",
      "Epoch 250/250\n",
      "7/7 [==============================] - 0s 6ms/step - loss: 0.6872 - accuracy: 0.5544 - val_loss: 0.6970 - val_accuracy: 0.5102\n"
     ]
    }
   ],
   "source": [
    "history10= model10.fit(X_train, y_train, validation_split=0.2, epochs=250, batch_size=30, verbose=1)"
   ]
  },
  {
   "cell_type": "code",
   "execution_count": 88,
   "metadata": {
    "colab": {
     "base_uri": "https://localhost:8080/"
    },
    "id": "ySKu6s_0L_Fn",
    "outputId": "c2f73c9b-d893-4160-bf07-ad1212dc62c2"
   },
   "outputs": [
    {
     "name": "stdout",
     "output_type": "stream",
     "text": [
      "Model: \"sequential_7\"\n",
      "_________________________________________________________________\n",
      "Layer (type)                 Output Shape              Param #   \n",
      "=================================================================\n",
      "dense_23 (Dense)             (None, 64)                896       \n",
      "_________________________________________________________________\n",
      "dense_24 (Dense)             (None, 32)                2080      \n",
      "_________________________________________________________________\n",
      "dense_25 (Dense)             (None, 16)                528       \n",
      "_________________________________________________________________\n",
      "dense_26 (Dense)             (None, 8)                 136       \n",
      "_________________________________________________________________\n",
      "dense_27 (Dense)             (None, 1)                 9         \n",
      "=================================================================\n",
      "Total params: 3,649\n",
      "Trainable params: 3,649\n",
      "Non-trainable params: 0\n",
      "_________________________________________________________________\n"
     ]
    }
   ],
   "source": [
    "model10.summary()"
   ]
  },
  {
   "cell_type": "code",
   "execution_count": 89,
   "metadata": {
    "id": "I6yPnNqfL_Fn"
   },
   "outputs": [],
   "source": [
    "his8=history10.history"
   ]
  },
  {
   "cell_type": "code",
   "execution_count": 90,
   "metadata": {
    "colab": {
     "base_uri": "https://localhost:8080/",
     "height": 295
    },
    "id": "WZ0lTxBkL_Fo",
    "outputId": "1fa93669-794e-497c-f51b-48ec67cc3b0f"
   },
   "outputs": [
    {
     "data": {
      "image/png": "[encoded data removed]",
      "text/plain": [
       "<Figure size 432x288 with 1 Axes>"
      ]
     },
     "metadata": {
      "needs_background": "light"
     },
     "output_type": "display_data"
    }
   ],
   "source": [
    "plt.plot(history10.history['accuracy'])\n",
    "plt.plot(history10.history['val_accuracy'])\n",
    "plt.title('Model Accuracy')\n",
    "plt.ylabel('accuracy')\n",
    "plt.xlabel('epoch')\n",
    "plt.legend(['Train', 'Validation'])\n",
    "plt.show()"
   ]
  },
  {
   "cell_type": "code",
   "execution_count": 91,
   "metadata": {
    "colab": {
     "base_uri": "https://localhost:8080/",
     "height": 295
    },
    "id": "mgnd0BY9L_Fo",
    "outputId": "2d2490f1-51c7-4f8e-dbba-5bb71c327ef4"
   },
   "outputs": [
    {
     "data": {
      "image/png": "[encoded data removed]",
      "text/plain": [
       "<Figure size 432x288 with 1 Axes>"
      ]
     },
     "metadata": {
      "needs_background": "light"
     },
     "output_type": "display_data"
    }
   ],
   "source": [
    "plt.plot(history10.history['loss'])\n",
    "plt.plot(history10.history['val_loss'])\n",
    "plt.title('Model Loss')\n",
    "plt.ylabel('loss')\n",
    "plt.xlabel('epoch')\n",
    "plt.legend(['Train', 'Validation'])\n",
    "plt.show()"
   ]
  }
 ],
 "metadata": {
  "colab": {
   "name": "PDL_Lab_6_Mahalakshmi18.ipynb",
   "provenance": []
  },
  "kernelspec": {
   "display_name": "Python 3",
   "language": "python",
   "name": "python3"
  },
  "language_info": {
   "codemirror_mode": {
    "name": "ipython",
    "version": 3
   },
   "file_extension": ".py",
   "mimetype": "text/x-python",
   "name": "python",
   "nbconvert_exporter": "python",
   "pygments_lexer": "ipython3",
   "version": "3.8.5"
  }
 },
 "nbformat": 4,
 "nbformat_minor": 1
}
