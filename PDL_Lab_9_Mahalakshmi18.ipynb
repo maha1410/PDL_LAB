{
 "cells": [
  {
   "cell_type": "markdown",
   "metadata": {},
   "source": [
    "# 205229118\n",
    "# Mahalakshmi S"
   ]
  },
  {
   "cell_type": "markdown",
   "metadata": {
    "id": "JwSpfBmTK_Lz"
   },
   "source": [
    "## 1.Dataset Creation"
   ]
  },
  {
   "cell_type": "code",
   "execution_count": null,
   "metadata": {
    "colab": {
     "base_uri": "https://localhost:8080/"
    },
    "id": "u29-ybi0K_L5",
    "outputId": "8dce807f-eef1-4f3e-8e17-d5f323b5184a",
    "scrolled": true
   },
   "outputs": [],
   "source": [
    "import nltk\n",
    "import pandas as pd\n",
    "import tensorflow as tf\n",
    "import matplotlib.pyplot as plt\n",
    "from tensorflow.keras import Sequential\n",
    "from keras.layers import Dense,Activation\n",
    "from sklearn.model_selection import train_test_split\n",
    "from sklearn.feature_extraction.text import TfidfVectorizer\n",
    "from nltk.corpus import stopwords\n",
    "import nltk\n",
    "nltk.download('punkt')\n",
    "from nltk.tokenize import word_tokenize\n",
    "from nltk.stem import WordNetLemmatizer\n",
    "nltk.download('stopwords')\n",
    "stop_words = set(stopwords.words('english'))\n",
    "nltk.download('wordnet')\n"
   ]
  },
  {
   "cell_type": "code",
   "execution_count": null,
   "metadata": {
    "id": "dYJz5jtJK_L8"
   },
   "outputs": [],
   "source": [
    "quo =pd.read_csv('quotes_moti&demoti.csv',encoding='cp1252')"
   ]
  },
  {
   "cell_type": "code",
   "execution_count": null,
   "metadata": {
    "colab": {
     "base_uri": "https://localhost:8080/"
    },
    "id": "GVOJb2OEK_L9",
    "outputId": "87b5077d-9391-4765-9af4-9948976a1387"
   },
   "outputs": [],
   "source": [
    "quo.shape"
   ]
  },
  {
   "cell_type": "code",
   "execution_count": null,
   "metadata": {
    "colab": {
     "base_uri": "https://localhost:8080/",
     "height": 203
    },
    "id": "VZqV1xYaK_L-",
    "outputId": "eea132d6-3b5b-4743-ff78-e133506b457a"
   },
   "outputs": [],
   "source": [
    "quo.head()"
   ]
  },
  {
   "cell_type": "code",
   "execution_count": null,
   "metadata": {
    "colab": {
     "base_uri": "https://localhost:8080/",
     "height": 203
    },
    "id": "mroT2oz7XWBq",
    "outputId": "63747def-594d-443e-c360-b27e4079a0b0"
   },
   "outputs": [],
   "source": [
    "quo.tail()"
   ]
  },
  {
   "cell_type": "code",
   "execution_count": null,
   "metadata": {
    "colab": {
     "base_uri": "https://localhost:8080/",
     "height": 142
    },
    "id": "gDgPiXprK_L_",
    "outputId": "5a9054d8-78f4-463b-f8b6-64dd82f438aa"
   },
   "outputs": [],
   "source": [
    "quo.groupby('label').count()"
   ]
  },
  {
   "cell_type": "markdown",
   "metadata": {
    "id": "z0a0B0AgK_L_"
   },
   "source": [
    "**2.Pre-processing**"
   ]
  },
  {
   "cell_type": "code",
   "execution_count": null,
   "metadata": {
    "id": "vFdkFsIhK_MA"
   },
   "outputs": [],
   "source": [
    "X = quo.Quotes\n",
    "y = quo.label"
   ]
  },
  {
   "cell_type": "code",
   "execution_count": null,
   "metadata": {
    "id": "CWHo_fCeK_MB"
   },
   "outputs": [],
   "source": [
    "lemmatizer = WordNetLemmatizer()"
   ]
  },
  {
   "cell_type": "code",
   "execution_count": null,
   "metadata": {
    "id": "lA6pyOIxK_MC"
   },
   "outputs": [],
   "source": [
    "def clean_review(review):\n",
    "    toks= word_tokenize(review)\n",
    "    punct = '''!()-[]{};:'\"\\,<>./?@#$%^&*_~'''\n",
    "    filtered_tokens = [lemmatizer.lemmatize(w) for w in toks if w not in stop_words]\n",
    "    nopunctuation =[char for char in filtered_tokens if char not in punct]\n",
    "    return \" \".join(nopunctuation)"
   ]
  },
  {
   "cell_type": "code",
   "execution_count": null,
   "metadata": {
    "id": "W8-DTcPoK_MD"
   },
   "outputs": [],
   "source": [
    "temp=X.tolist()\n",
    "fax=[]\n",
    "for i in temp:\n",
    "    fax.append(clean_review(i))\n",
    "n_X=pd.Series(fax)"
   ]
  },
  {
   "cell_type": "code",
   "execution_count": null,
   "metadata": {
    "colab": {
     "base_uri": "https://localhost:8080/",
     "height": 1000
    },
    "id": "jj1aaDwlK_MD",
    "outputId": "c05853c2-9a4c-4995-da76-1bbe06b4476c"
   },
   "outputs": [],
   "source": [
    "tfidf = TfidfVectorizer()\n",
    "vect= tfidf.fit_transform(n_X)\n",
    "fea_name = tfidf.get_feature_names()\n",
    "txt_vect = pd.DataFrame(vect.todense(),columns=fea_name)\n",
    "txt_vect"
   ]
  },
  {
   "cell_type": "markdown",
   "metadata": {
    "id": "wfN-qfXYK_ME"
   },
   "source": [
    "**3.Dataset Preparation**"
   ]
  },
  {
   "cell_type": "code",
   "execution_count": null,
   "metadata": {
    "id": "1Wxnjto_K_ME"
   },
   "outputs": [],
   "source": [
    "X_train,X_test,y_train,y_test = train_test_split(txt_vect,y,train_size=0.75,test_size=0.25)"
   ]
  },
  {
   "cell_type": "code",
   "execution_count": null,
   "metadata": {
    "colab": {
     "base_uri": "https://localhost:8080/",
     "height": 252
    },
    "id": "6b94b9yWbN8T",
    "outputId": "092ee3ff-6e5a-44c3-fd3d-86c970ec3247"
   },
   "outputs": [],
   "source": [
    "X_train.head()"
   ]
  },
  {
   "cell_type": "code",
   "execution_count": null,
   "metadata": {
    "colab": {
     "base_uri": "https://localhost:8080/",
     "height": 252
    },
    "id": "6szEXtFPbN-B",
    "outputId": "cec71596-fa90-4893-d8eb-1fa3a930200e"
   },
   "outputs": [],
   "source": [
    "X_test.head()"
   ]
  },
  {
   "cell_type": "code",
   "execution_count": null,
   "metadata": {
    "colab": {
     "base_uri": "https://localhost:8080/"
    },
    "id": "h15e82PFbOBo",
    "outputId": "64891bdb-a00c-4fc4-fd67-f38220482f52"
   },
   "outputs": [],
   "source": [
    "y_train"
   ]
  },
  {
   "cell_type": "code",
   "execution_count": null,
   "metadata": {
    "colab": {
     "base_uri": "https://localhost:8080/"
    },
    "id": "V6wlJDHXbOEo",
    "outputId": "84f1c2f7-b950-408f-dce5-4bf3d2d90c0e"
   },
   "outputs": [],
   "source": [
    "y_test"
   ]
  },
  {
   "cell_type": "code",
   "execution_count": null,
   "metadata": {
    "colab": {
     "base_uri": "https://localhost:8080/"
    },
    "id": "UhX0QPOdK_MF",
    "outputId": "d5edda55-5f88-42fe-d839-06e986a4af53"
   },
   "outputs": [],
   "source": [
    "print(X_train.shape)\n",
    "print(y_train.shape)\n",
    "print(X_test.shape)\n",
    "print(y_test.shape)"
   ]
  },
  {
   "cell_type": "markdown",
   "metadata": {
    "id": "Gy7YhioQK_MF"
   },
   "source": [
    "**4.Model Creation**\n",
    "\n",
    "**5.Analysis**\n"
   ]
  },
  {
   "cell_type": "markdown",
   "metadata": {
    "id": "rJGMEO3WK_MF"
   },
   "source": [
    "#### model with 4 hidden layers"
   ]
  },
  {
   "cell_type": "code",
   "execution_count": null,
   "metadata": {
    "id": "X90xezAqK_MG"
   },
   "outputs": [],
   "source": [
    "model3 = Sequential()\n",
    "\n",
    "model3.add(Dense(128, activation='relu',input_dim=X_train.shape[1]))\n",
    "model3.add(Dense(64, activation='relu'))\n",
    "model3.add(Dense(32, activation='relu'))\n",
    "model3.add(Dense(16, activation='relu'))\n",
    "model3.add(Dense(8, activation='relu'))\n",
    "\n",
    "model3.add(Dense(2, activation='sigmoid')) "
   ]
  },
  {
   "cell_type": "code",
   "execution_count": null,
   "metadata": {
    "colab": {
     "base_uri": "https://localhost:8080/"
    },
    "id": "SYySY4M-evnw",
    "outputId": "fa5d8388-fd3c-4d9c-a2aa-fb2bb6fae3c4"
   },
   "outputs": [],
   "source": [
    "model3.summary()"
   ]
  },
  {
   "cell_type": "code",
   "execution_count": null,
   "metadata": {
    "id": "7JOabzfkK_MG"
   },
   "outputs": [],
   "source": [
    "model3.compile(loss='sparse_categorical_crossentropy',optimizer='adam',metrics=['accuracy'])    #compile model"
   ]
  },
  {
   "cell_type": "code",
   "execution_count": null,
   "metadata": {
    "colab": {
     "base_uri": "https://localhost:8080/"
    },
    "id": "qhoQRBrHK_MG",
    "outputId": "f9c1fd25-fae4-4b79-d154-f1ae4ad29d00"
   },
   "outputs": [],
   "source": [
    "history3=model3.fit(X_train,y_train,epochs=100,verbose=2,validation_split=0.2,batch_size=20)              #fit the model  "
   ]
  },
  {
   "cell_type": "code",
   "execution_count": null,
   "metadata": {
    "colab": {
     "base_uri": "https://localhost:8080/"
    },
    "id": "nmkL4fr1K_MH",
    "outputId": "0c59f8ed-982e-4284-ba3e-505d62966d0a"
   },
   "outputs": [],
   "source": [
    "model3.evaluate(X_test,y_test)           #evaluate model"
   ]
  },
  {
   "cell_type": "code",
   "execution_count": null,
   "metadata": {
    "colab": {
     "base_uri": "https://localhost:8080/",
     "height": 295
    },
    "id": "eQgPlhWYK_MH",
    "outputId": "78844eba-580e-4c83-df25-8824476fa573"
   },
   "outputs": [],
   "source": [
    "plt.plot(history3.history['accuracy'])\n",
    "plt.plot(history3.history['val_accuracy'])\n",
    "plt.title('Model Accuracy')\n",
    "plt.ylabel('accuracy')\n",
    "plt.xlabel('epoch')\n",
    "plt.legend(['Train', 'Validation'])\n",
    "plt.show()"
   ]
  },
  {
   "cell_type": "markdown",
   "metadata": {
    "id": "-sFHvZupK_MI"
   },
   "source": [
    "#### model with 2 hidden layer"
   ]
  },
  {
   "cell_type": "code",
   "execution_count": null,
   "metadata": {
    "id": "SMMcCUdWK_MI"
   },
   "outputs": [],
   "source": [
    "model5 = Sequential()\n",
    "\n",
    "model5.add(Dense(1028, activation='relu',input_dim=X_train.shape[1]))\n",
    "model5.add(Dense(512, activation='relu'))\n",
    "model5.add(Dense(256, activation='relu'))\n",
    "\n",
    "model5.add(Dense(2, activation='sigmoid')) "
   ]
  },
  {
   "cell_type": "code",
   "execution_count": null,
   "metadata": {
    "colab": {
     "base_uri": "https://localhost:8080/"
    },
    "id": "MmJeQInPem6o",
    "outputId": "eb4bfd76-5bc7-4812-d75d-006f9538bea1"
   },
   "outputs": [],
   "source": [
    "model5.summary()"
   ]
  },
  {
   "cell_type": "code",
   "execution_count": null,
   "metadata": {
    "id": "auLV4l3JK_MI"
   },
   "outputs": [],
   "source": [
    "model5.compile(loss='sparse_categorical_crossentropy',optimizer='adam',metrics=['accuracy'])   #compile model"
   ]
  },
  {
   "cell_type": "code",
   "execution_count": null,
   "metadata": {
    "colab": {
     "base_uri": "https://localhost:8080/"
    },
    "id": "jBbt8cYzK_MJ",
    "outputId": "995e2352-4770-4de0-b710-8c19ea065ac2"
   },
   "outputs": [],
   "source": [
    "history5=model5.fit(X_train,y_train,epochs=100,verbose=2,validation_split=0.2,batch_size=20)              #fit the model  "
   ]
  },
  {
   "cell_type": "code",
   "execution_count": null,
   "metadata": {
    "colab": {
     "base_uri": "https://localhost:8080/"
    },
    "id": "hbHP-ry5K_MJ",
    "outputId": "de9467c8-a22f-43a5-a8c9-b7dda4a0dc7f"
   },
   "outputs": [],
   "source": [
    "model5.evaluate(X_test,y_test)         #evaluate model"
   ]
  },
  {
   "cell_type": "code",
   "execution_count": null,
   "metadata": {
    "colab": {
     "base_uri": "https://localhost:8080/",
     "height": 295
    },
    "id": "mYtj4--RK_MK",
    "outputId": "9bc2d8f9-a69b-4c90-f128-2dddb3c730f9"
   },
   "outputs": [],
   "source": [
    "plt.plot(history5.history['accuracy'])\n",
    "plt.plot(history5.history['val_accuracy'])\n",
    "plt.title('Model Accuracy')\n",
    "plt.ylabel('accuracy')\n",
    "plt.xlabel('epoch')\n",
    "plt.legend(['Train', 'Validation'])\n",
    "plt.show()"
   ]
  },
  {
   "cell_type": "markdown",
   "metadata": {
    "id": "oboLQPIwK_ML"
   },
   "source": [
    "##### model 3 hidden layers "
   ]
  },
  {
   "cell_type": "code",
   "execution_count": null,
   "metadata": {
    "id": "0qLN99HFK_ML"
   },
   "outputs": [],
   "source": [
    "model7 = Sequential()\n",
    "\n",
    "model7.add(Dense(512, activation='relu',input_dim=X_train.shape[1]))\n",
    "model7.add(Dense(256, activation='relu'))\n",
    "model7.add(Dense(128, activation='relu'))\n",
    "model7.add(Dense(64, activation='relu'))\n",
    "\n",
    "model7.add(Dense(2, activation='sigmoid')) #output layer"
   ]
  },
  {
   "cell_type": "code",
   "execution_count": null,
   "metadata": {
    "colab": {
     "base_uri": "https://localhost:8080/"
    },
    "id": "VJ2kOOYpegrb",
    "outputId": "efd214e1-00cb-4bf6-a033-177247186de6"
   },
   "outputs": [],
   "source": [
    "model7.summary()"
   ]
  },
  {
   "cell_type": "code",
   "execution_count": null,
   "metadata": {
    "id": "To8EPUd5K_ML"
   },
   "outputs": [],
   "source": [
    "model7.compile(loss='sparse_categorical_crossentropy',optimizer='adam',metrics=['accuracy'])  #compile model"
   ]
  },
  {
   "cell_type": "code",
   "execution_count": null,
   "metadata": {
    "colab": {
     "base_uri": "https://localhost:8080/"
    },
    "id": "rRunw41RK_MM",
    "outputId": "ab8870aa-402f-4e4a-c7d8-83bf351ac5b5"
   },
   "outputs": [],
   "source": [
    "history7 = model7.fit(X_train,y_train,epochs=100,verbose=2,validation_split=0.2,batch_size=20)              #fit the model  "
   ]
  },
  {
   "cell_type": "code",
   "execution_count": null,
   "metadata": {
    "colab": {
     "base_uri": "https://localhost:8080/"
    },
    "id": "vqVMBQ94K_MM",
    "outputId": "d2266067-ccad-4ca2-b9c4-581676806a7e"
   },
   "outputs": [],
   "source": [
    "model7.evaluate(X_test,y_test)"
   ]
  },
  {
   "cell_type": "code",
   "execution_count": null,
   "metadata": {
    "colab": {
     "base_uri": "https://localhost:8080/",
     "height": 295
    },
    "id": "EVpoyoF6K_MM",
    "outputId": "f1be9772-135e-4554-945f-586a28a4ced8"
   },
   "outputs": [],
   "source": [
    "plt.plot(history7.history['accuracy'])\n",
    "plt.plot(history7.history['val_accuracy'])\n",
    "plt.title('Model Accuracy')\n",
    "plt.ylabel('accuracy')\n",
    "plt.xlabel('epoch')\n",
    "plt.legend(['Train', 'Validation'])\n",
    "plt.show()"
   ]
  }
 ],
 "metadata": {
  "colab": {
   "name": "PDL_Lab-9_Mahalakshmi18.ipynb",
   "provenance": []
  },
  "kernelspec": {
   "display_name": "Python 3",
   "language": "python",
   "name": "python3"
  },
  "language_info": {
   "codemirror_mode": {
    "name": "ipython",
    "version": 3
   },
   "file_extension": ".py",
   "mimetype": "text/x-python",
   "name": "python",
   "nbconvert_exporter": "python",
   "pygments_lexer": "ipython3",
   "version": "3.8.8"
  }
 },
 "nbformat": 4,
 "nbformat_minor": 1
}
