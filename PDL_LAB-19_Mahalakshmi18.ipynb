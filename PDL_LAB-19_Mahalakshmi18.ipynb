{
 "cells": [
  {
   "cell_type": "markdown",
   "metadata": {
    "id": "CdPh6PJiLTVP"
   },
   "source": [
    "## Mahalakshmi S\n",
    "\n",
    "## 205229118"
   ]
  },
  {
   "cell_type": "markdown",
   "metadata": {
    "id": "qig3MCW2mzgx"
   },
   "source": [
    "# Lab19. Text Classification using Glove model"
   ]
  },
  {
   "cell_type": "markdown",
   "metadata": {
    "id": "MmFAr-Ulpj_U"
   },
   "source": [
    "### Imports"
   ]
  },
  {
   "cell_type": "code",
   "execution_count": null,
   "metadata": {
    "colab": {
     "base_uri": "https://localhost:8080/"
    },
    "id": "9AqZ0nrjlLAG",
    "outputId": "162b503c-28e5-4bfc-98a4-1a0f7f465107"
   },
   "outputs": [],
   "source": [
    "import tensorflow as tf\n",
    "import numpy as np\n",
    "import pandas as pd\n",
    "import matplotlib.pyplot as plt\n",
    "import nltk , os, zipfile\n",
    "from tensorflow.keras.preprocessing.text import Tokenizer\n",
    "from tensorflow.keras.preprocessing.sequence import pad_sequences\n",
    "from keras.models import Sequential\n",
    "from keras.layers import Dense, Embedding,SimpleRNN,LSTM,Bidirectional,Dropout,Conv1D,MaxPooling1D,Flatten,Activation\n",
    "from nltk.corpus import stopwords\n",
    "nltk.download('stopwords')\n",
    "\",\".join(stopwords.words('english'))\n",
    "STOPWORDS = set(stopwords.words('english'))\n",
    "from sklearn.model_selection import train_test_split"
   ]
  },
  {
   "cell_type": "markdown",
   "metadata": {
    "id": "TyNILVz4pphH"
   },
   "source": [
    "### pre-processing the text"
   ]
  },
  {
   "cell_type": "code",
   "execution_count": null,
   "metadata": {
    "colab": {
     "base_uri": "https://localhost:8080/",
     "height": 203
    },
    "id": "HM5xAJq_nwXc",
    "outputId": "588bd637-c449-4a1a-d2be-972019bf52b2"
   },
   "outputs": [],
   "source": [
    "gl = pd.read_csv('glove-lab-dataset.csv')\n",
    "gl.head()"
   ]
  },
  {
   "cell_type": "code",
   "execution_count": null,
   "metadata": {
    "colab": {
     "base_uri": "https://localhost:8080/",
     "height": 203
    },
    "id": "HR9Zu6isLdx_",
    "outputId": "998fc589-6362-4c3f-ec41-c7ea39c2aaa2"
   },
   "outputs": [],
   "source": [
    "gl.head()"
   ]
  },
  {
   "cell_type": "code",
   "execution_count": null,
   "metadata": {
    "colab": {
     "base_uri": "https://localhost:8080/",
     "height": 203
    },
    "id": "0zoirt4-Lfcd",
    "outputId": "693beaf9-1466-483f-a8ba-6229616f02d8"
   },
   "outputs": [],
   "source": [
    "gl.tail()"
   ]
  },
  {
   "cell_type": "code",
   "execution_count": null,
   "metadata": {
    "id": "SLHtXJ3SoGoj"
   },
   "outputs": [],
   "source": [
    "y =gl['category']\n",
    "X=[]\n",
    "for review in gl['text']:\n",
    "  filtered_sentence = [w.lower() for w in review.split() if not w in STOPWORDS]\n",
    "  X.append(filtered_sentence)\n",
    "X = pd.Series(X)  "
   ]
  },
  {
   "cell_type": "code",
   "execution_count": null,
   "metadata": {
    "id": "JQNuE92apis0"
   },
   "outputs": [],
   "source": [
    "label_tokenizer = Tokenizer()\n",
    "\n",
    "#label_tokenizer_train.fit_on_texts(y_train)\n",
    "label_tokenizer.fit_on_texts(y)\n",
    "\n",
    "label_seq = np.array(label_tokenizer.texts_to_sequences(y))"
   ]
  },
  {
   "cell_type": "code",
   "execution_count": null,
   "metadata": {
    "id": "O0x_i7TdrYms"
   },
   "outputs": [],
   "source": [
    "vocab_size = 5000\n",
    "embedding_dim = 64\n",
    "max_length = 400\n",
    "padding_type = 'post'\n",
    "oov_tok = '<OOV>'"
   ]
  },
  {
   "cell_type": "code",
   "execution_count": null,
   "metadata": {
    "id": "DAdjcNmmqCJF"
   },
   "outputs": [],
   "source": [
    "X_token = Tokenizer(num_words=5000,oov_token=oov_tok)\n",
    "X_token.fit_on_texts(X)\n",
    "word_index = X_token.word_index\n",
    "X_sequence = X_token.texts_to_sequences(X)"
   ]
  },
  {
   "cell_type": "code",
   "execution_count": null,
   "metadata": {
    "colab": {
     "base_uri": "https://localhost:8080/"
    },
    "id": "3dJ8oYy0LTVp",
    "outputId": "43377e22-b850-41a6-e62d-f006d54a8034"
   },
   "outputs": [],
   "source": [
    "dict(list(word_index.items())[0:20])"
   ]
  },
  {
   "cell_type": "code",
   "execution_count": null,
   "metadata": {
    "id": "sBDDNE8mq9dK"
   },
   "outputs": [],
   "source": [
    "X_padded = pad_sequences(X_sequence,maxlen=max_length,padding=padding_type)"
   ]
  },
  {
   "cell_type": "code",
   "execution_count": null,
   "metadata": {
    "colab": {
     "base_uri": "https://localhost:8080/"
    },
    "id": "i-jXLSfUrD6I",
    "outputId": "acdb12f5-adc3-42be-e267-40226d3f694a"
   },
   "outputs": [],
   "source": [
    "print(label_seq.shape)"
   ]
  },
  {
   "cell_type": "code",
   "execution_count": null,
   "metadata": {
    "colab": {
     "base_uri": "https://localhost:8080/"
    },
    "id": "sFydNxy3LTVr",
    "outputId": "9ec50711-c278-4491-f7cd-9cf16601f18d"
   },
   "outputs": [],
   "source": [
    "print(X_padded.shape)"
   ]
  },
  {
   "cell_type": "markdown",
   "metadata": {
    "id": "yDZ0gTUwqyQb"
   },
   "source": [
    "### Dataset Preparation:"
   ]
  },
  {
   "cell_type": "code",
   "execution_count": null,
   "metadata": {
    "id": "_AVyQrkDqfGQ"
   },
   "outputs": [],
   "source": [
    "X_train,X_test,y_train,y_test = train_test_split(X_padded,label_seq,train_size=0.7)"
   ]
  },
  {
   "cell_type": "code",
   "execution_count": null,
   "metadata": {
    "colab": {
     "base_uri": "https://localhost:8080/"
    },
    "id": "CLsJat2SrROr",
    "outputId": "b1847eb0-51d3-4779-a026-018d1276088e"
   },
   "outputs": [],
   "source": [
    "print(X_train.shape)\n",
    "print(y_train.shape)"
   ]
  },
  {
   "cell_type": "code",
   "execution_count": null,
   "metadata": {
    "colab": {
     "base_uri": "https://localhost:8080/"
    },
    "id": "a1XDMgxELTVu",
    "outputId": "11e0e0fa-2db1-4358-f338-53fc0331f2b7"
   },
   "outputs": [],
   "source": [
    "print(X_test.shape)\n",
    "print(y_test.shape)"
   ]
  },
  {
   "cell_type": "markdown",
   "metadata": {
    "id": "xRaHe_XKrgqk"
   },
   "source": [
    "### LSTM Model Creation"
   ]
  },
  {
   "cell_type": "code",
   "execution_count": null,
   "metadata": {
    "id": "-BrXKmdcrnRA"
   },
   "outputs": [],
   "source": [
    "model1 = Sequential()\n",
    "model1.add(Embedding(vocab_size, embedding_dim))\n",
    "model1.add(LSTM(embedding_dim))\n",
    "model1.add(Dense(embedding_dim, activation='relu'))\n",
    "model1.add(Dense(6,activation='softmax'))"
   ]
  },
  {
   "cell_type": "code",
   "execution_count": null,
   "metadata": {
    "colab": {
     "base_uri": "https://localhost:8080/"
    },
    "id": "stcI13oBLTVw",
    "outputId": "a3359714-5122-4608-8ea9-b9e8a9341de4"
   },
   "outputs": [],
   "source": [
    "model1.summary()"
   ]
  },
  {
   "cell_type": "code",
   "execution_count": null,
   "metadata": {
    "id": "f1WBtck2ryZ1"
   },
   "outputs": [],
   "source": [
    "model1.compile(loss='sparse_categorical_crossentropy',metrics=['accuracy'],optimizer='adam')"
   ]
  },
  {
   "cell_type": "code",
   "execution_count": null,
   "metadata": {
    "colab": {
     "base_uri": "https://localhost:8080/"
    },
    "id": "G7DUH4GSr1Lu",
    "outputId": "bf9fc14f-ada8-44cc-f94f-ffbbf0be152c"
   },
   "outputs": [],
   "source": [
    "history1=model1.fit(X_train,y_train,verbose=2,validation_data=(X_test,y_test),batch_size=32,epochs=20)"
   ]
  },
  {
   "cell_type": "code",
   "execution_count": null,
   "metadata": {
    "colab": {
     "base_uri": "https://localhost:8080/",
     "height": 295
    },
    "id": "DEo5hUb5sBii",
    "outputId": "fb454980-50b1-44fd-af8b-7ccdc3742c7e"
   },
   "outputs": [],
   "source": [
    "plt.plot(history1.history['accuracy'])\n",
    "plt.plot(history1.history['val_accuracy'])\n",
    "\n",
    "plt.title('model accuarcy')\n",
    "plt.xlabel('accuracy')\n",
    "plt.ylabel('epoch')\n",
    "\n",
    "plt.legend(['train','validation'])\n",
    "plt.show()"
   ]
  },
  {
   "cell_type": "code",
   "execution_count": null,
   "metadata": {
    "colab": {
     "base_uri": "https://localhost:8080/",
     "height": 295
    },
    "id": "gb-o-oFhs7TQ",
    "outputId": "6649b07e-d58c-4f19-b159-f9ceeea3967c"
   },
   "outputs": [],
   "source": [
    "plt.plot(history1.history['loss'])\n",
    "plt.plot(history1.history['val_loss'])\n",
    "\n",
    "plt.title('model loss')\n",
    "plt.xlabel('loss')\n",
    "plt.ylabel('epoch')\n",
    "\n",
    "plt.legend(['train','validation'])\n",
    "plt.show()"
   ]
  },
  {
   "cell_type": "code",
   "execution_count": null,
   "metadata": {
    "colab": {
     "base_uri": "https://localhost:8080/"
    },
    "id": "vmmNYBFGtExV",
    "outputId": "67b21767-afcc-4d6b-ee53-2258c72e5eb5"
   },
   "outputs": [],
   "source": [
    "score = model1.evaluate(X_test,y_test,verbose=0)\n",
    "print(\"loss:  \",score[0])\n",
    "print(\"accuarcy:  \",score[1])"
   ]
  },
  {
   "cell_type": "markdown",
   "metadata": {
    "id": "TJxeajEJtc67"
   },
   "source": [
    "### CNN-LSTM Model Creation"
   ]
  },
  {
   "cell_type": "code",
   "execution_count": null,
   "metadata": {
    "id": "lRYlIJLHtZHX"
   },
   "outputs": [],
   "source": [
    "model3 = Sequential()\n",
    "model3.add(Embedding(vocab_size, embedding_dim))\n",
    "model3.add(Conv1D(filters=32,kernel_size=3,strides=1,activation='relu'))\n",
    "model3.add(MaxPooling1D((3)))\n",
    "model3.add(LSTM(embedding_dim))\n",
    "model3.add(Dense(128,activation= 'relu'))\n",
    "model3.add(Dense(6,activation='softmax'))"
   ]
  },
  {
   "cell_type": "code",
   "execution_count": null,
   "metadata": {
    "colab": {
     "base_uri": "https://localhost:8080/"
    },
    "id": "VUWFaDkwyk0k",
    "outputId": "014e67ad-2ce6-402b-b92b-2253f24debd2"
   },
   "outputs": [],
   "source": [
    "model3.summary()"
   ]
  },
  {
   "cell_type": "code",
   "execution_count": null,
   "metadata": {
    "id": "Fuwd0AnqzyTd"
   },
   "outputs": [],
   "source": [
    "model3.compile(loss='sparse_categorical_crossentropy',metrics=['accuracy'],optimizer='adam')"
   ]
  },
  {
   "cell_type": "code",
   "execution_count": null,
   "metadata": {
    "colab": {
     "base_uri": "https://localhost:8080/"
    },
    "id": "0cKRTrCg0G8Q",
    "outputId": "8261ba53-bbe1-43e2-a6d7-301d0af34ac3"
   },
   "outputs": [],
   "source": [
    "history3 = model3.fit(X_train,y_train,validation_data=(X_test,y_test),verbose=2,epochs=20,batch_size=32)"
   ]
  },
  {
   "cell_type": "code",
   "execution_count": null,
   "metadata": {
    "colab": {
     "base_uri": "https://localhost:8080/",
     "height": 295
    },
    "id": "Vvji4z4g0ZA_",
    "outputId": "2d125890-36d4-4ac5-e3d7-96a1af9261f1"
   },
   "outputs": [],
   "source": [
    "plt.plot(history3.history['accuracy'])\n",
    "plt.plot(history3.history['val_accuracy'])\n",
    "\n",
    "plt.title('model accuarcy')\n",
    "plt.xlabel('accuracy')\n",
    "plt.ylabel('epoch')\n",
    "\n",
    "plt.legend(['train','validation'])\n",
    "plt.show()"
   ]
  },
  {
   "cell_type": "code",
   "execution_count": null,
   "metadata": {
    "colab": {
     "base_uri": "https://localhost:8080/",
     "height": 295
    },
    "id": "TACcKDGI1d97",
    "outputId": "a00fe3dc-c5ce-4630-9a6a-be49b2f62fdc"
   },
   "outputs": [],
   "source": [
    "plt.plot(history3.history['loss'])\n",
    "plt.plot(history3.history['val_loss'])\n",
    "\n",
    "plt.title('model loss')\n",
    "plt.xlabel('loss')\n",
    "plt.ylabel('epoch')\n",
    "\n",
    "plt.legend(['train','validation'])\n",
    "plt.show()"
   ]
  },
  {
   "cell_type": "code",
   "execution_count": null,
   "metadata": {
    "colab": {
     "base_uri": "https://localhost:8080/"
    },
    "id": "ylZ_uDuQ1nr8",
    "outputId": "7c2f2430-700d-4771-d588-9696340b58c9"
   },
   "outputs": [],
   "source": [
    "score = model3.evaluate(X_test,y_test,verbose=0)\n",
    "print(\"loss:  \",score[0])\n",
    "print(\"accuracy:  \",score[1])"
   ]
  },
  {
   "cell_type": "markdown",
   "metadata": {
    "id": "4qvVG77N2dpE"
   },
   "source": [
    "### Pre-trained Model Creation"
   ]
  },
  {
   "cell_type": "code",
   "execution_count": null,
   "metadata": {
    "colab": {
     "base_uri": "https://localhost:8080/"
    },
    "id": "73hQhof2TSKS",
    "outputId": "721f3660-c75e-4201-a213-6ea0fa51ed08"
   },
   "outputs": [],
   "source": [
    "!wget --no-check-certificate \\\n",
    "     http://nlp.stanford.edu/data/glove.6B.zip \\\n",
    "     -O /tmp/glove.6B.zip"
   ]
  },
  {
   "cell_type": "code",
   "execution_count": null,
   "metadata": {
    "id": "hRHDKCKCUlOy"
   },
   "outputs": [],
   "source": [
    "with zipfile.ZipFile('/tmp/glove.6B.zip', 'r') as zip_ref:\n",
    "    zip_ref.extractall('/tmp/glove')"
   ]
  },
  {
   "cell_type": "code",
   "execution_count": null,
   "metadata": {
    "colab": {
     "base_uri": "https://localhost:8080/"
    },
    "id": "L54i_8oQ154E",
    "outputId": "084daa5f-1e10-47b2-d998-e87d51b6ffe2"
   },
   "outputs": [],
   "source": [
    "embeddings_index = {}\n",
    "f = open('/tmp/glove/glove.6B.100d.txt')\n",
    "for line in f:\n",
    "    values = line.split()\n",
    "    word = values[0]\n",
    "    coefs = np.asarray(values[1:], dtype='float32')\n",
    "    embeddings_index[word] = coefs\n",
    "f.close()\n",
    "\n",
    "print('Found %s word vectors.' % len(embeddings_index))"
   ]
  },
  {
   "cell_type": "code",
   "execution_count": null,
   "metadata": {
    "id": "U9NM2pMxSbSe"
   },
   "outputs": [],
   "source": [
    "embedding_matrix = np.zeros((len(word_index) + 1, 100))\n",
    "for word, i in word_index.items():\n",
    "    embedding_vector = embeddings_index.get(word)\n",
    "    if embedding_vector is not None:\n",
    "        # words not found in embedding index will be all-zeros.\n",
    "        embedding_matrix[i] = embedding_vector"
   ]
  },
  {
   "cell_type": "code",
   "execution_count": null,
   "metadata": {
    "colab": {
     "base_uri": "https://localhost:8080/"
    },
    "id": "s3rJubxLa0f4",
    "outputId": "213b8037-1fda-4cd2-fc19-62ff5493e7d9"
   },
   "outputs": [],
   "source": [
    "embedding_matrix.shape"
   ]
  },
  {
   "cell_type": "code",
   "execution_count": null,
   "metadata": {
    "id": "IHyQR1jUeyBL"
   },
   "outputs": [],
   "source": [
    "embedding_layer = Embedding(input_dim=len(word_index) + 1,output_dim=100,weights=[embedding_matrix],input_length=100,trainable=False)"
   ]
  },
  {
   "cell_type": "code",
   "execution_count": null,
   "metadata": {
    "id": "pQL2Qmf5YjjI"
   },
   "outputs": [],
   "source": [
    "model5 = Sequential()\n",
    "model5.add(embedding_layer)\n",
    "model5.add(Conv1D(filters=64,kernel_size=5,strides=1,activation='relu'))\n",
    "model5.add(MaxPooling1D((3)))\n",
    "model5.add(LSTM(100))\n",
    "model5.add(Dense(128,activation= 'relu'))\n",
    "model5.add(Dense(6,activation='softmax'))"
   ]
  },
  {
   "cell_type": "code",
   "execution_count": null,
   "metadata": {
    "colab": {
     "base_uri": "https://localhost:8080/"
    },
    "id": "DnOReY1TgT2d",
    "outputId": "250e2f5e-aa10-4851-887b-ae6c9616047b"
   },
   "outputs": [],
   "source": [
    "model5.summary()"
   ]
  },
  {
   "cell_type": "code",
   "execution_count": null,
   "metadata": {
    "id": "XF1lNVp8g1Ug"
   },
   "outputs": [],
   "source": [
    "model5.compile(loss='sparse_categorical_crossentropy',metrics=['accuracy'],optimizer='adam')"
   ]
  },
  {
   "cell_type": "code",
   "execution_count": null,
   "metadata": {
    "colab": {
     "base_uri": "https://localhost:8080/"
    },
    "id": "7XuVbt0zg9S9",
    "outputId": "d4d63dc8-5b7f-493f-fbff-2da0a5621ec8"
   },
   "outputs": [],
   "source": [
    "history5 = model5.fit(X_train,y_train,validation_data=(X_test,y_test),verbose=2,epochs=20,batch_size=32)"
   ]
  },
  {
   "cell_type": "code",
   "execution_count": null,
   "metadata": {
    "colab": {
     "base_uri": "https://localhost:8080/",
     "height": 295
    },
    "id": "Vda0OxiihNrn",
    "outputId": "1250ecad-58b6-45cc-a962-ae4899de4abd"
   },
   "outputs": [],
   "source": [
    "plt.plot(history5.history['accuracy'])\n",
    "plt.plot(history5.history['val_accuracy'])\n",
    "\n",
    "plt.title('model accuarcy')\n",
    "plt.xlabel('accuracy')\n",
    "plt.ylabel('epoch')\n",
    "\n",
    "plt.legend(['train','validation'])\n",
    "plt.show()"
   ]
  },
  {
   "cell_type": "code",
   "execution_count": null,
   "metadata": {
    "colab": {
     "base_uri": "https://localhost:8080/",
     "height": 295
    },
    "id": "Rldqt8_ghevn",
    "outputId": "c56cb4ed-d50d-4bf4-e7ca-4a18a5bf3983"
   },
   "outputs": [],
   "source": [
    "plt.plot(history5.history['loss'])\n",
    "plt.plot(history5.history['val_loss'])\n",
    "\n",
    "plt.title('model accuarcy')\n",
    "plt.xlabel('accuracy')\n",
    "plt.ylabel('epoch')\n",
    "\n",
    "plt.legend(['train','validation'])\n",
    "plt.show()"
   ]
  },
  {
   "cell_type": "code",
   "execution_count": null,
   "metadata": {
    "colab": {
     "base_uri": "https://localhost:8080/"
    },
    "id": "jnBJvI5ThmB2",
    "outputId": "0e77abdf-a98c-4da9-b724-1414f214eec2"
   },
   "outputs": [],
   "source": [
    "score = model5.evaluate(X_test,y_test,verbose=0)\n",
    "print(\"loss:  \",score[0])\n",
    "print(\"accuracy:  \",score[1])"
   ]
  },
  {
   "cell_type": "markdown",
   "metadata": {
    "id": "NWSXvmpx2pcj"
   },
   "source": [
    "### Improvements"
   ]
  },
  {
   "cell_type": "markdown",
   "metadata": {
    "id": "CdD-7RqS40CP"
   },
   "source": [
    "**Try dropouts and see if you can improve the performance of your models.**\n"
   ]
  },
  {
   "cell_type": "code",
   "execution_count": null,
   "metadata": {
    "id": "ryaI5vsD2rhD"
   },
   "outputs": [],
   "source": [
    "model7 = Sequential()\n",
    "model7.add(Embedding(vocab_size, embedding_dim))\n",
    "model7.add(Conv1D(filters=64,kernel_size=5,strides=1,activation='relu'))\n",
    "model7.add(MaxPooling1D((3)))\n",
    "model7.add(LSTM(embedding_dim))\n",
    "model7.add(Dropout(0.15))\n",
    "model7.add(Dense(238,activation= 'relu'))\n",
    "model7.add(Dense(6,activation='softmax'))"
   ]
  },
  {
   "cell_type": "code",
   "execution_count": null,
   "metadata": {
    "colab": {
     "base_uri": "https://localhost:8080/"
    },
    "id": "aFZJgsqN3DZb",
    "outputId": "aef50d2c-2dc9-4f4c-dcea-f68d9242ce71"
   },
   "outputs": [],
   "source": [
    "model7.summary()"
   ]
  },
  {
   "cell_type": "code",
   "execution_count": null,
   "metadata": {
    "id": "pqbn2Joh3Pbo"
   },
   "outputs": [],
   "source": [
    "model7.compile(loss='sparse_categorical_crossentropy',metrics=['accuracy'],optimizer='adam')"
   ]
  },
  {
   "cell_type": "code",
   "execution_count": null,
   "metadata": {
    "colab": {
     "base_uri": "https://localhost:8080/"
    },
    "id": "eh6ch4BT4Dud",
    "outputId": "e98d3cba-ac07-45a9-d363-41c51b631d00"
   },
   "outputs": [],
   "source": [
    "history7 = model7.fit(X_train,y_train,validation_data=(X_test,y_test),verbose=2,epochs=20,batch_size=32)"
   ]
  },
  {
   "cell_type": "code",
   "execution_count": null,
   "metadata": {
    "colab": {
     "base_uri": "https://localhost:8080/",
     "height": 295
    },
    "id": "sH1hTfYw4Hch",
    "outputId": "3d3a62bd-397b-4156-c863-4cad633ed321"
   },
   "outputs": [],
   "source": [
    "plt.plot(history7.history['accuracy'])\n",
    "plt.plot(history7.history['val_accuracy'])\n",
    "\n",
    "plt.title('model accuarcy')\n",
    "plt.xlabel('accuracy')\n",
    "plt.ylabel('epoch')\n",
    "\n",
    "plt.legend(['train','validation'])\n",
    "plt.show()"
   ]
  },
  {
   "cell_type": "code",
   "execution_count": null,
   "metadata": {
    "colab": {
     "base_uri": "https://localhost:8080/",
     "height": 295
    },
    "id": "Zlo7tBGl4MCI",
    "outputId": "1984685a-96c5-4086-c79c-e14f0de1993b"
   },
   "outputs": [],
   "source": [
    "plt.plot(history7.history['loss'])\n",
    "plt.plot(history7.history['val_loss'])\n",
    "\n",
    "plt.title('model loss')\n",
    "plt.xlabel('accuracy')\n",
    "plt.ylabel('epoch')\n",
    "\n",
    "plt.legend(['train','validation'])\n",
    "plt.show()"
   ]
  },
  {
   "cell_type": "code",
   "execution_count": null,
   "metadata": {
    "colab": {
     "base_uri": "https://localhost:8080/"
    },
    "id": "sPsscNv54SSg",
    "outputId": "37108701-a02c-440c-aa3a-93fbb67b1155"
   },
   "outputs": [],
   "source": [
    "score = model7.evaluate(X_test,y_test,verbose=0)\n",
    "print(\"loss:  \",score[0])\n",
    "print(\"accuracy:  \",score[1])"
   ]
  },
  {
   "cell_type": "markdown",
   "metadata": {
    "id": "Sjx87s6s43wv"
   },
   "source": [
    "**Split your dataset with 20% testing and observe your performance.**"
   ]
  },
  {
   "cell_type": "code",
   "execution_count": null,
   "metadata": {
    "id": "ff4_ADq14lPh"
   },
   "outputs": [],
   "source": [
    "X_train,X_test,y_train,y_test = train_test_split(X_padded,label_seq,train_size=0.8)"
   ]
  },
  {
   "cell_type": "code",
   "execution_count": null,
   "metadata": {
    "colab": {
     "base_uri": "https://localhost:8080/"
    },
    "id": "4vunLqZm_-AI",
    "outputId": "b0727f49-2edf-45f9-d3a0-54c15591f390"
   },
   "outputs": [],
   "source": [
    "print(X_train.shape)\n",
    "print(y_train.shape)"
   ]
  },
  {
   "cell_type": "code",
   "execution_count": null,
   "metadata": {
    "colab": {
     "base_uri": "https://localhost:8080/"
    },
    "id": "jvnnecYBLTWQ",
    "outputId": "1739c591-3bdb-4b14-cdee-7e51514a68b2"
   },
   "outputs": [],
   "source": [
    "print(X_test.shape)\n",
    "print(y_test.shape)"
   ]
  },
  {
   "cell_type": "code",
   "execution_count": null,
   "metadata": {
    "colab": {
     "base_uri": "https://localhost:8080/"
    },
    "id": "bz5qjmRY8Kg_",
    "outputId": "ba81d187-f98f-4b87-d522-f25e31a16453"
   },
   "outputs": [],
   "source": [
    "history9 = model5.fit(X_train,y_train,validation_data=(X_test,y_test),verbose=2,epochs=20,batch_size=32)"
   ]
  },
  {
   "cell_type": "code",
   "execution_count": null,
   "metadata": {
    "colab": {
     "base_uri": "https://localhost:8080/",
     "height": 295
    },
    "id": "fxPvCx_z-A8l",
    "outputId": "b82ba78e-72a5-45c2-8a9a-d6a6b9a14eda"
   },
   "outputs": [],
   "source": [
    "plt.plot(history9.history['accuracy'])\n",
    "plt.plot(history9.history['val_accuracy'])\n",
    "\n",
    "plt.title('model accuarcy')\n",
    "plt.xlabel('accuracy')\n",
    "plt.ylabel('epoch')\n",
    "\n",
    "plt.legend(['train','validation'])\n",
    "plt.show()"
   ]
  },
  {
   "cell_type": "code",
   "execution_count": null,
   "metadata": {
    "colab": {
     "base_uri": "https://localhost:8080/",
     "height": 295
    },
    "id": "77s7s8e6-IiF",
    "outputId": "532696cf-0c67-4d88-b01d-e97cda95637f"
   },
   "outputs": [],
   "source": [
    "plt.plot(history9.history['loss'])\n",
    "plt.plot(history9.history['val_loss'])\n",
    "\n",
    "plt.title('model loss')\n",
    "plt.xlabel('loss')\n",
    "plt.ylabel('epoch')\n",
    "\n",
    "plt.legend(['train','validation'])\n",
    "plt.show()"
   ]
  },
  {
   "cell_type": "code",
   "execution_count": null,
   "metadata": {
    "colab": {
     "base_uri": "https://localhost:8080/"
    },
    "id": "UMDJnhp3-SRw",
    "outputId": "a68a1f85-2bbe-48f9-b345-5a5be1766f0f"
   },
   "outputs": [],
   "source": [
    "score = model9.evaluate(X_test,y_test,verbose=0)\n",
    "print(\"loss:  \",score[0])\n",
    "print(\"accuracy:  \",score[1])"
   ]
  },
  {
   "cell_type": "markdown",
   "metadata": {
    "id": "9xDskWfZ_oiu"
   },
   "source": [
    "### Predictions"
   ]
  },
  {
   "cell_type": "code",
   "execution_count": null,
   "metadata": {
    "colab": {
     "base_uri": "https://localhost:8080/"
    },
    "id": "4Nkg8_2T8Wev",
    "outputId": "114d8a89-564c-486d-cd15-b203be771ee9"
   },
   "outputs": [],
   "source": [
    "txt = [\"Australia claimed the crucial wicket of Sri Lankan opener Pathum Nissanka as Pat Cummins struck early-on. Earlier, Australian captain Aaron Finch won the toss and decided to bowl vs Sri Lanka in a Super 12 game in the T20 World Cup 2021 at the Dubai International Stadium in Dubai. Sri Lanka made one change as Maheesh Theekshana was declared fit and came in place of Binura Fernando while Australia went unchanged from their last match. Australia defeated South Africa in their opening game by five wickets and two balls to spare. Sri Lanka, on the other hand, registered a win as well where they went past Bangladesh by five wickets and seven balls remaining.Dasun Shanaka will aim to grab a sensational win today in a tough group which promises to go down to the wire\"]\n",
    "\n",
    "tokenizer = Tokenizer(num_words=5000,oov_token='<oov>')\n",
    "tokenizer.fit_on_texts(txt)\n",
    "seq = tokenizer.texts_to_sequences(txt)\n",
    "padded = pad_sequences(seq, maxlen=400)\n",
    "\n",
    "pred = model1.predict(padded)\n",
    "\n",
    "labels = ['tech','bussiness','politics','sport','entertainment']\n",
    "print(pred)\n",
    "print(labels[np.argmax(pred)])"
   ]
  },
  {
   "cell_type": "code",
   "execution_count": null,
   "metadata": {
    "colab": {
     "base_uri": "https://localhost:8080/"
    },
    "id": "Xee54QYxB9gk",
    "outputId": "997baf28-4d59-4f94-d3a8-2f46fb329739"
   },
   "outputs": [],
   "source": [
    "txt = [\"Australia claimed the crucial wicket of Sri Lankan opener Pathum Nissanka as Pat Cummins struck early-on. Earlier, Australian captain Aaron Finch won the toss and decided to bowl vs Sri Lanka in a Super 12 game in the T20 World Cup 2021 at the Dubai International Stadium in Dubai. Sri Lanka made one change as Maheesh Theekshana was declared fit and came in place of Binura Fernando while Australia went unchanged from their last match. Australia defeated South Africa in their opening game by five wickets and two balls to spare. Sri Lanka, on the other hand, registered a win as well where they went past Bangladesh by five wickets and seven balls remaining.Dasun Shanaka will aim to grab a sensational win today in a tough group which promises to go down to the wire\"]\n",
    "\n",
    "tokenizer = Tokenizer(num_words=5000,oov_token='<oov>')\n",
    "tokenizer.fit_on_texts(txt)\n",
    "seq = tokenizer.texts_to_sequences(txt)\n",
    "padded = pad_sequences(seq, maxlen=400)\n",
    "\n",
    "pred = model3.predict(padded)\n",
    "\n",
    "labels = ['tech','bussiness','politics','sport','entertainment']\n",
    "print(pred)\n",
    "print(labels[np.argmax(pred)])"
   ]
  },
  {
   "cell_type": "code",
   "execution_count": null,
   "metadata": {
    "colab": {
     "base_uri": "https://localhost:8080/"
    },
    "id": "tzvhQx3SCDkQ",
    "outputId": "6cd11335-c09d-4db7-d97b-ff2ecc704290"
   },
   "outputs": [],
   "source": [
    "txt = [\"Australia claimed the crucial wicket of Sri Lankan opener Pathum Nissanka as Pat Cummins struck early-on. Earlier, Australian captain Aaron Finch won the toss and decided to bowl vs Sri Lanka in a Super 12 game in the T20 World Cup 2021 at the Dubai International Stadium in Dubai. Sri Lanka made one change as Maheesh Theekshana was declared fit and came in place of Binura Fernando while Australia went unchanged from their last match. Australia defeated South Africa in their opening game by five wickets and two balls to spare. Sri Lanka, on the other hand, registered a win as well where they went past Bangladesh by five wickets and seven balls remaining.Dasun Shanaka will aim to grab a sensational win today in a tough group which promises to go down to the wire\"]\n",
    "\n",
    "tokenizer = Tokenizer(num_words=5000,oov_token='<oov>')\n",
    "tokenizer.fit_on_texts(txt)\n",
    "seq = tokenizer.texts_to_sequences(txt)\n",
    "padded = pad_sequences(seq, maxlen=400)\n",
    "\n",
    "pred = model7.predict(padded)\n",
    "\n",
    "labels = ['tech','bussiness','politics','sport','entertainment']\n",
    "print(pred)\n",
    "print(labels[np.argmax(pred)])"
   ]
  }
 ],
 "metadata": {
  "colab": {
   "collapsed_sections": [],
   "name": "PDL_LAB-19_Mahalakshmi18.ipynb",
   "provenance": []
  },
  "kernelspec": {
   "display_name": "Python 3",
   "language": "python",
   "name": "python3"
  },
  "language_info": {
   "codemirror_mode": {
    "name": "ipython",
    "version": 3
   },
   "file_extension": ".py",
   "mimetype": "text/x-python",
   "name": "python",
   "nbconvert_exporter": "python",
   "pygments_lexer": "ipython3",
   "version": "3.8.8"
  }
 },
 "nbformat": 4,
 "nbformat_minor": 1
}
