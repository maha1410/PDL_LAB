{
 "cells": [
  {
   "cell_type": "markdown",
   "id": "772b4612",
   "metadata": {},
   "source": [
    "<font size=+1 color='Black'><b>Maheshvaran_S&nbsp;&nbsp;&nbsp;&nbsp;&nbsp;&nbsp;&nbsp;&nbsp;&nbsp;&nbsp;&nbsp;&nbsp;&nbsp;&nbsp;&nbsp;&nbsp;&nbsp;&nbsp;&nbsp;&nbsp;&nbsp;&nbsp;&nbsp;&nbsp;&nbsp;&nbsp;&nbsp;&nbsp;&nbsp;&nbsp;&nbsp;&nbsp;&nbsp;&nbsp;&nbsp;&nbsp;&nbsp;&nbsp;&nbsp;&nbsp;&nbsp;&nbsp;&nbsp;&nbsp;&nbsp;&nbsp;&nbsp;&nbsp;&nbsp;&nbsp;&nbsp;&nbsp;&nbsp;&nbsp;&nbsp;&nbsp;&nbsp;&nbsp;&nbsp;&nbsp;&nbsp;&nbsp;&nbsp;&nbsp;&nbsp;&nbsp;&nbsp;&nbsp;&nbsp;&nbsp;&nbsp;&nbsp;&nbsp;&nbsp;&nbsp;&nbsp;&nbsp;&nbsp;&nbsp;&nbsp;&nbsp;&nbsp;&nbsp;&nbsp;&nbsp;&nbsp;&nbsp;&nbsp;&nbsp;&nbsp;&nbsp;&nbsp;&nbsp;&nbsp;&nbsp;&nbsp;&nbsp;&nbsp;&nbsp;&nbsp;&nbsp;&nbsp;&nbsp;&nbsp;&nbsp;&nbsp;&nbsp;&nbsp;&nbsp;&nbsp;&nbsp;&nbsp;&nbsp;&nbsp;&nbsp;&nbsp;&nbsp;&nbsp;&nbsp;&nbsp;&nbsp;&nbsp;&nbsp;&nbsp;&nbsp;&nbsp;205229119</b></font>"
   ]
  },
  {
   "cell_type": "code",
   "execution_count": 1,
   "id": "8b63d441",
   "metadata": {},
   "outputs": [],
   "source": [
    "import matplotlib.pyplot as plt\n",
    "%matplotlib inline"
   ]
  },
  {
   "cell_type": "code",
   "execution_count": 2,
   "id": "9b20d6d5",
   "metadata": {},
   "outputs": [],
   "source": [
    "import warnings\n",
    "warnings.filterwarnings('ignore')"
   ]
  },
  {
   "cell_type": "code",
   "execution_count": 7,
   "id": "973aa421",
   "metadata": {},
   "outputs": [],
   "source": [
    "filename='map1.wav'"
   ]
  },
  {
   "cell_type": "code",
   "execution_count": 8,
   "id": "44e38100",
   "metadata": {},
   "outputs": [],
   "source": [
    "import IPython.display as ipd\n",
    "import librosa\n",
    "import librosa.display\n",
    "import numpy as np"
   ]
  },
  {
   "cell_type": "code",
   "execution_count": 9,
   "id": "d818848d",
   "metadata": {},
   "outputs": [
    {
     "ename": "NoBackendError",
     "evalue": "",
     "output_type": "error",
     "traceback": [
      "\u001b[1;31m---------------------------------------------------------------------------\u001b[0m",
      "\u001b[1;31mRuntimeError\u001b[0m                              Traceback (most recent call last)",
      "\u001b[1;32m~\\anaconda3\\lib\\site-packages\\librosa\\core\\audio.py\u001b[0m in \u001b[0;36mload\u001b[1;34m(path, sr, mono, offset, duration, dtype, res_type)\u001b[0m\n\u001b[0;32m    148\u001b[0m     \u001b[1;32mtry\u001b[0m\u001b[1;33m:\u001b[0m\u001b[1;33m\u001b[0m\u001b[1;33m\u001b[0m\u001b[0m\n\u001b[1;32m--> 149\u001b[1;33m         \u001b[1;32mwith\u001b[0m \u001b[0msf\u001b[0m\u001b[1;33m.\u001b[0m\u001b[0mSoundFile\u001b[0m\u001b[1;33m(\u001b[0m\u001b[0mpath\u001b[0m\u001b[1;33m)\u001b[0m \u001b[1;32mas\u001b[0m \u001b[0msf_desc\u001b[0m\u001b[1;33m:\u001b[0m\u001b[1;33m\u001b[0m\u001b[1;33m\u001b[0m\u001b[0m\n\u001b[0m\u001b[0;32m    150\u001b[0m             \u001b[0msr_native\u001b[0m \u001b[1;33m=\u001b[0m \u001b[0msf_desc\u001b[0m\u001b[1;33m.\u001b[0m\u001b[0msamplerate\u001b[0m\u001b[1;33m\u001b[0m\u001b[1;33m\u001b[0m\u001b[0m\n",
      "\u001b[1;32m~\\anaconda3\\lib\\site-packages\\soundfile.py\u001b[0m in \u001b[0;36m__init__\u001b[1;34m(self, file, mode, samplerate, channels, subtype, endian, format, closefd)\u001b[0m\n\u001b[0;32m    628\u001b[0m                                          format, subtype, endian)\n\u001b[1;32m--> 629\u001b[1;33m         \u001b[0mself\u001b[0m\u001b[1;33m.\u001b[0m\u001b[0m_file\u001b[0m \u001b[1;33m=\u001b[0m \u001b[0mself\u001b[0m\u001b[1;33m.\u001b[0m\u001b[0m_open\u001b[0m\u001b[1;33m(\u001b[0m\u001b[0mfile\u001b[0m\u001b[1;33m,\u001b[0m \u001b[0mmode_int\u001b[0m\u001b[1;33m,\u001b[0m \u001b[0mclosefd\u001b[0m\u001b[1;33m)\u001b[0m\u001b[1;33m\u001b[0m\u001b[1;33m\u001b[0m\u001b[0m\n\u001b[0m\u001b[0;32m    630\u001b[0m         \u001b[1;32mif\u001b[0m \u001b[0mset\u001b[0m\u001b[1;33m(\u001b[0m\u001b[0mmode\u001b[0m\u001b[1;33m)\u001b[0m\u001b[1;33m.\u001b[0m\u001b[0missuperset\u001b[0m\u001b[1;33m(\u001b[0m\u001b[1;34m'r+'\u001b[0m\u001b[1;33m)\u001b[0m \u001b[1;32mand\u001b[0m \u001b[0mself\u001b[0m\u001b[1;33m.\u001b[0m\u001b[0mseekable\u001b[0m\u001b[1;33m(\u001b[0m\u001b[1;33m)\u001b[0m\u001b[1;33m:\u001b[0m\u001b[1;33m\u001b[0m\u001b[1;33m\u001b[0m\u001b[0m\n",
      "\u001b[1;32m~\\anaconda3\\lib\\site-packages\\soundfile.py\u001b[0m in \u001b[0;36m_open\u001b[1;34m(self, file, mode_int, closefd)\u001b[0m\n\u001b[0;32m   1182\u001b[0m             \u001b[1;32mraise\u001b[0m \u001b[0mTypeError\u001b[0m\u001b[1;33m(\u001b[0m\u001b[1;34m\"Invalid file: {0!r}\"\u001b[0m\u001b[1;33m.\u001b[0m\u001b[0mformat\u001b[0m\u001b[1;33m(\u001b[0m\u001b[0mself\u001b[0m\u001b[1;33m.\u001b[0m\u001b[0mname\u001b[0m\u001b[1;33m)\u001b[0m\u001b[1;33m)\u001b[0m\u001b[1;33m\u001b[0m\u001b[1;33m\u001b[0m\u001b[0m\n\u001b[1;32m-> 1183\u001b[1;33m         _error_check(_snd.sf_error(file_ptr),\n\u001b[0m\u001b[0;32m   1184\u001b[0m                      \"Error opening {0!r}: \".format(self.name))\n",
      "\u001b[1;32m~\\anaconda3\\lib\\site-packages\\soundfile.py\u001b[0m in \u001b[0;36m_error_check\u001b[1;34m(err, prefix)\u001b[0m\n\u001b[0;32m   1356\u001b[0m         \u001b[0merr_str\u001b[0m \u001b[1;33m=\u001b[0m \u001b[0m_snd\u001b[0m\u001b[1;33m.\u001b[0m\u001b[0msf_error_number\u001b[0m\u001b[1;33m(\u001b[0m\u001b[0merr\u001b[0m\u001b[1;33m)\u001b[0m\u001b[1;33m\u001b[0m\u001b[1;33m\u001b[0m\u001b[0m\n\u001b[1;32m-> 1357\u001b[1;33m         \u001b[1;32mraise\u001b[0m \u001b[0mRuntimeError\u001b[0m\u001b[1;33m(\u001b[0m\u001b[0mprefix\u001b[0m \u001b[1;33m+\u001b[0m \u001b[0m_ffi\u001b[0m\u001b[1;33m.\u001b[0m\u001b[0mstring\u001b[0m\u001b[1;33m(\u001b[0m\u001b[0merr_str\u001b[0m\u001b[1;33m)\u001b[0m\u001b[1;33m.\u001b[0m\u001b[0mdecode\u001b[0m\u001b[1;33m(\u001b[0m\u001b[1;34m'utf-8'\u001b[0m\u001b[1;33m,\u001b[0m \u001b[1;34m'replace'\u001b[0m\u001b[1;33m)\u001b[0m\u001b[1;33m)\u001b[0m\u001b[1;33m\u001b[0m\u001b[1;33m\u001b[0m\u001b[0m\n\u001b[0m\u001b[0;32m   1358\u001b[0m \u001b[1;33m\u001b[0m\u001b[0m\n",
      "\u001b[1;31mRuntimeError\u001b[0m: Error opening 'map1.wav': File contains data in an unknown format.",
      "\nDuring handling of the above exception, another exception occurred:\n",
      "\u001b[1;31mNoBackendError\u001b[0m                            Traceback (most recent call last)",
      "\u001b[1;32m<ipython-input-9-a8ace155e9d6>\u001b[0m in \u001b[0;36m<module>\u001b[1;34m\u001b[0m\n\u001b[0;32m      1\u001b[0m \u001b[0mplt\u001b[0m\u001b[1;33m.\u001b[0m\u001b[0mfigure\u001b[0m\u001b[1;33m(\u001b[0m\u001b[0mfigsize\u001b[0m\u001b[1;33m=\u001b[0m\u001b[1;33m(\u001b[0m\u001b[1;36m14\u001b[0m\u001b[1;33m,\u001b[0m\u001b[1;36m5\u001b[0m\u001b[1;33m)\u001b[0m\u001b[1;33m)\u001b[0m\u001b[1;33m\u001b[0m\u001b[1;33m\u001b[0m\u001b[0m\n\u001b[1;32m----> 2\u001b[1;33m \u001b[0mdata\u001b[0m\u001b[1;33m,\u001b[0m\u001b[0msample_rate\u001b[0m\u001b[1;33m=\u001b[0m\u001b[0mlibrosa\u001b[0m\u001b[1;33m.\u001b[0m\u001b[0mload\u001b[0m\u001b[1;33m(\u001b[0m\u001b[0mfilename\u001b[0m\u001b[1;33m)\u001b[0m\u001b[1;33m\u001b[0m\u001b[1;33m\u001b[0m\u001b[0m\n\u001b[0m\u001b[0;32m      3\u001b[0m \u001b[0mlibrosa\u001b[0m\u001b[1;33m.\u001b[0m\u001b[0mdisplay\u001b[0m\u001b[1;33m.\u001b[0m\u001b[0mwaveplot\u001b[0m\u001b[1;33m(\u001b[0m\u001b[0mdata\u001b[0m\u001b[1;33m,\u001b[0m\u001b[0msr\u001b[0m\u001b[1;33m=\u001b[0m\u001b[0msample_rate\u001b[0m\u001b[1;33m)\u001b[0m\u001b[1;33m\u001b[0m\u001b[1;33m\u001b[0m\u001b[0m\n\u001b[0;32m      4\u001b[0m \u001b[0mipd\u001b[0m\u001b[1;33m.\u001b[0m\u001b[0mAudio\u001b[0m\u001b[1;33m(\u001b[0m\u001b[0mfilename\u001b[0m\u001b[1;33m)\u001b[0m\u001b[1;33m\u001b[0m\u001b[1;33m\u001b[0m\u001b[0m\n",
      "\u001b[1;32m~\\anaconda3\\lib\\site-packages\\librosa\\core\\audio.py\u001b[0m in \u001b[0;36mload\u001b[1;34m(path, sr, mono, offset, duration, dtype, res_type)\u001b[0m\n\u001b[0;32m    164\u001b[0m         \u001b[1;32mif\u001b[0m \u001b[0misinstance\u001b[0m\u001b[1;33m(\u001b[0m\u001b[0mpath\u001b[0m\u001b[1;33m,\u001b[0m \u001b[1;33m(\u001b[0m\u001b[0mstr\u001b[0m\u001b[1;33m,\u001b[0m \u001b[0mpathlib\u001b[0m\u001b[1;33m.\u001b[0m\u001b[0mPurePath\u001b[0m\u001b[1;33m)\u001b[0m\u001b[1;33m)\u001b[0m\u001b[1;33m:\u001b[0m\u001b[1;33m\u001b[0m\u001b[1;33m\u001b[0m\u001b[0m\n\u001b[0;32m    165\u001b[0m             \u001b[0mwarnings\u001b[0m\u001b[1;33m.\u001b[0m\u001b[0mwarn\u001b[0m\u001b[1;33m(\u001b[0m\u001b[1;34m\"PySoundFile failed. Trying audioread instead.\"\u001b[0m\u001b[1;33m)\u001b[0m\u001b[1;33m\u001b[0m\u001b[1;33m\u001b[0m\u001b[0m\n\u001b[1;32m--> 166\u001b[1;33m             \u001b[0my\u001b[0m\u001b[1;33m,\u001b[0m \u001b[0msr_native\u001b[0m \u001b[1;33m=\u001b[0m \u001b[0m__audioread_load\u001b[0m\u001b[1;33m(\u001b[0m\u001b[0mpath\u001b[0m\u001b[1;33m,\u001b[0m \u001b[0moffset\u001b[0m\u001b[1;33m,\u001b[0m \u001b[0mduration\u001b[0m\u001b[1;33m,\u001b[0m \u001b[0mdtype\u001b[0m\u001b[1;33m)\u001b[0m\u001b[1;33m\u001b[0m\u001b[1;33m\u001b[0m\u001b[0m\n\u001b[0m\u001b[0;32m    167\u001b[0m         \u001b[1;32melse\u001b[0m\u001b[1;33m:\u001b[0m\u001b[1;33m\u001b[0m\u001b[1;33m\u001b[0m\u001b[0m\n\u001b[0;32m    168\u001b[0m             \u001b[1;32mraise\u001b[0m \u001b[1;33m(\u001b[0m\u001b[0mexc\u001b[0m\u001b[1;33m)\u001b[0m\u001b[1;33m\u001b[0m\u001b[1;33m\u001b[0m\u001b[0m\n",
      "\u001b[1;32m~\\anaconda3\\lib\\site-packages\\librosa\\core\\audio.py\u001b[0m in \u001b[0;36m__audioread_load\u001b[1;34m(path, offset, duration, dtype)\u001b[0m\n\u001b[0;32m    188\u001b[0m \u001b[1;33m\u001b[0m\u001b[0m\n\u001b[0;32m    189\u001b[0m     \u001b[0my\u001b[0m \u001b[1;33m=\u001b[0m \u001b[1;33m[\u001b[0m\u001b[1;33m]\u001b[0m\u001b[1;33m\u001b[0m\u001b[1;33m\u001b[0m\u001b[0m\n\u001b[1;32m--> 190\u001b[1;33m     \u001b[1;32mwith\u001b[0m \u001b[0maudioread\u001b[0m\u001b[1;33m.\u001b[0m\u001b[0maudio_open\u001b[0m\u001b[1;33m(\u001b[0m\u001b[0mpath\u001b[0m\u001b[1;33m)\u001b[0m \u001b[1;32mas\u001b[0m \u001b[0minput_file\u001b[0m\u001b[1;33m:\u001b[0m\u001b[1;33m\u001b[0m\u001b[1;33m\u001b[0m\u001b[0m\n\u001b[0m\u001b[0;32m    191\u001b[0m         \u001b[0msr_native\u001b[0m \u001b[1;33m=\u001b[0m \u001b[0minput_file\u001b[0m\u001b[1;33m.\u001b[0m\u001b[0msamplerate\u001b[0m\u001b[1;33m\u001b[0m\u001b[1;33m\u001b[0m\u001b[0m\n\u001b[0;32m    192\u001b[0m         \u001b[0mn_channels\u001b[0m \u001b[1;33m=\u001b[0m \u001b[0minput_file\u001b[0m\u001b[1;33m.\u001b[0m\u001b[0mchannels\u001b[0m\u001b[1;33m\u001b[0m\u001b[1;33m\u001b[0m\u001b[0m\n",
      "\u001b[1;32m~\\anaconda3\\lib\\site-packages\\audioread\\__init__.py\u001b[0m in \u001b[0;36maudio_open\u001b[1;34m(path, backends)\u001b[0m\n\u001b[0;32m    114\u001b[0m \u001b[1;33m\u001b[0m\u001b[0m\n\u001b[0;32m    115\u001b[0m     \u001b[1;31m# All backends failed!\u001b[0m\u001b[1;33m\u001b[0m\u001b[1;33m\u001b[0m\u001b[1;33m\u001b[0m\u001b[0m\n\u001b[1;32m--> 116\u001b[1;33m     \u001b[1;32mraise\u001b[0m \u001b[0mNoBackendError\u001b[0m\u001b[1;33m(\u001b[0m\u001b[1;33m)\u001b[0m\u001b[1;33m\u001b[0m\u001b[1;33m\u001b[0m\u001b[0m\n\u001b[0m",
      "\u001b[1;31mNoBackendError\u001b[0m: "
     ]
    },
    {
     "data": {
      "text/plain": [
       "<Figure size 1008x360 with 0 Axes>"
      ]
     },
     "metadata": {},
     "output_type": "display_data"
    }
   ],
   "source": [
    "plt.figure(figsize=(14,5))\n",
    "data,sample_rate=librosa.load(filename)\n",
    "librosa.display.waveplot(data,sr=sample_rate)\n",
    "ipd.Audio(filename)"
   ]
  },
  {
   "cell_type": "code",
   "execution_count": 6,
   "id": "bc2d51a4",
   "metadata": {},
   "outputs": [
    {
     "data": {
      "text/plain": [
       "22050"
      ]
     },
     "execution_count": 6,
     "metadata": {},
     "output_type": "execute_result"
    }
   ],
   "source": [
    "sample_rate"
   ]
  },
  {
   "cell_type": "code",
   "execution_count": 7,
   "id": "c3414783",
   "metadata": {},
   "outputs": [
    {
     "data": {
      "text/plain": [
       "array([ 9.5191234e-07, -9.9657916e-07,  1.0160486e-06, ...,\n",
       "       -6.6428975e-04, -3.3015956e-04,  0.0000000e+00], dtype=float32)"
      ]
     },
     "execution_count": 7,
     "metadata": {},
     "output_type": "execute_result"
    }
   ],
   "source": [
    "data"
   ]
  },
  {
   "cell_type": "code",
   "execution_count": 8,
   "id": "5d2c52db",
   "metadata": {},
   "outputs": [],
   "source": [
    "audio_file_path='King.wav'\n",
    "librosa_audio_data,librosa_sample_rate=librosa.load(audio_file_path)"
   ]
  },
  {
   "cell_type": "code",
   "execution_count": 9,
   "id": "1081ba1a",
   "metadata": {},
   "outputs": [
    {
     "name": "stdout",
     "output_type": "stream",
     "text": [
      "[ 9.5191234e-07 -9.9657916e-07  1.0160486e-06 ... -6.6428975e-04\n",
      " -3.3015956e-04  0.0000000e+00]\n"
     ]
    }
   ],
   "source": [
    "print(librosa_audio_data)"
   ]
  },
  {
   "cell_type": "code",
   "execution_count": 10,
   "id": "949407c9",
   "metadata": {},
   "outputs": [
    {
     "data": {
      "text/plain": [
       "[<matplotlib.lines.Line2D at 0x28fd5b253d0>]"
      ]
     },
     "execution_count": 10,
     "metadata": {},
     "output_type": "execute_result"
    },
    {
     "data": {
      "image/png": "[encoded data removed]",
      "text/plain": [
       "<Figure size 864x288 with 1 Axes>"
      ]
     },
     "metadata": {
      "needs_background": "light"
     },
     "output_type": "display_data"
    }
   ],
   "source": [
    "### Lets plot the librosa audio data\n",
    "import matplotlib.pyplot as plt\n",
    "# Original audio with 1 channel \n",
    "plt.figure(figsize=(12, 4))\n",
    "plt.plot(librosa_audio_data)"
   ]
  },
  {
   "cell_type": "code",
   "execution_count": 11,
   "id": "fc81e92d",
   "metadata": {},
   "outputs": [
    {
     "data": {
      "text/plain": [
       "(12, 95)"
      ]
     },
     "execution_count": 11,
     "metadata": {},
     "output_type": "execute_result"
    }
   ],
   "source": [
    "stftt = librosa.feature.chroma_stft(y=librosa_audio_data,sr=librosa_sample_rate)\n",
    "stftt.shape"
   ]
  },
  {
   "cell_type": "code",
   "execution_count": 12,
   "id": "1e7c10c2",
   "metadata": {},
   "outputs": [
    {
     "data": {
      "text/plain": [
       "array([[0.850881  , 1.        , 0.5964047 , ..., 0.70877534, 0.6001311 ,\n",
       "        0.6572035 ],\n",
       "       [0.7939969 , 0.7052832 , 0.59942293, ..., 0.5544599 , 0.44412   ,\n",
       "        0.53427106],\n",
       "       [0.65794945, 0.7094926 , 0.7974905 , ..., 0.58907926, 0.4927989 ,\n",
       "        0.52238405],\n",
       "       ...,\n",
       "       [0.5376956 , 0.4989347 , 0.44653356, ..., 0.6957192 , 0.6581848 ,\n",
       "        0.97932434],\n",
       "       [0.6210133 , 0.50920385, 0.35659295, ..., 0.7932208 , 0.77176887,\n",
       "        0.8030856 ],\n",
       "       [0.9757888 , 0.7293841 , 0.42706576, ..., 0.92140365, 0.7621159 ,\n",
       "        0.74304044]], dtype=float32)"
      ]
     },
     "execution_count": 12,
     "metadata": {},
     "output_type": "execute_result"
    }
   ],
   "source": [
    "stftt"
   ]
  },
  {
   "cell_type": "markdown",
   "id": "bb662a9e",
   "metadata": {},
   "source": [
    "### Metadata of audio files"
   ]
  },
  {
   "cell_type": "code",
   "execution_count": 13,
   "id": "c4f1cc5e",
   "metadata": {},
   "outputs": [
    {
     "data": {
      "text/html": [
       "<div>\n",
       "<style scoped>\n",
       "    .dataframe tbody tr th:only-of-type {\n",
       "        vertical-align: middle;\n",
       "    }\n",
       "\n",
       "    .dataframe tbody tr th {\n",
       "        vertical-align: top;\n",
       "    }\n",
       "\n",
       "    .dataframe thead th {\n",
       "        text-align: right;\n",
       "    }\n",
       "</style>\n",
       "<table border=\"1\" class=\"dataframe\">\n",
       "  <thead>\n",
       "    <tr style=\"text-align: right;\">\n",
       "      <th></th>\n",
       "      <th>file_name</th>\n",
       "      <th>fold</th>\n",
       "      <th>classID</th>\n",
       "      <th>class</th>\n",
       "    </tr>\n",
       "  </thead>\n",
       "  <tbody>\n",
       "    <tr>\n",
       "      <th>0</th>\n",
       "      <td>Ball.wav</td>\n",
       "      <td>1</td>\n",
       "      <td>0</td>\n",
       "      <td>Ball</td>\n",
       "    </tr>\n",
       "    <tr>\n",
       "      <th>1</th>\n",
       "      <td>Ball2.wav</td>\n",
       "      <td>2</td>\n",
       "      <td>0</td>\n",
       "      <td>Ball</td>\n",
       "    </tr>\n",
       "    <tr>\n",
       "      <th>2</th>\n",
       "      <td>Ball3.wav</td>\n",
       "      <td>3</td>\n",
       "      <td>0</td>\n",
       "      <td>Ball</td>\n",
       "    </tr>\n",
       "    <tr>\n",
       "      <th>3</th>\n",
       "      <td>Bat.wav</td>\n",
       "      <td>1</td>\n",
       "      <td>1</td>\n",
       "      <td>Bat</td>\n",
       "    </tr>\n",
       "    <tr>\n",
       "      <th>4</th>\n",
       "      <td>Bat2.wav</td>\n",
       "      <td>2</td>\n",
       "      <td>1</td>\n",
       "      <td>Bat</td>\n",
       "    </tr>\n",
       "  </tbody>\n",
       "</table>\n",
       "</div>"
      ],
      "text/plain": [
       "   file_name  fold  classID class\n",
       "0   Ball.wav     1        0  Ball\n",
       "1  Ball2.wav     2        0  Ball\n",
       "2  Ball3.wav     3        0  Ball\n",
       "3    Bat.wav     1        1   Bat\n",
       "4   Bat2.wav     2        1   Bat"
      ]
     },
     "execution_count": 13,
     "metadata": {},
     "output_type": "execute_result"
    }
   ],
   "source": [
    "import pandas as pd\n",
    "import os\n",
    "import librosa\n",
    "\n",
    "audio_dataset_path='Audio/'\n",
    "metadata=pd.read_csv('metadata.csv')\n",
    "metadata.head()"
   ]
  },
  {
   "cell_type": "code",
   "execution_count": 14,
   "id": "08757f45",
   "metadata": {},
   "outputs": [],
   "source": [
    "def features_extractor(file):\n",
    "    audio, sample_rate = librosa.load(file_name) \n",
    "    stftt_features = librosa.feature.chroma_stft(y=audio, sr=sample_rate) \n",
    "    stftt_scaled_features = np.mean(stftt_features.T,axis=0)\n",
    "    \n",
    "    return stftt_scaled_features"
   ]
  },
  {
   "cell_type": "code",
   "execution_count": 15,
   "id": "3f955e6a",
   "metadata": {},
   "outputs": [
    {
     "name": "stderr",
     "output_type": "stream",
     "text": [
      "81it [00:09,  8.76it/s]\n"
     ]
    }
   ],
   "source": [
    "import numpy as np\n",
    "from tqdm import tqdm\n",
    "\n",
    "### Now we iterate through every audio file and extract features \n",
    "extracted_features=[]\n",
    "for index_num,row in tqdm(metadata.iterrows()):\n",
    "    file_name = os.path.join(os.path.abspath(audio_dataset_path),'fold'+str(row[\"fold\"])+'/',str(row[\"file_name\"]))\n",
    "    final_class_labels=row[\"class\"]\n",
    "    data=features_extractor(file_name)\n",
    "    extracted_features.append([data,final_class_labels])"
   ]
  },
  {
   "cell_type": "code",
   "execution_count": 16,
   "id": "04a9b44b",
   "metadata": {},
   "outputs": [
    {
     "data": {
      "text/html": [
       "<div>\n",
       "<style scoped>\n",
       "    .dataframe tbody tr th:only-of-type {\n",
       "        vertical-align: middle;\n",
       "    }\n",
       "\n",
       "    .dataframe tbody tr th {\n",
       "        vertical-align: top;\n",
       "    }\n",
       "\n",
       "    .dataframe thead th {\n",
       "        text-align: right;\n",
       "    }\n",
       "</style>\n",
       "<table border=\"1\" class=\"dataframe\">\n",
       "  <thead>\n",
       "    <tr style=\"text-align: right;\">\n",
       "      <th></th>\n",
       "      <th>feature</th>\n",
       "      <th>class</th>\n",
       "    </tr>\n",
       "  </thead>\n",
       "  <tbody>\n",
       "    <tr>\n",
       "      <th>0</th>\n",
       "      <td>[0.47419375, 0.54542816, 0.5569351, 0.59582436...</td>\n",
       "      <td>Ball</td>\n",
       "    </tr>\n",
       "    <tr>\n",
       "      <th>1</th>\n",
       "      <td>[0.7114438, 0.5962939, 0.43509597, 0.40806141,...</td>\n",
       "      <td>Ball</td>\n",
       "    </tr>\n",
       "    <tr>\n",
       "      <th>2</th>\n",
       "      <td>[0.59230554, 0.5296657, 0.55337155, 0.51659024...</td>\n",
       "      <td>Ball</td>\n",
       "    </tr>\n",
       "    <tr>\n",
       "      <th>3</th>\n",
       "      <td>[0.39866382, 0.39402232, 0.5022452, 0.7043231,...</td>\n",
       "      <td>Bat</td>\n",
       "    </tr>\n",
       "    <tr>\n",
       "      <th>4</th>\n",
       "      <td>[0.71370333, 0.54893094, 0.4553162, 0.4185747,...</td>\n",
       "      <td>Bat</td>\n",
       "    </tr>\n",
       "  </tbody>\n",
       "</table>\n",
       "</div>"
      ],
      "text/plain": [
       "                                             feature class\n",
       "0  [0.47419375, 0.54542816, 0.5569351, 0.59582436...  Ball\n",
       "1  [0.7114438, 0.5962939, 0.43509597, 0.40806141,...  Ball\n",
       "2  [0.59230554, 0.5296657, 0.55337155, 0.51659024...  Ball\n",
       "3  [0.39866382, 0.39402232, 0.5022452, 0.7043231,...   Bat\n",
       "4  [0.71370333, 0.54893094, 0.4553162, 0.4185747,...   Bat"
      ]
     },
     "execution_count": 16,
     "metadata": {},
     "output_type": "execute_result"
    }
   ],
   "source": [
    "### converting extracted_features to Pandas dataframe\n",
    "extracted_features_df=pd.DataFrame(extracted_features,columns=['feature','class'])\n",
    "extracted_features_df.head()"
   ]
  },
  {
   "cell_type": "code",
   "execution_count": 17,
   "id": "8e37197e",
   "metadata": {},
   "outputs": [],
   "source": [
    "### Split the dataset into independent and dependent dataset\n",
    "X=np.array(extracted_features_df['feature'].tolist())\n",
    "y=np.array(extracted_features_df['class'].tolist())"
   ]
  },
  {
   "cell_type": "code",
   "execution_count": 18,
   "id": "0e811b4c",
   "metadata": {},
   "outputs": [
    {
     "data": {
      "text/plain": [
       "(81, 12)"
      ]
     },
     "execution_count": 18,
     "metadata": {},
     "output_type": "execute_result"
    }
   ],
   "source": [
    "X.shape"
   ]
  },
  {
   "cell_type": "code",
   "execution_count": 40,
   "id": "781f7916",
   "metadata": {},
   "outputs": [
    {
     "data": {
      "text/plain": [
       "(81, 27)"
      ]
     },
     "execution_count": 40,
     "metadata": {},
     "output_type": "execute_result"
    }
   ],
   "source": [
    "y.shape"
   ]
  },
  {
   "cell_type": "code",
   "execution_count": 19,
   "id": "6ceff8fd",
   "metadata": {},
   "outputs": [
    {
     "data": {
      "text/plain": [
       "array(['Ball', 'Ball', 'Ball', 'Bat', 'Bat', 'Bat', 'Bed', 'Bed', 'Bed',\n",
       "       'Call', 'Call', 'Call', 'Cat', 'Cat', 'Cat', 'Chalk', 'Chalk',\n",
       "       'Chalk', 'Cook', 'Cook', 'Cook', 'Cow', 'Cow', 'Cow', 'Ding',\n",
       "       'Ding', 'Ding', 'Dong', 'Dong', 'Dong', 'Gun', 'Gun', 'Gun',\n",
       "       'Hill', 'Hill', 'Hill', 'Hook', 'Hook', 'Hook', 'How', 'How',\n",
       "       'How', 'King', 'King', 'King', 'Kite', 'Kite', 'Kite', 'Lap',\n",
       "       'Lap', 'Lap', 'Map', 'Map', 'Map', 'Pet', 'Pet', 'Pet', 'Ping',\n",
       "       'Ping', 'Ping', 'Pong', 'Pong', 'Pong', 'Red', 'Red', 'Red',\n",
       "       'Right', 'Right', 'Right', 'Rock', 'Rock', 'Rock', 'Sing', 'Sing',\n",
       "       'Sing', 'Will', 'Will', 'Will', 'Won', 'Won', 'Won'], dtype='<U5')"
      ]
     },
     "execution_count": 19,
     "metadata": {},
     "output_type": "execute_result"
    }
   ],
   "source": [
    "y"
   ]
  },
  {
   "cell_type": "code",
   "execution_count": 20,
   "id": "363bda22",
   "metadata": {},
   "outputs": [],
   "source": [
    "from tensorflow.keras.utils import to_categorical\n",
    "from sklearn.preprocessing import LabelEncoder\n",
    "labelencoder=LabelEncoder()\n",
    "y=to_categorical(labelencoder.fit_transform(y))"
   ]
  },
  {
   "cell_type": "code",
   "execution_count": 21,
   "id": "6c4d81e4",
   "metadata": {},
   "outputs": [
    {
     "data": {
      "text/plain": [
       "array([[1., 0., 0., ..., 0., 0., 0.],\n",
       "       [1., 0., 0., ..., 0., 0., 0.],\n",
       "       [1., 0., 0., ..., 0., 0., 0.],\n",
       "       ...,\n",
       "       [0., 0., 0., ..., 0., 0., 1.],\n",
       "       [0., 0., 0., ..., 0., 0., 1.],\n",
       "       [0., 0., 0., ..., 0., 0., 1.]], dtype=float32)"
      ]
     },
     "execution_count": 21,
     "metadata": {},
     "output_type": "execute_result"
    }
   ],
   "source": [
    "y"
   ]
  },
  {
   "cell_type": "code",
   "execution_count": 60,
   "id": "92ad8f11",
   "metadata": {},
   "outputs": [],
   "source": [
    "### Train Test Split\n",
    "from sklearn.model_selection import train_test_split\n",
    "X_train,X_test,y_train,y_test=train_test_split(X,y,test_size=0.25,random_state=0)"
   ]
  },
  {
   "cell_type": "code",
   "execution_count": 61,
   "id": "6b5b1f40",
   "metadata": {},
   "outputs": [
    {
     "data": {
      "text/plain": [
       "(60, 12)"
      ]
     },
     "execution_count": 61,
     "metadata": {},
     "output_type": "execute_result"
    }
   ],
   "source": [
    "X_train.shape"
   ]
  },
  {
   "cell_type": "code",
   "execution_count": 62,
   "id": "1ed68f1f",
   "metadata": {},
   "outputs": [
    {
     "data": {
      "text/plain": [
       "(21, 12)"
      ]
     },
     "execution_count": 62,
     "metadata": {},
     "output_type": "execute_result"
    }
   ],
   "source": [
    "X_test.shape"
   ]
  },
  {
   "cell_type": "code",
   "execution_count": 63,
   "id": "0bd426a0",
   "metadata": {},
   "outputs": [
    {
     "data": {
      "text/plain": [
       "(60, 27)"
      ]
     },
     "execution_count": 63,
     "metadata": {},
     "output_type": "execute_result"
    }
   ],
   "source": [
    "y_train.shape"
   ]
  },
  {
   "cell_type": "code",
   "execution_count": 64,
   "id": "a589e372",
   "metadata": {},
   "outputs": [
    {
     "data": {
      "text/plain": [
       "(21, 27)"
      ]
     },
     "execution_count": 64,
     "metadata": {},
     "output_type": "execute_result"
    }
   ],
   "source": [
    "y_test.shape"
   ]
  },
  {
   "cell_type": "markdown",
   "id": "69313230",
   "metadata": {},
   "source": [
    "## Model creation"
   ]
  },
  {
   "cell_type": "code",
   "execution_count": 65,
   "id": "48a25994",
   "metadata": {},
   "outputs": [],
   "source": [
    "import tensorflow as tf\n",
    "from tensorflow.keras.models import Sequential\n",
    "from tensorflow.keras.layers import Dense,Dropout,Activation,Flatten\n",
    "from tensorflow.keras.optimizers import Adam\n",
    "from sklearn import metrics"
   ]
  },
  {
   "cell_type": "code",
   "execution_count": 66,
   "id": "b6060c98",
   "metadata": {},
   "outputs": [],
   "source": [
    "### No of classes\n",
    "num_labels=y.shape[1]"
   ]
  },
  {
   "cell_type": "code",
   "execution_count": 67,
   "id": "d9ec7a2a",
   "metadata": {},
   "outputs": [],
   "source": [
    "model=Sequential()\n",
    "# input layer\n",
    "model.add(Dense(128, activation='relu', input_shape=(12,)))\n",
    "# 1st hidden layer\n",
    "model.add(Dense(64, activation='relu'))\n",
    "# 2nd hidden layer\n",
    "model.add(Dense(32, activation='relu'))\n",
    "### output layer\n",
    "model.add(Dense(num_labels, activation='softmax'))"
   ]
  },
  {
   "cell_type": "code",
   "execution_count": 68,
   "id": "1167c0de",
   "metadata": {},
   "outputs": [
    {
     "name": "stdout",
     "output_type": "stream",
     "text": [
      "Model: \"sequential_1\"\n",
      "_________________________________________________________________\n",
      "Layer (type)                 Output Shape              Param #   \n",
      "=================================================================\n",
      "dense_6 (Dense)              (None, 128)               1664      \n",
      "_________________________________________________________________\n",
      "dense_7 (Dense)              (None, 64)                8256      \n",
      "_________________________________________________________________\n",
      "dense_8 (Dense)              (None, 32)                2080      \n",
      "_________________________________________________________________\n",
      "dense_9 (Dense)              (None, 27)                891       \n",
      "=================================================================\n",
      "Total params: 12,891\n",
      "Trainable params: 12,891\n",
      "Non-trainable params: 0\n",
      "_________________________________________________________________\n"
     ]
    }
   ],
   "source": [
    "model.summary()"
   ]
  },
  {
   "cell_type": "code",
   "execution_count": 69,
   "id": "4aabb8e3",
   "metadata": {},
   "outputs": [],
   "source": [
    "model.compile(loss='categorical_crossentropy',metrics=['accuracy'],optimizer='adam')"
   ]
  },
  {
   "cell_type": "code",
   "execution_count": 70,
   "id": "1049822c",
   "metadata": {},
   "outputs": [
    {
     "name": "stdout",
     "output_type": "stream",
     "text": [
      "Epoch 1/200\n",
      "2/2 [==============================] - 0s 5ms/step - loss: 3.3064 - accuracy: 0.0167\n",
      "Epoch 2/200\n",
      "2/2 [==============================] - 0s 7ms/step - loss: 3.2977 - accuracy: 0.0333\n",
      "Epoch 3/200\n",
      "2/2 [==============================] - 0s 6ms/step - loss: 3.2887 - accuracy: 0.0333\n",
      "Epoch 4/200\n",
      "2/2 [==============================] - 0s 5ms/step - loss: 3.2848 - accuracy: 0.0500\n",
      "Epoch 5/200\n",
      "2/2 [==============================] - 0s 6ms/step - loss: 3.2822 - accuracy: 0.0500\n",
      "Epoch 6/200\n",
      "2/2 [==============================] - 0s 6ms/step - loss: 3.2799 - accuracy: 0.0500\n",
      "Epoch 7/200\n",
      "2/2 [==============================] - 0s 6ms/step - loss: 3.2775 - accuracy: 0.0500\n",
      "Epoch 8/200\n",
      "2/2 [==============================] - 0s 6ms/step - loss: 3.2760 - accuracy: 0.0500\n",
      "Epoch 9/200\n",
      "2/2 [==============================] - 0s 5ms/step - loss: 3.2732 - accuracy: 0.0500\n",
      "Epoch 10/200\n",
      "2/2 [==============================] - 0s 4ms/step - loss: 3.2714 - accuracy: 0.0500\n",
      "Epoch 11/200\n",
      "2/2 [==============================] - 0s 6ms/step - loss: 3.2695 - accuracy: 0.0500\n",
      "Epoch 12/200\n",
      "2/2 [==============================] - 0s 5ms/step - loss: 3.2682 - accuracy: 0.0500\n",
      "Epoch 13/200\n",
      "2/2 [==============================] - 0s 5ms/step - loss: 3.2675 - accuracy: 0.0500\n",
      "Epoch 14/200\n",
      "2/2 [==============================] - 0s 5ms/step - loss: 3.2654 - accuracy: 0.0500\n",
      "Epoch 15/200\n",
      "2/2 [==============================] - 0s 7ms/step - loss: 3.2637 - accuracy: 0.0500\n",
      "Epoch 16/200\n",
      "2/2 [==============================] - 0s 5ms/step - loss: 3.2619 - accuracy: 0.0500\n",
      "Epoch 17/200\n",
      "2/2 [==============================] - 0s 6ms/step - loss: 3.2609 - accuracy: 0.0500\n",
      "Epoch 18/200\n",
      "2/2 [==============================] - 0s 6ms/step - loss: 3.2594 - accuracy: 0.0500\n",
      "Epoch 19/200\n",
      "2/2 [==============================] - ETA: 0s - loss: 3.2335 - accuracy: 0.06 - 0s 5ms/step - loss: 3.2587 - accuracy: 0.0500\n",
      "Epoch 20/200\n",
      "2/2 [==============================] - 0s 5ms/step - loss: 3.2571 - accuracy: 0.0500\n",
      "Epoch 21/200\n",
      "2/2 [==============================] - 0s 5ms/step - loss: 3.2554 - accuracy: 0.0500\n",
      "Epoch 22/200\n",
      "2/2 [==============================] - 0s 5ms/step - loss: 3.2548 - accuracy: 0.0500\n",
      "Epoch 23/200\n",
      "2/2 [==============================] - 0s 4ms/step - loss: 3.2531 - accuracy: 0.0500\n",
      "Epoch 24/200\n",
      "2/2 [==============================] - 0s 4ms/step - loss: 3.2514 - accuracy: 0.0500\n",
      "Epoch 25/200\n",
      "2/2 [==============================] - 0s 4ms/step - loss: 3.2512 - accuracy: 0.0500\n",
      "Epoch 26/200\n",
      "2/2 [==============================] - 0s 5ms/step - loss: 3.2493 - accuracy: 0.0500\n",
      "Epoch 27/200\n",
      "2/2 [==============================] - 0s 5ms/step - loss: 3.2480 - accuracy: 0.0500\n",
      "Epoch 28/200\n",
      "2/2 [==============================] - 0s 4ms/step - loss: 3.2462 - accuracy: 0.0500\n",
      "Epoch 29/200\n",
      "2/2 [==============================] - 0s 4ms/step - loss: 3.2453 - accuracy: 0.0500\n",
      "Epoch 30/200\n",
      "2/2 [==============================] - 0s 5ms/step - loss: 3.2441 - accuracy: 0.0500\n",
      "Epoch 31/200\n",
      "2/2 [==============================] - 0s 5ms/step - loss: 3.2416 - accuracy: 0.0500\n",
      "Epoch 32/200\n",
      "2/2 [==============================] - 0s 5ms/step - loss: 3.2406 - accuracy: 0.0500\n",
      "Epoch 33/200\n",
      "2/2 [==============================] - 0s 6ms/step - loss: 3.2399 - accuracy: 0.0500\n",
      "Epoch 34/200\n",
      "2/2 [==============================] - 0s 8ms/step - loss: 3.2382 - accuracy: 0.0500\n",
      "Epoch 35/200\n",
      "2/2 [==============================] - 0s 5ms/step - loss: 3.2362 - accuracy: 0.0500\n",
      "Epoch 36/200\n",
      "2/2 [==============================] - 0s 5ms/step - loss: 3.2348 - accuracy: 0.0500\n",
      "Epoch 37/200\n",
      "2/2 [==============================] - 0s 6ms/step - loss: 3.2326 - accuracy: 0.0500\n",
      "Epoch 38/200\n",
      "2/2 [==============================] - 0s 5ms/step - loss: 3.2312 - accuracy: 0.0500\n",
      "Epoch 39/200\n",
      "2/2 [==============================] - 0s 4ms/step - loss: 3.2304 - accuracy: 0.0500\n",
      "Epoch 40/200\n",
      "2/2 [==============================] - 0s 5ms/step - loss: 3.2282 - accuracy: 0.0500\n",
      "Epoch 41/200\n",
      "2/2 [==============================] - 0s 12ms/step - loss: 3.2263 - accuracy: 0.0500\n",
      "Epoch 42/200\n",
      "2/2 [==============================] - 0s 5ms/step - loss: 3.2247 - accuracy: 0.0500\n",
      "Epoch 43/200\n",
      "2/2 [==============================] - 0s 7ms/step - loss: 3.2226 - accuracy: 0.0500\n",
      "Epoch 44/200\n",
      "2/2 [==============================] - 0s 6ms/step - loss: 3.2209 - accuracy: 0.0500\n",
      "Epoch 45/200\n",
      "2/2 [==============================] - 0s 4ms/step - loss: 3.2197 - accuracy: 0.0500\n",
      "Epoch 46/200\n",
      "2/2 [==============================] - 0s 4ms/step - loss: 3.2168 - accuracy: 0.0500\n",
      "Epoch 47/200\n",
      "2/2 [==============================] - 0s 7ms/step - loss: 3.2151 - accuracy: 0.0500\n",
      "Epoch 48/200\n",
      "2/2 [==============================] - 0s 4ms/step - loss: 3.2137 - accuracy: 0.0500\n",
      "Epoch 49/200\n",
      "2/2 [==============================] - 0s 9ms/step - loss: 3.2128 - accuracy: 0.0500\n",
      "Epoch 50/200\n",
      "2/2 [==============================] - 0s 5ms/step - loss: 3.2096 - accuracy: 0.0500\n",
      "Epoch 51/200\n",
      "2/2 [==============================] - 0s 8ms/step - loss: 3.2086 - accuracy: 0.0500\n",
      "Epoch 52/200\n",
      "2/2 [==============================] - 0s 5ms/step - loss: 3.2049 - accuracy: 0.0500\n",
      "Epoch 53/200\n",
      "2/2 [==============================] - 0s 7ms/step - loss: 3.2028 - accuracy: 0.0500\n",
      "Epoch 54/200\n",
      "2/2 [==============================] - 0s 5ms/step - loss: 3.2020 - accuracy: 0.0500\n",
      "Epoch 55/200\n",
      "2/2 [==============================] - 0s 5ms/step - loss: 3.1983 - accuracy: 0.0500\n",
      "Epoch 56/200\n",
      "2/2 [==============================] - 0s 9ms/step - loss: 3.1958 - accuracy: 0.0500\n",
      "Epoch 57/200\n",
      "2/2 [==============================] - 0s 7ms/step - loss: 3.1940 - accuracy: 0.0500\n",
      "Epoch 58/200\n",
      "2/2 [==============================] - 0s 8ms/step - loss: 3.1901 - accuracy: 0.0500\n",
      "Epoch 59/200\n",
      "2/2 [==============================] - 0s 6ms/step - loss: 3.1891 - accuracy: 0.0500\n",
      "Epoch 60/200\n",
      "2/2 [==============================] - 0s 5ms/step - loss: 3.1855 - accuracy: 0.0500\n",
      "Epoch 61/200\n",
      "2/2 [==============================] - 0s 7ms/step - loss: 3.1819 - accuracy: 0.0500\n",
      "Epoch 62/200\n",
      "2/2 [==============================] - 0s 6ms/step - loss: 3.1797 - accuracy: 0.0500\n",
      "Epoch 63/200\n",
      "2/2 [==============================] - 0s 5ms/step - loss: 3.1774 - accuracy: 0.0500\n",
      "Epoch 64/200\n",
      "2/2 [==============================] - 0s 4ms/step - loss: 3.1739 - accuracy: 0.0500\n",
      "Epoch 65/200\n",
      "2/2 [==============================] - 0s 6ms/step - loss: 3.1714 - accuracy: 0.0500\n",
      "Epoch 66/200\n",
      "2/2 [==============================] - 0s 5ms/step - loss: 3.1680 - accuracy: 0.0500\n",
      "Epoch 67/200\n",
      "2/2 [==============================] - 0s 8ms/step - loss: 3.1637 - accuracy: 0.0500\n",
      "Epoch 68/200\n",
      "2/2 [==============================] - 0s 5ms/step - loss: 3.1623 - accuracy: 0.0667\n",
      "Epoch 69/200\n",
      "2/2 [==============================] - 0s 7ms/step - loss: 3.1586 - accuracy: 0.0667\n",
      "Epoch 70/200\n",
      "2/2 [==============================] - 0s 5ms/step - loss: 3.1550 - accuracy: 0.0667\n",
      "Epoch 71/200\n",
      "2/2 [==============================] - 0s 7ms/step - loss: 3.1520 - accuracy: 0.0500\n",
      "Epoch 72/200\n",
      "2/2 [==============================] - 0s 7ms/step - loss: 3.1463 - accuracy: 0.0667\n",
      "Epoch 73/200\n",
      "2/2 [==============================] - 0s 6ms/step - loss: 3.1437 - accuracy: 0.0833\n",
      "Epoch 74/200\n",
      "2/2 [==============================] - 0s 6ms/step - loss: 3.1406 - accuracy: 0.0833\n",
      "Epoch 75/200\n",
      "2/2 [==============================] - 0s 4ms/step - loss: 3.1353 - accuracy: 0.1000\n",
      "Epoch 76/200\n",
      "2/2 [==============================] - 0s 6ms/step - loss: 3.1327 - accuracy: 0.1000\n",
      "Epoch 77/200\n",
      "2/2 [==============================] - 0s 6ms/step - loss: 3.1282 - accuracy: 0.1000\n",
      "Epoch 78/200\n",
      "2/2 [==============================] - 0s 5ms/step - loss: 3.1239 - accuracy: 0.1000\n",
      "Epoch 79/200\n",
      "2/2 [==============================] - 0s 8ms/step - loss: 3.1190 - accuracy: 0.1000\n",
      "Epoch 80/200\n",
      "2/2 [==============================] - 0s 5ms/step - loss: 3.1168 - accuracy: 0.1000\n",
      "Epoch 81/200\n",
      "2/2 [==============================] - 0s 6ms/step - loss: 3.1121 - accuracy: 0.1000\n",
      "Epoch 82/200\n",
      "2/2 [==============================] - 0s 9ms/step - loss: 3.1081 - accuracy: 0.1000\n",
      "Epoch 83/200\n",
      "2/2 [==============================] - 0s 5ms/step - loss: 3.1012 - accuracy: 0.1167\n",
      "Epoch 84/200\n",
      "2/2 [==============================] - 0s 6ms/step - loss: 3.0993 - accuracy: 0.1333\n",
      "Epoch 85/200\n",
      "2/2 [==============================] - 0s 6ms/step - loss: 3.0939 - accuracy: 0.1167\n",
      "Epoch 86/200\n",
      "2/2 [==============================] - 0s 5ms/step - loss: 3.0883 - accuracy: 0.1333\n",
      "Epoch 87/200\n",
      "2/2 [==============================] - 0s 5ms/step - loss: 3.0833 - accuracy: 0.1333\n",
      "Epoch 88/200\n",
      "2/2 [==============================] - 0s 7ms/step - loss: 3.0809 - accuracy: 0.1333\n",
      "Epoch 89/200\n",
      "2/2 [==============================] - 0s 9ms/step - loss: 3.0766 - accuracy: 0.1333\n",
      "Epoch 90/200\n",
      "2/2 [==============================] - 0s 6ms/step - loss: 3.0714 - accuracy: 0.1167\n",
      "Epoch 91/200\n",
      "2/2 [==============================] - 0s 7ms/step - loss: 3.0641 - accuracy: 0.1167\n",
      "Epoch 92/200\n",
      "2/2 [==============================] - 0s 7ms/step - loss: 3.0657 - accuracy: 0.1167\n",
      "Epoch 93/200\n",
      "2/2 [==============================] - 0s 9ms/step - loss: 3.0592 - accuracy: 0.1167\n",
      "Epoch 94/200\n",
      "2/2 [==============================] - 0s 8ms/step - loss: 3.0518 - accuracy: 0.1167\n",
      "Epoch 95/200\n",
      "2/2 [==============================] - 0s 6ms/step - loss: 3.0455 - accuracy: 0.1167\n",
      "Epoch 96/200\n",
      "2/2 [==============================] - 0s 9ms/step - loss: 3.0395 - accuracy: 0.1167\n",
      "Epoch 97/200\n",
      "2/2 [==============================] - 0s 9ms/step - loss: 3.0360 - accuracy: 0.1000\n",
      "Epoch 98/200\n",
      "2/2 [==============================] - 0s 10ms/step - loss: 3.0305 - accuracy: 0.1167\n",
      "Epoch 99/200\n",
      "2/2 [==============================] - 0s 10ms/step - loss: 3.0249 - accuracy: 0.1167\n",
      "Epoch 100/200\n",
      "2/2 [==============================] - 0s 8ms/step - loss: 3.0190 - accuracy: 0.1000\n",
      "Epoch 101/200\n",
      "2/2 [==============================] - 0s 7ms/step - loss: 3.0139 - accuracy: 0.1000\n",
      "Epoch 102/200\n",
      "2/2 [==============================] - 0s 9ms/step - loss: 3.0087 - accuracy: 0.1000\n",
      "Epoch 103/200\n",
      "2/2 [==============================] - 0s 6ms/step - loss: 3.0060 - accuracy: 0.1000\n",
      "Epoch 104/200\n",
      "2/2 [==============================] - 0s 6ms/step - loss: 3.0025 - accuracy: 0.1000\n",
      "Epoch 105/200\n",
      "2/2 [==============================] - 0s 9ms/step - loss: 2.9954 - accuracy: 0.1000\n",
      "Epoch 106/200\n",
      "2/2 [==============================] - 0s 11ms/step - loss: 2.9909 - accuracy: 0.1000\n",
      "Epoch 107/200\n",
      "2/2 [==============================] - 0s 8ms/step - loss: 2.9830 - accuracy: 0.1000\n",
      "Epoch 108/200\n",
      "2/2 [==============================] - 0s 6ms/step - loss: 2.9774 - accuracy: 0.1167\n",
      "Epoch 109/200\n",
      "2/2 [==============================] - 0s 10ms/step - loss: 2.9745 - accuracy: 0.1167\n",
      "Epoch 110/200\n",
      "2/2 [==============================] - 0s 6ms/step - loss: 2.9671 - accuracy: 0.0833\n",
      "Epoch 111/200\n",
      "2/2 [==============================] - 0s 6ms/step - loss: 2.9675 - accuracy: 0.0833\n",
      "Epoch 112/200\n",
      "2/2 [==============================] - 0s 10ms/step - loss: 2.9589 - accuracy: 0.1000\n",
      "Epoch 113/200\n",
      "2/2 [==============================] - 0s 12ms/step - loss: 2.9537 - accuracy: 0.1167\n",
      "Epoch 114/200\n",
      "2/2 [==============================] - 0s 9ms/step - loss: 2.9481 - accuracy: 0.1167\n",
      "Epoch 115/200\n",
      "2/2 [==============================] - ETA: 0s - loss: 3.0167 - accuracy: 0.06 - 0s 6ms/step - loss: 2.9424 - accuracy: 0.1333\n",
      "Epoch 116/200\n",
      "2/2 [==============================] - 0s 5ms/step - loss: 2.9440 - accuracy: 0.1000\n",
      "Epoch 117/200\n",
      "2/2 [==============================] - 0s 8ms/step - loss: 2.9318 - accuracy: 0.1000\n",
      "Epoch 118/200\n",
      "2/2 [==============================] - 0s 8ms/step - loss: 2.9275 - accuracy: 0.1333\n",
      "Epoch 119/200\n",
      "2/2 [==============================] - 0s 11ms/step - loss: 2.9295 - accuracy: 0.1000\n",
      "Epoch 120/200\n",
      "2/2 [==============================] - 0s 7ms/step - loss: 2.9176 - accuracy: 0.1000\n",
      "Epoch 121/200\n",
      "2/2 [==============================] - 0s 5ms/step - loss: 2.9224 - accuracy: 0.1000\n",
      "Epoch 122/200\n",
      "2/2 [==============================] - 0s 7ms/step - loss: 2.9098 - accuracy: 0.0833\n",
      "Epoch 123/200\n",
      "2/2 [==============================] - 0s 6ms/step - loss: 2.9130 - accuracy: 0.0833\n",
      "Epoch 124/200\n",
      "2/2 [==============================] - 0s 8ms/step - loss: 2.9013 - accuracy: 0.1000\n",
      "Epoch 125/200\n",
      "2/2 [==============================] - 0s 5ms/step - loss: 2.9003 - accuracy: 0.1000\n",
      "Epoch 126/200\n",
      "2/2 [==============================] - 0s 6ms/step - loss: 2.8990 - accuracy: 0.1000\n",
      "Epoch 127/200\n",
      "2/2 [==============================] - 0s 6ms/step - loss: 2.8832 - accuracy: 0.1000\n",
      "Epoch 128/200\n",
      "2/2 [==============================] - 0s 6ms/step - loss: 2.8808 - accuracy: 0.1167\n",
      "Epoch 129/200\n",
      "2/2 [==============================] - 0s 7ms/step - loss: 2.8813 - accuracy: 0.1167\n",
      "Epoch 130/200\n",
      "2/2 [==============================] - 0s 7ms/step - loss: 2.8716 - accuracy: 0.1000\n",
      "Epoch 131/200\n",
      "2/2 [==============================] - 0s 6ms/step - loss: 2.8752 - accuracy: 0.1000\n",
      "Epoch 132/200\n",
      "2/2 [==============================] - 0s 5ms/step - loss: 2.8622 - accuracy: 0.1167\n",
      "Epoch 133/200\n",
      "2/2 [==============================] - 0s 7ms/step - loss: 2.8611 - accuracy: 0.1000\n",
      "Epoch 134/200\n",
      "2/2 [==============================] - 0s 6ms/step - loss: 2.8581 - accuracy: 0.1000\n",
      "Epoch 135/200\n",
      "2/2 [==============================] - ETA: 0s - loss: 2.9490 - accuracy: 0.03 - 0s 5ms/step - loss: 2.8550 - accuracy: 0.0833\n",
      "Epoch 136/200\n",
      "2/2 [==============================] - 0s 7ms/step - loss: 2.8521 - accuracy: 0.1000\n",
      "Epoch 137/200\n",
      "2/2 [==============================] - 0s 5ms/step - loss: 2.8437 - accuracy: 0.1167\n",
      "Epoch 138/200\n",
      "2/2 [==============================] - 0s 8ms/step - loss: 2.8405 - accuracy: 0.1167\n",
      "Epoch 139/200\n",
      "2/2 [==============================] - 0s 7ms/step - loss: 2.8317 - accuracy: 0.1000\n",
      "Epoch 140/200\n",
      "2/2 [==============================] - 0s 6ms/step - loss: 2.8299 - accuracy: 0.1000\n",
      "Epoch 141/200\n",
      "2/2 [==============================] - 0s 4ms/step - loss: 2.8287 - accuracy: 0.0833\n",
      "Epoch 142/200\n",
      "2/2 [==============================] - 0s 8ms/step - loss: 2.8210 - accuracy: 0.1000\n",
      "Epoch 143/200\n",
      "2/2 [==============================] - 0s 10ms/step - loss: 2.8179 - accuracy: 0.1000\n",
      "Epoch 144/200\n",
      "2/2 [==============================] - 0s 8ms/step - loss: 2.8151 - accuracy: 0.1000\n",
      "Epoch 145/200\n",
      "2/2 [==============================] - 0s 9ms/step - loss: 2.8069 - accuracy: 0.1000\n",
      "Epoch 146/200\n",
      "2/2 [==============================] - 0s 8ms/step - loss: 2.8069 - accuracy: 0.1167\n",
      "Epoch 147/200\n",
      "2/2 [==============================] - 0s 6ms/step - loss: 2.8016 - accuracy: 0.1000\n",
      "Epoch 148/200\n",
      "2/2 [==============================] - 0s 5ms/step - loss: 2.8033 - accuracy: 0.1000\n",
      "Epoch 149/200\n",
      "2/2 [==============================] - 0s 6ms/step - loss: 2.7970 - accuracy: 0.1000\n",
      "Epoch 150/200\n",
      "2/2 [==============================] - 0s 8ms/step - loss: 2.7878 - accuracy: 0.1000\n",
      "Epoch 151/200\n",
      "2/2 [==============================] - 0s 7ms/step - loss: 2.7883 - accuracy: 0.1000\n",
      "Epoch 152/200\n",
      "2/2 [==============================] - 0s 7ms/step - loss: 2.8004 - accuracy: 0.0833\n",
      "Epoch 153/200\n",
      "2/2 [==============================] - 0s 7ms/step - loss: 2.7794 - accuracy: 0.1167\n",
      "Epoch 154/200\n",
      "2/2 [==============================] - 0s 9ms/step - loss: 2.7758 - accuracy: 0.1000\n",
      "Epoch 155/200\n",
      "2/2 [==============================] - 0s 7ms/step - loss: 2.7777 - accuracy: 0.1000\n",
      "Epoch 156/200\n",
      "2/2 [==============================] - 0s 10ms/step - loss: 2.7726 - accuracy: 0.1000\n",
      "Epoch 157/200\n",
      "2/2 [==============================] - 0s 9ms/step - loss: 2.7698 - accuracy: 0.1167\n",
      "Epoch 158/200\n",
      "2/2 [==============================] - 0s 9ms/step - loss: 2.7625 - accuracy: 0.1000\n",
      "Epoch 159/200\n",
      "2/2 [==============================] - 0s 11ms/step - loss: 2.7582 - accuracy: 0.1000\n",
      "Epoch 160/200\n",
      "2/2 [==============================] - 0s 11ms/step - loss: 2.7586 - accuracy: 0.1000\n",
      "Epoch 161/200\n",
      "2/2 [==============================] - 0s 6ms/step - loss: 2.7543 - accuracy: 0.1000\n",
      "Epoch 162/200\n",
      "2/2 [==============================] - 0s 4ms/step - loss: 2.7480 - accuracy: 0.1000\n",
      "Epoch 163/200\n",
      "2/2 [==============================] - 0s 6ms/step - loss: 2.7459 - accuracy: 0.1000\n",
      "Epoch 164/200\n",
      "2/2 [==============================] - ETA: 0s - loss: 2.7606 - accuracy: 0.12 - 0s 6ms/step - loss: 2.7387 - accuracy: 0.1000\n",
      "Epoch 165/200\n",
      "2/2 [==============================] - 0s 4ms/step - loss: 2.7381 - accuracy: 0.1000\n",
      "Epoch 166/200\n",
      "2/2 [==============================] - 0s 5ms/step - loss: 2.7348 - accuracy: 0.1000\n",
      "Epoch 167/200\n",
      "2/2 [==============================] - 0s 7ms/step - loss: 2.7297 - accuracy: 0.1000\n",
      "Epoch 168/200\n",
      "2/2 [==============================] - 0s 4ms/step - loss: 2.7295 - accuracy: 0.1000\n",
      "Epoch 169/200\n",
      "2/2 [==============================] - 0s 5ms/step - loss: 2.7230 - accuracy: 0.1000\n",
      "Epoch 170/200\n",
      "2/2 [==============================] - 0s 5ms/step - loss: 2.7203 - accuracy: 0.1000\n",
      "Epoch 171/200\n",
      "2/2 [==============================] - 0s 6ms/step - loss: 2.7232 - accuracy: 0.1000\n",
      "Epoch 172/200\n",
      "2/2 [==============================] - 0s 6ms/step - loss: 2.7178 - accuracy: 0.1000\n",
      "Epoch 173/200\n",
      "2/2 [==============================] - 0s 5ms/step - loss: 2.7145 - accuracy: 0.1000\n",
      "Epoch 174/200\n",
      "2/2 [==============================] - 0s 6ms/step - loss: 2.7088 - accuracy: 0.1167\n",
      "Epoch 175/200\n",
      "2/2 [==============================] - 0s 7ms/step - loss: 2.7106 - accuracy: 0.1000\n",
      "Epoch 176/200\n",
      "2/2 [==============================] - 0s 5ms/step - loss: 2.7054 - accuracy: 0.1000\n",
      "Epoch 177/200\n",
      "2/2 [==============================] - 0s 6ms/step - loss: 2.6996 - accuracy: 0.0833\n",
      "Epoch 178/200\n",
      "2/2 [==============================] - 0s 5ms/step - loss: 2.6931 - accuracy: 0.1000\n",
      "Epoch 179/200\n",
      "2/2 [==============================] - 0s 7ms/step - loss: 2.6904 - accuracy: 0.1000\n",
      "Epoch 180/200\n",
      "2/2 [==============================] - 0s 6ms/step - loss: 2.6890 - accuracy: 0.1000\n",
      "Epoch 181/200\n",
      "2/2 [==============================] - 0s 6ms/step - loss: 2.6856 - accuracy: 0.1000\n",
      "Epoch 182/200\n",
      "2/2 [==============================] - 0s 6ms/step - loss: 2.6798 - accuracy: 0.0833\n",
      "Epoch 183/200\n",
      "2/2 [==============================] - 0s 5ms/step - loss: 2.6810 - accuracy: 0.1000\n",
      "Epoch 184/200\n",
      "2/2 [==============================] - ETA: 0s - loss: 2.6580 - accuracy: 0.09 - 0s 5ms/step - loss: 2.6787 - accuracy: 0.1000\n",
      "Epoch 185/200\n",
      "2/2 [==============================] - 0s 7ms/step - loss: 2.6727 - accuracy: 0.1000\n",
      "Epoch 186/200\n",
      "2/2 [==============================] - 0s 7ms/step - loss: 2.6703 - accuracy: 0.0833\n",
      "Epoch 187/200\n",
      "2/2 [==============================] - 0s 6ms/step - loss: 2.6656 - accuracy: 0.1167\n",
      "Epoch 188/200\n",
      "2/2 [==============================] - 0s 8ms/step - loss: 2.6650 - accuracy: 0.1333\n",
      "Epoch 189/200\n",
      "2/2 [==============================] - 0s 5ms/step - loss: 2.6754 - accuracy: 0.1167\n",
      "Epoch 190/200\n",
      "2/2 [==============================] - 0s 5ms/step - loss: 2.6624 - accuracy: 0.0833\n",
      "Epoch 191/200\n",
      "2/2 [==============================] - 0s 7ms/step - loss: 2.6577 - accuracy: 0.0833\n",
      "Epoch 192/200\n",
      "2/2 [==============================] - 0s 6ms/step - loss: 2.6552 - accuracy: 0.1000\n",
      "Epoch 193/200\n",
      "2/2 [==============================] - 0s 6ms/step - loss: 2.6530 - accuracy: 0.1333\n",
      "Epoch 194/200\n",
      "2/2 [==============================] - 0s 5ms/step - loss: 2.6465 - accuracy: 0.1500\n",
      "Epoch 195/200\n",
      "2/2 [==============================] - 0s 6ms/step - loss: 2.6490 - accuracy: 0.1000\n",
      "Epoch 196/200\n",
      "2/2 [==============================] - 0s 6ms/step - loss: 2.6376 - accuracy: 0.1333\n",
      "Epoch 197/200\n",
      "2/2 [==============================] - 0s 7ms/step - loss: 2.6387 - accuracy: 0.1333\n",
      "Epoch 198/200\n",
      "2/2 [==============================] - 0s 6ms/step - loss: 2.6416 - accuracy: 0.1333\n",
      "Epoch 199/200\n",
      "2/2 [==============================] - 0s 5ms/step - loss: 2.6265 - accuracy: 0.1167\n",
      "Epoch 200/200\n",
      "2/2 [==============================] - 0s 5ms/step - loss: 2.6275 - accuracy: 0.1500\n"
     ]
    },
    {
     "data": {
      "text/plain": [
       "<tensorflow.python.keras.callbacks.History at 0x290774fbf40>"
      ]
     },
     "execution_count": 70,
     "metadata": {},
     "output_type": "execute_result"
    }
   ],
   "source": [
    "## Trianing my model\n",
    "num_epochs = 100\n",
    "num_batch_size = 32\n",
    "\n",
    "model.fit(X_train, y_train, batch_size=num_batch_size, epochs=num_epochs, verbose=1)"
   ]
  },
  {
   "cell_type": "code",
   "execution_count": 71,
   "id": "91b0fd55",
   "metadata": {},
   "outputs": [
    {
     "name": "stdout",
     "output_type": "stream",
     "text": [
      "1/1 [==============================] - 0s 108ms/step - loss: 5.4539 - accuracy: 0.0000e+00\n",
      "[5.4538750648498535, 0.0]\n"
     ]
    }
   ],
   "source": [
    "test_accuracy=model.evaluate(X_test,y_test,verbose=1)\n",
    "print(test_accuracy)"
   ]
  },
  {
   "cell_type": "code",
   "execution_count": 72,
   "id": "5d05d08d",
   "metadata": {},
   "outputs": [
    {
     "data": {
      "text/plain": [
       "array([0.45003197, 0.43353128, 0.51769763, 0.64664537, 0.56894386,\n",
       "       0.4288557 , 0.44747046, 0.526228  , 0.6013826 , 0.5985447 ,\n",
       "       0.55012625, 0.48415133], dtype=float32)"
      ]
     },
     "execution_count": 72,
     "metadata": {},
     "output_type": "execute_result"
    }
   ],
   "source": [
    "X_test[1]"
   ]
  },
  {
   "cell_type": "code",
   "execution_count": 73,
   "id": "3dc48938",
   "metadata": {},
   "outputs": [
    {
     "data": {
      "text/plain": [
       "array([ 1, 24, 22, 26,  2, 15, 12, 13,  5,  5, 26, 17, 24,  2, 12, 26,  4,\n",
       "       26,  5,  4, 17], dtype=int64)"
      ]
     },
     "execution_count": 73,
     "metadata": {},
     "output_type": "execute_result"
    }
   ],
   "source": [
    "model.predict_classes(X_test)"
   ]
  },
  {
   "cell_type": "markdown",
   "id": "90c7814e",
   "metadata": {},
   "source": [
    "### Testing on same class but with different voice modulation"
   ]
  },
  {
   "cell_type": "code",
   "execution_count": 80,
   "id": "f4c0db97",
   "metadata": {},
   "outputs": [
    {
     "name": "stdout",
     "output_type": "stream",
     "text": [
      "[[0.5551215  0.4466221  0.61528337 ... 0.9311121  0.8970517  0.72995895]\n",
      " [0.74985915 0.5309912  0.6422719  ... 0.8564866  0.7407433  0.81832516]\n",
      " [1.         0.73446035 0.7765502  ... 0.8568165  0.88508844 0.9242028 ]\n",
      " ...\n",
      " [0.68859786 0.6828675  1.         ... 0.6728783  0.6594315  0.63538057]\n",
      " [0.5516782  0.5760547  0.9168005  ... 0.90739137 0.8040265  0.52073735]\n",
      " [0.6134756  0.5197195  0.68937457 ... 1.         1.         0.6187291 ]]\n",
      "[[0.5901624  0.5981147  0.55726826 0.5602799  0.60791516 0.6068296\n",
      "  0.55147666 0.56204355 0.6298304  0.6737457  0.63166976 0.59947985]]\n",
      "(12, 93)\n",
      "[12]\n"
     ]
    },
    {
     "data": {
      "text/plain": [
       "array(['Hook'], dtype='<U5')"
      ]
     },
     "execution_count": 80,
     "metadata": {},
     "output_type": "execute_result"
    }
   ],
   "source": [
    "filename=\"Won.wav\"\n",
    "audio, sample_rate = librosa.load(filename) \n",
    "    \n",
    "stftt_features = librosa.feature.chroma_stft(y=audio, sr=sample_rate) \n",
    "\n",
    "stftt_scaled_features = np.mean(stftt_features.T,axis=0)\n",
    "\n",
    "print(stftt_features)\n",
    "stftt_scaled_features=stftt_scaled_features.reshape(1,-1)\n",
    "print(stftt_scaled_features)\n",
    "print(stftt_features.shape)\n",
    "predicted_label=model.predict_classes(stftt_scaled_features)\n",
    "print(predicted_label)\n",
    "prediction_class = labelencoder.inverse_transform(predicted_label) \n",
    "prediction_class"
   ]
  }
 ],
 "metadata": {
  "kernelspec": {
   "display_name": "Python 3",
   "language": "python",
   "name": "python3"
  },
  "language_info": {
   "codemirror_mode": {
    "name": "ipython",
    "version": 3
   },
   "file_extension": ".py",
   "mimetype": "text/x-python",
   "name": "python",
   "nbconvert_exporter": "python",
   "pygments_lexer": "ipython3",
   "version": "3.8.8"
  }
 },
 "nbformat": 4,
 "nbformat_minor": 5
}
