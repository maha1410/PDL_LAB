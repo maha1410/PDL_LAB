{
 "cells": [
  {
   "cell_type": "markdown",
   "metadata": {
    "id": "VSX7Kw8XdEhI"
   },
   "source": [
    "# 205229118\n",
    "# Mahalakshmi S"
   ]
  },
  {
   "cell_type": "markdown",
   "metadata": {
    "id": "RrLoJpDb7i8z"
   },
   "source": [
    "### Lab04: Designing Logic Gates using Keras"
   ]
  },
  {
   "cell_type": "code",
   "execution_count": null,
   "metadata": {
    "id": "MAbAR-E7yxXT"
   },
   "outputs": [],
   "source": [
    "import numpy as np\n",
    "from keras.models import Sequential\n",
    "from keras.layers.core import Dense"
   ]
  },
  {
   "cell_type": "markdown",
   "metadata": {
    "id": "hdGZ1TOqdEhU"
   },
   "source": [
    "# Using OR gate"
   ]
  },
  {
   "cell_type": "markdown",
   "metadata": {
    "id": "MJ53JJJDdEhU"
   },
   "source": [
    "### 1. Create a tensor using Numpy array for input values and output values"
   ]
  },
  {
   "cell_type": "code",
   "execution_count": null,
   "metadata": {
    "id": "2QahwiDLy7iZ"
   },
   "outputs": [],
   "source": [
    "training_data = np.array([[0,0],[0,1],[1,0],[1,1]], \"float32\")"
   ]
  },
  {
   "cell_type": "code",
   "execution_count": null,
   "metadata": {
    "id": "Gd7EgZ2T0WXP"
   },
   "outputs": [],
   "source": [
    "target_data = np.array([[0],[1],[1],[1]], \"float32\") #For OR Gate"
   ]
  },
  {
   "cell_type": "markdown",
   "metadata": {
    "id": "xXL_REJVdEhX"
   },
   "source": [
    "### 2. Create a neural network with one hidden layer with 16 nodes, input dimensions to be 2 and “relu” activation function. The output layer should have one node with sigmoid activation function."
   ]
  },
  {
   "cell_type": "code",
   "execution_count": null,
   "metadata": {
    "id": "WS_OE9unzicy"
   },
   "outputs": [],
   "source": [
    "model = Sequential()\n",
    "model.add(Dense(16, input_dim=2, activation='relu'))\n",
    "model.add(Dense(1, activation='sigmoid'))"
   ]
  },
  {
   "cell_type": "markdown",
   "metadata": {
    "id": "YoPWGvyWdEhZ"
   },
   "source": [
    "### 3. Compile the model with “adam” optimizer, 'mean_squared_error' loss function and 'binary_accuracy' as performance or metric."
   ]
  },
  {
   "cell_type": "code",
   "execution_count": null,
   "metadata": {
    "id": "ZiqagNUQzmP-"
   },
   "outputs": [],
   "source": [
    "model.compile(loss='mean_squared_error',optimizer='adam',metrics=['binary_accuracy'])"
   ]
  },
  {
   "cell_type": "markdown",
   "metadata": {
    "id": "9wC_cPA_dEhb"
   },
   "source": [
    "### 4. Run the model with 100 epoch and predict the output values."
   ]
  },
  {
   "cell_type": "code",
   "execution_count": null,
   "metadata": {
    "colab": {
     "base_uri": "https://localhost:8080/"
    },
    "id": "JFEnKX3wzqbO",
    "outputId": "03311808-6d3f-4291-f35b-d338ec1a0ed6"
   },
   "outputs": [],
   "source": [
    "model.fit(training_data, target_data, epochs=500)\n",
    "print (model.predict(training_data).round())"
   ]
  },
  {
   "cell_type": "markdown",
   "metadata": {
    "id": "3B6NFw1DdEhd"
   },
   "source": [
    "# Using AND gate"
   ]
  },
  {
   "cell_type": "markdown",
   "metadata": {
    "id": "dEEE3SJqdEhd"
   },
   "source": [
    "### 1. Create a tensor using Numpy array for input values and output values"
   ]
  },
  {
   "cell_type": "code",
   "execution_count": null,
   "metadata": {
    "id": "SZ6i1MgIzvJk"
   },
   "outputs": [],
   "source": [
    "training_data = np.array([[0,0],[0,1],[1,0],[1,1]], \"float32\")"
   ]
  },
  {
   "cell_type": "code",
   "execution_count": null,
   "metadata": {
    "id": "H-NTpNo50vNn"
   },
   "outputs": [],
   "source": [
    "target_data = np.array([[0],[0],[0],[1]], \"float32\") #For AND Gate"
   ]
  },
  {
   "cell_type": "markdown",
   "metadata": {
    "id": "8Cq28p0sdEhf"
   },
   "source": [
    "### 2. Create a neural network with one hidden layer with 16 nodes, input dimensions to be 2 and “relu” activation function. The output layer should have one node with sigmoid activation function."
   ]
  },
  {
   "cell_type": "code",
   "execution_count": null,
   "metadata": {
    "id": "h81S6U4L21EY"
   },
   "outputs": [],
   "source": [
    "model = Sequential()\n",
    "model.add(Dense(16, input_dim=2, activation='relu'))\n",
    "model.add(Dense(1, activation='sigmoid'))"
   ]
  },
  {
   "cell_type": "markdown",
   "metadata": {
    "id": "5acA58h0dEhh"
   },
   "source": [
    "### 3. Compile the model with “adam” optimizer, 'mean_squared_error' loss function and 'binary_accuracy' as performance or metric."
   ]
  },
  {
   "cell_type": "code",
   "execution_count": null,
   "metadata": {
    "id": "LqJIg6ys27BD"
   },
   "outputs": [],
   "source": [
    "model.compile(loss='mean_squared_error',optimizer='adam',metrics=['binary_accuracy'])"
   ]
  },
  {
   "cell_type": "markdown",
   "metadata": {
    "id": "-vXLRtKUdEhi"
   },
   "source": [
    "### 4. Run the model with 100 epoch and predict the output values."
   ]
  },
  {
   "cell_type": "code",
   "execution_count": null,
   "metadata": {
    "colab": {
     "base_uri": "https://localhost:8080/"
    },
    "id": "WkAfZ4V73ADi",
    "outputId": "5304af5c-ede3-472d-aec3-9b36ab71037e"
   },
   "outputs": [],
   "source": [
    "model.fit(training_data, target_data, epochs=500)\n",
    "print (model.predict(training_data).round())"
   ]
  },
  {
   "cell_type": "markdown",
   "metadata": {
    "id": "V4faVAysdEhj"
   },
   "source": [
    "# Using NAND gate"
   ]
  },
  {
   "cell_type": "markdown",
   "metadata": {
    "id": "LezGfVB7dEhj"
   },
   "source": [
    "### 1. Create a tensor using Numpy array for input values and output values"
   ]
  },
  {
   "cell_type": "code",
   "execution_count": null,
   "metadata": {
    "id": "WuSWOm503Gyt"
   },
   "outputs": [],
   "source": [
    "training_data = np.array([[0,0],[1,0],[0,1],[1,1]], \"float32\")"
   ]
  },
  {
   "cell_type": "code",
   "execution_count": null,
   "metadata": {
    "id": "GNvcnC6d3fKg"
   },
   "outputs": [],
   "source": [
    "target_data = np.array([[1],[1],[1],[0]], \"float32\") #For NAND Gate"
   ]
  },
  {
   "cell_type": "markdown",
   "metadata": {
    "id": "mfGzY5ggdEhk"
   },
   "source": [
    "### 2. Create a neural network with one hidden layer with 16 nodes, input dimensions to be 2 and “relu” activation function. The output layer should have one node with sigmoid activation function."
   ]
  },
  {
   "cell_type": "code",
   "execution_count": null,
   "metadata": {
    "id": "kJjg4Kj53mbQ"
   },
   "outputs": [],
   "source": [
    "model = Sequential()\n",
    "model.add(Dense(16, input_dim=2, activation='relu'))\n",
    "model.add(Dense(1, activation='sigmoid'))"
   ]
  },
  {
   "cell_type": "markdown",
   "metadata": {
    "id": "_oHTFs46dEhl"
   },
   "source": [
    "### 3. Compile the model with “adam” optimizer, 'mean_squared_error' loss function and 'binary_accuracy' as performance or metric."
   ]
  },
  {
   "cell_type": "code",
   "execution_count": null,
   "metadata": {
    "id": "6_78jNMJ3pj6"
   },
   "outputs": [],
   "source": [
    "model.compile(loss='mean_squared_error',optimizer='adam',metrics=['binary_accuracy'])"
   ]
  },
  {
   "cell_type": "markdown",
   "metadata": {
    "id": "Ut7EmFqidEhm"
   },
   "source": [
    "### 4. Run the model with 100 epoch and predict the output values."
   ]
  },
  {
   "cell_type": "code",
   "execution_count": null,
   "metadata": {
    "colab": {
     "base_uri": "https://localhost:8080/"
    },
    "id": "a3VXQmW03vnm",
    "outputId": "532df444-b063-4702-a1e5-76003b6e43db"
   },
   "outputs": [],
   "source": [
    "model.fit(training_data, target_data, epochs=500)\n",
    "print (model.predict(training_data).round())"
   ]
  },
  {
   "cell_type": "markdown",
   "metadata": {
    "id": "dtB3o2JcdEhn"
   },
   "source": [
    "# Using XOR gate"
   ]
  },
  {
   "cell_type": "markdown",
   "metadata": {
    "id": "rkC2432ddEhn"
   },
   "source": [
    "### 1. Create a tensor using Numpy array for input values and output values"
   ]
  },
  {
   "cell_type": "code",
   "execution_count": null,
   "metadata": {
    "id": "mgHJ9rYc3xvD"
   },
   "outputs": [],
   "source": [
    "training_data = np.array([[0,0],[1,0],[0,1],[1,1]], \"float32\")"
   ]
  },
  {
   "cell_type": "code",
   "execution_count": null,
   "metadata": {
    "id": "j62aUBRH35SH"
   },
   "outputs": [],
   "source": [
    "target_data = np.array([[1],[1],[1],[0]], \"float32\") #For XOR Gate"
   ]
  },
  {
   "cell_type": "markdown",
   "metadata": {
    "id": "HuF2nwUMdEho"
   },
   "source": [
    "### 2. Create a neural network with one hidden layer with 16 nodes, input dimensions to be 2 and “relu” activation function. The output layer should have one node with sigmoid activation function."
   ]
  },
  {
   "cell_type": "code",
   "execution_count": null,
   "metadata": {
    "id": "hBEqeCbr4A1L"
   },
   "outputs": [],
   "source": [
    "model = Sequential()\n",
    "model.add(Dense(16, input_dim=2, activation='relu'))\n",
    "model.add(Dense(1, activation='sigmoid'))"
   ]
  },
  {
   "cell_type": "markdown",
   "metadata": {
    "id": "9GYUdWoXdEhq"
   },
   "source": [
    "### 3. Compile the model with “adam” optimizer, 'mean_squared_error' loss function and 'binary_accuracy' as performance or metric."
   ]
  },
  {
   "cell_type": "code",
   "execution_count": null,
   "metadata": {
    "id": "UPasoMVF4_T7"
   },
   "outputs": [],
   "source": [
    "model.compile(loss='mean_squared_error',optimizer='adam',metrics=['binary_accuracy'])"
   ]
  },
  {
   "cell_type": "markdown",
   "metadata": {
    "id": "wiiKY_iFdEhr"
   },
   "source": [
    "### 4. Run the model with 100 epoch and predict the output values."
   ]
  },
  {
   "cell_type": "code",
   "execution_count": null,
   "metadata": {
    "colab": {
     "base_uri": "https://localhost:8080/"
    },
    "id": "jfZG6dQW5Bc7",
    "outputId": "84cd0e13-369e-45b3-c48e-2498b7867f6f"
   },
   "outputs": [],
   "source": [
    "model.fit(training_data, target_data, epochs=500)\n",
    "print (model.predict(training_data).round())"
   ]
  },
  {
   "cell_type": "markdown",
   "metadata": {
    "id": "KfmnMuHndEht"
   },
   "source": [
    "# Using NOR gate"
   ]
  },
  {
   "cell_type": "markdown",
   "metadata": {
    "id": "JDS81iZJdEhu"
   },
   "source": [
    "### 1. Create a tensor using Numpy array for input values and output values"
   ]
  },
  {
   "cell_type": "code",
   "execution_count": null,
   "metadata": {
    "id": "A5l3_VRZ5Dtn"
   },
   "outputs": [],
   "source": [
    "training_data = np.array([[0,0],[1,0],[0,1],[1,1]], \"float32\")"
   ]
  },
  {
   "cell_type": "code",
   "execution_count": null,
   "metadata": {
    "id": "m5A02KHI5W0_"
   },
   "outputs": [],
   "source": [
    "target_data = np.array([[1],[0],[0],[0]], \"float32\")  #For NOR Gate"
   ]
  },
  {
   "cell_type": "markdown",
   "metadata": {
    "id": "tjb-q2__dEhv"
   },
   "source": [
    "### 2. Create a neural network with one hidden layer with 16 nodes, input dimensions to be 2 and “relu” activation function. The output layer should have one node with sigmoid activation function."
   ]
  },
  {
   "cell_type": "code",
   "execution_count": null,
   "metadata": {
    "id": "YZ9Ml9U85Y5p"
   },
   "outputs": [],
   "source": [
    "model = Sequential()\n",
    "model.add(Dense(16, input_dim=2, activation='relu'))\n",
    "model.add(Dense(1, activation='sigmoid'))"
   ]
  },
  {
   "cell_type": "markdown",
   "metadata": {
    "id": "97IcNSVKdEhx"
   },
   "source": [
    "### 3. Compile the model with “adam” optimizer, 'mean_squared_error' loss function and 'binary_accuracy' as performance or metric."
   ]
  },
  {
   "cell_type": "code",
   "execution_count": null,
   "metadata": {
    "id": "dyoeVP_P5am2"
   },
   "outputs": [],
   "source": [
    "model.compile(loss='mean_squared_error',optimizer='adam',metrics=['binary_accuracy'])"
   ]
  },
  {
   "cell_type": "markdown",
   "metadata": {
    "id": "1sXMMAjfdEhy"
   },
   "source": [
    "### 4. Run the model with 100 epoch and predict the output values."
   ]
  },
  {
   "cell_type": "code",
   "execution_count": null,
   "metadata": {
    "colab": {
     "base_uri": "https://localhost:8080/"
    },
    "id": "4dPyhNm85chE",
    "outputId": "6f0c168c-61ce-451a-e50a-04c99705aced"
   },
   "outputs": [],
   "source": [
    "model.fit(training_data, target_data, epochs=500)\n",
    "print (model.predict(training_data).round())"
   ]
  },
  {
   "cell_type": "markdown",
   "metadata": {
    "id": "k9Np3_4RdEhz"
   },
   "source": [
    "# Using NOT gate"
   ]
  },
  {
   "cell_type": "markdown",
   "metadata": {
    "id": "PdO7RB2RdEhz"
   },
   "source": [
    "### 1. Create a tensor using Numpy array for input values and output values"
   ]
  },
  {
   "cell_type": "code",
   "execution_count": null,
   "metadata": {
    "id": "W2bUkF0C5epf"
   },
   "outputs": [],
   "source": [
    "training_data = np.array([[0],[1]], \"float32\")"
   ]
  },
  {
   "cell_type": "code",
   "execution_count": null,
   "metadata": {
    "id": "SzyoW40N77lG"
   },
   "outputs": [],
   "source": [
    "target_data = np.array([[1],[0]], \"float32\")  #For NOT Gate"
   ]
  },
  {
   "cell_type": "markdown",
   "metadata": {
    "id": "1fn-_GLXdEh0"
   },
   "source": [
    "### 2. Create a neural network with one hidden layer with 16 nodes, input dimensions to be 2 and “relu” activation function. The output layer should have one node with sigmoid activation function."
   ]
  },
  {
   "cell_type": "code",
   "execution_count": null,
   "metadata": {
    "id": "dTU-eRev7-Qr"
   },
   "outputs": [],
   "source": [
    "model = Sequential()\n",
    "model.add(Dense(16, input_dim=1, activation='relu'))\n",
    "model.add(Dense(1, activation='sigmoid'))"
   ]
  },
  {
   "cell_type": "markdown",
   "metadata": {
    "id": "p0rit2l4dEh1"
   },
   "source": [
    "### 3. Compile the model with “adam” optimizer, 'mean_squared_error' loss function and 'binary_accuracy' as performance or metric."
   ]
  },
  {
   "cell_type": "code",
   "execution_count": null,
   "metadata": {
    "id": "BSN7xIo48Aqr"
   },
   "outputs": [],
   "source": [
    "model.compile(loss='mean_squared_error',optimizer='adam',metrics=['binary_accuracy'])"
   ]
  },
  {
   "cell_type": "markdown",
   "metadata": {
    "id": "093rRGWadEh2"
   },
   "source": [
    "### 4. Run the model with 100 epoch and predict the output values."
   ]
  },
  {
   "cell_type": "code",
   "execution_count": null,
   "metadata": {
    "colab": {
     "base_uri": "https://localhost:8080/"
    },
    "id": "z2Mm5KkV8DKa",
    "outputId": "4c700797-ffdf-4338-ff47-c945449cf89f"
   },
   "outputs": [],
   "source": [
    "model.fit(training_data, target_data, epochs=500)\n",
    "print (model.predict(training_data).round())"
   ]
  }
 ],
 "metadata": {
  "colab": {
   "name": "PDL_Lab_4_Mahalakshmi18.ipynb",
   "provenance": []
  },
  "kernelspec": {
   "display_name": "Python 3",
   "language": "python",
   "name": "python3"
  },
  "language_info": {
   "codemirror_mode": {
    "name": "ipython",
    "version": 3
   },
   "file_extension": ".py",
   "mimetype": "text/x-python",
   "name": "python",
   "nbconvert_exporter": "python",
   "pygments_lexer": "ipython3",
   "version": "3.8.8"
  }
 },
 "nbformat": 4,
 "nbformat_minor": 1
}
